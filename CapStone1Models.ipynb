{
 "cells": [
  {
   "cell_type": "code",
   "execution_count": 323,
   "metadata": {},
   "outputs": [],
   "source": [
    "# Import necessary Libraries\n",
    "import pandas as pd\n",
    "import numpy as np\n",
    "import scipy as sp\n",
    "import pandas as pd\n",
    "import matplotlib as mpl\n",
    "import matplotlib.pyplot as plt\n",
    "import seaborn as sns\n",
    "from scipy import stats"
   ]
  },
  {
   "cell_type": "code",
   "execution_count": 324,
   "metadata": {},
   "outputs": [
    {
     "name": "stderr",
     "output_type": "stream",
     "text": [
      "/anaconda3/lib/python3.7/site-packages/IPython/core/interactiveshell.py:3049: DtypeWarning: Columns (19,47,55,112,123,124,125,128,129,130,133,139,140,141) have mixed types. Specify dtype option on import or set low_memory=False.\n",
      "  interactivity=interactivity, compiler=compiler, result=result)\n"
     ]
    },
    {
     "name": "stdout",
     "output_type": "stream",
     "text": [
      "<class 'pandas.core.frame.DataFrame'>\n",
      "RangeIndex: 2260668 entries, 0 to 2260667\n",
      "Columns: 145 entries, id to settlement_term\n",
      "dtypes: float64(105), int64(4), object(36)\n",
      "memory usage: 2.4+ GB\n"
     ]
    }
   ],
   "source": [
    "# open csv file and load the data into pandas dataframe\n",
    "appl_df = pd.read_csv('../data/raw/loan.csv')\n",
    "appl_df.info()"
   ]
  },
  {
   "cell_type": "code",
   "execution_count": 325,
   "metadata": {},
   "outputs": [
    {
     "data": {
      "text/plain": [
       "id                                            float64\n",
       "member_id                                     float64\n",
       "loan_amnt                                       int64\n",
       "funded_amnt                                     int64\n",
       "funded_amnt_inv                               float64\n",
       "term                                           object\n",
       "int_rate                                      float64\n",
       "installment                                   float64\n",
       "grade                                          object\n",
       "sub_grade                                      object\n",
       "emp_title                                      object\n",
       "emp_length                                     object\n",
       "home_ownership                                 object\n",
       "annual_inc                                    float64\n",
       "verification_status                            object\n",
       "issue_d                                        object\n",
       "loan_status                                    object\n",
       "pymnt_plan                                     object\n",
       "url                                           float64\n",
       "desc                                           object\n",
       "purpose                                        object\n",
       "title                                          object\n",
       "zip_code                                       object\n",
       "addr_state                                     object\n",
       "dti                                           float64\n",
       "delinq_2yrs                                   float64\n",
       "earliest_cr_line                               object\n",
       "inq_last_6mths                                float64\n",
       "mths_since_last_delinq                        float64\n",
       "mths_since_last_record                        float64\n",
       "open_acc                                      float64\n",
       "pub_rec                                       float64\n",
       "revol_bal                                       int64\n",
       "revol_util                                    float64\n",
       "total_acc                                     float64\n",
       "initial_list_status                            object\n",
       "out_prncp                                     float64\n",
       "out_prncp_inv                                 float64\n",
       "total_pymnt                                   float64\n",
       "total_pymnt_inv                               float64\n",
       "total_rec_prncp                               float64\n",
       "total_rec_int                                 float64\n",
       "total_rec_late_fee                            float64\n",
       "recoveries                                    float64\n",
       "collection_recovery_fee                       float64\n",
       "last_pymnt_d                                   object\n",
       "last_pymnt_amnt                               float64\n",
       "next_pymnt_d                                   object\n",
       "last_credit_pull_d                             object\n",
       "collections_12_mths_ex_med                    float64\n",
       "mths_since_last_major_derog                   float64\n",
       "policy_code                                     int64\n",
       "application_type                               object\n",
       "annual_inc_joint                              float64\n",
       "dti_joint                                     float64\n",
       "verification_status_joint                      object\n",
       "acc_now_delinq                                float64\n",
       "tot_coll_amt                                  float64\n",
       "tot_cur_bal                                   float64\n",
       "open_acc_6m                                   float64\n",
       "open_act_il                                   float64\n",
       "open_il_12m                                   float64\n",
       "open_il_24m                                   float64\n",
       "mths_since_rcnt_il                            float64\n",
       "total_bal_il                                  float64\n",
       "il_util                                       float64\n",
       "open_rv_12m                                   float64\n",
       "open_rv_24m                                   float64\n",
       "max_bal_bc                                    float64\n",
       "all_util                                      float64\n",
       "total_rev_hi_lim                              float64\n",
       "inq_fi                                        float64\n",
       "total_cu_tl                                   float64\n",
       "inq_last_12m                                  float64\n",
       "acc_open_past_24mths                          float64\n",
       "avg_cur_bal                                   float64\n",
       "bc_open_to_buy                                float64\n",
       "bc_util                                       float64\n",
       "chargeoff_within_12_mths                      float64\n",
       "delinq_amnt                                   float64\n",
       "mo_sin_old_il_acct                            float64\n",
       "mo_sin_old_rev_tl_op                          float64\n",
       "mo_sin_rcnt_rev_tl_op                         float64\n",
       "mo_sin_rcnt_tl                                float64\n",
       "mort_acc                                      float64\n",
       "mths_since_recent_bc                          float64\n",
       "mths_since_recent_bc_dlq                      float64\n",
       "mths_since_recent_inq                         float64\n",
       "mths_since_recent_revol_delinq                float64\n",
       "num_accts_ever_120_pd                         float64\n",
       "num_actv_bc_tl                                float64\n",
       "num_actv_rev_tl                               float64\n",
       "num_bc_sats                                   float64\n",
       "num_bc_tl                                     float64\n",
       "num_il_tl                                     float64\n",
       "num_op_rev_tl                                 float64\n",
       "num_rev_accts                                 float64\n",
       "num_rev_tl_bal_gt_0                           float64\n",
       "num_sats                                      float64\n",
       "num_tl_120dpd_2m                              float64\n",
       "num_tl_30dpd                                  float64\n",
       "num_tl_90g_dpd_24m                            float64\n",
       "num_tl_op_past_12m                            float64\n",
       "pct_tl_nvr_dlq                                float64\n",
       "percent_bc_gt_75                              float64\n",
       "pub_rec_bankruptcies                          float64\n",
       "tax_liens                                     float64\n",
       "tot_hi_cred_lim                               float64\n",
       "total_bal_ex_mort                             float64\n",
       "total_bc_limit                                float64\n",
       "total_il_high_credit_limit                    float64\n",
       "revol_bal_joint                               float64\n",
       "sec_app_earliest_cr_line                       object\n",
       "sec_app_inq_last_6mths                        float64\n",
       "sec_app_mort_acc                              float64\n",
       "sec_app_open_acc                              float64\n",
       "sec_app_revol_util                            float64\n",
       "sec_app_open_act_il                           float64\n",
       "sec_app_num_rev_accts                         float64\n",
       "sec_app_chargeoff_within_12_mths              float64\n",
       "sec_app_collections_12_mths_ex_med            float64\n",
       "sec_app_mths_since_last_major_derog           float64\n",
       "hardship_flag                                  object\n",
       "hardship_type                                  object\n",
       "hardship_reason                                object\n",
       "hardship_status                                object\n",
       "deferral_term                                 float64\n",
       "hardship_amount                               float64\n",
       "hardship_start_date                            object\n",
       "hardship_end_date                              object\n",
       "payment_plan_start_date                        object\n",
       "hardship_length                               float64\n",
       "hardship_dpd                                  float64\n",
       "hardship_loan_status                           object\n",
       "orig_projected_additional_accrued_interest    float64\n",
       "hardship_payoff_balance_amount                float64\n",
       "hardship_last_payment_amount                  float64\n",
       "disbursement_method                            object\n",
       "debt_settlement_flag                           object\n",
       "debt_settlement_flag_date                      object\n",
       "settlement_status                              object\n",
       "settlement_date                                object\n",
       "settlement_amount                             float64\n",
       "settlement_percentage                         float64\n",
       "settlement_term                               float64\n",
       "dtype: object"
      ]
     },
     "execution_count": 325,
     "metadata": {},
     "output_type": "execute_result"
    }
   ],
   "source": [
    "appl_df.dtypes"
   ]
  },
  {
   "cell_type": "code",
   "execution_count": 326,
   "metadata": {},
   "outputs": [
    {
     "data": {
      "text/html": [
       "<div>\n",
       "<style scoped>\n",
       "    .dataframe tbody tr th:only-of-type {\n",
       "        vertical-align: middle;\n",
       "    }\n",
       "\n",
       "    .dataframe tbody tr th {\n",
       "        vertical-align: top;\n",
       "    }\n",
       "\n",
       "    .dataframe thead th {\n",
       "        text-align: right;\n",
       "    }\n",
       "</style>\n",
       "<table border=\"1\" class=\"dataframe\">\n",
       "  <thead>\n",
       "    <tr style=\"text-align: right;\">\n",
       "      <th></th>\n",
       "      <th>id</th>\n",
       "      <th>member_id</th>\n",
       "      <th>loan_amnt</th>\n",
       "      <th>funded_amnt</th>\n",
       "      <th>funded_amnt_inv</th>\n",
       "      <th>int_rate</th>\n",
       "      <th>installment</th>\n",
       "      <th>annual_inc</th>\n",
       "      <th>url</th>\n",
       "      <th>dti</th>\n",
       "      <th>delinq_2yrs</th>\n",
       "      <th>inq_last_6mths</th>\n",
       "      <th>mths_since_last_delinq</th>\n",
       "      <th>mths_since_last_record</th>\n",
       "      <th>open_acc</th>\n",
       "      <th>pub_rec</th>\n",
       "      <th>revol_bal</th>\n",
       "      <th>revol_util</th>\n",
       "      <th>total_acc</th>\n",
       "      <th>out_prncp</th>\n",
       "      <th>out_prncp_inv</th>\n",
       "      <th>total_pymnt</th>\n",
       "      <th>total_pymnt_inv</th>\n",
       "      <th>total_rec_prncp</th>\n",
       "      <th>total_rec_int</th>\n",
       "      <th>total_rec_late_fee</th>\n",
       "      <th>recoveries</th>\n",
       "      <th>collection_recovery_fee</th>\n",
       "      <th>last_pymnt_amnt</th>\n",
       "      <th>collections_12_mths_ex_med</th>\n",
       "      <th>mths_since_last_major_derog</th>\n",
       "      <th>policy_code</th>\n",
       "      <th>annual_inc_joint</th>\n",
       "      <th>dti_joint</th>\n",
       "      <th>acc_now_delinq</th>\n",
       "      <th>tot_coll_amt</th>\n",
       "      <th>tot_cur_bal</th>\n",
       "      <th>open_acc_6m</th>\n",
       "      <th>open_act_il</th>\n",
       "      <th>open_il_12m</th>\n",
       "      <th>open_il_24m</th>\n",
       "      <th>mths_since_rcnt_il</th>\n",
       "      <th>total_bal_il</th>\n",
       "      <th>il_util</th>\n",
       "      <th>open_rv_12m</th>\n",
       "      <th>open_rv_24m</th>\n",
       "      <th>max_bal_bc</th>\n",
       "      <th>all_util</th>\n",
       "      <th>total_rev_hi_lim</th>\n",
       "      <th>inq_fi</th>\n",
       "      <th>total_cu_tl</th>\n",
       "      <th>inq_last_12m</th>\n",
       "      <th>acc_open_past_24mths</th>\n",
       "      <th>avg_cur_bal</th>\n",
       "      <th>bc_open_to_buy</th>\n",
       "      <th>bc_util</th>\n",
       "      <th>chargeoff_within_12_mths</th>\n",
       "      <th>delinq_amnt</th>\n",
       "      <th>mo_sin_old_il_acct</th>\n",
       "      <th>mo_sin_old_rev_tl_op</th>\n",
       "      <th>mo_sin_rcnt_rev_tl_op</th>\n",
       "      <th>mo_sin_rcnt_tl</th>\n",
       "      <th>mort_acc</th>\n",
       "      <th>mths_since_recent_bc</th>\n",
       "      <th>mths_since_recent_bc_dlq</th>\n",
       "      <th>mths_since_recent_inq</th>\n",
       "      <th>mths_since_recent_revol_delinq</th>\n",
       "      <th>num_accts_ever_120_pd</th>\n",
       "      <th>num_actv_bc_tl</th>\n",
       "      <th>num_actv_rev_tl</th>\n",
       "      <th>num_bc_sats</th>\n",
       "      <th>num_bc_tl</th>\n",
       "      <th>num_il_tl</th>\n",
       "      <th>num_op_rev_tl</th>\n",
       "      <th>num_rev_accts</th>\n",
       "      <th>num_rev_tl_bal_gt_0</th>\n",
       "      <th>num_sats</th>\n",
       "      <th>num_tl_120dpd_2m</th>\n",
       "      <th>num_tl_30dpd</th>\n",
       "      <th>num_tl_90g_dpd_24m</th>\n",
       "      <th>num_tl_op_past_12m</th>\n",
       "      <th>pct_tl_nvr_dlq</th>\n",
       "      <th>percent_bc_gt_75</th>\n",
       "      <th>pub_rec_bankruptcies</th>\n",
       "      <th>tax_liens</th>\n",
       "      <th>tot_hi_cred_lim</th>\n",
       "      <th>total_bal_ex_mort</th>\n",
       "      <th>total_bc_limit</th>\n",
       "      <th>total_il_high_credit_limit</th>\n",
       "      <th>revol_bal_joint</th>\n",
       "      <th>sec_app_inq_last_6mths</th>\n",
       "      <th>sec_app_mort_acc</th>\n",
       "      <th>sec_app_open_acc</th>\n",
       "      <th>sec_app_revol_util</th>\n",
       "      <th>sec_app_open_act_il</th>\n",
       "      <th>sec_app_num_rev_accts</th>\n",
       "      <th>sec_app_chargeoff_within_12_mths</th>\n",
       "      <th>sec_app_collections_12_mths_ex_med</th>\n",
       "      <th>sec_app_mths_since_last_major_derog</th>\n",
       "      <th>deferral_term</th>\n",
       "      <th>hardship_amount</th>\n",
       "      <th>hardship_length</th>\n",
       "      <th>hardship_dpd</th>\n",
       "      <th>orig_projected_additional_accrued_interest</th>\n",
       "      <th>hardship_payoff_balance_amount</th>\n",
       "      <th>hardship_last_payment_amount</th>\n",
       "      <th>settlement_amount</th>\n",
       "      <th>settlement_percentage</th>\n",
       "      <th>settlement_term</th>\n",
       "    </tr>\n",
       "  </thead>\n",
       "  <tbody>\n",
       "    <tr>\n",
       "      <th>count</th>\n",
       "      <td>0.0</td>\n",
       "      <td>0.0</td>\n",
       "      <td>2.260668e+06</td>\n",
       "      <td>2.260668e+06</td>\n",
       "      <td>2.260668e+06</td>\n",
       "      <td>2.260668e+06</td>\n",
       "      <td>2.260668e+06</td>\n",
       "      <td>2.260664e+06</td>\n",
       "      <td>0.0</td>\n",
       "      <td>2.258957e+06</td>\n",
       "      <td>2.260639e+06</td>\n",
       "      <td>2.260638e+06</td>\n",
       "      <td>1.102166e+06</td>\n",
       "      <td>359156.000000</td>\n",
       "      <td>2.260639e+06</td>\n",
       "      <td>2.260639e+06</td>\n",
       "      <td>2.260668e+06</td>\n",
       "      <td>2.258866e+06</td>\n",
       "      <td>2.260639e+06</td>\n",
       "      <td>2.260668e+06</td>\n",
       "      <td>2.260668e+06</td>\n",
       "      <td>2.260668e+06</td>\n",
       "      <td>2.260668e+06</td>\n",
       "      <td>2.260668e+06</td>\n",
       "      <td>2.260668e+06</td>\n",
       "      <td>2.260668e+06</td>\n",
       "      <td>2.260668e+06</td>\n",
       "      <td>2.260668e+06</td>\n",
       "      <td>2.260668e+06</td>\n",
       "      <td>2.260523e+06</td>\n",
       "      <td>580775.000000</td>\n",
       "      <td>2260668.0</td>\n",
       "      <td>1.207100e+05</td>\n",
       "      <td>120706.000000</td>\n",
       "      <td>2.260639e+06</td>\n",
       "      <td>2.190392e+06</td>\n",
       "      <td>2.190392e+06</td>\n",
       "      <td>1.394538e+06</td>\n",
       "      <td>1.394539e+06</td>\n",
       "      <td>1.394539e+06</td>\n",
       "      <td>1.394539e+06</td>\n",
       "      <td>1.350744e+06</td>\n",
       "      <td>1.394539e+06</td>\n",
       "      <td>1.191818e+06</td>\n",
       "      <td>1.394539e+06</td>\n",
       "      <td>1.394539e+06</td>\n",
       "      <td>1.394539e+06</td>\n",
       "      <td>1.394320e+06</td>\n",
       "      <td>2.190392e+06</td>\n",
       "      <td>1.394539e+06</td>\n",
       "      <td>1.394538e+06</td>\n",
       "      <td>1.394538e+06</td>\n",
       "      <td>2.210638e+06</td>\n",
       "      <td>2.190322e+06</td>\n",
       "      <td>2.185733e+06</td>\n",
       "      <td>2.184597e+06</td>\n",
       "      <td>2.260523e+06</td>\n",
       "      <td>2.260639e+06</td>\n",
       "      <td>2.121597e+06</td>\n",
       "      <td>2.190391e+06</td>\n",
       "      <td>2.190391e+06</td>\n",
       "      <td>2.190392e+06</td>\n",
       "      <td>2.210638e+06</td>\n",
       "      <td>2.187256e+06</td>\n",
       "      <td>519701.000000</td>\n",
       "      <td>1.965233e+06</td>\n",
       "      <td>740359.000000</td>\n",
       "      <td>2.190392e+06</td>\n",
       "      <td>2.190392e+06</td>\n",
       "      <td>2.190392e+06</td>\n",
       "      <td>2.202078e+06</td>\n",
       "      <td>2.190392e+06</td>\n",
       "      <td>2.190392e+06</td>\n",
       "      <td>2.190392e+06</td>\n",
       "      <td>2.190391e+06</td>\n",
       "      <td>2.190392e+06</td>\n",
       "      <td>2.202078e+06</td>\n",
       "      <td>2.107011e+06</td>\n",
       "      <td>2.190392e+06</td>\n",
       "      <td>2.190392e+06</td>\n",
       "      <td>2.190392e+06</td>\n",
       "      <td>2.190237e+06</td>\n",
       "      <td>2.185289e+06</td>\n",
       "      <td>2.259303e+06</td>\n",
       "      <td>2.260563e+06</td>\n",
       "      <td>2.190392e+06</td>\n",
       "      <td>2.210638e+06</td>\n",
       "      <td>2.210638e+06</td>\n",
       "      <td>2.190392e+06</td>\n",
       "      <td>1.080200e+05</td>\n",
       "      <td>108021.000000</td>\n",
       "      <td>108021.000000</td>\n",
       "      <td>108021.000000</td>\n",
       "      <td>106184.000000</td>\n",
       "      <td>108021.000000</td>\n",
       "      <td>108021.000000</td>\n",
       "      <td>108021.000000</td>\n",
       "      <td>108021.000000</td>\n",
       "      <td>35942.000000</td>\n",
       "      <td>10613.0</td>\n",
       "      <td>10613.000000</td>\n",
       "      <td>10613.0</td>\n",
       "      <td>10613.000000</td>\n",
       "      <td>8426.000000</td>\n",
       "      <td>10613.000000</td>\n",
       "      <td>10613.000000</td>\n",
       "      <td>33056.000000</td>\n",
       "      <td>33056.000000</td>\n",
       "      <td>33056.000000</td>\n",
       "    </tr>\n",
       "    <tr>\n",
       "      <th>mean</th>\n",
       "      <td>NaN</td>\n",
       "      <td>NaN</td>\n",
       "      <td>1.504693e+04</td>\n",
       "      <td>1.504166e+04</td>\n",
       "      <td>1.502344e+04</td>\n",
       "      <td>1.309291e+01</td>\n",
       "      <td>4.458076e+02</td>\n",
       "      <td>7.799243e+04</td>\n",
       "      <td>NaN</td>\n",
       "      <td>1.882420e+01</td>\n",
       "      <td>3.068792e-01</td>\n",
       "      <td>5.768354e-01</td>\n",
       "      <td>3.454092e+01</td>\n",
       "      <td>72.312842</td>\n",
       "      <td>1.161240e+01</td>\n",
       "      <td>1.975278e-01</td>\n",
       "      <td>1.665846e+04</td>\n",
       "      <td>5.033770e+01</td>\n",
       "      <td>2.416255e+01</td>\n",
       "      <td>4.446293e+03</td>\n",
       "      <td>4.445295e+03</td>\n",
       "      <td>1.182403e+04</td>\n",
       "      <td>1.180594e+04</td>\n",
       "      <td>9.300142e+03</td>\n",
       "      <td>2.386352e+03</td>\n",
       "      <td>1.462469e+00</td>\n",
       "      <td>1.360740e+02</td>\n",
       "      <td>2.259328e+01</td>\n",
       "      <td>3.364015e+03</td>\n",
       "      <td>1.814580e-02</td>\n",
       "      <td>44.164220</td>\n",
       "      <td>1.0</td>\n",
       "      <td>1.236246e+05</td>\n",
       "      <td>19.251817</td>\n",
       "      <td>4.147942e-03</td>\n",
       "      <td>2.327317e+02</td>\n",
       "      <td>1.424922e+05</td>\n",
       "      <td>9.344199e-01</td>\n",
       "      <td>2.779407e+00</td>\n",
       "      <td>6.764314e-01</td>\n",
       "      <td>1.562752e+00</td>\n",
       "      <td>2.122236e+01</td>\n",
       "      <td>3.550665e+04</td>\n",
       "      <td>6.914098e+01</td>\n",
       "      <td>1.290133e+00</td>\n",
       "      <td>2.749923e+00</td>\n",
       "      <td>5.806393e+03</td>\n",
       "      <td>5.703230e+01</td>\n",
       "      <td>3.457394e+04</td>\n",
       "      <td>1.012867e+00</td>\n",
       "      <td>1.477304e+00</td>\n",
       "      <td>2.036667e+00</td>\n",
       "      <td>4.521656e+00</td>\n",
       "      <td>1.354780e+04</td>\n",
       "      <td>1.139426e+04</td>\n",
       "      <td>5.789995e+01</td>\n",
       "      <td>8.464413e-03</td>\n",
       "      <td>1.236983e+01</td>\n",
       "      <td>1.257378e+02</td>\n",
       "      <td>1.814916e+02</td>\n",
       "      <td>1.402409e+01</td>\n",
       "      <td>8.297469e+00</td>\n",
       "      <td>1.555382e+00</td>\n",
       "      <td>2.484485e+01</td>\n",
       "      <td>39.303090</td>\n",
       "      <td>7.024194e+00</td>\n",
       "      <td>35.782223</td>\n",
       "      <td>5.002082e-01</td>\n",
       "      <td>3.676069e+00</td>\n",
       "      <td>5.629468e+00</td>\n",
       "      <td>4.774183e+00</td>\n",
       "      <td>7.726402e+00</td>\n",
       "      <td>8.413439e+00</td>\n",
       "      <td>8.246523e+00</td>\n",
       "      <td>1.400463e+01</td>\n",
       "      <td>5.577951e+00</td>\n",
       "      <td>1.162813e+01</td>\n",
       "      <td>6.373958e-04</td>\n",
       "      <td>2.813652e-03</td>\n",
       "      <td>8.293767e-02</td>\n",
       "      <td>2.076755e+00</td>\n",
       "      <td>9.411458e+01</td>\n",
       "      <td>4.243513e+01</td>\n",
       "      <td>1.281935e-01</td>\n",
       "      <td>4.677109e-02</td>\n",
       "      <td>1.782428e+05</td>\n",
       "      <td>5.102294e+04</td>\n",
       "      <td>2.319377e+04</td>\n",
       "      <td>4.373201e+04</td>\n",
       "      <td>3.361728e+04</td>\n",
       "      <td>0.633256</td>\n",
       "      <td>1.538997</td>\n",
       "      <td>11.469455</td>\n",
       "      <td>58.169101</td>\n",
       "      <td>3.010554</td>\n",
       "      <td>12.533072</td>\n",
       "      <td>0.046352</td>\n",
       "      <td>0.077568</td>\n",
       "      <td>36.937928</td>\n",
       "      <td>3.0</td>\n",
       "      <td>155.006696</td>\n",
       "      <td>3.0</td>\n",
       "      <td>13.686422</td>\n",
       "      <td>454.840802</td>\n",
       "      <td>11628.036442</td>\n",
       "      <td>193.606331</td>\n",
       "      <td>5030.606922</td>\n",
       "      <td>47.775600</td>\n",
       "      <td>13.148596</td>\n",
       "    </tr>\n",
       "    <tr>\n",
       "      <th>std</th>\n",
       "      <td>NaN</td>\n",
       "      <td>NaN</td>\n",
       "      <td>9.190245e+03</td>\n",
       "      <td>9.188413e+03</td>\n",
       "      <td>9.192332e+03</td>\n",
       "      <td>4.832114e+00</td>\n",
       "      <td>2.671737e+02</td>\n",
       "      <td>1.126962e+05</td>\n",
       "      <td>NaN</td>\n",
       "      <td>1.418333e+01</td>\n",
       "      <td>8.672303e-01</td>\n",
       "      <td>8.859632e-01</td>\n",
       "      <td>2.190047e+01</td>\n",
       "      <td>26.464094</td>\n",
       "      <td>5.640861e+00</td>\n",
       "      <td>5.705150e-01</td>\n",
       "      <td>2.294831e+04</td>\n",
       "      <td>2.471307e+01</td>\n",
       "      <td>1.198753e+01</td>\n",
       "      <td>7.547612e+03</td>\n",
       "      <td>7.546657e+03</td>\n",
       "      <td>9.889599e+03</td>\n",
       "      <td>9.884835e+03</td>\n",
       "      <td>8.304886e+03</td>\n",
       "      <td>2.663086e+03</td>\n",
       "      <td>1.150210e+01</td>\n",
       "      <td>7.258317e+02</td>\n",
       "      <td>1.271114e+02</td>\n",
       "      <td>5.971757e+03</td>\n",
       "      <td>1.508131e-01</td>\n",
       "      <td>21.533121</td>\n",
       "      <td>0.0</td>\n",
       "      <td>7.416135e+04</td>\n",
       "      <td>7.822086</td>\n",
       "      <td>6.961656e-02</td>\n",
       "      <td>8.518462e+03</td>\n",
       "      <td>1.606926e+05</td>\n",
       "      <td>1.140700e+00</td>\n",
       "      <td>3.000784e+00</td>\n",
       "      <td>9.256354e-01</td>\n",
       "      <td>1.578672e+00</td>\n",
       "      <td>2.604919e+01</td>\n",
       "      <td>4.409746e+04</td>\n",
       "      <td>2.374839e+01</td>\n",
       "      <td>1.506827e+00</td>\n",
       "      <td>2.596911e+00</td>\n",
       "      <td>5.690561e+03</td>\n",
       "      <td>2.090475e+01</td>\n",
       "      <td>3.672850e+04</td>\n",
       "      <td>1.489456e+00</td>\n",
       "      <td>2.672991e+00</td>\n",
       "      <td>2.383117e+00</td>\n",
       "      <td>3.164229e+00</td>\n",
       "      <td>1.647408e+04</td>\n",
       "      <td>1.659953e+04</td>\n",
       "      <td>2.858347e+01</td>\n",
       "      <td>1.048098e-01</td>\n",
       "      <td>7.264648e+02</td>\n",
       "      <td>5.338218e+01</td>\n",
       "      <td>9.711845e+01</td>\n",
       "      <td>1.753308e+01</td>\n",
       "      <td>9.208557e+00</td>\n",
       "      <td>1.904981e+00</td>\n",
       "      <td>3.231925e+01</td>\n",
       "      <td>22.617689</td>\n",
       "      <td>5.965411e+00</td>\n",
       "      <td>22.307239</td>\n",
       "      <td>1.350326e+00</td>\n",
       "      <td>2.324646e+00</td>\n",
       "      <td>3.382874e+00</td>\n",
       "      <td>3.037921e+00</td>\n",
       "      <td>4.701430e+00</td>\n",
       "      <td>7.359114e+00</td>\n",
       "      <td>4.683928e+00</td>\n",
       "      <td>8.038868e+00</td>\n",
       "      <td>3.293434e+00</td>\n",
       "      <td>5.644027e+00</td>\n",
       "      <td>2.710643e-02</td>\n",
       "      <td>5.616522e-02</td>\n",
       "      <td>4.935732e-01</td>\n",
       "      <td>1.830711e+00</td>\n",
       "      <td>9.036140e+00</td>\n",
       "      <td>3.621616e+01</td>\n",
       "      <td>3.646130e-01</td>\n",
       "      <td>3.775338e-01</td>\n",
       "      <td>1.815748e+05</td>\n",
       "      <td>4.991124e+04</td>\n",
       "      <td>2.300656e+04</td>\n",
       "      <td>4.507298e+04</td>\n",
       "      <td>2.815387e+04</td>\n",
       "      <td>0.993401</td>\n",
       "      <td>1.760569</td>\n",
       "      <td>6.627271</td>\n",
       "      <td>25.548212</td>\n",
       "      <td>3.275893</td>\n",
       "      <td>8.150964</td>\n",
       "      <td>0.411496</td>\n",
       "      <td>0.407996</td>\n",
       "      <td>23.924584</td>\n",
       "      <td>0.0</td>\n",
       "      <td>129.113137</td>\n",
       "      <td>0.0</td>\n",
       "      <td>9.728138</td>\n",
       "      <td>375.830737</td>\n",
       "      <td>7615.161123</td>\n",
       "      <td>198.694368</td>\n",
       "      <td>3692.027842</td>\n",
       "      <td>7.336379</td>\n",
       "      <td>8.192319</td>\n",
       "    </tr>\n",
       "    <tr>\n",
       "      <th>min</th>\n",
       "      <td>NaN</td>\n",
       "      <td>NaN</td>\n",
       "      <td>5.000000e+02</td>\n",
       "      <td>5.000000e+02</td>\n",
       "      <td>0.000000e+00</td>\n",
       "      <td>5.310000e+00</td>\n",
       "      <td>4.930000e+00</td>\n",
       "      <td>0.000000e+00</td>\n",
       "      <td>NaN</td>\n",
       "      <td>-1.000000e+00</td>\n",
       "      <td>0.000000e+00</td>\n",
       "      <td>0.000000e+00</td>\n",
       "      <td>0.000000e+00</td>\n",
       "      <td>0.000000</td>\n",
       "      <td>0.000000e+00</td>\n",
       "      <td>0.000000e+00</td>\n",
       "      <td>0.000000e+00</td>\n",
       "      <td>0.000000e+00</td>\n",
       "      <td>1.000000e+00</td>\n",
       "      <td>0.000000e+00</td>\n",
       "      <td>0.000000e+00</td>\n",
       "      <td>0.000000e+00</td>\n",
       "      <td>0.000000e+00</td>\n",
       "      <td>0.000000e+00</td>\n",
       "      <td>0.000000e+00</td>\n",
       "      <td>-9.500000e-09</td>\n",
       "      <td>0.000000e+00</td>\n",
       "      <td>0.000000e+00</td>\n",
       "      <td>0.000000e+00</td>\n",
       "      <td>0.000000e+00</td>\n",
       "      <td>0.000000</td>\n",
       "      <td>1.0</td>\n",
       "      <td>5.693510e+03</td>\n",
       "      <td>0.000000</td>\n",
       "      <td>0.000000e+00</td>\n",
       "      <td>0.000000e+00</td>\n",
       "      <td>0.000000e+00</td>\n",
       "      <td>0.000000e+00</td>\n",
       "      <td>0.000000e+00</td>\n",
       "      <td>0.000000e+00</td>\n",
       "      <td>0.000000e+00</td>\n",
       "      <td>0.000000e+00</td>\n",
       "      <td>0.000000e+00</td>\n",
       "      <td>0.000000e+00</td>\n",
       "      <td>0.000000e+00</td>\n",
       "      <td>0.000000e+00</td>\n",
       "      <td>0.000000e+00</td>\n",
       "      <td>0.000000e+00</td>\n",
       "      <td>0.000000e+00</td>\n",
       "      <td>0.000000e+00</td>\n",
       "      <td>0.000000e+00</td>\n",
       "      <td>0.000000e+00</td>\n",
       "      <td>0.000000e+00</td>\n",
       "      <td>0.000000e+00</td>\n",
       "      <td>0.000000e+00</td>\n",
       "      <td>0.000000e+00</td>\n",
       "      <td>0.000000e+00</td>\n",
       "      <td>0.000000e+00</td>\n",
       "      <td>0.000000e+00</td>\n",
       "      <td>1.000000e+00</td>\n",
       "      <td>0.000000e+00</td>\n",
       "      <td>0.000000e+00</td>\n",
       "      <td>0.000000e+00</td>\n",
       "      <td>0.000000e+00</td>\n",
       "      <td>0.000000</td>\n",
       "      <td>0.000000e+00</td>\n",
       "      <td>0.000000</td>\n",
       "      <td>0.000000e+00</td>\n",
       "      <td>0.000000e+00</td>\n",
       "      <td>0.000000e+00</td>\n",
       "      <td>0.000000e+00</td>\n",
       "      <td>0.000000e+00</td>\n",
       "      <td>0.000000e+00</td>\n",
       "      <td>0.000000e+00</td>\n",
       "      <td>0.000000e+00</td>\n",
       "      <td>0.000000e+00</td>\n",
       "      <td>0.000000e+00</td>\n",
       "      <td>0.000000e+00</td>\n",
       "      <td>0.000000e+00</td>\n",
       "      <td>0.000000e+00</td>\n",
       "      <td>0.000000e+00</td>\n",
       "      <td>0.000000e+00</td>\n",
       "      <td>0.000000e+00</td>\n",
       "      <td>0.000000e+00</td>\n",
       "      <td>0.000000e+00</td>\n",
       "      <td>0.000000e+00</td>\n",
       "      <td>0.000000e+00</td>\n",
       "      <td>0.000000e+00</td>\n",
       "      <td>0.000000e+00</td>\n",
       "      <td>0.000000e+00</td>\n",
       "      <td>0.000000</td>\n",
       "      <td>0.000000</td>\n",
       "      <td>0.000000</td>\n",
       "      <td>0.000000</td>\n",
       "      <td>0.000000</td>\n",
       "      <td>0.000000</td>\n",
       "      <td>0.000000</td>\n",
       "      <td>0.000000</td>\n",
       "      <td>0.000000</td>\n",
       "      <td>3.0</td>\n",
       "      <td>0.640000</td>\n",
       "      <td>3.0</td>\n",
       "      <td>0.000000</td>\n",
       "      <td>1.920000</td>\n",
       "      <td>55.730000</td>\n",
       "      <td>0.010000</td>\n",
       "      <td>44.210000</td>\n",
       "      <td>0.200000</td>\n",
       "      <td>0.000000</td>\n",
       "    </tr>\n",
       "    <tr>\n",
       "      <th>25%</th>\n",
       "      <td>NaN</td>\n",
       "      <td>NaN</td>\n",
       "      <td>8.000000e+03</td>\n",
       "      <td>8.000000e+03</td>\n",
       "      <td>8.000000e+03</td>\n",
       "      <td>9.490000e+00</td>\n",
       "      <td>2.516500e+02</td>\n",
       "      <td>4.600000e+04</td>\n",
       "      <td>NaN</td>\n",
       "      <td>1.189000e+01</td>\n",
       "      <td>0.000000e+00</td>\n",
       "      <td>0.000000e+00</td>\n",
       "      <td>1.600000e+01</td>\n",
       "      <td>55.000000</td>\n",
       "      <td>8.000000e+00</td>\n",
       "      <td>0.000000e+00</td>\n",
       "      <td>5.950000e+03</td>\n",
       "      <td>3.150000e+01</td>\n",
       "      <td>1.500000e+01</td>\n",
       "      <td>0.000000e+00</td>\n",
       "      <td>0.000000e+00</td>\n",
       "      <td>4.272580e+03</td>\n",
       "      <td>4.257730e+03</td>\n",
       "      <td>2.846180e+03</td>\n",
       "      <td>6.936100e+02</td>\n",
       "      <td>0.000000e+00</td>\n",
       "      <td>0.000000e+00</td>\n",
       "      <td>0.000000e+00</td>\n",
       "      <td>3.086400e+02</td>\n",
       "      <td>0.000000e+00</td>\n",
       "      <td>27.000000</td>\n",
       "      <td>1.0</td>\n",
       "      <td>8.340000e+04</td>\n",
       "      <td>13.530000</td>\n",
       "      <td>0.000000e+00</td>\n",
       "      <td>0.000000e+00</td>\n",
       "      <td>2.909200e+04</td>\n",
       "      <td>0.000000e+00</td>\n",
       "      <td>1.000000e+00</td>\n",
       "      <td>0.000000e+00</td>\n",
       "      <td>0.000000e+00</td>\n",
       "      <td>7.000000e+00</td>\n",
       "      <td>8.695000e+03</td>\n",
       "      <td>5.500000e+01</td>\n",
       "      <td>0.000000e+00</td>\n",
       "      <td>1.000000e+00</td>\n",
       "      <td>2.284000e+03</td>\n",
       "      <td>4.300000e+01</td>\n",
       "      <td>1.470000e+04</td>\n",
       "      <td>0.000000e+00</td>\n",
       "      <td>0.000000e+00</td>\n",
       "      <td>0.000000e+00</td>\n",
       "      <td>2.000000e+00</td>\n",
       "      <td>3.080000e+03</td>\n",
       "      <td>1.722000e+03</td>\n",
       "      <td>3.540000e+01</td>\n",
       "      <td>0.000000e+00</td>\n",
       "      <td>0.000000e+00</td>\n",
       "      <td>9.600000e+01</td>\n",
       "      <td>1.160000e+02</td>\n",
       "      <td>4.000000e+00</td>\n",
       "      <td>3.000000e+00</td>\n",
       "      <td>0.000000e+00</td>\n",
       "      <td>6.000000e+00</td>\n",
       "      <td>21.000000</td>\n",
       "      <td>2.000000e+00</td>\n",
       "      <td>17.000000</td>\n",
       "      <td>0.000000e+00</td>\n",
       "      <td>2.000000e+00</td>\n",
       "      <td>3.000000e+00</td>\n",
       "      <td>3.000000e+00</td>\n",
       "      <td>4.000000e+00</td>\n",
       "      <td>3.000000e+00</td>\n",
       "      <td>5.000000e+00</td>\n",
       "      <td>8.000000e+00</td>\n",
       "      <td>3.000000e+00</td>\n",
       "      <td>8.000000e+00</td>\n",
       "      <td>0.000000e+00</td>\n",
       "      <td>0.000000e+00</td>\n",
       "      <td>0.000000e+00</td>\n",
       "      <td>1.000000e+00</td>\n",
       "      <td>9.130000e+01</td>\n",
       "      <td>0.000000e+00</td>\n",
       "      <td>0.000000e+00</td>\n",
       "      <td>0.000000e+00</td>\n",
       "      <td>5.073100e+04</td>\n",
       "      <td>2.089200e+04</td>\n",
       "      <td>8.300000e+03</td>\n",
       "      <td>1.500000e+04</td>\n",
       "      <td>1.510675e+04</td>\n",
       "      <td>0.000000</td>\n",
       "      <td>0.000000</td>\n",
       "      <td>7.000000</td>\n",
       "      <td>39.800000</td>\n",
       "      <td>1.000000</td>\n",
       "      <td>7.000000</td>\n",
       "      <td>0.000000</td>\n",
       "      <td>0.000000</td>\n",
       "      <td>16.000000</td>\n",
       "      <td>3.0</td>\n",
       "      <td>59.370000</td>\n",
       "      <td>3.0</td>\n",
       "      <td>5.000000</td>\n",
       "      <td>174.967500</td>\n",
       "      <td>5628.730000</td>\n",
       "      <td>43.780000</td>\n",
       "      <td>2227.000000</td>\n",
       "      <td>45.000000</td>\n",
       "      <td>6.000000</td>\n",
       "    </tr>\n",
       "    <tr>\n",
       "      <th>50%</th>\n",
       "      <td>NaN</td>\n",
       "      <td>NaN</td>\n",
       "      <td>1.290000e+04</td>\n",
       "      <td>1.287500e+04</td>\n",
       "      <td>1.280000e+04</td>\n",
       "      <td>1.262000e+01</td>\n",
       "      <td>3.779900e+02</td>\n",
       "      <td>6.500000e+04</td>\n",
       "      <td>NaN</td>\n",
       "      <td>1.784000e+01</td>\n",
       "      <td>0.000000e+00</td>\n",
       "      <td>0.000000e+00</td>\n",
       "      <td>3.100000e+01</td>\n",
       "      <td>74.000000</td>\n",
       "      <td>1.100000e+01</td>\n",
       "      <td>0.000000e+00</td>\n",
       "      <td>1.132400e+04</td>\n",
       "      <td>5.030000e+01</td>\n",
       "      <td>2.200000e+01</td>\n",
       "      <td>0.000000e+00</td>\n",
       "      <td>0.000000e+00</td>\n",
       "      <td>9.060870e+03</td>\n",
       "      <td>9.043080e+03</td>\n",
       "      <td>6.823385e+03</td>\n",
       "      <td>1.485280e+03</td>\n",
       "      <td>0.000000e+00</td>\n",
       "      <td>0.000000e+00</td>\n",
       "      <td>0.000000e+00</td>\n",
       "      <td>5.884700e+02</td>\n",
       "      <td>0.000000e+00</td>\n",
       "      <td>44.000000</td>\n",
       "      <td>1.0</td>\n",
       "      <td>1.100000e+05</td>\n",
       "      <td>18.840000</td>\n",
       "      <td>0.000000e+00</td>\n",
       "      <td>0.000000e+00</td>\n",
       "      <td>7.924000e+04</td>\n",
       "      <td>1.000000e+00</td>\n",
       "      <td>2.000000e+00</td>\n",
       "      <td>0.000000e+00</td>\n",
       "      <td>1.000000e+00</td>\n",
       "      <td>1.300000e+01</td>\n",
       "      <td>2.312700e+04</td>\n",
       "      <td>7.200000e+01</td>\n",
       "      <td>1.000000e+00</td>\n",
       "      <td>2.000000e+00</td>\n",
       "      <td>4.413000e+03</td>\n",
       "      <td>5.800000e+01</td>\n",
       "      <td>2.540000e+04</td>\n",
       "      <td>1.000000e+00</td>\n",
       "      <td>0.000000e+00</td>\n",
       "      <td>1.000000e+00</td>\n",
       "      <td>4.000000e+00</td>\n",
       "      <td>7.335000e+03</td>\n",
       "      <td>5.442000e+03</td>\n",
       "      <td>6.020000e+01</td>\n",
       "      <td>0.000000e+00</td>\n",
       "      <td>0.000000e+00</td>\n",
       "      <td>1.300000e+02</td>\n",
       "      <td>1.640000e+02</td>\n",
       "      <td>8.000000e+00</td>\n",
       "      <td>6.000000e+00</td>\n",
       "      <td>1.000000e+00</td>\n",
       "      <td>1.400000e+01</td>\n",
       "      <td>37.000000</td>\n",
       "      <td>5.000000e+00</td>\n",
       "      <td>33.000000</td>\n",
       "      <td>0.000000e+00</td>\n",
       "      <td>3.000000e+00</td>\n",
       "      <td>5.000000e+00</td>\n",
       "      <td>4.000000e+00</td>\n",
       "      <td>7.000000e+00</td>\n",
       "      <td>6.000000e+00</td>\n",
       "      <td>7.000000e+00</td>\n",
       "      <td>1.200000e+01</td>\n",
       "      <td>5.000000e+00</td>\n",
       "      <td>1.100000e+01</td>\n",
       "      <td>0.000000e+00</td>\n",
       "      <td>0.000000e+00</td>\n",
       "      <td>0.000000e+00</td>\n",
       "      <td>2.000000e+00</td>\n",
       "      <td>1.000000e+02</td>\n",
       "      <td>3.750000e+01</td>\n",
       "      <td>0.000000e+00</td>\n",
       "      <td>0.000000e+00</td>\n",
       "      <td>1.142985e+05</td>\n",
       "      <td>3.786400e+04</td>\n",
       "      <td>1.630000e+04</td>\n",
       "      <td>3.269600e+04</td>\n",
       "      <td>2.651650e+04</td>\n",
       "      <td>0.000000</td>\n",
       "      <td>1.000000</td>\n",
       "      <td>10.000000</td>\n",
       "      <td>60.200000</td>\n",
       "      <td>2.000000</td>\n",
       "      <td>11.000000</td>\n",
       "      <td>0.000000</td>\n",
       "      <td>0.000000</td>\n",
       "      <td>36.000000</td>\n",
       "      <td>3.0</td>\n",
       "      <td>119.040000</td>\n",
       "      <td>3.0</td>\n",
       "      <td>15.000000</td>\n",
       "      <td>352.605000</td>\n",
       "      <td>10044.220000</td>\n",
       "      <td>132.890000</td>\n",
       "      <td>4172.855000</td>\n",
       "      <td>45.000000</td>\n",
       "      <td>14.000000</td>\n",
       "    </tr>\n",
       "    <tr>\n",
       "      <th>75%</th>\n",
       "      <td>NaN</td>\n",
       "      <td>NaN</td>\n",
       "      <td>2.000000e+04</td>\n",
       "      <td>2.000000e+04</td>\n",
       "      <td>2.000000e+04</td>\n",
       "      <td>1.599000e+01</td>\n",
       "      <td>5.933200e+02</td>\n",
       "      <td>9.300000e+04</td>\n",
       "      <td>NaN</td>\n",
       "      <td>2.449000e+01</td>\n",
       "      <td>0.000000e+00</td>\n",
       "      <td>1.000000e+00</td>\n",
       "      <td>5.000000e+01</td>\n",
       "      <td>92.000000</td>\n",
       "      <td>1.400000e+01</td>\n",
       "      <td>0.000000e+00</td>\n",
       "      <td>2.024600e+04</td>\n",
       "      <td>6.940000e+01</td>\n",
       "      <td>3.100000e+01</td>\n",
       "      <td>6.712632e+03</td>\n",
       "      <td>6.710320e+03</td>\n",
       "      <td>1.670797e+04</td>\n",
       "      <td>1.668257e+04</td>\n",
       "      <td>1.339750e+04</td>\n",
       "      <td>3.052220e+03</td>\n",
       "      <td>0.000000e+00</td>\n",
       "      <td>0.000000e+00</td>\n",
       "      <td>0.000000e+00</td>\n",
       "      <td>3.534965e+03</td>\n",
       "      <td>0.000000e+00</td>\n",
       "      <td>62.000000</td>\n",
       "      <td>1.0</td>\n",
       "      <td>1.479950e+05</td>\n",
       "      <td>24.620000</td>\n",
       "      <td>0.000000e+00</td>\n",
       "      <td>0.000000e+00</td>\n",
       "      <td>2.132040e+05</td>\n",
       "      <td>1.000000e+00</td>\n",
       "      <td>3.000000e+00</td>\n",
       "      <td>1.000000e+00</td>\n",
       "      <td>2.000000e+00</td>\n",
       "      <td>2.400000e+01</td>\n",
       "      <td>4.609500e+04</td>\n",
       "      <td>8.600000e+01</td>\n",
       "      <td>2.000000e+00</td>\n",
       "      <td>4.000000e+00</td>\n",
       "      <td>7.598000e+03</td>\n",
       "      <td>7.200000e+01</td>\n",
       "      <td>4.320000e+04</td>\n",
       "      <td>1.000000e+00</td>\n",
       "      <td>2.000000e+00</td>\n",
       "      <td>3.000000e+00</td>\n",
       "      <td>6.000000e+00</td>\n",
       "      <td>1.878300e+04</td>\n",
       "      <td>1.418700e+04</td>\n",
       "      <td>8.310000e+01</td>\n",
       "      <td>0.000000e+00</td>\n",
       "      <td>0.000000e+00</td>\n",
       "      <td>1.540000e+02</td>\n",
       "      <td>2.320000e+02</td>\n",
       "      <td>1.700000e+01</td>\n",
       "      <td>1.100000e+01</td>\n",
       "      <td>3.000000e+00</td>\n",
       "      <td>3.000000e+01</td>\n",
       "      <td>57.000000</td>\n",
       "      <td>1.100000e+01</td>\n",
       "      <td>51.000000</td>\n",
       "      <td>0.000000e+00</td>\n",
       "      <td>5.000000e+00</td>\n",
       "      <td>7.000000e+00</td>\n",
       "      <td>6.000000e+00</td>\n",
       "      <td>1.000000e+01</td>\n",
       "      <td>1.100000e+01</td>\n",
       "      <td>1.000000e+01</td>\n",
       "      <td>1.800000e+01</td>\n",
       "      <td>7.000000e+00</td>\n",
       "      <td>1.400000e+01</td>\n",
       "      <td>0.000000e+00</td>\n",
       "      <td>0.000000e+00</td>\n",
       "      <td>0.000000e+00</td>\n",
       "      <td>3.000000e+00</td>\n",
       "      <td>1.000000e+02</td>\n",
       "      <td>7.140000e+01</td>\n",
       "      <td>0.000000e+00</td>\n",
       "      <td>0.000000e+00</td>\n",
       "      <td>2.577550e+05</td>\n",
       "      <td>6.435000e+04</td>\n",
       "      <td>3.030000e+04</td>\n",
       "      <td>5.880425e+04</td>\n",
       "      <td>4.376900e+04</td>\n",
       "      <td>1.000000</td>\n",
       "      <td>2.000000</td>\n",
       "      <td>15.000000</td>\n",
       "      <td>78.600000</td>\n",
       "      <td>4.000000</td>\n",
       "      <td>17.000000</td>\n",
       "      <td>0.000000</td>\n",
       "      <td>0.000000</td>\n",
       "      <td>56.000000</td>\n",
       "      <td>3.0</td>\n",
       "      <td>213.260000</td>\n",
       "      <td>3.0</td>\n",
       "      <td>22.000000</td>\n",
       "      <td>622.792500</td>\n",
       "      <td>16114.940000</td>\n",
       "      <td>284.180000</td>\n",
       "      <td>6870.782500</td>\n",
       "      <td>50.000000</td>\n",
       "      <td>18.000000</td>\n",
       "    </tr>\n",
       "    <tr>\n",
       "      <th>max</th>\n",
       "      <td>NaN</td>\n",
       "      <td>NaN</td>\n",
       "      <td>4.000000e+04</td>\n",
       "      <td>4.000000e+04</td>\n",
       "      <td>4.000000e+04</td>\n",
       "      <td>3.099000e+01</td>\n",
       "      <td>1.719830e+03</td>\n",
       "      <td>1.100000e+08</td>\n",
       "      <td>NaN</td>\n",
       "      <td>9.990000e+02</td>\n",
       "      <td>5.800000e+01</td>\n",
       "      <td>3.300000e+01</td>\n",
       "      <td>2.260000e+02</td>\n",
       "      <td>129.000000</td>\n",
       "      <td>1.010000e+02</td>\n",
       "      <td>8.600000e+01</td>\n",
       "      <td>2.904836e+06</td>\n",
       "      <td>8.923000e+02</td>\n",
       "      <td>1.760000e+02</td>\n",
       "      <td>4.000000e+04</td>\n",
       "      <td>4.000000e+04</td>\n",
       "      <td>6.329688e+04</td>\n",
       "      <td>6.329688e+04</td>\n",
       "      <td>4.000000e+04</td>\n",
       "      <td>2.819250e+04</td>\n",
       "      <td>1.427250e+03</td>\n",
       "      <td>3.985955e+04</td>\n",
       "      <td>7.174719e+03</td>\n",
       "      <td>4.219205e+04</td>\n",
       "      <td>2.000000e+01</td>\n",
       "      <td>226.000000</td>\n",
       "      <td>1.0</td>\n",
       "      <td>7.874821e+06</td>\n",
       "      <td>69.490000</td>\n",
       "      <td>1.400000e+01</td>\n",
       "      <td>9.152545e+06</td>\n",
       "      <td>9.971659e+06</td>\n",
       "      <td>1.800000e+01</td>\n",
       "      <td>5.700000e+01</td>\n",
       "      <td>2.500000e+01</td>\n",
       "      <td>5.100000e+01</td>\n",
       "      <td>5.110000e+02</td>\n",
       "      <td>1.837038e+06</td>\n",
       "      <td>1.000000e+03</td>\n",
       "      <td>2.800000e+01</td>\n",
       "      <td>6.000000e+01</td>\n",
       "      <td>1.170668e+06</td>\n",
       "      <td>2.390000e+02</td>\n",
       "      <td>9.999999e+06</td>\n",
       "      <td>4.800000e+01</td>\n",
       "      <td>1.110000e+02</td>\n",
       "      <td>6.700000e+01</td>\n",
       "      <td>6.400000e+01</td>\n",
       "      <td>9.580840e+05</td>\n",
       "      <td>7.111400e+05</td>\n",
       "      <td>3.396000e+02</td>\n",
       "      <td>1.000000e+01</td>\n",
       "      <td>2.499250e+05</td>\n",
       "      <td>9.990000e+02</td>\n",
       "      <td>9.990000e+02</td>\n",
       "      <td>5.470000e+02</td>\n",
       "      <td>3.820000e+02</td>\n",
       "      <td>9.400000e+01</td>\n",
       "      <td>6.610000e+02</td>\n",
       "      <td>202.000000</td>\n",
       "      <td>2.500000e+01</td>\n",
       "      <td>202.000000</td>\n",
       "      <td>5.800000e+01</td>\n",
       "      <td>5.000000e+01</td>\n",
       "      <td>7.200000e+01</td>\n",
       "      <td>7.100000e+01</td>\n",
       "      <td>8.600000e+01</td>\n",
       "      <td>1.590000e+02</td>\n",
       "      <td>9.100000e+01</td>\n",
       "      <td>1.510000e+02</td>\n",
       "      <td>6.500000e+01</td>\n",
       "      <td>1.010000e+02</td>\n",
       "      <td>7.000000e+00</td>\n",
       "      <td>4.000000e+00</td>\n",
       "      <td>5.800000e+01</td>\n",
       "      <td>3.200000e+01</td>\n",
       "      <td>1.000000e+02</td>\n",
       "      <td>1.000000e+02</td>\n",
       "      <td>1.200000e+01</td>\n",
       "      <td>8.500000e+01</td>\n",
       "      <td>9.999999e+06</td>\n",
       "      <td>3.408095e+06</td>\n",
       "      <td>1.569000e+06</td>\n",
       "      <td>2.118996e+06</td>\n",
       "      <td>1.110019e+06</td>\n",
       "      <td>6.000000</td>\n",
       "      <td>27.000000</td>\n",
       "      <td>82.000000</td>\n",
       "      <td>434.300000</td>\n",
       "      <td>43.000000</td>\n",
       "      <td>106.000000</td>\n",
       "      <td>21.000000</td>\n",
       "      <td>23.000000</td>\n",
       "      <td>185.000000</td>\n",
       "      <td>3.0</td>\n",
       "      <td>943.940000</td>\n",
       "      <td>3.0</td>\n",
       "      <td>37.000000</td>\n",
       "      <td>2680.890000</td>\n",
       "      <td>40306.410000</td>\n",
       "      <td>1407.860000</td>\n",
       "      <td>33601.000000</td>\n",
       "      <td>521.350000</td>\n",
       "      <td>181.000000</td>\n",
       "    </tr>\n",
       "  </tbody>\n",
       "</table>\n",
       "</div>"
      ],
      "text/plain": [
       "        id  member_id     loan_amnt   funded_amnt  funded_amnt_inv      int_rate   installment    annual_inc  url           dti   delinq_2yrs  inq_last_6mths  mths_since_last_delinq  mths_since_last_record      open_acc       pub_rec     revol_bal    revol_util     total_acc     out_prncp  out_prncp_inv   total_pymnt  total_pymnt_inv  total_rec_prncp  total_rec_int  total_rec_late_fee    recoveries  collection_recovery_fee  last_pymnt_amnt  collections_12_mths_ex_med  mths_since_last_major_derog  policy_code  annual_inc_joint      dti_joint  acc_now_delinq  tot_coll_amt   tot_cur_bal   open_acc_6m   open_act_il   open_il_12m   open_il_24m  mths_since_rcnt_il  total_bal_il       il_util   open_rv_12m   open_rv_24m    max_bal_bc      all_util  total_rev_hi_lim        inq_fi   total_cu_tl  inq_last_12m  acc_open_past_24mths   avg_cur_bal  bc_open_to_buy       bc_util  chargeoff_within_12_mths   delinq_amnt  mo_sin_old_il_acct  mo_sin_old_rev_tl_op  mo_sin_rcnt_rev_tl_op  mo_sin_rcnt_tl  \\\n",
       "count  0.0        0.0  2.260668e+06  2.260668e+06     2.260668e+06  2.260668e+06  2.260668e+06  2.260664e+06  0.0  2.258957e+06  2.260639e+06    2.260638e+06            1.102166e+06           359156.000000  2.260639e+06  2.260639e+06  2.260668e+06  2.258866e+06  2.260639e+06  2.260668e+06   2.260668e+06  2.260668e+06     2.260668e+06     2.260668e+06   2.260668e+06        2.260668e+06  2.260668e+06             2.260668e+06     2.260668e+06                2.260523e+06                580775.000000    2260668.0      1.207100e+05  120706.000000    2.260639e+06  2.190392e+06  2.190392e+06  1.394538e+06  1.394539e+06  1.394539e+06  1.394539e+06        1.350744e+06  1.394539e+06  1.191818e+06  1.394539e+06  1.394539e+06  1.394539e+06  1.394320e+06      2.190392e+06  1.394539e+06  1.394538e+06  1.394538e+06          2.210638e+06  2.190322e+06    2.185733e+06  2.184597e+06              2.260523e+06  2.260639e+06        2.121597e+06          2.190391e+06           2.190391e+06    2.190392e+06   \n",
       "mean   NaN        NaN  1.504693e+04  1.504166e+04     1.502344e+04  1.309291e+01  4.458076e+02  7.799243e+04  NaN  1.882420e+01  3.068792e-01    5.768354e-01            3.454092e+01               72.312842  1.161240e+01  1.975278e-01  1.665846e+04  5.033770e+01  2.416255e+01  4.446293e+03   4.445295e+03  1.182403e+04     1.180594e+04     9.300142e+03   2.386352e+03        1.462469e+00  1.360740e+02             2.259328e+01     3.364015e+03                1.814580e-02                    44.164220          1.0      1.236246e+05      19.251817    4.147942e-03  2.327317e+02  1.424922e+05  9.344199e-01  2.779407e+00  6.764314e-01  1.562752e+00        2.122236e+01  3.550665e+04  6.914098e+01  1.290133e+00  2.749923e+00  5.806393e+03  5.703230e+01      3.457394e+04  1.012867e+00  1.477304e+00  2.036667e+00          4.521656e+00  1.354780e+04    1.139426e+04  5.789995e+01              8.464413e-03  1.236983e+01        1.257378e+02          1.814916e+02           1.402409e+01    8.297469e+00   \n",
       "std    NaN        NaN  9.190245e+03  9.188413e+03     9.192332e+03  4.832114e+00  2.671737e+02  1.126962e+05  NaN  1.418333e+01  8.672303e-01    8.859632e-01            2.190047e+01               26.464094  5.640861e+00  5.705150e-01  2.294831e+04  2.471307e+01  1.198753e+01  7.547612e+03   7.546657e+03  9.889599e+03     9.884835e+03     8.304886e+03   2.663086e+03        1.150210e+01  7.258317e+02             1.271114e+02     5.971757e+03                1.508131e-01                    21.533121          0.0      7.416135e+04       7.822086    6.961656e-02  8.518462e+03  1.606926e+05  1.140700e+00  3.000784e+00  9.256354e-01  1.578672e+00        2.604919e+01  4.409746e+04  2.374839e+01  1.506827e+00  2.596911e+00  5.690561e+03  2.090475e+01      3.672850e+04  1.489456e+00  2.672991e+00  2.383117e+00          3.164229e+00  1.647408e+04    1.659953e+04  2.858347e+01              1.048098e-01  7.264648e+02        5.338218e+01          9.711845e+01           1.753308e+01    9.208557e+00   \n",
       "min    NaN        NaN  5.000000e+02  5.000000e+02     0.000000e+00  5.310000e+00  4.930000e+00  0.000000e+00  NaN -1.000000e+00  0.000000e+00    0.000000e+00            0.000000e+00                0.000000  0.000000e+00  0.000000e+00  0.000000e+00  0.000000e+00  1.000000e+00  0.000000e+00   0.000000e+00  0.000000e+00     0.000000e+00     0.000000e+00   0.000000e+00       -9.500000e-09  0.000000e+00             0.000000e+00     0.000000e+00                0.000000e+00                     0.000000          1.0      5.693510e+03       0.000000    0.000000e+00  0.000000e+00  0.000000e+00  0.000000e+00  0.000000e+00  0.000000e+00  0.000000e+00        0.000000e+00  0.000000e+00  0.000000e+00  0.000000e+00  0.000000e+00  0.000000e+00  0.000000e+00      0.000000e+00  0.000000e+00  0.000000e+00  0.000000e+00          0.000000e+00  0.000000e+00    0.000000e+00  0.000000e+00              0.000000e+00  0.000000e+00        0.000000e+00          1.000000e+00           0.000000e+00    0.000000e+00   \n",
       "25%    NaN        NaN  8.000000e+03  8.000000e+03     8.000000e+03  9.490000e+00  2.516500e+02  4.600000e+04  NaN  1.189000e+01  0.000000e+00    0.000000e+00            1.600000e+01               55.000000  8.000000e+00  0.000000e+00  5.950000e+03  3.150000e+01  1.500000e+01  0.000000e+00   0.000000e+00  4.272580e+03     4.257730e+03     2.846180e+03   6.936100e+02        0.000000e+00  0.000000e+00             0.000000e+00     3.086400e+02                0.000000e+00                    27.000000          1.0      8.340000e+04      13.530000    0.000000e+00  0.000000e+00  2.909200e+04  0.000000e+00  1.000000e+00  0.000000e+00  0.000000e+00        7.000000e+00  8.695000e+03  5.500000e+01  0.000000e+00  1.000000e+00  2.284000e+03  4.300000e+01      1.470000e+04  0.000000e+00  0.000000e+00  0.000000e+00          2.000000e+00  3.080000e+03    1.722000e+03  3.540000e+01              0.000000e+00  0.000000e+00        9.600000e+01          1.160000e+02           4.000000e+00    3.000000e+00   \n",
       "50%    NaN        NaN  1.290000e+04  1.287500e+04     1.280000e+04  1.262000e+01  3.779900e+02  6.500000e+04  NaN  1.784000e+01  0.000000e+00    0.000000e+00            3.100000e+01               74.000000  1.100000e+01  0.000000e+00  1.132400e+04  5.030000e+01  2.200000e+01  0.000000e+00   0.000000e+00  9.060870e+03     9.043080e+03     6.823385e+03   1.485280e+03        0.000000e+00  0.000000e+00             0.000000e+00     5.884700e+02                0.000000e+00                    44.000000          1.0      1.100000e+05      18.840000    0.000000e+00  0.000000e+00  7.924000e+04  1.000000e+00  2.000000e+00  0.000000e+00  1.000000e+00        1.300000e+01  2.312700e+04  7.200000e+01  1.000000e+00  2.000000e+00  4.413000e+03  5.800000e+01      2.540000e+04  1.000000e+00  0.000000e+00  1.000000e+00          4.000000e+00  7.335000e+03    5.442000e+03  6.020000e+01              0.000000e+00  0.000000e+00        1.300000e+02          1.640000e+02           8.000000e+00    6.000000e+00   \n",
       "75%    NaN        NaN  2.000000e+04  2.000000e+04     2.000000e+04  1.599000e+01  5.933200e+02  9.300000e+04  NaN  2.449000e+01  0.000000e+00    1.000000e+00            5.000000e+01               92.000000  1.400000e+01  0.000000e+00  2.024600e+04  6.940000e+01  3.100000e+01  6.712632e+03   6.710320e+03  1.670797e+04     1.668257e+04     1.339750e+04   3.052220e+03        0.000000e+00  0.000000e+00             0.000000e+00     3.534965e+03                0.000000e+00                    62.000000          1.0      1.479950e+05      24.620000    0.000000e+00  0.000000e+00  2.132040e+05  1.000000e+00  3.000000e+00  1.000000e+00  2.000000e+00        2.400000e+01  4.609500e+04  8.600000e+01  2.000000e+00  4.000000e+00  7.598000e+03  7.200000e+01      4.320000e+04  1.000000e+00  2.000000e+00  3.000000e+00          6.000000e+00  1.878300e+04    1.418700e+04  8.310000e+01              0.000000e+00  0.000000e+00        1.540000e+02          2.320000e+02           1.700000e+01    1.100000e+01   \n",
       "max    NaN        NaN  4.000000e+04  4.000000e+04     4.000000e+04  3.099000e+01  1.719830e+03  1.100000e+08  NaN  9.990000e+02  5.800000e+01    3.300000e+01            2.260000e+02              129.000000  1.010000e+02  8.600000e+01  2.904836e+06  8.923000e+02  1.760000e+02  4.000000e+04   4.000000e+04  6.329688e+04     6.329688e+04     4.000000e+04   2.819250e+04        1.427250e+03  3.985955e+04             7.174719e+03     4.219205e+04                2.000000e+01                   226.000000          1.0      7.874821e+06      69.490000    1.400000e+01  9.152545e+06  9.971659e+06  1.800000e+01  5.700000e+01  2.500000e+01  5.100000e+01        5.110000e+02  1.837038e+06  1.000000e+03  2.800000e+01  6.000000e+01  1.170668e+06  2.390000e+02      9.999999e+06  4.800000e+01  1.110000e+02  6.700000e+01          6.400000e+01  9.580840e+05    7.111400e+05  3.396000e+02              1.000000e+01  2.499250e+05        9.990000e+02          9.990000e+02           5.470000e+02    3.820000e+02   \n",
       "\n",
       "           mort_acc  mths_since_recent_bc  mths_since_recent_bc_dlq  mths_since_recent_inq  mths_since_recent_revol_delinq  num_accts_ever_120_pd  num_actv_bc_tl  num_actv_rev_tl   num_bc_sats     num_bc_tl     num_il_tl  num_op_rev_tl  num_rev_accts  num_rev_tl_bal_gt_0      num_sats  num_tl_120dpd_2m  num_tl_30dpd  num_tl_90g_dpd_24m  num_tl_op_past_12m  pct_tl_nvr_dlq  percent_bc_gt_75  pub_rec_bankruptcies     tax_liens  tot_hi_cred_lim  total_bal_ex_mort  total_bc_limit  total_il_high_credit_limit  revol_bal_joint  sec_app_inq_last_6mths  sec_app_mort_acc  sec_app_open_acc  sec_app_revol_util  sec_app_open_act_il  sec_app_num_rev_accts  sec_app_chargeoff_within_12_mths  sec_app_collections_12_mths_ex_med  sec_app_mths_since_last_major_derog  deferral_term  hardship_amount  hardship_length  hardship_dpd  orig_projected_additional_accrued_interest  hardship_payoff_balance_amount  hardship_last_payment_amount  settlement_amount  settlement_percentage  settlement_term  \n",
       "count  2.210638e+06          2.187256e+06             519701.000000           1.965233e+06                   740359.000000           2.190392e+06    2.190392e+06     2.190392e+06  2.202078e+06  2.190392e+06  2.190392e+06   2.190392e+06   2.190391e+06         2.190392e+06  2.202078e+06      2.107011e+06  2.190392e+06        2.190392e+06        2.190392e+06    2.190237e+06      2.185289e+06          2.259303e+06  2.260563e+06     2.190392e+06       2.210638e+06    2.210638e+06                2.190392e+06     1.080200e+05           108021.000000     108021.000000     108021.000000       106184.000000        108021.000000          108021.000000                     108021.000000                       108021.000000                         35942.000000        10613.0     10613.000000          10613.0  10613.000000                                 8426.000000                    10613.000000                  10613.000000       33056.000000           33056.000000     33056.000000  \n",
       "mean   1.555382e+00          2.484485e+01                 39.303090           7.024194e+00                       35.782223           5.002082e-01    3.676069e+00     5.629468e+00  4.774183e+00  7.726402e+00  8.413439e+00   8.246523e+00   1.400463e+01         5.577951e+00  1.162813e+01      6.373958e-04  2.813652e-03        8.293767e-02        2.076755e+00    9.411458e+01      4.243513e+01          1.281935e-01  4.677109e-02     1.782428e+05       5.102294e+04    2.319377e+04                4.373201e+04     3.361728e+04                0.633256          1.538997         11.469455           58.169101             3.010554              12.533072                          0.046352                            0.077568                            36.937928            3.0       155.006696              3.0     13.686422                                  454.840802                    11628.036442                    193.606331        5030.606922              47.775600        13.148596  \n",
       "std    1.904981e+00          3.231925e+01                 22.617689           5.965411e+00                       22.307239           1.350326e+00    2.324646e+00     3.382874e+00  3.037921e+00  4.701430e+00  7.359114e+00   4.683928e+00   8.038868e+00         3.293434e+00  5.644027e+00      2.710643e-02  5.616522e-02        4.935732e-01        1.830711e+00    9.036140e+00      3.621616e+01          3.646130e-01  3.775338e-01     1.815748e+05       4.991124e+04    2.300656e+04                4.507298e+04     2.815387e+04                0.993401          1.760569          6.627271           25.548212             3.275893               8.150964                          0.411496                            0.407996                            23.924584            0.0       129.113137              0.0      9.728138                                  375.830737                     7615.161123                    198.694368        3692.027842               7.336379         8.192319  \n",
       "min    0.000000e+00          0.000000e+00                  0.000000           0.000000e+00                        0.000000           0.000000e+00    0.000000e+00     0.000000e+00  0.000000e+00  0.000000e+00  0.000000e+00   0.000000e+00   0.000000e+00         0.000000e+00  0.000000e+00      0.000000e+00  0.000000e+00        0.000000e+00        0.000000e+00    0.000000e+00      0.000000e+00          0.000000e+00  0.000000e+00     0.000000e+00       0.000000e+00    0.000000e+00                0.000000e+00     0.000000e+00                0.000000          0.000000          0.000000            0.000000             0.000000               0.000000                          0.000000                            0.000000                             0.000000            3.0         0.640000              3.0      0.000000                                    1.920000                       55.730000                      0.010000          44.210000               0.200000         0.000000  \n",
       "25%    0.000000e+00          6.000000e+00                 21.000000           2.000000e+00                       17.000000           0.000000e+00    2.000000e+00     3.000000e+00  3.000000e+00  4.000000e+00  3.000000e+00   5.000000e+00   8.000000e+00         3.000000e+00  8.000000e+00      0.000000e+00  0.000000e+00        0.000000e+00        1.000000e+00    9.130000e+01      0.000000e+00          0.000000e+00  0.000000e+00     5.073100e+04       2.089200e+04    8.300000e+03                1.500000e+04     1.510675e+04                0.000000          0.000000          7.000000           39.800000             1.000000               7.000000                          0.000000                            0.000000                            16.000000            3.0        59.370000              3.0      5.000000                                  174.967500                     5628.730000                     43.780000        2227.000000              45.000000         6.000000  \n",
       "50%    1.000000e+00          1.400000e+01                 37.000000           5.000000e+00                       33.000000           0.000000e+00    3.000000e+00     5.000000e+00  4.000000e+00  7.000000e+00  6.000000e+00   7.000000e+00   1.200000e+01         5.000000e+00  1.100000e+01      0.000000e+00  0.000000e+00        0.000000e+00        2.000000e+00    1.000000e+02      3.750000e+01          0.000000e+00  0.000000e+00     1.142985e+05       3.786400e+04    1.630000e+04                3.269600e+04     2.651650e+04                0.000000          1.000000         10.000000           60.200000             2.000000              11.000000                          0.000000                            0.000000                            36.000000            3.0       119.040000              3.0     15.000000                                  352.605000                    10044.220000                    132.890000        4172.855000              45.000000        14.000000  \n",
       "75%    3.000000e+00          3.000000e+01                 57.000000           1.100000e+01                       51.000000           0.000000e+00    5.000000e+00     7.000000e+00  6.000000e+00  1.000000e+01  1.100000e+01   1.000000e+01   1.800000e+01         7.000000e+00  1.400000e+01      0.000000e+00  0.000000e+00        0.000000e+00        3.000000e+00    1.000000e+02      7.140000e+01          0.000000e+00  0.000000e+00     2.577550e+05       6.435000e+04    3.030000e+04                5.880425e+04     4.376900e+04                1.000000          2.000000         15.000000           78.600000             4.000000              17.000000                          0.000000                            0.000000                            56.000000            3.0       213.260000              3.0     22.000000                                  622.792500                    16114.940000                    284.180000        6870.782500              50.000000        18.000000  \n",
       "max    9.400000e+01          6.610000e+02                202.000000           2.500000e+01                      202.000000           5.800000e+01    5.000000e+01     7.200000e+01  7.100000e+01  8.600000e+01  1.590000e+02   9.100000e+01   1.510000e+02         6.500000e+01  1.010000e+02      7.000000e+00  4.000000e+00        5.800000e+01        3.200000e+01    1.000000e+02      1.000000e+02          1.200000e+01  8.500000e+01     9.999999e+06       3.408095e+06    1.569000e+06                2.118996e+06     1.110019e+06                6.000000         27.000000         82.000000          434.300000            43.000000             106.000000                         21.000000                           23.000000                           185.000000            3.0       943.940000              3.0     37.000000                                 2680.890000                    40306.410000                   1407.860000       33601.000000             521.350000       181.000000  "
      ]
     },
     "execution_count": 326,
     "metadata": {},
     "output_type": "execute_result"
    }
   ],
   "source": [
    "appl_df.describe()"
   ]
  },
  {
   "cell_type": "code",
   "execution_count": 327,
   "metadata": {},
   "outputs": [
    {
     "data": {
      "text/plain": [
       "<function seaborn.rcmod.set(context='notebook', style='darkgrid', palette='deep', font='sans-serif', font_scale=1, color_codes=True, rc=None)>"
      ]
     },
     "execution_count": 327,
     "metadata": {},
     "output_type": "execute_result"
    }
   ],
   "source": [
    "pd.set_option('display.max_rows', 200)\n",
    "pd.set_option('display.max_columns', 200)\n",
    "pd.set_option('display.width', 1000)\n",
    "sns.set"
   ]
  },
  {
   "cell_type": "code",
   "execution_count": 328,
   "metadata": {},
   "outputs": [
    {
     "data": {
      "text/plain": [
       "id                                                  0\n",
       "member_id                                           0\n",
       "loan_amnt                                     2260668\n",
       "funded_amnt                                   2260668\n",
       "funded_amnt_inv                               2260668\n",
       "term                                          2260668\n",
       "int_rate                                      2260668\n",
       "installment                                   2260668\n",
       "grade                                         2260668\n",
       "sub_grade                                     2260668\n",
       "emp_title                                     2093699\n",
       "emp_length                                    2113761\n",
       "home_ownership                                2260668\n",
       "annual_inc                                    2260664\n",
       "verification_status                           2260668\n",
       "issue_d                                       2260668\n",
       "loan_status                                   2260668\n",
       "pymnt_plan                                    2260668\n",
       "url                                                 0\n",
       "desc                                           126067\n",
       "purpose                                       2260668\n",
       "title                                         2237343\n",
       "zip_code                                      2260667\n",
       "addr_state                                    2260668\n",
       "dti                                           2258957\n",
       "delinq_2yrs                                   2260639\n",
       "earliest_cr_line                              2260639\n",
       "inq_last_6mths                                2260638\n",
       "mths_since_last_delinq                        1102166\n",
       "mths_since_last_record                         359156\n",
       "open_acc                                      2260639\n",
       "pub_rec                                       2260639\n",
       "revol_bal                                     2260668\n",
       "revol_util                                    2258866\n",
       "total_acc                                     2260639\n",
       "initial_list_status                           2260668\n",
       "out_prncp                                     2260668\n",
       "out_prncp_inv                                 2260668\n",
       "total_pymnt                                   2260668\n",
       "total_pymnt_inv                               2260668\n",
       "total_rec_prncp                               2260668\n",
       "total_rec_int                                 2260668\n",
       "total_rec_late_fee                            2260668\n",
       "recoveries                                    2260668\n",
       "collection_recovery_fee                       2260668\n",
       "last_pymnt_d                                  2258242\n",
       "last_pymnt_amnt                               2260668\n",
       "next_pymnt_d                                   957061\n",
       "last_credit_pull_d                            2260595\n",
       "collections_12_mths_ex_med                    2260523\n",
       "mths_since_last_major_derog                    580775\n",
       "policy_code                                   2260668\n",
       "application_type                              2260668\n",
       "annual_inc_joint                               120710\n",
       "dti_joint                                      120706\n",
       "verification_status_joint                      115730\n",
       "acc_now_delinq                                2260639\n",
       "tot_coll_amt                                  2190392\n",
       "tot_cur_bal                                   2190392\n",
       "open_acc_6m                                   1394538\n",
       "open_act_il                                   1394539\n",
       "open_il_12m                                   1394539\n",
       "open_il_24m                                   1394539\n",
       "mths_since_rcnt_il                            1350744\n",
       "total_bal_il                                  1394539\n",
       "il_util                                       1191818\n",
       "open_rv_12m                                   1394539\n",
       "open_rv_24m                                   1394539\n",
       "max_bal_bc                                    1394539\n",
       "all_util                                      1394320\n",
       "total_rev_hi_lim                              2190392\n",
       "inq_fi                                        1394539\n",
       "total_cu_tl                                   1394538\n",
       "inq_last_12m                                  1394538\n",
       "acc_open_past_24mths                          2210638\n",
       "avg_cur_bal                                   2190322\n",
       "bc_open_to_buy                                2185733\n",
       "bc_util                                       2184597\n",
       "chargeoff_within_12_mths                      2260523\n",
       "delinq_amnt                                   2260639\n",
       "mo_sin_old_il_acct                            2121597\n",
       "mo_sin_old_rev_tl_op                          2190391\n",
       "mo_sin_rcnt_rev_tl_op                         2190391\n",
       "mo_sin_rcnt_tl                                2190392\n",
       "mort_acc                                      2210638\n",
       "mths_since_recent_bc                          2187256\n",
       "mths_since_recent_bc_dlq                       519701\n",
       "mths_since_recent_inq                         1965233\n",
       "mths_since_recent_revol_delinq                 740359\n",
       "num_accts_ever_120_pd                         2190392\n",
       "num_actv_bc_tl                                2190392\n",
       "num_actv_rev_tl                               2190392\n",
       "num_bc_sats                                   2202078\n",
       "num_bc_tl                                     2190392\n",
       "num_il_tl                                     2190392\n",
       "num_op_rev_tl                                 2190392\n",
       "num_rev_accts                                 2190391\n",
       "num_rev_tl_bal_gt_0                           2190392\n",
       "num_sats                                      2202078\n",
       "num_tl_120dpd_2m                              2107011\n",
       "num_tl_30dpd                                  2190392\n",
       "num_tl_90g_dpd_24m                            2190392\n",
       "num_tl_op_past_12m                            2190392\n",
       "pct_tl_nvr_dlq                                2190237\n",
       "percent_bc_gt_75                              2185289\n",
       "pub_rec_bankruptcies                          2259303\n",
       "tax_liens                                     2260563\n",
       "tot_hi_cred_lim                               2190392\n",
       "total_bal_ex_mort                             2210638\n",
       "total_bc_limit                                2210638\n",
       "total_il_high_credit_limit                    2190392\n",
       "revol_bal_joint                                108020\n",
       "sec_app_earliest_cr_line                       108021\n",
       "sec_app_inq_last_6mths                         108021\n",
       "sec_app_mort_acc                               108021\n",
       "sec_app_open_acc                               108021\n",
       "sec_app_revol_util                             106184\n",
       "sec_app_open_act_il                            108021\n",
       "sec_app_num_rev_accts                          108021\n",
       "sec_app_chargeoff_within_12_mths               108021\n",
       "sec_app_collections_12_mths_ex_med             108021\n",
       "sec_app_mths_since_last_major_derog             35942\n",
       "hardship_flag                                 2260668\n",
       "hardship_type                                   10613\n",
       "hardship_reason                                 10613\n",
       "hardship_status                                 10613\n",
       "deferral_term                                   10613\n",
       "hardship_amount                                 10613\n",
       "hardship_start_date                             10613\n",
       "hardship_end_date                               10613\n",
       "payment_plan_start_date                         10613\n",
       "hardship_length                                 10613\n",
       "hardship_dpd                                    10613\n",
       "hardship_loan_status                            10613\n",
       "orig_projected_additional_accrued_interest       8426\n",
       "hardship_payoff_balance_amount                  10613\n",
       "hardship_last_payment_amount                    10613\n",
       "disbursement_method                           2260668\n",
       "debt_settlement_flag                          2260668\n",
       "debt_settlement_flag_date                       33056\n",
       "settlement_status                               33056\n",
       "settlement_date                                 33056\n",
       "settlement_amount                               33056\n",
       "settlement_percentage                           33056\n",
       "settlement_term                                 33056\n",
       "dtype: int64"
      ]
     },
     "execution_count": 328,
     "metadata": {},
     "output_type": "execute_result"
    }
   ],
   "source": [
    "appl_df.count(axis=0, numeric_only=False)"
   ]
  },
  {
   "cell_type": "code",
   "execution_count": 329,
   "metadata": {},
   "outputs": [],
   "source": [
    "#member id and ids are all uniques, we will drop these fields\n",
    "appl_df.drop('member_id', axis=1, inplace=True)\n",
    "appl_df.drop('id', axis=1, inplace=True)"
   ]
  },
  {
   "cell_type": "code",
   "execution_count": 330,
   "metadata": {},
   "outputs": [
    {
     "data": {
      "text/plain": [
       "Fully Paid                                             1041952\n",
       "Current                                                 919695\n",
       "Charged Off                                             261655\n",
       "Late (31-120 days)                                       21897\n",
       "In Grace Period                                           8952\n",
       "Late (16-30 days)                                         3737\n",
       "Does not meet the credit policy. Status:Fully Paid        1988\n",
       "Does not meet the credit policy. Status:Charged Off        761\n",
       "Default                                                     31\n",
       "Name: loan_status, dtype: int64"
      ]
     },
     "execution_count": 330,
     "metadata": {},
     "output_type": "execute_result"
    }
   ],
   "source": [
    "appl_df.loan_status.value_counts()"
   ]
  },
  {
   "cell_type": "code",
   "execution_count": 331,
   "metadata": {},
   "outputs": [
    {
     "data": {
      "text/plain": [
       "(2260668, 143)"
      ]
     },
     "execution_count": 331,
     "metadata": {},
     "output_type": "execute_result"
    }
   ],
   "source": [
    "appl_df.shape"
   ]
  },
  {
   "cell_type": "code",
   "execution_count": 332,
   "metadata": {},
   "outputs": [],
   "source": [
    "df_cleanAppl = appl_df[(appl_df.loan_status == 'Fully Paid') | (appl_df.loan_status == 'Charged Off')]"
   ]
  },
  {
   "cell_type": "code",
   "execution_count": 333,
   "metadata": {
    "scrolled": true
   },
   "outputs": [
    {
     "data": {
      "text/plain": [
       "Fully Paid     1041952\n",
       "Charged Off     261655\n",
       "Name: loan_status, dtype: int64"
      ]
     },
     "execution_count": 333,
     "metadata": {},
     "output_type": "execute_result"
    }
   ],
   "source": [
    "df_cleanAppl.loan_status.value_counts()"
   ]
  },
  {
   "cell_type": "code",
   "execution_count": 334,
   "metadata": {},
   "outputs": [
    {
     "data": {
      "text/plain": [
       "(1303607, 143)"
      ]
     },
     "execution_count": 334,
     "metadata": {},
     "output_type": "execute_result"
    }
   ],
   "source": [
    "df_cleanAppl.shape"
   ]
  },
  {
   "cell_type": "code",
   "execution_count": 335,
   "metadata": {},
   "outputs": [
    {
     "data": {
      "text/plain": [
       "Fully Paid     0.799284\n",
       "Charged Off    0.200716\n",
       "Name: loan_status, dtype: float64"
      ]
     },
     "execution_count": 335,
     "metadata": {},
     "output_type": "execute_result"
    }
   ],
   "source": [
    "df_cleanAppl.loan_status.value_counts(normalize=True) #About 80% are ‘Fully Paid’ and 20% are ‘Charged Off’So our sample is biased in this case"
   ]
  },
  {
   "cell_type": "code",
   "execution_count": 336,
   "metadata": {},
   "outputs": [
    {
     "data": {
      "text/plain": [
       "True     103\n",
       "False     40\n",
       "dtype: int64"
      ]
     },
     "execution_count": 336,
     "metadata": {},
     "output_type": "execute_result"
    }
   ],
   "source": [
    "df_cleanAppl.isnull().any().value_counts() #103 COLUMNS HAVE MISSING VALUES"
   ]
  },
  {
   "cell_type": "code",
   "execution_count": 337,
   "metadata": {},
   "outputs": [
    {
     "name": "stdout",
     "output_type": "stream",
     "text": [
      "loan_amnt                                     1303607\n",
      "funded_amnt                                   1303607\n",
      "funded_amnt_inv                               1303607\n",
      "term                                          1303607\n",
      "int_rate                                      1303607\n",
      "installment                                   1303607\n",
      "grade                                         1303607\n",
      "sub_grade                                     1303607\n",
      "emp_title                                     1303607\n",
      "emp_length                                    1303607\n",
      "home_ownership                                1303607\n",
      "annual_inc                                    1303607\n",
      "verification_status                           1303607\n",
      "issue_d                                       1303607\n",
      "loan_status                                   1303607\n",
      "pymnt_plan                                    1303607\n",
      "url                                           1303607\n",
      "desc                                          1303607\n",
      "purpose                                       1303607\n",
      "title                                         1303607\n",
      "zip_code                                      1303607\n",
      "addr_state                                    1303607\n",
      "dti                                           1303607\n",
      "delinq_2yrs                                   1303607\n",
      "earliest_cr_line                              1303607\n",
      "inq_last_6mths                                1303607\n",
      "mths_since_last_delinq                        1303607\n",
      "mths_since_last_record                        1303607\n",
      "open_acc                                      1303607\n",
      "pub_rec                                       1303607\n",
      "revol_bal                                     1303607\n",
      "revol_util                                    1303607\n",
      "total_acc                                     1303607\n",
      "initial_list_status                           1303607\n",
      "out_prncp                                     1303607\n",
      "out_prncp_inv                                 1303607\n",
      "total_pymnt                                   1303607\n",
      "total_pymnt_inv                               1303607\n",
      "total_rec_prncp                               1303607\n",
      "total_rec_int                                 1303607\n",
      "total_rec_late_fee                            1303607\n",
      "recoveries                                    1303607\n",
      "collection_recovery_fee                       1303607\n",
      "last_pymnt_d                                  1303607\n",
      "last_pymnt_amnt                               1303607\n",
      "next_pymnt_d                                  1303607\n",
      "last_credit_pull_d                            1303607\n",
      "collections_12_mths_ex_med                    1303607\n",
      "mths_since_last_major_derog                   1303607\n",
      "policy_code                                   1303607\n",
      "application_type                              1303607\n",
      "annual_inc_joint                              1303607\n",
      "dti_joint                                     1303607\n",
      "verification_status_joint                     1303607\n",
      "acc_now_delinq                                1303607\n",
      "tot_coll_amt                                  1303607\n",
      "tot_cur_bal                                   1303607\n",
      "open_acc_6m                                   1303607\n",
      "open_act_il                                   1303607\n",
      "open_il_12m                                   1303607\n",
      "open_il_24m                                   1303607\n",
      "mths_since_rcnt_il                            1303607\n",
      "total_bal_il                                  1303607\n",
      "il_util                                       1303607\n",
      "open_rv_12m                                   1303607\n",
      "open_rv_24m                                   1303607\n",
      "max_bal_bc                                    1303607\n",
      "all_util                                      1303607\n",
      "total_rev_hi_lim                              1303607\n",
      "inq_fi                                        1303607\n",
      "total_cu_tl                                   1303607\n",
      "inq_last_12m                                  1303607\n",
      "acc_open_past_24mths                          1303607\n",
      "avg_cur_bal                                   1303607\n",
      "bc_open_to_buy                                1303607\n",
      "bc_util                                       1303607\n",
      "chargeoff_within_12_mths                      1303607\n",
      "delinq_amnt                                   1303607\n",
      "mo_sin_old_il_acct                            1303607\n",
      "mo_sin_old_rev_tl_op                          1303607\n",
      "mo_sin_rcnt_rev_tl_op                         1303607\n",
      "mo_sin_rcnt_tl                                1303607\n",
      "mort_acc                                      1303607\n",
      "mths_since_recent_bc                          1303607\n",
      "mths_since_recent_bc_dlq                      1303607\n",
      "mths_since_recent_inq                         1303607\n",
      "mths_since_recent_revol_delinq                1303607\n",
      "num_accts_ever_120_pd                         1303607\n",
      "num_actv_bc_tl                                1303607\n",
      "num_actv_rev_tl                               1303607\n",
      "num_bc_sats                                   1303607\n",
      "num_bc_tl                                     1303607\n",
      "num_il_tl                                     1303607\n",
      "num_op_rev_tl                                 1303607\n",
      "num_rev_accts                                 1303607\n",
      "num_rev_tl_bal_gt_0                           1303607\n",
      "num_sats                                      1303607\n",
      "num_tl_120dpd_2m                              1303607\n",
      "num_tl_30dpd                                  1303607\n",
      "num_tl_90g_dpd_24m                            1303607\n",
      "num_tl_op_past_12m                            1303607\n",
      "pct_tl_nvr_dlq                                1303607\n",
      "percent_bc_gt_75                              1303607\n",
      "pub_rec_bankruptcies                          1303607\n",
      "tax_liens                                     1303607\n",
      "tot_hi_cred_lim                               1303607\n",
      "total_bal_ex_mort                             1303607\n",
      "total_bc_limit                                1303607\n",
      "total_il_high_credit_limit                    1303607\n",
      "revol_bal_joint                               1303607\n",
      "sec_app_earliest_cr_line                      1303607\n",
      "sec_app_inq_last_6mths                        1303607\n",
      "sec_app_mort_acc                              1303607\n",
      "sec_app_open_acc                              1303607\n",
      "sec_app_revol_util                            1303607\n",
      "sec_app_open_act_il                           1303607\n",
      "sec_app_num_rev_accts                         1303607\n",
      "sec_app_chargeoff_within_12_mths              1303607\n",
      "sec_app_collections_12_mths_ex_med            1303607\n",
      "sec_app_mths_since_last_major_derog           1303607\n",
      "hardship_flag                                 1303607\n",
      "hardship_type                                 1303607\n",
      "hardship_reason                               1303607\n",
      "hardship_status                               1303607\n",
      "deferral_term                                 1303607\n",
      "hardship_amount                               1303607\n",
      "hardship_start_date                           1303607\n",
      "hardship_end_date                             1303607\n",
      "payment_plan_start_date                       1303607\n",
      "hardship_length                               1303607\n",
      "hardship_dpd                                  1303607\n",
      "hardship_loan_status                          1303607\n",
      "orig_projected_additional_accrued_interest    1303607\n",
      "hardship_payoff_balance_amount                1303607\n",
      "hardship_last_payment_amount                  1303607\n",
      "disbursement_method                           1303607\n",
      "debt_settlement_flag                          1303607\n",
      "debt_settlement_flag_date                     1303607\n",
      "settlement_status                             1303607\n",
      "settlement_date                               1303607\n",
      "settlement_amount                             1303607\n",
      "settlement_percentage                         1303607\n",
      "settlement_term                               1303607\n",
      "dtype: int64\n"
     ]
    }
   ],
   "source": [
    "print(df_cleanAppl.isnull().count())"
   ]
  },
  {
   "cell_type": "code",
   "execution_count": 338,
   "metadata": {},
   "outputs": [
    {
     "name": "stdout",
     "output_type": "stream",
     "text": [
      "loan_amnt                                     1303607\n",
      "funded_amnt                                   1303607\n",
      "funded_amnt_inv                               1303607\n",
      "term                                          1303607\n",
      "int_rate                                      1303607\n",
      "installment                                   1303607\n",
      "grade                                         1303607\n",
      "sub_grade                                     1303607\n",
      "emp_title                                     1221028\n",
      "emp_length                                    1228153\n",
      "home_ownership                                1303607\n",
      "annual_inc                                    1303607\n",
      "verification_status                           1303607\n",
      "issue_d                                       1303607\n",
      "loan_status                                   1303607\n",
      "pymnt_plan                                    1303607\n",
      "url                                                 0\n",
      "desc                                           123327\n",
      "purpose                                       1303607\n",
      "title                                         1288181\n",
      "zip_code                                      1303606\n",
      "addr_state                                    1303607\n",
      "dti                                           1303295\n",
      "delinq_2yrs                                   1303607\n",
      "earliest_cr_line                              1303607\n",
      "inq_last_6mths                                1303606\n",
      "mths_since_last_delinq                         645783\n",
      "mths_since_last_record                         221766\n",
      "open_acc                                      1303607\n",
      "pub_rec                                       1303607\n",
      "revol_bal                                     1303607\n",
      "revol_util                                    1302797\n",
      "total_acc                                     1303607\n",
      "initial_list_status                           1303607\n",
      "out_prncp                                     1303607\n",
      "out_prncp_inv                                 1303607\n",
      "total_pymnt                                   1303607\n",
      "total_pymnt_inv                               1303607\n",
      "total_rec_prncp                               1303607\n",
      "total_rec_int                                 1303607\n",
      "total_rec_late_fee                            1303607\n",
      "recoveries                                    1303607\n",
      "collection_recovery_fee                       1303607\n",
      "last_pymnt_d                                  1301347\n",
      "last_pymnt_amnt                               1303607\n",
      "next_pymnt_d                                        0\n",
      "last_credit_pull_d                            1303553\n",
      "collections_12_mths_ex_med                    1303551\n",
      "mths_since_last_major_derog                    342367\n",
      "policy_code                                   1303607\n",
      "application_type                              1303607\n",
      "annual_inc_joint                                23237\n",
      "dti_joint                                       23235\n",
      "verification_status_joint                       23091\n",
      "acc_now_delinq                                1303607\n",
      "tot_coll_amt                                  1236080\n",
      "tot_cur_bal                                   1236080\n",
      "open_acc_6m                                    499544\n",
      "open_act_il                                    499545\n",
      "open_il_12m                                    499545\n",
      "open_il_24m                                    499545\n",
      "mths_since_rcnt_il                             486548\n",
      "total_bal_il                                   499545\n",
      "il_util                                        432668\n",
      "open_rv_12m                                    499545\n",
      "open_rv_24m                                    499545\n",
      "max_bal_bc                                     499545\n",
      "all_util                                       499494\n",
      "total_rev_hi_lim                              1236080\n",
      "inq_fi                                         499545\n",
      "total_cu_tl                                    499544\n",
      "inq_last_12m                                   499544\n",
      "acc_open_past_24mths                          1256326\n",
      "avg_cur_bal                                   1236059\n",
      "bc_open_to_buy                                1242968\n",
      "bc_util                                       1242221\n",
      "chargeoff_within_12_mths                      1303551\n",
      "delinq_amnt                                   1303607\n",
      "mo_sin_old_il_acct                            1199312\n",
      "mo_sin_old_rev_tl_op                          1236079\n",
      "mo_sin_rcnt_rev_tl_op                         1236079\n",
      "mo_sin_rcnt_tl                                1236080\n",
      "mort_acc                                      1256326\n",
      "mths_since_recent_bc                          1243866\n",
      "mths_since_recent_bc_dlq                       309146\n",
      "mths_since_recent_inq                         1134058\n",
      "mths_since_recent_revol_delinq                 435835\n",
      "num_accts_ever_120_pd                         1236080\n",
      "num_actv_bc_tl                                1236080\n",
      "num_actv_rev_tl                               1236080\n",
      "num_bc_sats                                   1247766\n",
      "num_bc_tl                                     1236080\n",
      "num_il_tl                                     1236080\n",
      "num_op_rev_tl                                 1236080\n",
      "num_rev_accts                                 1236079\n",
      "num_rev_tl_bal_gt_0                           1236080\n",
      "num_sats                                      1247766\n",
      "num_tl_120dpd_2m                              1188037\n",
      "num_tl_30dpd                                  1236080\n",
      "num_tl_90g_dpd_24m                            1236080\n",
      "num_tl_op_past_12m                            1236080\n",
      "pct_tl_nvr_dlq                                1235926\n",
      "percent_bc_gt_75                              1242560\n",
      "pub_rec_bankruptcies                          1302910\n",
      "tax_liens                                     1303568\n",
      "tot_hi_cred_lim                               1236080\n",
      "total_bal_ex_mort                             1256326\n",
      "total_bc_limit                                1256326\n",
      "total_il_high_credit_limit                    1236080\n",
      "revol_bal_joint                                 16510\n",
      "sec_app_earliest_cr_line                        16511\n",
      "sec_app_inq_last_6mths                          16511\n",
      "sec_app_mort_acc                                16511\n",
      "sec_app_open_acc                                16511\n",
      "sec_app_revol_util                              16218\n",
      "sec_app_open_act_il                             16511\n",
      "sec_app_num_rev_accts                           16511\n",
      "sec_app_chargeoff_within_12_mths                16511\n",
      "sec_app_collections_12_mths_ex_med              16511\n",
      "sec_app_mths_since_last_major_derog              5932\n",
      "hardship_flag                                 1303607\n",
      "hardship_type                                    5335\n",
      "hardship_reason                                  5335\n",
      "hardship_status                                  5335\n",
      "deferral_term                                    5335\n",
      "hardship_amount                                  5335\n",
      "hardship_start_date                              5335\n",
      "hardship_end_date                                5335\n",
      "payment_plan_start_date                          5335\n",
      "hardship_length                                  5335\n",
      "hardship_dpd                                     5335\n",
      "hardship_loan_status                             5335\n",
      "orig_projected_additional_accrued_interest       3433\n",
      "hardship_payoff_balance_amount                   5335\n",
      "hardship_last_payment_amount                     5335\n",
      "disbursement_method                           1303607\n",
      "debt_settlement_flag                          1303607\n",
      "debt_settlement_flag_date                       31989\n",
      "settlement_status                               31989\n",
      "settlement_date                                 31989\n",
      "settlement_amount                               31989\n",
      "settlement_percentage                           31989\n",
      "settlement_term                                 31989\n",
      "dtype: int64\n"
     ]
    }
   ],
   "source": [
    "print(df_cleanAppl.count())"
   ]
  },
  {
   "cell_type": "code",
   "execution_count": 339,
   "metadata": {},
   "outputs": [
    {
     "name": "stdout",
     "output_type": "stream",
     "text": [
      "1303607\n"
     ]
    }
   ],
   "source": [
    "print(len(df_cleanAppl))"
   ]
  },
  {
   "cell_type": "code",
   "execution_count": 340,
   "metadata": {},
   "outputs": [],
   "source": [
    "# we will calculate the percentage of missing values by features\n",
    "total_num = df_cleanAppl.isnull().sum().sort_values(ascending=False)\n",
    "\n",
    "perc = df_cleanAppl.isnull().sum()/len(df_cleanAppl) *100\n",
    "perc1 = (round(perc,2).sort_values(ascending=False))\n",
    "\n",
    "# Creating a data frame of missing percentages\n",
    "df_miss = pd.concat([total_num, perc1], axis=1, keys =[\"Total Missing Values\", \"Percentage %\"], sort=True).sort_values(by =[\"Percentage %\"], ascending = False)\n",
    "df_miss.reset_index(inplace=True)"
   ]
  },
  {
   "cell_type": "code",
   "execution_count": 341,
   "metadata": {},
   "outputs": [
    {
     "data": {
      "text/html": [
       "<div>\n",
       "<style scoped>\n",
       "    .dataframe tbody tr th:only-of-type {\n",
       "        vertical-align: middle;\n",
       "    }\n",
       "\n",
       "    .dataframe tbody tr th {\n",
       "        vertical-align: top;\n",
       "    }\n",
       "\n",
       "    .dataframe thead th {\n",
       "        text-align: right;\n",
       "    }\n",
       "</style>\n",
       "<table border=\"1\" class=\"dataframe\">\n",
       "  <thead>\n",
       "    <tr style=\"text-align: right;\">\n",
       "      <th></th>\n",
       "      <th>index</th>\n",
       "      <th>Total Missing Values</th>\n",
       "      <th>Percentage %</th>\n",
       "    </tr>\n",
       "  </thead>\n",
       "  <tbody>\n",
       "    <tr>\n",
       "      <th>0</th>\n",
       "      <td>url</td>\n",
       "      <td>1303607</td>\n",
       "      <td>100.00</td>\n",
       "    </tr>\n",
       "    <tr>\n",
       "      <th>1</th>\n",
       "      <td>next_pymnt_d</td>\n",
       "      <td>1303607</td>\n",
       "      <td>100.00</td>\n",
       "    </tr>\n",
       "    <tr>\n",
       "      <th>2</th>\n",
       "      <td>orig_projected_additional_accrued_interest</td>\n",
       "      <td>1300174</td>\n",
       "      <td>99.74</td>\n",
       "    </tr>\n",
       "    <tr>\n",
       "      <th>3</th>\n",
       "      <td>deferral_term</td>\n",
       "      <td>1298272</td>\n",
       "      <td>99.59</td>\n",
       "    </tr>\n",
       "    <tr>\n",
       "      <th>4</th>\n",
       "      <td>hardship_last_payment_amount</td>\n",
       "      <td>1298272</td>\n",
       "      <td>99.59</td>\n",
       "    </tr>\n",
       "    <tr>\n",
       "      <th>5</th>\n",
       "      <td>hardship_payoff_balance_amount</td>\n",
       "      <td>1298272</td>\n",
       "      <td>99.59</td>\n",
       "    </tr>\n",
       "    <tr>\n",
       "      <th>6</th>\n",
       "      <td>hardship_end_date</td>\n",
       "      <td>1298272</td>\n",
       "      <td>99.59</td>\n",
       "    </tr>\n",
       "    <tr>\n",
       "      <th>7</th>\n",
       "      <td>hardship_dpd</td>\n",
       "      <td>1298272</td>\n",
       "      <td>99.59</td>\n",
       "    </tr>\n",
       "    <tr>\n",
       "      <th>8</th>\n",
       "      <td>hardship_amount</td>\n",
       "      <td>1298272</td>\n",
       "      <td>99.59</td>\n",
       "    </tr>\n",
       "    <tr>\n",
       "      <th>9</th>\n",
       "      <td>hardship_reason</td>\n",
       "      <td>1298272</td>\n",
       "      <td>99.59</td>\n",
       "    </tr>\n",
       "    <tr>\n",
       "      <th>10</th>\n",
       "      <td>hardship_start_date</td>\n",
       "      <td>1298272</td>\n",
       "      <td>99.59</td>\n",
       "    </tr>\n",
       "    <tr>\n",
       "      <th>11</th>\n",
       "      <td>hardship_status</td>\n",
       "      <td>1298272</td>\n",
       "      <td>99.59</td>\n",
       "    </tr>\n",
       "    <tr>\n",
       "      <th>12</th>\n",
       "      <td>hardship_type</td>\n",
       "      <td>1298272</td>\n",
       "      <td>99.59</td>\n",
       "    </tr>\n",
       "    <tr>\n",
       "      <th>13</th>\n",
       "      <td>hardship_loan_status</td>\n",
       "      <td>1298272</td>\n",
       "      <td>99.59</td>\n",
       "    </tr>\n",
       "    <tr>\n",
       "      <th>14</th>\n",
       "      <td>hardship_length</td>\n",
       "      <td>1298272</td>\n",
       "      <td>99.59</td>\n",
       "    </tr>\n",
       "    <tr>\n",
       "      <th>15</th>\n",
       "      <td>payment_plan_start_date</td>\n",
       "      <td>1298272</td>\n",
       "      <td>99.59</td>\n",
       "    </tr>\n",
       "    <tr>\n",
       "      <th>16</th>\n",
       "      <td>sec_app_mths_since_last_major_derog</td>\n",
       "      <td>1297675</td>\n",
       "      <td>99.54</td>\n",
       "    </tr>\n",
       "    <tr>\n",
       "      <th>17</th>\n",
       "      <td>sec_app_revol_util</td>\n",
       "      <td>1287389</td>\n",
       "      <td>98.76</td>\n",
       "    </tr>\n",
       "    <tr>\n",
       "      <th>18</th>\n",
       "      <td>sec_app_num_rev_accts</td>\n",
       "      <td>1287096</td>\n",
       "      <td>98.73</td>\n",
       "    </tr>\n",
       "    <tr>\n",
       "      <th>19</th>\n",
       "      <td>sec_app_chargeoff_within_12_mths</td>\n",
       "      <td>1287096</td>\n",
       "      <td>98.73</td>\n",
       "    </tr>\n",
       "    <tr>\n",
       "      <th>20</th>\n",
       "      <td>revol_bal_joint</td>\n",
       "      <td>1287097</td>\n",
       "      <td>98.73</td>\n",
       "    </tr>\n",
       "    <tr>\n",
       "      <th>21</th>\n",
       "      <td>sec_app_inq_last_6mths</td>\n",
       "      <td>1287096</td>\n",
       "      <td>98.73</td>\n",
       "    </tr>\n",
       "    <tr>\n",
       "      <th>22</th>\n",
       "      <td>sec_app_mort_acc</td>\n",
       "      <td>1287096</td>\n",
       "      <td>98.73</td>\n",
       "    </tr>\n",
       "    <tr>\n",
       "      <th>23</th>\n",
       "      <td>sec_app_open_acc</td>\n",
       "      <td>1287096</td>\n",
       "      <td>98.73</td>\n",
       "    </tr>\n",
       "    <tr>\n",
       "      <th>24</th>\n",
       "      <td>sec_app_earliest_cr_line</td>\n",
       "      <td>1287096</td>\n",
       "      <td>98.73</td>\n",
       "    </tr>\n",
       "    <tr>\n",
       "      <th>25</th>\n",
       "      <td>sec_app_open_act_il</td>\n",
       "      <td>1287096</td>\n",
       "      <td>98.73</td>\n",
       "    </tr>\n",
       "    <tr>\n",
       "      <th>26</th>\n",
       "      <td>sec_app_collections_12_mths_ex_med</td>\n",
       "      <td>1287096</td>\n",
       "      <td>98.73</td>\n",
       "    </tr>\n",
       "    <tr>\n",
       "      <th>27</th>\n",
       "      <td>verification_status_joint</td>\n",
       "      <td>1280516</td>\n",
       "      <td>98.23</td>\n",
       "    </tr>\n",
       "    <tr>\n",
       "      <th>28</th>\n",
       "      <td>dti_joint</td>\n",
       "      <td>1280372</td>\n",
       "      <td>98.22</td>\n",
       "    </tr>\n",
       "    <tr>\n",
       "      <th>29</th>\n",
       "      <td>annual_inc_joint</td>\n",
       "      <td>1280370</td>\n",
       "      <td>98.22</td>\n",
       "    </tr>\n",
       "    <tr>\n",
       "      <th>30</th>\n",
       "      <td>settlement_amount</td>\n",
       "      <td>1271618</td>\n",
       "      <td>97.55</td>\n",
       "    </tr>\n",
       "    <tr>\n",
       "      <th>31</th>\n",
       "      <td>settlement_term</td>\n",
       "      <td>1271618</td>\n",
       "      <td>97.55</td>\n",
       "    </tr>\n",
       "    <tr>\n",
       "      <th>32</th>\n",
       "      <td>settlement_status</td>\n",
       "      <td>1271618</td>\n",
       "      <td>97.55</td>\n",
       "    </tr>\n",
       "    <tr>\n",
       "      <th>33</th>\n",
       "      <td>settlement_date</td>\n",
       "      <td>1271618</td>\n",
       "      <td>97.55</td>\n",
       "    </tr>\n",
       "    <tr>\n",
       "      <th>34</th>\n",
       "      <td>settlement_percentage</td>\n",
       "      <td>1271618</td>\n",
       "      <td>97.55</td>\n",
       "    </tr>\n",
       "    <tr>\n",
       "      <th>35</th>\n",
       "      <td>debt_settlement_flag_date</td>\n",
       "      <td>1271618</td>\n",
       "      <td>97.55</td>\n",
       "    </tr>\n",
       "    <tr>\n",
       "      <th>36</th>\n",
       "      <td>desc</td>\n",
       "      <td>1180280</td>\n",
       "      <td>90.54</td>\n",
       "    </tr>\n",
       "    <tr>\n",
       "      <th>37</th>\n",
       "      <td>mths_since_last_record</td>\n",
       "      <td>1081841</td>\n",
       "      <td>82.99</td>\n",
       "    </tr>\n",
       "    <tr>\n",
       "      <th>38</th>\n",
       "      <td>mths_since_recent_bc_dlq</td>\n",
       "      <td>994461</td>\n",
       "      <td>76.29</td>\n",
       "    </tr>\n",
       "    <tr>\n",
       "      <th>39</th>\n",
       "      <td>mths_since_last_major_derog</td>\n",
       "      <td>961240</td>\n",
       "      <td>73.74</td>\n",
       "    </tr>\n",
       "    <tr>\n",
       "      <th>40</th>\n",
       "      <td>il_util</td>\n",
       "      <td>870939</td>\n",
       "      <td>66.81</td>\n",
       "    </tr>\n",
       "    <tr>\n",
       "      <th>41</th>\n",
       "      <td>mths_since_recent_revol_delinq</td>\n",
       "      <td>867772</td>\n",
       "      <td>66.57</td>\n",
       "    </tr>\n",
       "    <tr>\n",
       "      <th>42</th>\n",
       "      <td>mths_since_rcnt_il</td>\n",
       "      <td>817059</td>\n",
       "      <td>62.68</td>\n",
       "    </tr>\n",
       "    <tr>\n",
       "      <th>43</th>\n",
       "      <td>total_cu_tl</td>\n",
       "      <td>804063</td>\n",
       "      <td>61.68</td>\n",
       "    </tr>\n",
       "    <tr>\n",
       "      <th>44</th>\n",
       "      <td>open_il_12m</td>\n",
       "      <td>804062</td>\n",
       "      <td>61.68</td>\n",
       "    </tr>\n",
       "    <tr>\n",
       "      <th>45</th>\n",
       "      <td>open_act_il</td>\n",
       "      <td>804062</td>\n",
       "      <td>61.68</td>\n",
       "    </tr>\n",
       "    <tr>\n",
       "      <th>46</th>\n",
       "      <td>open_acc_6m</td>\n",
       "      <td>804063</td>\n",
       "      <td>61.68</td>\n",
       "    </tr>\n",
       "    <tr>\n",
       "      <th>47</th>\n",
       "      <td>open_rv_24m</td>\n",
       "      <td>804062</td>\n",
       "      <td>61.68</td>\n",
       "    </tr>\n",
       "    <tr>\n",
       "      <th>48</th>\n",
       "      <td>open_rv_12m</td>\n",
       "      <td>804062</td>\n",
       "      <td>61.68</td>\n",
       "    </tr>\n",
       "    <tr>\n",
       "      <th>49</th>\n",
       "      <td>max_bal_bc</td>\n",
       "      <td>804062</td>\n",
       "      <td>61.68</td>\n",
       "    </tr>\n",
       "    <tr>\n",
       "      <th>50</th>\n",
       "      <td>open_il_24m</td>\n",
       "      <td>804062</td>\n",
       "      <td>61.68</td>\n",
       "    </tr>\n",
       "    <tr>\n",
       "      <th>51</th>\n",
       "      <td>inq_last_12m</td>\n",
       "      <td>804063</td>\n",
       "      <td>61.68</td>\n",
       "    </tr>\n",
       "    <tr>\n",
       "      <th>52</th>\n",
       "      <td>total_bal_il</td>\n",
       "      <td>804062</td>\n",
       "      <td>61.68</td>\n",
       "    </tr>\n",
       "    <tr>\n",
       "      <th>53</th>\n",
       "      <td>all_util</td>\n",
       "      <td>804113</td>\n",
       "      <td>61.68</td>\n",
       "    </tr>\n",
       "    <tr>\n",
       "      <th>54</th>\n",
       "      <td>inq_fi</td>\n",
       "      <td>804062</td>\n",
       "      <td>61.68</td>\n",
       "    </tr>\n",
       "    <tr>\n",
       "      <th>55</th>\n",
       "      <td>mths_since_last_delinq</td>\n",
       "      <td>657824</td>\n",
       "      <td>50.46</td>\n",
       "    </tr>\n",
       "    <tr>\n",
       "      <th>56</th>\n",
       "      <td>mths_since_recent_inq</td>\n",
       "      <td>169549</td>\n",
       "      <td>13.01</td>\n",
       "    </tr>\n",
       "    <tr>\n",
       "      <th>57</th>\n",
       "      <td>num_tl_120dpd_2m</td>\n",
       "      <td>115570</td>\n",
       "      <td>8.87</td>\n",
       "    </tr>\n",
       "    <tr>\n",
       "      <th>58</th>\n",
       "      <td>mo_sin_old_il_acct</td>\n",
       "      <td>104295</td>\n",
       "      <td>8.00</td>\n",
       "    </tr>\n",
       "    <tr>\n",
       "      <th>59</th>\n",
       "      <td>emp_title</td>\n",
       "      <td>82579</td>\n",
       "      <td>6.33</td>\n",
       "    </tr>\n",
       "    <tr>\n",
       "      <th>60</th>\n",
       "      <td>emp_length</td>\n",
       "      <td>75454</td>\n",
       "      <td>5.79</td>\n",
       "    </tr>\n",
       "    <tr>\n",
       "      <th>61</th>\n",
       "      <td>pct_tl_nvr_dlq</td>\n",
       "      <td>67681</td>\n",
       "      <td>5.19</td>\n",
       "    </tr>\n",
       "    <tr>\n",
       "      <th>62</th>\n",
       "      <td>num_accts_ever_120_pd</td>\n",
       "      <td>67527</td>\n",
       "      <td>5.18</td>\n",
       "    </tr>\n",
       "    <tr>\n",
       "      <th>63</th>\n",
       "      <td>num_op_rev_tl</td>\n",
       "      <td>67527</td>\n",
       "      <td>5.18</td>\n",
       "    </tr>\n",
       "    <tr>\n",
       "      <th>64</th>\n",
       "      <td>num_rev_accts</td>\n",
       "      <td>67528</td>\n",
       "      <td>5.18</td>\n",
       "    </tr>\n",
       "    <tr>\n",
       "      <th>65</th>\n",
       "      <td>num_tl_90g_dpd_24m</td>\n",
       "      <td>67527</td>\n",
       "      <td>5.18</td>\n",
       "    </tr>\n",
       "    <tr>\n",
       "      <th>66</th>\n",
       "      <td>num_rev_tl_bal_gt_0</td>\n",
       "      <td>67527</td>\n",
       "      <td>5.18</td>\n",
       "    </tr>\n",
       "    <tr>\n",
       "      <th>67</th>\n",
       "      <td>num_tl_30dpd</td>\n",
       "      <td>67527</td>\n",
       "      <td>5.18</td>\n",
       "    </tr>\n",
       "    <tr>\n",
       "      <th>68</th>\n",
       "      <td>num_bc_tl</td>\n",
       "      <td>67527</td>\n",
       "      <td>5.18</td>\n",
       "    </tr>\n",
       "    <tr>\n",
       "      <th>69</th>\n",
       "      <td>num_tl_op_past_12m</td>\n",
       "      <td>67527</td>\n",
       "      <td>5.18</td>\n",
       "    </tr>\n",
       "    <tr>\n",
       "      <th>70</th>\n",
       "      <td>tot_hi_cred_lim</td>\n",
       "      <td>67527</td>\n",
       "      <td>5.18</td>\n",
       "    </tr>\n",
       "    <tr>\n",
       "      <th>71</th>\n",
       "      <td>num_il_tl</td>\n",
       "      <td>67527</td>\n",
       "      <td>5.18</td>\n",
       "    </tr>\n",
       "    <tr>\n",
       "      <th>72</th>\n",
       "      <td>num_actv_rev_tl</td>\n",
       "      <td>67527</td>\n",
       "      <td>5.18</td>\n",
       "    </tr>\n",
       "    <tr>\n",
       "      <th>73</th>\n",
       "      <td>tot_cur_bal</td>\n",
       "      <td>67527</td>\n",
       "      <td>5.18</td>\n",
       "    </tr>\n",
       "    <tr>\n",
       "      <th>74</th>\n",
       "      <td>num_actv_bc_tl</td>\n",
       "      <td>67527</td>\n",
       "      <td>5.18</td>\n",
       "    </tr>\n",
       "    <tr>\n",
       "      <th>75</th>\n",
       "      <td>total_il_high_credit_limit</td>\n",
       "      <td>67527</td>\n",
       "      <td>5.18</td>\n",
       "    </tr>\n",
       "    <tr>\n",
       "      <th>76</th>\n",
       "      <td>tot_coll_amt</td>\n",
       "      <td>67527</td>\n",
       "      <td>5.18</td>\n",
       "    </tr>\n",
       "    <tr>\n",
       "      <th>77</th>\n",
       "      <td>avg_cur_bal</td>\n",
       "      <td>67548</td>\n",
       "      <td>5.18</td>\n",
       "    </tr>\n",
       "    <tr>\n",
       "      <th>78</th>\n",
       "      <td>mo_sin_rcnt_tl</td>\n",
       "      <td>67527</td>\n",
       "      <td>5.18</td>\n",
       "    </tr>\n",
       "    <tr>\n",
       "      <th>79</th>\n",
       "      <td>mo_sin_rcnt_rev_tl_op</td>\n",
       "      <td>67528</td>\n",
       "      <td>5.18</td>\n",
       "    </tr>\n",
       "    <tr>\n",
       "      <th>80</th>\n",
       "      <td>mo_sin_old_rev_tl_op</td>\n",
       "      <td>67528</td>\n",
       "      <td>5.18</td>\n",
       "    </tr>\n",
       "    <tr>\n",
       "      <th>81</th>\n",
       "      <td>total_rev_hi_lim</td>\n",
       "      <td>67527</td>\n",
       "      <td>5.18</td>\n",
       "    </tr>\n",
       "    <tr>\n",
       "      <th>82</th>\n",
       "      <td>bc_util</td>\n",
       "      <td>61386</td>\n",
       "      <td>4.71</td>\n",
       "    </tr>\n",
       "    <tr>\n",
       "      <th>83</th>\n",
       "      <td>percent_bc_gt_75</td>\n",
       "      <td>61047</td>\n",
       "      <td>4.68</td>\n",
       "    </tr>\n",
       "    <tr>\n",
       "      <th>84</th>\n",
       "      <td>bc_open_to_buy</td>\n",
       "      <td>60639</td>\n",
       "      <td>4.65</td>\n",
       "    </tr>\n",
       "    <tr>\n",
       "      <th>85</th>\n",
       "      <td>mths_since_recent_bc</td>\n",
       "      <td>59741</td>\n",
       "      <td>4.58</td>\n",
       "    </tr>\n",
       "    <tr>\n",
       "      <th>86</th>\n",
       "      <td>num_bc_sats</td>\n",
       "      <td>55841</td>\n",
       "      <td>4.28</td>\n",
       "    </tr>\n",
       "    <tr>\n",
       "      <th>87</th>\n",
       "      <td>num_sats</td>\n",
       "      <td>55841</td>\n",
       "      <td>4.28</td>\n",
       "    </tr>\n",
       "    <tr>\n",
       "      <th>88</th>\n",
       "      <td>acc_open_past_24mths</td>\n",
       "      <td>47281</td>\n",
       "      <td>3.63</td>\n",
       "    </tr>\n",
       "    <tr>\n",
       "      <th>89</th>\n",
       "      <td>total_bal_ex_mort</td>\n",
       "      <td>47281</td>\n",
       "      <td>3.63</td>\n",
       "    </tr>\n",
       "    <tr>\n",
       "      <th>90</th>\n",
       "      <td>total_bc_limit</td>\n",
       "      <td>47281</td>\n",
       "      <td>3.63</td>\n",
       "    </tr>\n",
       "    <tr>\n",
       "      <th>91</th>\n",
       "      <td>mort_acc</td>\n",
       "      <td>47281</td>\n",
       "      <td>3.63</td>\n",
       "    </tr>\n",
       "    <tr>\n",
       "      <th>92</th>\n",
       "      <td>title</td>\n",
       "      <td>15426</td>\n",
       "      <td>1.18</td>\n",
       "    </tr>\n",
       "    <tr>\n",
       "      <th>93</th>\n",
       "      <td>last_pymnt_d</td>\n",
       "      <td>2260</td>\n",
       "      <td>0.17</td>\n",
       "    </tr>\n",
       "    <tr>\n",
       "      <th>94</th>\n",
       "      <td>revol_util</td>\n",
       "      <td>810</td>\n",
       "      <td>0.06</td>\n",
       "    </tr>\n",
       "    <tr>\n",
       "      <th>95</th>\n",
       "      <td>pub_rec_bankruptcies</td>\n",
       "      <td>697</td>\n",
       "      <td>0.05</td>\n",
       "    </tr>\n",
       "    <tr>\n",
       "      <th>96</th>\n",
       "      <td>dti</td>\n",
       "      <td>312</td>\n",
       "      <td>0.02</td>\n",
       "    </tr>\n",
       "    <tr>\n",
       "      <th>97</th>\n",
       "      <td>total_rec_late_fee</td>\n",
       "      <td>0</td>\n",
       "      <td>0.00</td>\n",
       "    </tr>\n",
       "    <tr>\n",
       "      <th>98</th>\n",
       "      <td>total_rec_prncp</td>\n",
       "      <td>0</td>\n",
       "      <td>0.00</td>\n",
       "    </tr>\n",
       "    <tr>\n",
       "      <th>99</th>\n",
       "      <td>total_pymnt</td>\n",
       "      <td>0</td>\n",
       "      <td>0.00</td>\n",
       "    </tr>\n",
       "    <tr>\n",
       "      <th>100</th>\n",
       "      <td>sub_grade</td>\n",
       "      <td>0</td>\n",
       "      <td>0.00</td>\n",
       "    </tr>\n",
       "    <tr>\n",
       "      <th>101</th>\n",
       "      <td>tax_liens</td>\n",
       "      <td>39</td>\n",
       "      <td>0.00</td>\n",
       "    </tr>\n",
       "    <tr>\n",
       "      <th>102</th>\n",
       "      <td>term</td>\n",
       "      <td>0</td>\n",
       "      <td>0.00</td>\n",
       "    </tr>\n",
       "    <tr>\n",
       "      <th>103</th>\n",
       "      <td>verification_status</td>\n",
       "      <td>0</td>\n",
       "      <td>0.00</td>\n",
       "    </tr>\n",
       "    <tr>\n",
       "      <th>104</th>\n",
       "      <td>total_rec_int</td>\n",
       "      <td>0</td>\n",
       "      <td>0.00</td>\n",
       "    </tr>\n",
       "    <tr>\n",
       "      <th>105</th>\n",
       "      <td>total_pymnt_inv</td>\n",
       "      <td>0</td>\n",
       "      <td>0.00</td>\n",
       "    </tr>\n",
       "    <tr>\n",
       "      <th>106</th>\n",
       "      <td>total_acc</td>\n",
       "      <td>0</td>\n",
       "      <td>0.00</td>\n",
       "    </tr>\n",
       "    <tr>\n",
       "      <th>107</th>\n",
       "      <td>acc_now_delinq</td>\n",
       "      <td>0</td>\n",
       "      <td>0.00</td>\n",
       "    </tr>\n",
       "    <tr>\n",
       "      <th>108</th>\n",
       "      <td>revol_bal</td>\n",
       "      <td>0</td>\n",
       "      <td>0.00</td>\n",
       "    </tr>\n",
       "    <tr>\n",
       "      <th>109</th>\n",
       "      <td>delinq_2yrs</td>\n",
       "      <td>0</td>\n",
       "      <td>0.00</td>\n",
       "    </tr>\n",
       "    <tr>\n",
       "      <th>110</th>\n",
       "      <td>grade</td>\n",
       "      <td>0</td>\n",
       "      <td>0.00</td>\n",
       "    </tr>\n",
       "    <tr>\n",
       "      <th>111</th>\n",
       "      <td>funded_amnt_inv</td>\n",
       "      <td>0</td>\n",
       "      <td>0.00</td>\n",
       "    </tr>\n",
       "    <tr>\n",
       "      <th>112</th>\n",
       "      <td>funded_amnt</td>\n",
       "      <td>0</td>\n",
       "      <td>0.00</td>\n",
       "    </tr>\n",
       "    <tr>\n",
       "      <th>113</th>\n",
       "      <td>earliest_cr_line</td>\n",
       "      <td>0</td>\n",
       "      <td>0.00</td>\n",
       "    </tr>\n",
       "    <tr>\n",
       "      <th>114</th>\n",
       "      <td>disbursement_method</td>\n",
       "      <td>0</td>\n",
       "      <td>0.00</td>\n",
       "    </tr>\n",
       "    <tr>\n",
       "      <th>115</th>\n",
       "      <td>delinq_amnt</td>\n",
       "      <td>0</td>\n",
       "      <td>0.00</td>\n",
       "    </tr>\n",
       "    <tr>\n",
       "      <th>116</th>\n",
       "      <td>debt_settlement_flag</td>\n",
       "      <td>0</td>\n",
       "      <td>0.00</td>\n",
       "    </tr>\n",
       "    <tr>\n",
       "      <th>117</th>\n",
       "      <td>home_ownership</td>\n",
       "      <td>0</td>\n",
       "      <td>0.00</td>\n",
       "    </tr>\n",
       "    <tr>\n",
       "      <th>118</th>\n",
       "      <td>collections_12_mths_ex_med</td>\n",
       "      <td>56</td>\n",
       "      <td>0.00</td>\n",
       "    </tr>\n",
       "    <tr>\n",
       "      <th>119</th>\n",
       "      <td>collection_recovery_fee</td>\n",
       "      <td>0</td>\n",
       "      <td>0.00</td>\n",
       "    </tr>\n",
       "    <tr>\n",
       "      <th>120</th>\n",
       "      <td>chargeoff_within_12_mths</td>\n",
       "      <td>56</td>\n",
       "      <td>0.00</td>\n",
       "    </tr>\n",
       "    <tr>\n",
       "      <th>121</th>\n",
       "      <td>application_type</td>\n",
       "      <td>0</td>\n",
       "      <td>0.00</td>\n",
       "    </tr>\n",
       "    <tr>\n",
       "      <th>122</th>\n",
       "      <td>annual_inc</td>\n",
       "      <td>0</td>\n",
       "      <td>0.00</td>\n",
       "    </tr>\n",
       "    <tr>\n",
       "      <th>123</th>\n",
       "      <td>addr_state</td>\n",
       "      <td>0</td>\n",
       "      <td>0.00</td>\n",
       "    </tr>\n",
       "    <tr>\n",
       "      <th>124</th>\n",
       "      <td>hardship_flag</td>\n",
       "      <td>0</td>\n",
       "      <td>0.00</td>\n",
       "    </tr>\n",
       "    <tr>\n",
       "      <th>125</th>\n",
       "      <td>initial_list_status</td>\n",
       "      <td>0</td>\n",
       "      <td>0.00</td>\n",
       "    </tr>\n",
       "    <tr>\n",
       "      <th>126</th>\n",
       "      <td>recoveries</td>\n",
       "      <td>0</td>\n",
       "      <td>0.00</td>\n",
       "    </tr>\n",
       "    <tr>\n",
       "      <th>127</th>\n",
       "      <td>open_acc</td>\n",
       "      <td>0</td>\n",
       "      <td>0.00</td>\n",
       "    </tr>\n",
       "    <tr>\n",
       "      <th>128</th>\n",
       "      <td>pymnt_plan</td>\n",
       "      <td>0</td>\n",
       "      <td>0.00</td>\n",
       "    </tr>\n",
       "    <tr>\n",
       "      <th>129</th>\n",
       "      <td>purpose</td>\n",
       "      <td>0</td>\n",
       "      <td>0.00</td>\n",
       "    </tr>\n",
       "    <tr>\n",
       "      <th>130</th>\n",
       "      <td>pub_rec</td>\n",
       "      <td>0</td>\n",
       "      <td>0.00</td>\n",
       "    </tr>\n",
       "    <tr>\n",
       "      <th>131</th>\n",
       "      <td>policy_code</td>\n",
       "      <td>0</td>\n",
       "      <td>0.00</td>\n",
       "    </tr>\n",
       "    <tr>\n",
       "      <th>132</th>\n",
       "      <td>out_prncp_inv</td>\n",
       "      <td>0</td>\n",
       "      <td>0.00</td>\n",
       "    </tr>\n",
       "    <tr>\n",
       "      <th>133</th>\n",
       "      <td>out_prncp</td>\n",
       "      <td>0</td>\n",
       "      <td>0.00</td>\n",
       "    </tr>\n",
       "    <tr>\n",
       "      <th>134</th>\n",
       "      <td>loan_status</td>\n",
       "      <td>0</td>\n",
       "      <td>0.00</td>\n",
       "    </tr>\n",
       "    <tr>\n",
       "      <th>135</th>\n",
       "      <td>inq_last_6mths</td>\n",
       "      <td>1</td>\n",
       "      <td>0.00</td>\n",
       "    </tr>\n",
       "    <tr>\n",
       "      <th>136</th>\n",
       "      <td>loan_amnt</td>\n",
       "      <td>0</td>\n",
       "      <td>0.00</td>\n",
       "    </tr>\n",
       "    <tr>\n",
       "      <th>137</th>\n",
       "      <td>last_pymnt_amnt</td>\n",
       "      <td>0</td>\n",
       "      <td>0.00</td>\n",
       "    </tr>\n",
       "    <tr>\n",
       "      <th>138</th>\n",
       "      <td>last_credit_pull_d</td>\n",
       "      <td>54</td>\n",
       "      <td>0.00</td>\n",
       "    </tr>\n",
       "    <tr>\n",
       "      <th>139</th>\n",
       "      <td>issue_d</td>\n",
       "      <td>0</td>\n",
       "      <td>0.00</td>\n",
       "    </tr>\n",
       "    <tr>\n",
       "      <th>140</th>\n",
       "      <td>int_rate</td>\n",
       "      <td>0</td>\n",
       "      <td>0.00</td>\n",
       "    </tr>\n",
       "    <tr>\n",
       "      <th>141</th>\n",
       "      <td>installment</td>\n",
       "      <td>0</td>\n",
       "      <td>0.00</td>\n",
       "    </tr>\n",
       "    <tr>\n",
       "      <th>142</th>\n",
       "      <td>zip_code</td>\n",
       "      <td>1</td>\n",
       "      <td>0.00</td>\n",
       "    </tr>\n",
       "  </tbody>\n",
       "</table>\n",
       "</div>"
      ],
      "text/plain": [
       "                                          index  Total Missing Values  Percentage %\n",
       "0                                           url               1303607        100.00\n",
       "1                                  next_pymnt_d               1303607        100.00\n",
       "2    orig_projected_additional_accrued_interest               1300174         99.74\n",
       "3                                 deferral_term               1298272         99.59\n",
       "4                  hardship_last_payment_amount               1298272         99.59\n",
       "5                hardship_payoff_balance_amount               1298272         99.59\n",
       "6                             hardship_end_date               1298272         99.59\n",
       "7                                  hardship_dpd               1298272         99.59\n",
       "8                               hardship_amount               1298272         99.59\n",
       "9                               hardship_reason               1298272         99.59\n",
       "10                          hardship_start_date               1298272         99.59\n",
       "11                              hardship_status               1298272         99.59\n",
       "12                                hardship_type               1298272         99.59\n",
       "13                         hardship_loan_status               1298272         99.59\n",
       "14                              hardship_length               1298272         99.59\n",
       "15                      payment_plan_start_date               1298272         99.59\n",
       "16          sec_app_mths_since_last_major_derog               1297675         99.54\n",
       "17                           sec_app_revol_util               1287389         98.76\n",
       "18                        sec_app_num_rev_accts               1287096         98.73\n",
       "19             sec_app_chargeoff_within_12_mths               1287096         98.73\n",
       "20                              revol_bal_joint               1287097         98.73\n",
       "21                       sec_app_inq_last_6mths               1287096         98.73\n",
       "22                             sec_app_mort_acc               1287096         98.73\n",
       "23                             sec_app_open_acc               1287096         98.73\n",
       "24                     sec_app_earliest_cr_line               1287096         98.73\n",
       "25                          sec_app_open_act_il               1287096         98.73\n",
       "26           sec_app_collections_12_mths_ex_med               1287096         98.73\n",
       "27                    verification_status_joint               1280516         98.23\n",
       "28                                    dti_joint               1280372         98.22\n",
       "29                             annual_inc_joint               1280370         98.22\n",
       "30                            settlement_amount               1271618         97.55\n",
       "31                              settlement_term               1271618         97.55\n",
       "32                            settlement_status               1271618         97.55\n",
       "33                              settlement_date               1271618         97.55\n",
       "34                        settlement_percentage               1271618         97.55\n",
       "35                    debt_settlement_flag_date               1271618         97.55\n",
       "36                                         desc               1180280         90.54\n",
       "37                       mths_since_last_record               1081841         82.99\n",
       "38                     mths_since_recent_bc_dlq                994461         76.29\n",
       "39                  mths_since_last_major_derog                961240         73.74\n",
       "40                                      il_util                870939         66.81\n",
       "41               mths_since_recent_revol_delinq                867772         66.57\n",
       "42                           mths_since_rcnt_il                817059         62.68\n",
       "43                                  total_cu_tl                804063         61.68\n",
       "44                                  open_il_12m                804062         61.68\n",
       "45                                  open_act_il                804062         61.68\n",
       "46                                  open_acc_6m                804063         61.68\n",
       "47                                  open_rv_24m                804062         61.68\n",
       "48                                  open_rv_12m                804062         61.68\n",
       "49                                   max_bal_bc                804062         61.68\n",
       "50                                  open_il_24m                804062         61.68\n",
       "51                                 inq_last_12m                804063         61.68\n",
       "52                                 total_bal_il                804062         61.68\n",
       "53                                     all_util                804113         61.68\n",
       "54                                       inq_fi                804062         61.68\n",
       "55                       mths_since_last_delinq                657824         50.46\n",
       "56                        mths_since_recent_inq                169549         13.01\n",
       "57                             num_tl_120dpd_2m                115570          8.87\n",
       "58                           mo_sin_old_il_acct                104295          8.00\n",
       "59                                    emp_title                 82579          6.33\n",
       "60                                   emp_length                 75454          5.79\n",
       "61                               pct_tl_nvr_dlq                 67681          5.19\n",
       "62                        num_accts_ever_120_pd                 67527          5.18\n",
       "63                                num_op_rev_tl                 67527          5.18\n",
       "64                                num_rev_accts                 67528          5.18\n",
       "65                           num_tl_90g_dpd_24m                 67527          5.18\n",
       "66                          num_rev_tl_bal_gt_0                 67527          5.18\n",
       "67                                 num_tl_30dpd                 67527          5.18\n",
       "68                                    num_bc_tl                 67527          5.18\n",
       "69                           num_tl_op_past_12m                 67527          5.18\n",
       "70                              tot_hi_cred_lim                 67527          5.18\n",
       "71                                    num_il_tl                 67527          5.18\n",
       "72                              num_actv_rev_tl                 67527          5.18\n",
       "73                                  tot_cur_bal                 67527          5.18\n",
       "74                               num_actv_bc_tl                 67527          5.18\n",
       "75                   total_il_high_credit_limit                 67527          5.18\n",
       "76                                 tot_coll_amt                 67527          5.18\n",
       "77                                  avg_cur_bal                 67548          5.18\n",
       "78                               mo_sin_rcnt_tl                 67527          5.18\n",
       "79                        mo_sin_rcnt_rev_tl_op                 67528          5.18\n",
       "80                         mo_sin_old_rev_tl_op                 67528          5.18\n",
       "81                             total_rev_hi_lim                 67527          5.18\n",
       "82                                      bc_util                 61386          4.71\n",
       "83                             percent_bc_gt_75                 61047          4.68\n",
       "84                               bc_open_to_buy                 60639          4.65\n",
       "85                         mths_since_recent_bc                 59741          4.58\n",
       "86                                  num_bc_sats                 55841          4.28\n",
       "87                                     num_sats                 55841          4.28\n",
       "88                         acc_open_past_24mths                 47281          3.63\n",
       "89                            total_bal_ex_mort                 47281          3.63\n",
       "90                               total_bc_limit                 47281          3.63\n",
       "91                                     mort_acc                 47281          3.63\n",
       "92                                        title                 15426          1.18\n",
       "93                                 last_pymnt_d                  2260          0.17\n",
       "94                                   revol_util                   810          0.06\n",
       "95                         pub_rec_bankruptcies                   697          0.05\n",
       "96                                          dti                   312          0.02\n",
       "97                           total_rec_late_fee                     0          0.00\n",
       "98                              total_rec_prncp                     0          0.00\n",
       "99                                  total_pymnt                     0          0.00\n",
       "100                                   sub_grade                     0          0.00\n",
       "101                                   tax_liens                    39          0.00\n",
       "102                                        term                     0          0.00\n",
       "103                         verification_status                     0          0.00\n",
       "104                               total_rec_int                     0          0.00\n",
       "105                             total_pymnt_inv                     0          0.00\n",
       "106                                   total_acc                     0          0.00\n",
       "107                              acc_now_delinq                     0          0.00\n",
       "108                                   revol_bal                     0          0.00\n",
       "109                                 delinq_2yrs                     0          0.00\n",
       "110                                       grade                     0          0.00\n",
       "111                             funded_amnt_inv                     0          0.00\n",
       "112                                 funded_amnt                     0          0.00\n",
       "113                            earliest_cr_line                     0          0.00\n",
       "114                         disbursement_method                     0          0.00\n",
       "115                                 delinq_amnt                     0          0.00\n",
       "116                        debt_settlement_flag                     0          0.00\n",
       "117                              home_ownership                     0          0.00\n",
       "118                  collections_12_mths_ex_med                    56          0.00\n",
       "119                     collection_recovery_fee                     0          0.00\n",
       "120                    chargeoff_within_12_mths                    56          0.00\n",
       "121                            application_type                     0          0.00\n",
       "122                                  annual_inc                     0          0.00\n",
       "123                                  addr_state                     0          0.00\n",
       "124                               hardship_flag                     0          0.00\n",
       "125                         initial_list_status                     0          0.00\n",
       "126                                  recoveries                     0          0.00\n",
       "127                                    open_acc                     0          0.00\n",
       "128                                  pymnt_plan                     0          0.00\n",
       "129                                     purpose                     0          0.00\n",
       "130                                     pub_rec                     0          0.00\n",
       "131                                 policy_code                     0          0.00\n",
       "132                               out_prncp_inv                     0          0.00\n",
       "133                                   out_prncp                     0          0.00\n",
       "134                                 loan_status                     0          0.00\n",
       "135                              inq_last_6mths                     1          0.00\n",
       "136                                   loan_amnt                     0          0.00\n",
       "137                             last_pymnt_amnt                     0          0.00\n",
       "138                          last_credit_pull_d                    54          0.00\n",
       "139                                     issue_d                     0          0.00\n",
       "140                                    int_rate                     0          0.00\n",
       "141                                 installment                     0          0.00\n",
       "142                                    zip_code                     1          0.00"
      ]
     },
     "execution_count": 341,
     "metadata": {},
     "output_type": "execute_result"
    }
   ],
   "source": [
    "df_miss"
   ]
  },
  {
   "cell_type": "code",
   "execution_count": 342,
   "metadata": {},
   "outputs": [
    {
     "data": {
      "text/plain": [
       "index                   56\n",
       "Total Missing Values    56\n",
       "Percentage %            56\n",
       "dtype: int64"
      ]
     },
     "execution_count": 342,
     "metadata": {},
     "output_type": "execute_result"
    }
   ],
   "source": [
    "df_miss[df_miss['Percentage %']>50].count()"
   ]
  },
  {
   "cell_type": "code",
   "execution_count": 343,
   "metadata": {},
   "outputs": [
    {
     "data": {
      "text/plain": [
       "index                   143\n",
       "Total Missing Values    143\n",
       "Percentage %            143\n",
       "dtype: int64"
      ]
     },
     "execution_count": 343,
     "metadata": {},
     "output_type": "execute_result"
    }
   ],
   "source": [
    "df_miss.count()"
   ]
  },
  {
   "cell_type": "code",
   "execution_count": 344,
   "metadata": {},
   "outputs": [],
   "source": [
    "# drop all those features that has more than 50% missing values\n",
    "df_NewAppl = df_cleanAppl.drop(df_miss[df_miss[\"Percentage %\"]>50][\"index\"], axis = 1)"
   ]
  },
  {
   "cell_type": "code",
   "execution_count": 345,
   "metadata": {},
   "outputs": [
    {
     "data": {
      "text/plain": [
       "(1303607, 87)"
      ]
     },
     "execution_count": 345,
     "metadata": {},
     "output_type": "execute_result"
    }
   ],
   "source": [
    "df_NewAppl.shape"
   ]
  },
  {
   "cell_type": "code",
   "execution_count": 346,
   "metadata": {},
   "outputs": [
    {
     "data": {
      "text/plain": [
       "0                                            url\n",
       "1                                   next_pymnt_d\n",
       "2     orig_projected_additional_accrued_interest\n",
       "3                                  deferral_term\n",
       "4                   hardship_last_payment_amount\n",
       "5                 hardship_payoff_balance_amount\n",
       "6                              hardship_end_date\n",
       "7                                   hardship_dpd\n",
       "8                                hardship_amount\n",
       "9                                hardship_reason\n",
       "10                           hardship_start_date\n",
       "11                               hardship_status\n",
       "12                                 hardship_type\n",
       "13                          hardship_loan_status\n",
       "14                               hardship_length\n",
       "15                       payment_plan_start_date\n",
       "16           sec_app_mths_since_last_major_derog\n",
       "17                            sec_app_revol_util\n",
       "18                         sec_app_num_rev_accts\n",
       "19              sec_app_chargeoff_within_12_mths\n",
       "20                               revol_bal_joint\n",
       "21                        sec_app_inq_last_6mths\n",
       "22                              sec_app_mort_acc\n",
       "23                              sec_app_open_acc\n",
       "24                      sec_app_earliest_cr_line\n",
       "25                           sec_app_open_act_il\n",
       "26            sec_app_collections_12_mths_ex_med\n",
       "27                     verification_status_joint\n",
       "28                                     dti_joint\n",
       "29                              annual_inc_joint\n",
       "30                             settlement_amount\n",
       "31                               settlement_term\n",
       "32                             settlement_status\n",
       "33                               settlement_date\n",
       "34                         settlement_percentage\n",
       "35                     debt_settlement_flag_date\n",
       "36                                          desc\n",
       "37                        mths_since_last_record\n",
       "38                      mths_since_recent_bc_dlq\n",
       "39                   mths_since_last_major_derog\n",
       "40                                       il_util\n",
       "41                mths_since_recent_revol_delinq\n",
       "42                            mths_since_rcnt_il\n",
       "43                                   total_cu_tl\n",
       "44                                   open_il_12m\n",
       "45                                   open_act_il\n",
       "46                                   open_acc_6m\n",
       "47                                   open_rv_24m\n",
       "48                                   open_rv_12m\n",
       "49                                    max_bal_bc\n",
       "50                                   open_il_24m\n",
       "51                                  inq_last_12m\n",
       "52                                  total_bal_il\n",
       "53                                      all_util\n",
       "54                                        inq_fi\n",
       "55                        mths_since_last_delinq\n",
       "Name: index, dtype: object"
      ]
     },
     "execution_count": 346,
     "metadata": {},
     "output_type": "execute_result"
    }
   ],
   "source": [
    "df_miss[df_miss[\"Percentage %\"]>50][\"index\"] # features that were dropped"
   ]
  },
  {
   "cell_type": "code",
   "execution_count": 347,
   "metadata": {},
   "outputs": [
    {
     "name": "stdout",
     "output_type": "stream",
     "text": [
      "['funded_amnt', 'funded_amnt_inv', 'issue_d', 'pymnt_plan', 'delinq_2yrs', 'inq_last_6mths', 'out_prncp', 'out_prncp_inv', 'total_pymnt', 'total_pymnt_inv', 'total_rec_prncp', 'total_rec_int', 'total_rec_late_fee', 'recoveries', 'collection_recovery_fee', 'last_pymnt_d', 'last_pymnt_amnt', 'last_credit_pull_d', 'collections_12_mths_ex_med', 'policy_code', 'acc_now_delinq', 'tot_coll_amt', 'tot_cur_bal', 'total_rev_hi_lim', 'acc_open_past_24mths', 'avg_cur_bal', 'bc_open_to_buy', 'bc_util', 'chargeoff_within_12_mths', 'delinq_amnt', 'mo_sin_old_il_acct', 'mo_sin_old_rev_tl_op', 'mo_sin_rcnt_rev_tl_op', 'mo_sin_rcnt_tl', 'mths_since_recent_bc', 'mths_since_recent_inq', 'num_accts_ever_120_pd', 'num_actv_bc_tl', 'num_actv_rev_tl', 'num_bc_sats', 'num_bc_tl', 'num_il_tl', 'num_op_rev_tl', 'num_rev_accts', 'num_rev_tl_bal_gt_0', 'num_sats', 'num_tl_120dpd_2m', 'num_tl_30dpd', 'num_tl_90g_dpd_24m', 'num_tl_op_past_12m', 'pct_tl_nvr_dlq', 'percent_bc_gt_75', 'tax_liens', 'tot_hi_cred_lim', 'total_bal_ex_mort', 'total_bc_limit', 'total_il_high_credit_limit', 'hardship_flag', 'disbursement_method', 'debt_settlement_flag']\n"
     ]
    }
   ],
   "source": [
    "keep_list = ['addr_state','annual_inc', 'application_type', 'dti', 'earliest_cr_line', 'emp_length', 'emp_title', 'fico_range_high', 'fico_range_low', 'grade', 'home_ownership', 'id', 'initial_list_status', 'installment', 'int_rate', 'loan_amnt', 'loan_status', 'mort_acc', 'open_acc', 'pub_rec', 'pub_rec_bankruptcies', 'purpose', 'revol_bal', 'revol_util', 'sub_grade', 'term', 'title', 'total_acc', 'verification_status', 'zip_code', 'annual_inc_norm', 'target']\n",
    "drop_list = [col for col in df_NewAppl.columns if col not in keep_list]\n",
    "print(drop_list) "
   ]
  },
  {
   "cell_type": "code",
   "execution_count": 348,
   "metadata": {},
   "outputs": [],
   "source": [
    "df_NewAppl.drop(labels=drop_list, axis=1, inplace=True)"
   ]
  },
  {
   "cell_type": "code",
   "execution_count": 349,
   "metadata": {},
   "outputs": [
    {
     "data": {
      "text/plain": [
       "(1303607, 27)"
      ]
     },
     "execution_count": 349,
     "metadata": {},
     "output_type": "execute_result"
    }
   ],
   "source": [
    "df_NewAppl.shape"
   ]
  },
  {
   "cell_type": "code",
   "execution_count": 350,
   "metadata": {},
   "outputs": [
    {
     "data": {
      "text/plain": [
       "['addr_state',\n",
       " 'annual_inc',\n",
       " 'application_type',\n",
       " 'dti',\n",
       " 'earliest_cr_line',\n",
       " 'emp_length',\n",
       " 'emp_title',\n",
       " 'grade',\n",
       " 'home_ownership',\n",
       " 'initial_list_status',\n",
       " 'installment',\n",
       " 'int_rate',\n",
       " 'loan_amnt',\n",
       " 'loan_status',\n",
       " 'mort_acc',\n",
       " 'open_acc',\n",
       " 'pub_rec',\n",
       " 'pub_rec_bankruptcies',\n",
       " 'purpose',\n",
       " 'revol_bal',\n",
       " 'revol_util',\n",
       " 'sub_grade',\n",
       " 'term',\n",
       " 'title',\n",
       " 'total_acc',\n",
       " 'verification_status',\n",
       " 'zip_code']"
      ]
     },
     "execution_count": 350,
     "metadata": {},
     "output_type": "execute_result"
    }
   ],
   "source": [
    "sorted(df_NewAppl.columns)"
   ]
  },
  {
   "cell_type": "code",
   "execution_count": 351,
   "metadata": {},
   "outputs": [],
   "source": [
    "#Zip code is in the format-891xx    900xx    etc. We have clean that.\n",
    "df_NewAppl.zip_code = df_NewAppl.zip_code.str.replace(\"xx\",\"\") "
   ]
  },
  {
   "cell_type": "code",
   "execution_count": 352,
   "metadata": {},
   "outputs": [],
   "source": [
    "#Next is formatting the dates- for e.g. Oct-2013 to 2015-10-01  format\n",
    "\n",
    "df_NewAppl['earliest_cr_line'] = pd.to_datetime(df_NewAppl['earliest_cr_line'],infer_datetime_format=True)"
   ]
  },
  {
   "cell_type": "markdown",
   "metadata": {},
   "source": [
    "Next is cleaning up the employment length feature as follows-\n",
    "The values are -\n",
    "10+ years\n",
    " < 1 year\n",
    " 2 years\n",
    " 3 years etc\n",
    "We will make it as 0/1/2/3/...10 etc"
   ]
  },
  {
   "cell_type": "code",
   "execution_count": 353,
   "metadata": {},
   "outputs": [],
   "source": [
    "#Next is cleaning up the employment length feature as follows- The values are - 10+ years < 1 year 2 years 3 years etc We will make it as 0/1/2/3/...10 etc\n",
    "\n",
    "df_NewAppl['emp_length'].replace(to_replace='10+ years', value='10 years', inplace=True)\n",
    "df_NewAppl['emp_length'].replace('< 1 year', '0 years', inplace=True)\n",
    "\n",
    "def emp_length_to_int(str_val):\n",
    "    if pd.isnull(str_val):\n",
    "        return str_val\n",
    "    else:\n",
    "        return np.int8(str_val.split()[0])\n",
    "df_NewAppl['emp_length'] = df_NewAppl['emp_length'].apply(emp_length_to_int)"
   ]
  },
  {
   "cell_type": "code",
   "execution_count": 354,
   "metadata": {},
   "outputs": [
    {
     "name": "stdout",
     "output_type": "stream",
     "text": [
      "loan_amnt               12000.00\n",
      "int_rate                    6.24\n",
      "installment               331.63\n",
      "emp_length                  8.00\n",
      "annual_inc              44160.00\n",
      "dti                        12.25\n",
      "open_acc                    6.00\n",
      "pub_rec                     0.00\n",
      "revol_bal               13796.00\n",
      "revol_util                 37.20\n",
      "total_acc                  16.00\n",
      "mort_acc                    3.00\n",
      "pub_rec_bankruptcies        0.00\n",
      "dtype: float64\n"
     ]
    }
   ],
   "source": [
    "#Outliers\n",
    "#--------\n",
    "#Next we will figure out the outliers with The interquartile range (IQR), also called the midspread or middle 50%\n",
    "#It is a measure of the dispersion similar to standard deviation or variance, but is much more robust against outliers.\n",
    "#IQR is somewhat similar to Z-score in terms of finding the distribution of data and then keeping some threshold to identify the outlier.\n",
    "\n",
    "Q1 = df_NewAppl.quantile(0.25)\n",
    "Q3 = df_NewAppl.quantile(0.75)\n",
    "IQR = Q3 - Q1\n",
    "print(IQR)"
   ]
  },
  {
   "cell_type": "code",
   "execution_count": 355,
   "metadata": {},
   "outputs": [],
   "source": [
    "Num_list = ['loan_amnt', 'int_rate', 'installment', 'emp_length','annual_inc', 'dti','open_acc','pub_rec','revol_bal', 'revol_util', 'total_acc','mort_acc','pub_rec_bankruptcies', ]\n",
    "df_NewApplNum = df_NewAppl[Num_list]\n"
   ]
  },
  {
   "cell_type": "code",
   "execution_count": 356,
   "metadata": {},
   "outputs": [],
   "source": [
    "#After computing the value of IQR, using threshhold of 1.5 * IQR away from Q1 and Q3 on both sides \n",
    "df_NewApplReduced = df_NewAppl[~((df_NewApplNum < (Q1 - 1.5 * IQR)) |(df_NewApplNum > (Q3 + 1.5 * IQR))).any(axis=1)]\n"
   ]
  },
  {
   "cell_type": "code",
   "execution_count": 357,
   "metadata": {},
   "outputs": [
    {
     "name": "stdout",
     "output_type": "stream",
     "text": [
      "(1303607, 27)\n",
      "(888553, 27)\n"
     ]
    }
   ],
   "source": [
    "print(df_NewAppl.shape)\n",
    "print(df_NewApplReduced.shape)\n"
   ]
  },
  {
   "cell_type": "code",
   "execution_count": 358,
   "metadata": {},
   "outputs": [],
   "source": [
    "# After removing the outliers\n",
    "df_NewAppl = df_NewApplReduced"
   ]
  },
  {
   "cell_type": "code",
   "execution_count": 359,
   "metadata": {},
   "outputs": [],
   "source": [
    "#Next we will move on to EDA with individual features"
   ]
  },
  {
   "cell_type": "markdown",
   "metadata": {},
   "source": [
    "Next, We will inspect each feature individually.\n",
    "We will perform the univariate and bivariate analysis using the folloiwng steps-\n",
    "    Summary statistics\n",
    "    Plot individually\n",
    "    Plot against our target variable- loan_status\n",
    "    Modify the feature to make it ready for modelling, if necessary\n",
    "\n",
    "\tFor individual summary statistics we will use \n",
    "        .describe()\n",
    "        .sample(5)\n",
    "        .nunique()\n",
    "     \n",
    "    Finally we will plot the feature against our target feature loan_status to see if and how both are related\n"
   ]
  },
  {
   "cell_type": "code",
   "execution_count": 360,
   "metadata": {},
   "outputs": [],
   "source": [
    "def plot_var(col_name, full_name, continuous):\n",
    "    \"\"\"\n",
    "    plot a variable with and without loan status.\n",
    "    - col_name is the variable name in the dataframe\n",
    "    - full_name is the full variable name- for display purposes\n",
    "    - continuous is True if the variable is continuous, False otherwise\n",
    "    \"\"\"\n",
    "    f, (ax1, ax2) = plt.subplots(nrows=1, ncols=2, figsize=(12,3), dpi=90)\n",
    "    \n",
    "    # Plot without loan status\n",
    "    if continuous:\n",
    "        sns.distplot(df_NewAppl.loc[df_NewAppl[col_name].notnull(), col_name], kde=False, ax=ax1)\n",
    "    else:\n",
    "        sns.countplot(df_NewAppl[col_name], order=sorted(df_NewAppl[col_name].unique()), color='#5975A4', saturation=1, ax=ax1)\n",
    "    ax1.set_xlabel(full_name)\n",
    "    ax1.set_ylabel('Count')\n",
    "    ax1.set_title('Distribution of ' + full_name)\n",
    "\n",
    "    # Plot with loan status\n",
    "    if continuous:\n",
    "        sns.boxplot(x=col_name, y='loan_status', data=df_NewAppl, ax=ax2)\n",
    "        ax2.set_ylabel('')\n",
    "        ax2.set_title(full_name + ' by Loan Status')\n",
    "    else:\n",
    "        charge_off_rates = df_NewAppl.groupby(col_name)['loan_status'].value_counts(normalize=True).loc[:,'Charged Off']\n",
    "        sns.barplot(x=charge_off_rates.index, y=charge_off_rates.values, color='#5975A4', saturation=1, ax=ax2)\n",
    "        ax2.set_ylabel('Fraction of Loans Charged-off')\n",
    "        ax2.set_title('Charge-off Rate by ' + full_name)\n",
    "    ax2.set_xlabel(full_name)\n",
    "    \n",
    "    plt.tight_layout()\n",
    "\n",
    "    \n",
    "def print_stats(col_name, group_by=False):\n",
    "    \"\"\"\n",
    "    print the general statistics of the passed column\n",
    "    \"\"\"\n",
    "    print('-'*60, '\\n Individual Summary Statistics for', col_name, '\\n', '-'*60)\n",
    "    print('Describe \\n',df_NewAppl[col_name].describe(), '\\n', '-'*20)\n",
    "    print('Sample Observations \\n',df_NewAppl[col_name].sample(5), '\\n', '-'*20)\n",
    "    print('Number of Uniques \\n',df_NewAppl[col_name].nunique(), '\\n', '-'*20)\n",
    "    num_uniques = df_NewAppl[col_name].nunique()\n",
    "    if num_uniques <10: \n",
    "        print('Unique value counts \\n', df_NewAppl[col_name].value_counts(), '\\n', '-'*20)\n",
    "        \n",
    "    if group_by:\n",
    "        print('Group_by \\n', df_NewAppl.groupby('loan_status')[col_name].describe(), '\\n','-'*20)"
   ]
  },
  {
   "cell_type": "markdown",
   "metadata": {},
   "source": [
    "1.addr_state\n",
    "2.zip_code"
   ]
  },
  {
   "cell_type": "code",
   "execution_count": 361,
   "metadata": {
    "scrolled": true
   },
   "outputs": [
    {
     "name": "stdout",
     "output_type": "stream",
     "text": [
      "------------------------------------------------------------ \n",
      " Individual Summary Statistics for addr_state \n",
      " ------------------------------------------------------------\n",
      "Describe \n",
      " count     888553\n",
      "unique        51\n",
      "top           CA\n",
      "freq      129241\n",
      "Name: addr_state, dtype: object \n",
      " --------------------\n",
      "Sample Observations \n",
      " 639751     NY\n",
      "1966206    IL\n",
      "647130     IN\n",
      "572621     TN\n",
      "613674     OH\n",
      "Name: addr_state, dtype: object \n",
      " --------------------\n",
      "Number of Uniques \n",
      " 51 \n",
      " --------------------\n"
     ]
    }
   ],
   "source": [
    "print_stats('addr_state')"
   ]
  },
  {
   "cell_type": "code",
   "execution_count": 362,
   "metadata": {},
   "outputs": [
    {
     "name": "stdout",
     "output_type": "stream",
     "text": [
      "------------------------------------------------------------ \n",
      " Individual Summary Statistics for zip_code \n",
      " ------------------------------------------------------------\n",
      "Describe \n",
      " count     888553\n",
      "unique       931\n",
      "top          112\n",
      "freq        9981\n",
      "Name: zip_code, dtype: object \n",
      " --------------------\n",
      "Sample Observations \n",
      " 642315     551\n",
      "825444     328\n",
      "1354519    212\n",
      "1706652    175\n",
      "1777595    926\n",
      "Name: zip_code, dtype: object \n",
      " --------------------\n",
      "Number of Uniques \n",
      " 931 \n",
      " --------------------\n"
     ]
    }
   ],
   "source": [
    "print_stats('zip_code')\n"
   ]
  },
  {
   "cell_type": "markdown",
   "metadata": {},
   "source": [
    "This shows there are 51 unique states and 943 values for zip_code. \n",
    "These are too many values i.e. lot of different zip codes. So we will drop the zip_code column. \n",
    "Instead we will keep the state"
   ]
  },
  {
   "cell_type": "code",
   "execution_count": 363,
   "metadata": {},
   "outputs": [],
   "source": [
    "df_NewAppl.drop(labels='zip_code', axis=1, inplace=True)"
   ]
  },
  {
   "cell_type": "code",
   "execution_count": 364,
   "metadata": {},
   "outputs": [
    {
     "data": {
      "image/png": "[encoded data removed]",
      "text/plain": [
       "<Figure size 1080x270 with 2 Axes>"
      ]
     },
     "metadata": {
      "needs_background": "light"
     },
     "output_type": "display_data"
    }
   ],
   "source": [
    "plot_var('addr_state', 'Address State', continuous=False)"
   ]
  },
  {
   "cell_type": "code",
   "execution_count": 365,
   "metadata": {},
   "outputs": [],
   "source": [
    "#there are 51 unique values for state and the bar chart for charge-offs by state does not show any prominent trend. All the state have more or less similar charge-off rates, so we will drop this feature\n",
    "df_NewAppl.drop(labels='addr_state', axis=1, inplace=True)\n"
   ]
  },
  {
   "cell_type": "markdown",
   "metadata": {},
   "source": [
    "3. annual_inc\n",
    "\n",
    "The summary stats show annual income values range from 0 to 10,999,200 with a median of 65,000. Since the values vary so much we will transform the data using minmax scaler. We will create a new feature called 'annual_inc_norm' and store these values there and then drop the feature annual_inc. This will scale the annual income data between 0 and 1.\n",
    "\n",
    "From the plot it appears that individuals who paid off the loans have slightly higher annual income.\n"
   ]
  },
  {
   "cell_type": "code",
   "execution_count": 366,
   "metadata": {},
   "outputs": [
    {
     "data": {
      "text/plain": [
       "count    888553.000000\n",
       "mean      65335.405348\n",
       "std       28820.618072\n",
       "min           0.000000\n",
       "25%       44000.000000\n",
       "50%       60000.000000\n",
       "75%       82000.000000\n",
       "max      156186.000000\n",
       "Name: annual_inc, dtype: float64"
      ]
     },
     "execution_count": 366,
     "metadata": {},
     "output_type": "execute_result"
    }
   ],
   "source": [
    "df_NewAppl['annual_inc'].describe()"
   ]
  },
  {
   "cell_type": "code",
   "execution_count": 367,
   "metadata": {},
   "outputs": [],
   "source": [
    "from sklearn.preprocessing import minmax_scale\n",
    "# mix-max scale the annual income data between 0 and 1\n",
    "df_NewAppl['annual_inc_norm'] = minmax_scale(df_NewAppl['annual_inc'])"
   ]
  },
  {
   "cell_type": "code",
   "execution_count": 368,
   "metadata": {},
   "outputs": [
    {
     "name": "stdout",
     "output_type": "stream",
     "text": [
      "------------------------------------------------------------ \n",
      " Individual Summary Statistics for annual_inc_norm \n",
      " ------------------------------------------------------------\n",
      "Describe \n",
      " count    888553.000000\n",
      "mean          0.418318\n",
      "std           0.184528\n",
      "min           0.000000\n",
      "25%           0.281715\n",
      "50%           0.384157\n",
      "75%           0.525015\n",
      "max           1.000000\n",
      "Name: annual_inc_norm, dtype: float64 \n",
      " --------------------\n",
      "Sample Observations \n",
      " 984555     0.358547\n",
      "1050097    0.537820\n",
      "940890     0.211287\n",
      "1229962    0.307326\n",
      "777895     0.457964\n",
      "Name: annual_inc_norm, dtype: float64 \n",
      " --------------------\n",
      "Number of Uniques \n",
      " 46363 \n",
      " --------------------\n",
      "Group_by \n",
      "                 count      mean       std  min       25%       50%       75%       max\n",
      "loan_status                                                                           \n",
      "Charged Off  170996.0  0.393275  0.176147  0.0  0.262508  0.358547  0.484592  1.000000\n",
      "Fully Paid   717557.0  0.424286  0.185972  0.0  0.288118  0.384157  0.537820  0.999641 \n",
      " --------------------\n"
     ]
    }
   ],
   "source": [
    "print_stats('annual_inc_norm', True)"
   ]
  },
  {
   "cell_type": "code",
   "execution_count": 369,
   "metadata": {},
   "outputs": [
    {
     "name": "stdout",
     "output_type": "stream",
     "text": [
      "------------------------------------------------------------ \n",
      " Individual Summary Statistics for annual_inc \n",
      " ------------------------------------------------------------\n",
      "Describe \n",
      " count    888553.000000\n",
      "mean      65335.405348\n",
      "std       28820.618072\n",
      "min           0.000000\n",
      "25%       44000.000000\n",
      "50%       60000.000000\n",
      "75%       82000.000000\n",
      "max      156186.000000\n",
      "Name: annual_inc, dtype: float64 \n",
      " --------------------\n",
      "Sample Observations \n",
      " 595111     36000.0\n",
      "767006     55000.0\n",
      "718988     43500.0\n",
      "2086678    55762.0\n",
      "651086     63000.0\n",
      "Name: annual_inc, dtype: float64 \n",
      " --------------------\n",
      "Number of Uniques \n",
      " 46363 \n",
      " --------------------\n",
      "Group_by \n",
      "                 count          mean           std  min      25%      50%      75%       max\n",
      "loan_status                                                                                \n",
      "Charged Off  170996.0  61424.073248  27511.753867  0.0  41000.0  56000.0  75686.5  156186.0\n",
      "Fully Paid   717557.0  66267.487599  29046.257243  0.0  45000.0  60000.0  84000.0  156130.0 \n",
      " --------------------\n"
     ]
    }
   ],
   "source": [
    "print_stats('annual_inc', True)"
   ]
  },
  {
   "cell_type": "code",
   "execution_count": 370,
   "metadata": {},
   "outputs": [
    {
     "data": {
      "image/png": "[encoded data removed]",
      "text/plain": [
       "<Figure size 1080x270 with 2 Axes>"
      ]
     },
     "metadata": {
      "needs_background": "light"
     },
     "output_type": "display_data"
    },
    {
     "data": {
      "image/png": "[encoded data removed]",
      "text/plain": [
       "<Figure size 1080x270 with 2 Axes>"
      ]
     },
     "metadata": {
      "needs_background": "light"
     },
     "output_type": "display_data"
    }
   ],
   "source": [
    "#lets compare and chaeck if both ditributions are same after normalization\n",
    "plot_var('annual_inc', 'Annual Income', continuous=True)\n",
    "plot_var('annual_inc_norm', 'Annual Income normalized', continuous=True)\n",
    "\n",
    "#yes! they are same. So hence forth we will use annual_inc_norm"
   ]
  },
  {
   "cell_type": "markdown",
   "metadata": {},
   "source": [
    "4. loan_amnt\n",
    "\n",
    "\n"
   ]
  },
  {
   "cell_type": "code",
   "execution_count": 371,
   "metadata": {},
   "outputs": [
    {
     "name": "stdout",
     "output_type": "stream",
     "text": [
      "------------------------------------------------------------ \n",
      " Individual Summary Statistics for loan_amnt \n",
      " ------------------------------------------------------------\n",
      "Describe \n",
      " count    888553.000000\n",
      "mean      13211.045824\n",
      "std        7589.800367\n",
      "min         500.000000\n",
      "25%        7200.000000\n",
      "50%       12000.000000\n",
      "75%       18000.000000\n",
      "max       38000.000000\n",
      "Name: loan_amnt, dtype: float64 \n",
      " --------------------\n",
      "Sample Observations \n",
      " 653833      5400\n",
      "1575943    12375\n",
      "773660     15000\n",
      "1286532     8950\n",
      "1907941    12000\n",
      "Name: loan_amnt, dtype: int64 \n",
      " --------------------\n",
      "Number of Uniques \n",
      " 1431 \n",
      " --------------------\n",
      "Group_by \n",
      "                 count          mean          std    min     25%      50%      75%      max\n",
      "loan_status                                                                               \n",
      "Charged Off  170996.0  14281.453806  7807.601512  900.0  8000.0  12950.0  20000.0  38000.0\n",
      "Fully Paid   717557.0  12955.964369  7514.511223  500.0  7000.0  11900.0  18000.0  38000.0 \n",
      " --------------------\n"
     ]
    },
    {
     "data": {
      "image/png": "[encoded data removed]",
      "text/plain": [
       "<Figure size 1080x270 with 2 Axes>"
      ]
     },
     "metadata": {
      "needs_background": "light"
     },
     "output_type": "display_data"
    }
   ],
   "source": [
    "print_stats('loan_amnt', True)\n",
    "plot_var('loan_amnt', 'Loan Amount', continuous=True)"
   ]
  },
  {
   "cell_type": "code",
   "execution_count": 372,
   "metadata": {},
   "outputs": [],
   "source": [
    "#After plotting we see charged off loans have higher loan amount"
   ]
  },
  {
   "cell_type": "markdown",
   "metadata": {},
   "source": [
    "5. term"
   ]
  },
  {
   "cell_type": "code",
   "execution_count": 373,
   "metadata": {},
   "outputs": [
    {
     "name": "stdout",
     "output_type": "stream",
     "text": [
      "------------------------------------------------------------ \n",
      " Individual Summary Statistics for term \n",
      " ------------------------------------------------------------\n",
      "Describe \n",
      " count         888553\n",
      "unique             2\n",
      "top        36 months\n",
      "freq          683990\n",
      "Name: term, dtype: object \n",
      " --------------------\n",
      "Sample Observations \n",
      " 1889303     36 months\n",
      "1192229     36 months\n",
      "1052637     36 months\n",
      "762237      60 months\n",
      "1229385     36 months\n",
      "Name: term, dtype: object \n",
      " --------------------\n",
      "Number of Uniques \n",
      " 2 \n",
      " --------------------\n",
      "Unique value counts \n",
      "  36 months    683990\n",
      " 60 months    204563\n",
      "Name: term, dtype: int64 \n",
      " --------------------\n"
     ]
    }
   ],
   "source": [
    "print_stats('term')\n",
    "\n"
   ]
  },
  {
   "cell_type": "code",
   "execution_count": 374,
   "metadata": {},
   "outputs": [],
   "source": [
    "#Term has values ‘36 months’ or ‘60 months’. We will convert it into integer as follows\n",
    "df_NewAppl['term'] = df_NewAppl['term'].apply(lambda s: np.int8(s.split()[0]))"
   ]
  },
  {
   "cell_type": "code",
   "execution_count": 375,
   "metadata": {},
   "outputs": [
    {
     "data": {
      "text/plain": [
       "36    0.76978\n",
       "60    0.23022\n",
       "Name: term, dtype: float64"
      ]
     },
     "execution_count": 375,
     "metadata": {},
     "output_type": "execute_result"
    }
   ],
   "source": [
    "df_NewAppl['term'].value_counts(normalize=True) #SHows about 76% of loans have 3 year period and rest are 5 year loans"
   ]
  },
  {
   "cell_type": "code",
   "execution_count": 376,
   "metadata": {},
   "outputs": [
    {
     "data": {
      "text/plain": [
       "term\n",
       "36    0.155806\n",
       "60    0.314945\n",
       "Name: loan_status, dtype: float64"
      ]
     },
     "execution_count": 376,
     "metadata": {},
     "output_type": "execute_result"
    }
   ],
   "source": [
    "df_NewAppl.groupby('term')['loan_status'].value_counts(normalize=True).loc[:,'Charged Off']\n",
    "#If we focus only on charged off loans, 5 year loans are almost TWICE as likely to go BAD as 3 year loans!!!"
   ]
  },
  {
   "cell_type": "code",
   "execution_count": 377,
   "metadata": {},
   "outputs": [
    {
     "data": {
      "image/png": "[encoded data removed]",
      "text/plain": [
       "<Figure size 1080x270 with 2 Axes>"
      ]
     },
     "metadata": {
      "needs_background": "light"
     },
     "output_type": "display_data"
    }
   ],
   "source": [
    "plot_var('term', 'Term', continuous=False)"
   ]
  },
  {
   "cell_type": "markdown",
   "metadata": {},
   "source": [
    "6. Int_rate"
   ]
  },
  {
   "cell_type": "code",
   "execution_count": 378,
   "metadata": {},
   "outputs": [
    {
     "name": "stdout",
     "output_type": "stream",
     "text": [
      "------------------------------------------------------------ \n",
      " Individual Summary Statistics for int_rate \n",
      " ------------------------------------------------------------\n",
      "Describe \n",
      " count    888553.000000\n",
      "mean         12.900300\n",
      "std           4.378491\n",
      "min           5.310000\n",
      "25%           9.490000\n",
      "50%          12.690000\n",
      "75%          15.610000\n",
      "max          25.340000\n",
      "Name: int_rate, dtype: float64 \n",
      " --------------------\n",
      "Sample Observations \n",
      " 991539     13.18\n",
      "1314191    17.14\n",
      "1153746    14.65\n",
      "749356     18.99\n",
      "626866     18.99\n",
      "Name: int_rate, dtype: float64 \n",
      " --------------------\n",
      "Number of Uniques \n",
      " 594 \n",
      " --------------------\n",
      "Group_by \n",
      "                 count       mean       std   min    25%    50%    75%    max\n",
      "loan_status                                                                 \n",
      "Charged Off  170996.0  15.139194  4.254223  5.31  12.12  14.65  18.06  25.34\n",
      "Fully Paid   717557.0  12.366764  4.236468  5.31   9.16  11.99  14.99  25.34 \n",
      " --------------------\n"
     ]
    }
   ],
   "source": [
    "print_stats('int_rate', True)\n"
   ]
  },
  {
   "cell_type": "markdown",
   "metadata": {},
   "source": [
    "Shows int_rate ranges from 5 to 25%!"
   ]
  },
  {
   "cell_type": "code",
   "execution_count": 379,
   "metadata": {},
   "outputs": [
    {
     "data": {
      "image/png": "[encoded data removed]",
      "text/plain": [
       "<Figure size 1080x270 with 2 Axes>"
      ]
     },
     "metadata": {
      "needs_background": "light"
     },
     "output_type": "display_data"
    }
   ],
   "source": [
    "plot_var('int_rate', 'Interest Rate', continuous=True)"
   ]
  },
  {
   "cell_type": "markdown",
   "metadata": {},
   "source": [
    "Shows charged off loans have much HIGHER interest rate!!\n",
    "\n",
    "Next let's compare the summary statistics by loan status:"
   ]
  },
  {
   "cell_type": "code",
   "execution_count": 380,
   "metadata": {},
   "outputs": [
    {
     "data": {
      "text/html": [
       "<div>\n",
       "<style scoped>\n",
       "    .dataframe tbody tr th:only-of-type {\n",
       "        vertical-align: middle;\n",
       "    }\n",
       "\n",
       "    .dataframe tbody tr th {\n",
       "        vertical-align: top;\n",
       "    }\n",
       "\n",
       "    .dataframe thead th {\n",
       "        text-align: right;\n",
       "    }\n",
       "</style>\n",
       "<table border=\"1\" class=\"dataframe\">\n",
       "  <thead>\n",
       "    <tr style=\"text-align: right;\">\n",
       "      <th></th>\n",
       "      <th>count</th>\n",
       "      <th>mean</th>\n",
       "      <th>std</th>\n",
       "      <th>min</th>\n",
       "      <th>25%</th>\n",
       "      <th>50%</th>\n",
       "      <th>75%</th>\n",
       "      <th>max</th>\n",
       "    </tr>\n",
       "    <tr>\n",
       "      <th>loan_status</th>\n",
       "      <th></th>\n",
       "      <th></th>\n",
       "      <th></th>\n",
       "      <th></th>\n",
       "      <th></th>\n",
       "      <th></th>\n",
       "      <th></th>\n",
       "      <th></th>\n",
       "    </tr>\n",
       "  </thead>\n",
       "  <tbody>\n",
       "    <tr>\n",
       "      <th>Charged Off</th>\n",
       "      <td>170996.0</td>\n",
       "      <td>15.139194</td>\n",
       "      <td>4.254223</td>\n",
       "      <td>5.31</td>\n",
       "      <td>12.12</td>\n",
       "      <td>14.65</td>\n",
       "      <td>18.06</td>\n",
       "      <td>25.34</td>\n",
       "    </tr>\n",
       "    <tr>\n",
       "      <th>Fully Paid</th>\n",
       "      <td>717557.0</td>\n",
       "      <td>12.366764</td>\n",
       "      <td>4.236468</td>\n",
       "      <td>5.31</td>\n",
       "      <td>9.16</td>\n",
       "      <td>11.99</td>\n",
       "      <td>14.99</td>\n",
       "      <td>25.34</td>\n",
       "    </tr>\n",
       "  </tbody>\n",
       "</table>\n",
       "</div>"
      ],
      "text/plain": [
       "                count       mean       std   min    25%    50%    75%    max\n",
       "loan_status                                                                 \n",
       "Charged Off  170996.0  15.139194  4.254223  5.31  12.12  14.65  18.06  25.34\n",
       "Fully Paid   717557.0  12.366764  4.236468  5.31   9.16  11.99  14.99  25.34"
      ]
     },
     "execution_count": 380,
     "metadata": {},
     "output_type": "execute_result"
    }
   ],
   "source": [
    "df_NewAppl.groupby('loan_status')['int_rate'].describe()"
   ]
  },
  {
   "cell_type": "markdown",
   "metadata": {},
   "source": [
    "7. Installment"
   ]
  },
  {
   "cell_type": "code",
   "execution_count": 381,
   "metadata": {},
   "outputs": [
    {
     "name": "stdout",
     "output_type": "stream",
     "text": [
      "------------------------------------------------------------ \n",
      " Individual Summary Statistics for installment \n",
      " ------------------------------------------------------------\n",
      "Describe \n",
      " count    888553.000000\n",
      "mean        398.371542\n",
      "std         216.407369\n",
      "min          14.010000\n",
      "25%         237.520000\n",
      "50%         355.300000\n",
      "75%         527.710000\n",
      "max        1077.890000\n",
      "Name: installment, dtype: float64 \n",
      " --------------------\n",
      "Sample Observations \n",
      " 1717327    374.20\n",
      "998381     311.78\n",
      "1796555    315.53\n",
      "1155349    770.94\n",
      "1165482    183.19\n",
      "Name: installment, dtype: float64 \n",
      " --------------------\n",
      "Number of Uniques \n",
      " 69342 \n",
      " --------------------\n"
     ]
    }
   ],
   "source": [
    "print_stats('installment')"
   ]
  },
  {
   "cell_type": "code",
   "execution_count": 382,
   "metadata": {},
   "outputs": [],
   "source": [
    "#Installments range from $4.93 to $1,719, with a median of $375"
   ]
  },
  {
   "cell_type": "code",
   "execution_count": 383,
   "metadata": {},
   "outputs": [
    {
     "data": {
      "image/png": "[encoded data removed]",
      "text/plain": [
       "<Figure size 1080x270 with 2 Axes>"
      ]
     },
     "metadata": {
      "needs_background": "light"
     },
     "output_type": "display_data"
    }
   ],
   "source": [
    "plot_var('installment', 'Installment', continuous=True)"
   ]
  },
  {
   "cell_type": "markdown",
   "metadata": {},
   "source": [
    "Charged-off loans tend to have higher installments. Let's compare the summary statistics by loan status:"
   ]
  },
  {
   "cell_type": "code",
   "execution_count": 384,
   "metadata": {},
   "outputs": [
    {
     "data": {
      "text/html": [
       "<div>\n",
       "<style scoped>\n",
       "    .dataframe tbody tr th:only-of-type {\n",
       "        vertical-align: middle;\n",
       "    }\n",
       "\n",
       "    .dataframe tbody tr th {\n",
       "        vertical-align: top;\n",
       "    }\n",
       "\n",
       "    .dataframe thead th {\n",
       "        text-align: right;\n",
       "    }\n",
       "</style>\n",
       "<table border=\"1\" class=\"dataframe\">\n",
       "  <thead>\n",
       "    <tr style=\"text-align: right;\">\n",
       "      <th></th>\n",
       "      <th>count</th>\n",
       "      <th>mean</th>\n",
       "      <th>std</th>\n",
       "      <th>min</th>\n",
       "      <th>25%</th>\n",
       "      <th>50%</th>\n",
       "      <th>75%</th>\n",
       "      <th>max</th>\n",
       "    </tr>\n",
       "    <tr>\n",
       "      <th>loan_status</th>\n",
       "      <th></th>\n",
       "      <th></th>\n",
       "      <th></th>\n",
       "      <th></th>\n",
       "      <th></th>\n",
       "      <th></th>\n",
       "      <th></th>\n",
       "      <th></th>\n",
       "    </tr>\n",
       "  </thead>\n",
       "  <tbody>\n",
       "    <tr>\n",
       "      <th>Charged Off</th>\n",
       "      <td>170996.0</td>\n",
       "      <td>420.750440</td>\n",
       "      <td>215.421860</td>\n",
       "      <td>21.62</td>\n",
       "      <td>263.99</td>\n",
       "      <td>379.28</td>\n",
       "      <td>550.68</td>\n",
       "      <td>1077.67</td>\n",
       "    </tr>\n",
       "    <tr>\n",
       "      <th>Fully Paid</th>\n",
       "      <td>717557.0</td>\n",
       "      <td>393.038584</td>\n",
       "      <td>216.300353</td>\n",
       "      <td>14.01</td>\n",
       "      <td>230.74</td>\n",
       "      <td>348.18</td>\n",
       "      <td>521.03</td>\n",
       "      <td>1077.89</td>\n",
       "    </tr>\n",
       "  </tbody>\n",
       "</table>\n",
       "</div>"
      ],
      "text/plain": [
       "                count        mean         std    min     25%     50%     75%      max\n",
       "loan_status                                                                          \n",
       "Charged Off  170996.0  420.750440  215.421860  21.62  263.99  379.28  550.68  1077.67\n",
       "Fully Paid   717557.0  393.038584  216.300353  14.01  230.74  348.18  521.03  1077.89"
      ]
     },
     "execution_count": 384,
     "metadata": {},
     "output_type": "execute_result"
    }
   ],
   "source": [
    "df_NewAppl.groupby('loan_status')['installment'].describe()"
   ]
  },
  {
   "cell_type": "markdown",
   "metadata": {},
   "source": [
    "8. grade\n",
    "9. sub_grade"
   ]
  },
  {
   "cell_type": "code",
   "execution_count": 385,
   "metadata": {},
   "outputs": [
    {
     "name": "stdout",
     "output_type": "stream",
     "text": [
      "['A', 'B', 'C', 'D', 'E', 'F', 'G']\n"
     ]
    }
   ],
   "source": [
    "print(sorted(df_NewAppl['grade'].unique()))"
   ]
  },
  {
   "cell_type": "code",
   "execution_count": 386,
   "metadata": {},
   "outputs": [
    {
     "name": "stdout",
     "output_type": "stream",
     "text": [
      "['A1', 'A2', 'A3', 'A4', 'A5', 'B1', 'B2', 'B3', 'B4', 'B5', 'C1', 'C2', 'C3', 'C4', 'C5', 'D1', 'D2', 'D3', 'D4', 'D5', 'E1', 'E2', 'E3', 'E4', 'E5', 'F1', 'F2', 'F3', 'F4', 'F5', 'G1', 'G2', 'G3', 'G4', 'G5']\n"
     ]
    }
   ],
   "source": [
    "print(sorted(df_NewAppl['sub_grade'].unique()))"
   ]
  },
  {
   "cell_type": "code",
   "execution_count": 387,
   "metadata": {},
   "outputs": [],
   "source": [
    "#the grade is implied by the subgrade, so let's drop the grade column.\n",
    "df_NewAppl.drop('grade', axis=1, inplace=True)"
   ]
  },
  {
   "cell_type": "code",
   "execution_count": 388,
   "metadata": {},
   "outputs": [
    {
     "data": {
      "image/png": "[encoded data removed]",
      "text/plain": [
       "<Figure size 1080x270 with 2 Axes>"
      ]
     },
     "metadata": {
      "needs_background": "light"
     },
     "output_type": "display_data"
    }
   ],
   "source": [
    "plot_var('sub_grade', 'Subgrade', continuous=False)"
   ]
  },
  {
   "cell_type": "markdown",
   "metadata": {},
   "source": [
    "There's a clear trend of higher probability of charge-off as the subgrade gets worse!"
   ]
  },
  {
   "cell_type": "markdown",
   "metadata": {},
   "source": [
    "10. emp_title"
   ]
  },
  {
   "cell_type": "code",
   "execution_count": 389,
   "metadata": {},
   "outputs": [
    {
     "name": "stdout",
     "output_type": "stream",
     "text": [
      "------------------------------------------------------------ \n",
      " Individual Summary Statistics for emp_title \n",
      " ------------------------------------------------------------\n",
      "Describe \n",
      " count      835115\n",
      "unique     281839\n",
      "top       Teacher\n",
      "freq        14898\n",
      "Name: emp_title, dtype: object \n",
      " --------------------\n",
      "Sample Observations \n",
      " 1495046                 Medical Technologist\n",
      "1715508                   Program Instructor\n",
      "991078               Foreign Service Officer\n",
      "1618802                                  CMA\n",
      "1154710    Social Media Community Specialist\n",
      "Name: emp_title, dtype: object \n",
      " --------------------\n",
      "Number of Uniques \n",
      " 281839 \n",
      " --------------------\n"
     ]
    }
   ],
   "source": [
    "print_stats('emp_title')"
   ]
  },
  {
   "cell_type": "code",
   "execution_count": 390,
   "metadata": {},
   "outputs": [],
   "source": [
    "#There are too many unique values of emp_title to be useful. So we will drop this feature\n",
    "df_NewAppl.drop(labels='emp_title', axis=1, inplace=True)"
   ]
  },
  {
   "cell_type": "markdown",
   "metadata": {},
   "source": [
    "11. emp_length"
   ]
  },
  {
   "cell_type": "code",
   "execution_count": 391,
   "metadata": {},
   "outputs": [
    {
     "name": "stdout",
     "output_type": "stream",
     "text": [
      "------------------------------------------------------------ \n",
      " Individual Summary Statistics for emp_length \n",
      " ------------------------------------------------------------\n",
      "Describe \n",
      " count    839903.000000\n",
      "mean          5.794185\n",
      "std           3.687045\n",
      "min           0.000000\n",
      "25%           2.000000\n",
      "50%           6.000000\n",
      "75%          10.000000\n",
      "max          10.000000\n",
      "Name: emp_length, dtype: float64 \n",
      " --------------------\n",
      "Sample Observations \n",
      " 1307716     2.0\n",
      "1140579     3.0\n",
      "1077221     6.0\n",
      "2118045     2.0\n",
      "377918     10.0\n",
      "Name: emp_length, dtype: float64 \n",
      " --------------------\n",
      "Number of Uniques \n",
      " 11 \n",
      " --------------------\n"
     ]
    },
    {
     "data": {
      "text/plain": [
       "0.0      75306\n",
       "1.0      62282\n",
       "2.0      84558\n",
       "3.0      74010\n",
       "4.0      55154\n",
       "5.0      57332\n",
       "6.0      42697\n",
       "7.0      40413\n",
       "8.0      40368\n",
       "9.0      33998\n",
       "10.0    273785\n",
       "NaN      48650\n",
       "Name: emp_length, dtype: int64"
      ]
     },
     "execution_count": 391,
     "metadata": {},
     "output_type": "execute_result"
    }
   ],
   "source": [
    "print_stats('emp_length')\n",
    "df_NewAppl['emp_length'].value_counts(dropna=False).sort_index()"
   ]
  },
  {
   "cell_type": "markdown",
   "metadata": {},
   "source": [
    "Note there are 75454 loans with missing value for the length of employment.\n"
   ]
  },
  {
   "cell_type": "code",
   "execution_count": 392,
   "metadata": {},
   "outputs": [
    {
     "data": {
      "image/png": "[encoded data removed]",
      "text/plain": [
       "<Figure size 1080x270 with 2 Axes>"
      ]
     },
     "metadata": {
      "needs_background": "light"
     },
     "output_type": "display_data"
    }
   ],
   "source": [
    "plot_var('emp_length', 'Employment Length', continuous=False)"
   ]
  },
  {
   "cell_type": "markdown",
   "metadata": {},
   "source": [
    "THere doesn't seem to be significant effect of employment length on loan status\n",
    "As the plot shows loan status does not appear to vary much with employment length on average, except for a small drop in charge-offs for borrowers with over 10 years of employment."
   ]
  },
  {
   "cell_type": "markdown",
   "metadata": {},
   "source": [
    "12. home_ownership"
   ]
  },
  {
   "cell_type": "code",
   "execution_count": 393,
   "metadata": {},
   "outputs": [
    {
     "data": {
      "text/plain": [
       "MORTGAGE    411309\n",
       "RENT        381745\n",
       "OWN          95156\n",
       "ANY            173\n",
       "OTHER          129\n",
       "NONE            41\n",
       "Name: home_ownership, dtype: int64"
      ]
     },
     "execution_count": 393,
     "metadata": {},
     "output_type": "execute_result"
    }
   ],
   "source": [
    "df_NewAppl['home_ownership'].value_counts(dropna=False)"
   ]
  },
  {
   "cell_type": "markdown",
   "metadata": {},
   "source": [
    "Let's combine the category ANY and NONO into OTHER"
   ]
  },
  {
   "cell_type": "code",
   "execution_count": 394,
   "metadata": {},
   "outputs": [],
   "source": [
    "df_NewAppl['home_ownership'].replace(['NONE', 'ANY'], 'OTHER', inplace=True)"
   ]
  },
  {
   "cell_type": "code",
   "execution_count": 395,
   "metadata": {},
   "outputs": [
    {
     "data": {
      "text/plain": [
       "MORTGAGE    411309\n",
       "RENT        381745\n",
       "OWN          95156\n",
       "OTHER          343\n",
       "Name: home_ownership, dtype: int64"
      ]
     },
     "execution_count": 395,
     "metadata": {},
     "output_type": "execute_result"
    }
   ],
   "source": [
    "df_NewAppl['home_ownership'].value_counts(dropna=False)"
   ]
  },
  {
   "cell_type": "code",
   "execution_count": 396,
   "metadata": {},
   "outputs": [
    {
     "data": {
      "image/png": "[encoded data removed]",
      "text/plain": [
       "<Figure size 1080x270 with 2 Axes>"
      ]
     },
     "metadata": {
      "needs_background": "light"
     },
     "output_type": "display_data"
    }
   ],
   "source": [
    "plot_var('home_ownership', 'Home Ownership', continuous=False)"
   ]
  },
  {
   "cell_type": "markdown",
   "metadata": {},
   "source": [
    "There appears to be significant differences in charge-off rates by home ownership status. Renters and homeowners have a higher probability of charge-off. Let's compare the charge-off rates:"
   ]
  },
  {
   "cell_type": "code",
   "execution_count": 397,
   "metadata": {},
   "outputs": [
    {
     "data": {
      "text/plain": [
       "home_ownership\n",
       "MORTGAGE    0.166556\n",
       "OTHER       0.189504\n",
       "OWN         0.198495\n",
       "RENT        0.218829\n",
       "Name: loan_status, dtype: float64"
      ]
     },
     "execution_count": 397,
     "metadata": {},
     "output_type": "execute_result"
    }
   ],
   "source": [
    "df_NewAppl.groupby('home_ownership')['loan_status'].value_counts(normalize=True).loc[:,'Charged Off']\n",
    "\n"
   ]
  },
  {
   "cell_type": "code",
   "execution_count": 398,
   "metadata": {},
   "outputs": [
    {
     "data": {
      "text/plain": [
       "<matplotlib.axes._subplots.AxesSubplot at 0x1a25e911d0>"
      ]
     },
     "execution_count": 398,
     "metadata": {},
     "output_type": "execute_result"
    },
    {
     "data": {
      "image/png": "[encoded data removed]",
      "text/plain": [
       "<Figure size 432x288 with 1 Axes>"
      ]
     },
     "metadata": {
      "needs_background": "light"
     },
     "output_type": "display_data"
    }
   ],
   "source": [
    "df_NewAppl['home_ownership'].value_counts(dropna=False, normalize = True).plot(kind='bar')"
   ]
  },
  {
   "cell_type": "markdown",
   "metadata": {},
   "source": [
    "13. application_type\n",
    "Tells whether the loan application is individual or joint application\n",
    "\n",
    "From our plot and summary stats we see that - Joint loans are more likely to be charged off than individual loans"
   ]
  },
  {
   "cell_type": "code",
   "execution_count": 399,
   "metadata": {},
   "outputs": [
    {
     "name": "stdout",
     "output_type": "stream",
     "text": [
      "------------------------------------------------------------ \n",
      " Individual Summary Statistics for application_type \n",
      " ------------------------------------------------------------\n",
      "Describe \n",
      " count         888553\n",
      "unique             2\n",
      "top       Individual\n",
      "freq          876475\n",
      "Name: application_type, dtype: object \n",
      " --------------------\n",
      "Sample Observations \n",
      " 1888695    Individual\n",
      "794698     Individual\n",
      "1590005    Individual\n",
      "2211207    Individual\n",
      "691483     Individual\n",
      "Name: application_type, dtype: object \n",
      " --------------------\n",
      "Number of Uniques \n",
      " 2 \n",
      " --------------------\n",
      "Unique value counts \n",
      " Individual    876475\n",
      "Joint App      12078\n",
      "Name: application_type, dtype: int64 \n",
      " --------------------\n",
      "Group_by \n",
      "               count unique         top    freq\n",
      "loan_status                                   \n",
      "Charged Off  170996      2  Individual  168210\n",
      "Fully Paid   717557      2  Individual  708265 \n",
      " --------------------\n",
      "application_type\n",
      "Individual    0.191916\n",
      "Joint App     0.230667\n",
      "Name: loan_status, dtype: float64\n"
     ]
    }
   ],
   "source": [
    "print_stats('application_type', True)\n",
    "\n",
    "\n",
    "print(df_NewAppl.groupby('application_type')['loan_status'].value_counts(normalize=True).loc[:,'Charged Off'])\n"
   ]
  },
  {
   "cell_type": "code",
   "execution_count": 400,
   "metadata": {},
   "outputs": [
    {
     "data": {
      "image/png": "[encoded data removed]",
      "text/plain": [
       "<Figure size 1080x270 with 2 Axes>"
      ]
     },
     "metadata": {
      "needs_background": "light"
     },
     "output_type": "display_data"
    }
   ],
   "source": [
    "plot_var('application_type', 'Installment', continuous=False)"
   ]
  },
  {
   "cell_type": "markdown",
   "metadata": {},
   "source": [
    "14. dti : debt to income ratio (debt excluding mortgage and current application debt)"
   ]
  },
  {
   "cell_type": "code",
   "execution_count": 401,
   "metadata": {},
   "outputs": [
    {
     "name": "stdout",
     "output_type": "stream",
     "text": [
      "------------------------------------------------------------ \n",
      " Individual Summary Statistics for dti \n",
      " ------------------------------------------------------------\n",
      "Describe \n",
      " count    888341.000000\n",
      "mean         18.017513\n",
      "std           8.280638\n",
      "min           0.000000\n",
      "25%          11.840000\n",
      "50%          17.560000\n",
      "75%          23.830000\n",
      "max          42.390000\n",
      "Name: dti, dtype: float64 \n",
      " --------------------\n",
      "Sample Observations \n",
      " 2204414     3.64\n",
      "757547     25.01\n",
      "2127649    15.96\n",
      "1385746    10.21\n",
      "499740     11.27\n",
      "Name: dti, dtype: float64 \n",
      " --------------------\n",
      "Number of Uniques \n",
      " 4222 \n",
      " --------------------\n"
     ]
    }
   ],
   "source": [
    "print_stats('dti')"
   ]
  },
  {
   "cell_type": "code",
   "execution_count": 402,
   "metadata": {},
   "outputs": [
    {
     "data": {
      "text/plain": [
       "4222"
      ]
     },
     "execution_count": 402,
     "metadata": {},
     "output_type": "execute_result"
    }
   ],
   "source": [
    "\n",
    "df_NewAppl.dti.nunique()"
   ]
  },
  {
   "cell_type": "code",
   "execution_count": 403,
   "metadata": {},
   "outputs": [
    {
     "data": {
      "text/plain": [
       "(888553, 24)"
      ]
     },
     "execution_count": 403,
     "metadata": {},
     "output_type": "execute_result"
    }
   ],
   "source": [
    "df_NewAppl.shape"
   ]
  },
  {
   "cell_type": "code",
   "execution_count": 404,
   "metadata": {},
   "outputs": [
    {
     "data": {
      "text/plain": [
       "216807"
      ]
     },
     "execution_count": 404,
     "metadata": {},
     "output_type": "execute_result"
    }
   ],
   "source": [
    "df_NewAppl[df_NewAppl.dti > 24].dti.count()"
   ]
  },
  {
   "cell_type": "markdown",
   "metadata": {},
   "source": [
    "15. initial_list_status: Initial listing status of the listing"
   ]
  },
  {
   "cell_type": "code",
   "execution_count": 405,
   "metadata": {},
   "outputs": [
    {
     "name": "stdout",
     "output_type": "stream",
     "text": [
      "------------------------------------------------------------ \n",
      " Individual Summary Statistics for initial_list_status \n",
      " ------------------------------------------------------------\n",
      "Describe \n",
      " count     888553\n",
      "unique         2\n",
      "top            w\n",
      "freq      498682\n",
      "Name: initial_list_status, dtype: object \n",
      " --------------------\n",
      "Sample Observations \n",
      " 1240143    w\n",
      "1223807    w\n",
      "1924473    w\n",
      "857754     w\n",
      "804867     w\n",
      "Name: initial_list_status, dtype: object \n",
      " --------------------\n",
      "Number of Uniques \n",
      " 2 \n",
      " --------------------\n",
      "Unique value counts \n",
      " w    498682\n",
      "f    389871\n",
      "Name: initial_list_status, dtype: int64 \n",
      " --------------------\n"
     ]
    }
   ],
   "source": [
    "print_stats('initial_list_status')"
   ]
  },
  {
   "cell_type": "markdown",
   "metadata": {},
   "source": [
    "16. mort_acc: number of mortgage accounts"
   ]
  },
  {
   "cell_type": "code",
   "execution_count": 406,
   "metadata": {},
   "outputs": [
    {
     "name": "stdout",
     "output_type": "stream",
     "text": [
      "------------------------------------------------------------ \n",
      " Individual Summary Statistics for mort_acc \n",
      " ------------------------------------------------------------\n",
      "Describe \n",
      " count    847816.000000\n",
      "mean          1.415173\n",
      "std           1.727178\n",
      "min           0.000000\n",
      "25%           0.000000\n",
      "50%           1.000000\n",
      "75%           2.000000\n",
      "max           7.000000\n",
      "Name: mort_acc, dtype: float64 \n",
      " --------------------\n",
      "Sample Observations \n",
      " 2233808    1.0\n",
      "1859798    NaN\n",
      "1293102    6.0\n",
      "2085102    0.0\n",
      "2212020    1.0\n",
      "Name: mort_acc, dtype: float64 \n",
      " --------------------\n",
      "Number of Uniques \n",
      " 8 \n",
      " --------------------\n",
      "Unique value counts \n",
      " 0.0    383262\n",
      "1.0    146693\n",
      "2.0    116594\n",
      "3.0     83621\n",
      "4.0     56281\n",
      "5.0     33534\n",
      "6.0     18549\n",
      "7.0      9282\n",
      "Name: mort_acc, dtype: int64 \n",
      " --------------------\n"
     ]
    }
   ],
   "source": [
    "print_stats('mort_acc')"
   ]
  },
  {
   "cell_type": "markdown",
   "metadata": {},
   "source": [
    "17. open_acc: the number of open credit lines in borrower's credit line"
   ]
  },
  {
   "cell_type": "code",
   "execution_count": 407,
   "metadata": {},
   "outputs": [
    {
     "name": "stdout",
     "output_type": "stream",
     "text": [
      "------------------------------------------------------------ \n",
      " Individual Summary Statistics for open_acc \n",
      " ------------------------------------------------------------\n",
      "Describe \n",
      " count    888553.000000\n",
      "mean         10.724468\n",
      "std           4.432910\n",
      "min           0.000000\n",
      "25%           7.000000\n",
      "50%          10.000000\n",
      "75%          13.000000\n",
      "max          23.000000\n",
      "Name: open_acc, dtype: float64 \n",
      " --------------------\n",
      "Sample Observations \n",
      " 1009608    13.0\n",
      "495262      9.0\n",
      "2030587    13.0\n",
      "613209      6.0\n",
      "1080311    10.0\n",
      "Name: open_acc, dtype: float64 \n",
      " --------------------\n",
      "Number of Uniques \n",
      " 24 \n",
      " --------------------\n"
     ]
    }
   ],
   "source": [
    "print_stats('open_acc')"
   ]
  },
  {
   "cell_type": "markdown",
   "metadata": {},
   "source": [
    "18. pub_rec : number of derogatory public accounts"
   ]
  },
  {
   "cell_type": "code",
   "execution_count": 408,
   "metadata": {},
   "outputs": [
    {
     "name": "stdout",
     "output_type": "stream",
     "text": [
      "------------------------------------------------------------ \n",
      " Individual Summary Statistics for pub_rec \n",
      " ------------------------------------------------------------\n",
      "Describe \n",
      " count    888553.0\n",
      "mean          0.0\n",
      "std           0.0\n",
      "min           0.0\n",
      "25%           0.0\n",
      "50%           0.0\n",
      "75%           0.0\n",
      "max           0.0\n",
      "Name: pub_rec, dtype: float64 \n",
      " --------------------\n",
      "Sample Observations \n",
      " 1161758    0.0\n",
      "531963     0.0\n",
      "2174705    0.0\n",
      "787361     0.0\n",
      "745199     0.0\n",
      "Name: pub_rec, dtype: float64 \n",
      " --------------------\n",
      "Number of Uniques \n",
      " 1 \n",
      " --------------------\n",
      "Unique value counts \n",
      " 0.0    888553\n",
      "Name: pub_rec, dtype: int64 \n",
      " --------------------\n"
     ]
    }
   ],
   "source": [
    "print_stats('pub_rec')"
   ]
  },
  {
   "cell_type": "code",
   "execution_count": 409,
   "metadata": {},
   "outputs": [],
   "source": [
    "#Since pub_rec is all zeros, we will drop this column\n",
    "df_NewAppl.drop('pub_rec', axis=1, inplace=True)"
   ]
  },
  {
   "cell_type": "code",
   "execution_count": 410,
   "metadata": {},
   "outputs": [],
   "source": [
    "#19. pub_rec_bankruptcies: number of public record bankruptcies"
   ]
  },
  {
   "cell_type": "code",
   "execution_count": 411,
   "metadata": {},
   "outputs": [
    {
     "name": "stdout",
     "output_type": "stream",
     "text": [
      "------------------------------------------------------------ \n",
      " Individual Summary Statistics for pub_rec_bankruptcies \n",
      " ------------------------------------------------------------\n",
      "Describe \n",
      " count    887947.0\n",
      "mean          0.0\n",
      "std           0.0\n",
      "min           0.0\n",
      "25%           0.0\n",
      "50%           0.0\n",
      "75%           0.0\n",
      "max           0.0\n",
      "Name: pub_rec_bankruptcies, dtype: float64 \n",
      " --------------------\n",
      "Sample Observations \n",
      " 729868     0.0\n",
      "2033910    0.0\n",
      "663170     0.0\n",
      "1929992    0.0\n",
      "1855054    0.0\n",
      "Name: pub_rec_bankruptcies, dtype: float64 \n",
      " --------------------\n",
      "Number of Uniques \n",
      " 1 \n",
      " --------------------\n",
      "Unique value counts \n",
      " 0.0    887947\n",
      "Name: pub_rec_bankruptcies, dtype: int64 \n",
      " --------------------\n",
      "0.0    887947\n",
      "Name: pub_rec_bankruptcies, dtype: int64\n",
      "0.0    1.0\n",
      "Name: pub_rec_bankruptcies, dtype: float64\n"
     ]
    }
   ],
   "source": [
    "print_stats('pub_rec_bankruptcies')\n",
    "print(df_NewAppl.pub_rec_bankruptcies.value_counts())\n",
    "print(df_NewAppl.pub_rec_bankruptcies.value_counts(normalize=True))"
   ]
  },
  {
   "cell_type": "code",
   "execution_count": 412,
   "metadata": {},
   "outputs": [
    {
     "data": {
      "image/png": "[encoded data removed]",
      "text/plain": [
       "<Figure size 1080x270 with 2 Axes>"
      ]
     },
     "metadata": {
      "needs_background": "light"
     },
     "output_type": "display_data"
    }
   ],
   "source": [
    "plot_var('pub_rec_bankruptcies', 'Public Record Bankrptcies', continuous=False)"
   ]
  },
  {
   "cell_type": "code",
   "execution_count": 413,
   "metadata": {},
   "outputs": [],
   "source": [
    "#Since pub_rec_bankruptcies is all zeros, we will drop this column\n",
    "df_NewAppl.drop('pub_rec_bankruptcies', axis=1, inplace=True)"
   ]
  },
  {
   "cell_type": "markdown",
   "metadata": {},
   "source": [
    "20. purpose: a category provided by the borrower for the loan request"
   ]
  },
  {
   "cell_type": "code",
   "execution_count": 414,
   "metadata": {},
   "outputs": [
    {
     "name": "stdout",
     "output_type": "stream",
     "text": [
      "------------------------------------------------------------ \n",
      " Individual Summary Statistics for purpose \n",
      " ------------------------------------------------------------\n",
      "Describe \n",
      " count                 888553\n",
      "unique                    14\n",
      "top       debt_consolidation\n",
      "freq                  515529\n",
      "Name: purpose, dtype: object \n",
      " --------------------\n",
      "Sample Observations \n",
      " 2019098                moving\n",
      "1833733      home_improvement\n",
      "2135283           credit_card\n",
      "1104629    debt_consolidation\n",
      "1628525      home_improvement\n",
      "Name: purpose, dtype: object \n",
      " --------------------\n",
      "Number of Uniques \n",
      " 14 \n",
      " --------------------\n",
      "debt_consolidation    515529\n",
      "credit_card           198128\n",
      "other                  52733\n",
      "home_improvement       51528\n",
      "major_purchase         20001\n",
      "car                    10494\n",
      "medical                10361\n",
      "small_business          9244\n",
      "moving                  6863\n",
      "vacation                6351\n",
      "house                   4363\n",
      "wedding                 2036\n",
      "renewable_energy         640\n",
      "educational              282\n",
      "Name: purpose, dtype: int64\n"
     ]
    }
   ],
   "source": [
    "print_stats('purpose')\n",
    "print(df_NewAppl.purpose.value_counts())\n"
   ]
  },
  {
   "cell_type": "code",
   "execution_count": 415,
   "metadata": {},
   "outputs": [],
   "source": [
    "#21. revol_bal: total credit revolving balance"
   ]
  },
  {
   "cell_type": "code",
   "execution_count": 416,
   "metadata": {},
   "outputs": [
    {
     "name": "stdout",
     "output_type": "stream",
     "text": [
      "------------------------------------------------------------ \n",
      " Individual Summary Statistics for revol_bal \n",
      " ------------------------------------------------------------\n",
      "Describe \n",
      " count    888553.000000\n",
      "mean      12770.648062\n",
      "std        8932.727633\n",
      "min           0.000000\n",
      "25%        5892.000000\n",
      "50%       10763.000000\n",
      "75%       17814.000000\n",
      "max       40442.000000\n",
      "Name: revol_bal, dtype: float64 \n",
      " --------------------\n",
      "Sample Observations \n",
      " 1363053    12253\n",
      "1173981     9466\n",
      "376050      3918\n",
      "1033593    20405\n",
      "2212042     7334\n",
      "Name: revol_bal, dtype: int64 \n",
      " --------------------\n",
      "Number of Uniques \n",
      " 40297 \n",
      " --------------------\n"
     ]
    }
   ],
   "source": [
    "print_stats('revol_bal')\n"
   ]
  },
  {
   "cell_type": "code",
   "execution_count": 417,
   "metadata": {},
   "outputs": [],
   "source": [
    "#22. revol_util: revolving line utilization rate"
   ]
  },
  {
   "cell_type": "code",
   "execution_count": 418,
   "metadata": {},
   "outputs": [
    {
     "name": "stdout",
     "output_type": "stream",
     "text": [
      "------------------------------------------------------------ \n",
      " Individual Summary Statistics for revol_util \n",
      " ------------------------------------------------------------\n",
      "Describe \n",
      " count    887959.000000\n",
      "mean         52.285071\n",
      "std          24.641468\n",
      "min           0.000000\n",
      "25%          33.900000\n",
      "50%          52.700000\n",
      "75%          71.400000\n",
      "max         126.400000\n",
      "Name: revol_util, dtype: float64 \n",
      " --------------------\n",
      "Sample Observations \n",
      " 1070201    64.2\n",
      "906199     23.0\n",
      "1791678    79.9\n",
      "2022687    39.4\n",
      "981432     52.8\n",
      "Name: revol_util, dtype: float64 \n",
      " --------------------\n",
      "Number of Uniques \n",
      " 1272 \n",
      " --------------------\n"
     ]
    }
   ],
   "source": [
    "print_stats('revol_util')"
   ]
  },
  {
   "cell_type": "code",
   "execution_count": 419,
   "metadata": {},
   "outputs": [],
   "source": [
    "#23. title"
   ]
  },
  {
   "cell_type": "code",
   "execution_count": 420,
   "metadata": {},
   "outputs": [
    {
     "name": "stdout",
     "output_type": "stream",
     "text": [
      "------------------------------------------------------------ \n",
      " Individual Summary Statistics for title \n",
      " ------------------------------------------------------------\n",
      "Describe \n",
      " count                 878511\n",
      "unique                 51948\n",
      "top       Debt consolidation\n",
      "freq                  420893\n",
      "Name: title, dtype: object \n",
      " --------------------\n",
      "Sample Observations \n",
      " 1989824         Debt consolidation\n",
      "1082441    Credit card refinancing\n",
      "1122649         Debt consolidation\n",
      "874496     Credit card refinancing\n",
      "988566          Debt consolidation\n",
      "Name: title, dtype: object \n",
      " --------------------\n",
      "Number of Uniques \n",
      " 51948 \n",
      " --------------------\n"
     ]
    }
   ],
   "source": [
    "print_stats('title')"
   ]
  },
  {
   "cell_type": "code",
   "execution_count": 421,
   "metadata": {},
   "outputs": [],
   "source": [
    "#There are too many unique values of title to be useful. So we will drop this feature\n",
    "df_NewAppl.drop(labels='title', axis=1, inplace=True)"
   ]
  },
  {
   "cell_type": "code",
   "execution_count": 422,
   "metadata": {},
   "outputs": [
    {
     "name": "stdout",
     "output_type": "stream",
     "text": [
      "------------------------------------------------------------ \n",
      " Individual Summary Statistics for earliest_cr_line \n",
      " ------------------------------------------------------------\n",
      "Describe \n",
      " count                  888553\n",
      "unique                    716\n",
      "top       2004-09-01 00:00:00\n",
      "freq                     6434\n",
      "first     1934-04-01 00:00:00\n",
      "last      2015-09-01 00:00:00\n",
      "Name: earliest_cr_line, dtype: object \n",
      " --------------------\n",
      "Sample Observations \n",
      " 1206025   1999-05-01\n",
      "2183561   2006-10-01\n",
      "1223081   1998-06-01\n",
      "1126120   2003-09-01\n",
      "1754137   2003-11-01\n",
      "Name: earliest_cr_line, dtype: datetime64[ns] \n",
      " --------------------\n",
      "Number of Uniques \n",
      " 716 \n",
      " --------------------\n"
     ]
    }
   ],
   "source": [
    "#earliest_cr_line\n",
    "print_stats('earliest_cr_line')"
   ]
  },
  {
   "cell_type": "code",
   "execution_count": 423,
   "metadata": {},
   "outputs": [],
   "source": [
    "#Since there are too many uniques values of earliest_cr_line, we will drop this column\n",
    "df_NewAppl.drop(labels='earliest_cr_line', axis=1, inplace=True)"
   ]
  },
  {
   "cell_type": "code",
   "execution_count": 424,
   "metadata": {},
   "outputs": [],
   "source": [
    "#24. total_acc: the total number of credit lines currently in the borrower's credit line"
   ]
  },
  {
   "cell_type": "code",
   "execution_count": 425,
   "metadata": {},
   "outputs": [
    {
     "name": "stdout",
     "output_type": "stream",
     "text": [
      "------------------------------------------------------------ \n",
      " Individual Summary Statistics for total_acc \n",
      " ------------------------------------------------------------\n",
      "Describe \n",
      " count    888553.000000\n",
      "mean         22.919669\n",
      "std          10.276434\n",
      "min           2.000000\n",
      "25%          15.000000\n",
      "50%          22.000000\n",
      "75%          29.000000\n",
      "max          56.000000\n",
      "Name: total_acc, dtype: float64 \n",
      " --------------------\n",
      "Sample Observations \n",
      " 525466     41.0\n",
      "835331     40.0\n",
      "808457     33.0\n",
      "1741999    12.0\n",
      "868802     28.0\n",
      "Name: total_acc, dtype: float64 \n",
      " --------------------\n",
      "Number of Uniques \n",
      " 55 \n",
      " --------------------\n"
     ]
    }
   ],
   "source": [
    "print_stats('total_acc')"
   ]
  },
  {
   "cell_type": "code",
   "execution_count": 426,
   "metadata": {},
   "outputs": [],
   "source": [
    "#25. verification_status"
   ]
  },
  {
   "cell_type": "code",
   "execution_count": 427,
   "metadata": {},
   "outputs": [
    {
     "name": "stdout",
     "output_type": "stream",
     "text": [
      "------------------------------------------------------------ \n",
      " Individual Summary Statistics for verification_status \n",
      " ------------------------------------------------------------\n",
      "Describe \n",
      " count              888553\n",
      "unique                  3\n",
      "top       Source Verified\n",
      "freq               333405\n",
      "Name: verification_status, dtype: object \n",
      " --------------------\n",
      "Sample Observations \n",
      " 1208679           Verified\n",
      "1039291           Verified\n",
      "2058552    Source Verified\n",
      "1435072       Not Verified\n",
      "1863673       Not Verified\n",
      "Name: verification_status, dtype: object \n",
      " --------------------\n",
      "Number of Uniques \n",
      " 3 \n",
      " --------------------\n",
      "Unique value counts \n",
      " Source Verified    333405\n",
      "Not Verified       298469\n",
      "Verified           256679\n",
      "Name: verification_status, dtype: int64 \n",
      " --------------------\n"
     ]
    }
   ],
   "source": [
    "print_stats('verification_status')"
   ]
  },
  {
   "cell_type": "code",
   "execution_count": 428,
   "metadata": {},
   "outputs": [
    {
     "name": "stdout",
     "output_type": "stream",
     "text": [
      "loan_amnt                int64\n",
      "term                     int64\n",
      "int_rate               float64\n",
      "installment            float64\n",
      "sub_grade               object\n",
      "emp_length             float64\n",
      "home_ownership          object\n",
      "annual_inc             float64\n",
      "verification_status     object\n",
      "loan_status             object\n",
      "purpose                 object\n",
      "dti                    float64\n",
      "open_acc               float64\n",
      "revol_bal                int64\n",
      "revol_util             float64\n",
      "total_acc              float64\n",
      "initial_list_status     object\n",
      "application_type        object\n",
      "mort_acc               float64\n",
      "annual_inc_norm        float64\n",
      "dtype: object\n",
      "(888553, 20)\n",
      "loan_amnt                  0\n",
      "term                       0\n",
      "int_rate                   0\n",
      "installment                0\n",
      "sub_grade                  0\n",
      "emp_length             48650\n",
      "home_ownership             0\n",
      "annual_inc                 0\n",
      "verification_status        0\n",
      "loan_status                0\n",
      "purpose                    0\n",
      "dti                      212\n",
      "open_acc                   0\n",
      "revol_bal                  0\n",
      "revol_util               594\n",
      "total_acc                  0\n",
      "initial_list_status        0\n",
      "application_type           0\n",
      "mort_acc               40737\n",
      "annual_inc_norm            0\n",
      "dtype: int64\n"
     ]
    }
   ],
   "source": [
    "print(df_NewAppl.dtypes)\n",
    "print(df_NewAppl.shape)\n",
    "print(df_NewAppl.isnull().sum())\n"
   ]
  },
  {
   "cell_type": "markdown",
   "metadata": {},
   "source": [
    "Missing Values\n",
    "----------------\n",
    "\n",
    "There are 888553 observations out of which 800 or so have missing values. In effect there are 0.0009% rows have missing values. This is a very miniscuse percent so we could safely drop the rows with missing values without having any impact on our future models.\n"
   ]
  },
  {
   "cell_type": "code",
   "execution_count": 429,
   "metadata": {},
   "outputs": [],
   "source": [
    "df_NewAppl.dropna(inplace=True)"
   ]
  },
  {
   "cell_type": "code",
   "execution_count": 430,
   "metadata": {},
   "outputs": [
    {
     "name": "stdout",
     "output_type": "stream",
     "text": [
      "loan_amnt                int64\n",
      "term                     int64\n",
      "int_rate               float64\n",
      "installment            float64\n",
      "sub_grade               object\n",
      "emp_length             float64\n",
      "home_ownership          object\n",
      "annual_inc             float64\n",
      "verification_status     object\n",
      "loan_status             object\n",
      "purpose                 object\n",
      "dti                    float64\n",
      "open_acc               float64\n",
      "revol_bal                int64\n",
      "revol_util             float64\n",
      "total_acc              float64\n",
      "initial_list_status     object\n",
      "application_type        object\n",
      "mort_acc               float64\n",
      "annual_inc_norm        float64\n",
      "dtype: object\n",
      "(799780, 20)\n",
      "loan_amnt              0\n",
      "term                   0\n",
      "int_rate               0\n",
      "installment            0\n",
      "sub_grade              0\n",
      "emp_length             0\n",
      "home_ownership         0\n",
      "annual_inc             0\n",
      "verification_status    0\n",
      "loan_status            0\n",
      "purpose                0\n",
      "dti                    0\n",
      "open_acc               0\n",
      "revol_bal              0\n",
      "revol_util             0\n",
      "total_acc              0\n",
      "initial_list_status    0\n",
      "application_type       0\n",
      "mort_acc               0\n",
      "annual_inc_norm        0\n",
      "dtype: int64\n"
     ]
    }
   ],
   "source": [
    "print(df_NewAppl.dtypes)\n",
    "print(df_NewAppl.shape)\n",
    "print(df_NewAppl.isnull().sum())"
   ]
  },
  {
   "cell_type": "markdown",
   "metadata": {},
   "source": [
    "Inferential Statistics - Test 1\n",
    "-----------------------\n",
    "\n",
    "1. Term:\n",
    "--------\n",
    "\n",
    "Next we will perform a statistical analysis to establish whether term has a significant impact on the charge backs aka our target variable loan_status\n",
    "\n",
    "1. Test:\n",
    "We will use Z statistic test for this problem\n",
    "Explanation- We will take random sample from the data set with sample size =100 (50+50). Our target variable has 2 values. So this is a binomial distribution. However with n=100, CLT applies. The sampling distribution will follow normal distribution.\n",
    "\n",
    "2. Hypothesis:\n",
    "\n",
    "Null Hypothesis H0: P1 = P2 i.e.There are no differences in both sample proportions i.e. term has no impact on the charge offs\n",
    "\n",
    "Alternate hypothesis H1: P1<>P2 Both sample proportions are different i.e. term has impact on the charge offs\n",
    "\n",
    "3. Significance:\n",
    "Confidence Level : 90%\n",
    "\n",
    "4. Analysis Plan:\n",
    "Reject the null hypothesis if p value< a \n",
    "\n",
    "Note: the test is appropriate because the sampling method was simple random sampling, the samples were independent, each population was at least 10 times larger than its sample, and each sample included at least 10 successes and 10 failures."
   ]
  },
  {
   "cell_type": "code",
   "execution_count": 431,
   "metadata": {},
   "outputs": [
    {
     "name": "stdout",
     "output_type": "stream",
     "text": [
      "------------------------------------------------------------ \n",
      " Individual Summary Statistics for term \n",
      " ------------------------------------------------------------\n",
      "Describe \n",
      " count    799780.000000\n",
      "mean         41.614874\n",
      "std          10.160231\n",
      "min          36.000000\n",
      "25%          36.000000\n",
      "50%          36.000000\n",
      "75%          36.000000\n",
      "max          60.000000\n",
      "Name: term, dtype: float64 \n",
      " --------------------\n",
      "Sample Observations \n",
      " 841583     60\n",
      "1252444    36\n",
      "1195668    36\n",
      "1313156    36\n",
      "1722366    36\n",
      "Name: term, dtype: int64 \n",
      " --------------------\n",
      "Number of Uniques \n",
      " 2 \n",
      " --------------------\n",
      "Unique value counts \n",
      " 36    612669\n",
      "60    187111\n",
      "Name: term, dtype: int64 \n",
      " --------------------\n"
     ]
    }
   ],
   "source": [
    "print_stats('term')"
   ]
  },
  {
   "cell_type": "code",
   "execution_count": 432,
   "metadata": {},
   "outputs": [
    {
     "data": {
      "text/plain": [
       "36    612669\n",
       "60    187111\n",
       "Name: term, dtype: int64"
      ]
     },
     "execution_count": 432,
     "metadata": {},
     "output_type": "execute_result"
    }
   ],
   "source": [
    "df_NewAppl.term.value_counts()"
   ]
  },
  {
   "cell_type": "code",
   "execution_count": 433,
   "metadata": {},
   "outputs": [
    {
     "data": {
      "text/plain": [
       "(200, 2)"
      ]
     },
     "execution_count": 433,
     "metadata": {},
     "output_type": "execute_result"
    }
   ],
   "source": [
    "df1 = df_NewAppl[df_NewAppl.term == 36][['loan_status', 'term']].sample(n=100)\n",
    "df2 = df_NewAppl[df_NewAppl.term==60][['loan_status', 'term']].sample(n=100)\n",
    "frames = [df1, df2]\n",
    "df_sample = pd.concat(frames)\n",
    "df_sample.shape"
   ]
  },
  {
   "cell_type": "code",
   "execution_count": 434,
   "metadata": {},
   "outputs": [
    {
     "data": {
      "text/html": [
       "<div>\n",
       "<style scoped>\n",
       "    .dataframe tbody tr th:only-of-type {\n",
       "        vertical-align: middle;\n",
       "    }\n",
       "\n",
       "    .dataframe tbody tr th {\n",
       "        vertical-align: top;\n",
       "    }\n",
       "\n",
       "    .dataframe thead th {\n",
       "        text-align: right;\n",
       "    }\n",
       "</style>\n",
       "<table border=\"1\" class=\"dataframe\">\n",
       "  <thead>\n",
       "    <tr style=\"text-align: right;\">\n",
       "      <th></th>\n",
       "      <th>term</th>\n",
       "    </tr>\n",
       "  </thead>\n",
       "  <tbody>\n",
       "    <tr>\n",
       "      <th>count</th>\n",
       "      <td>100.0</td>\n",
       "    </tr>\n",
       "    <tr>\n",
       "      <th>mean</th>\n",
       "      <td>60.0</td>\n",
       "    </tr>\n",
       "    <tr>\n",
       "      <th>std</th>\n",
       "      <td>0.0</td>\n",
       "    </tr>\n",
       "    <tr>\n",
       "      <th>min</th>\n",
       "      <td>60.0</td>\n",
       "    </tr>\n",
       "    <tr>\n",
       "      <th>25%</th>\n",
       "      <td>60.0</td>\n",
       "    </tr>\n",
       "    <tr>\n",
       "      <th>50%</th>\n",
       "      <td>60.0</td>\n",
       "    </tr>\n",
       "    <tr>\n",
       "      <th>75%</th>\n",
       "      <td>60.0</td>\n",
       "    </tr>\n",
       "    <tr>\n",
       "      <th>max</th>\n",
       "      <td>60.0</td>\n",
       "    </tr>\n",
       "  </tbody>\n",
       "</table>\n",
       "</div>"
      ],
      "text/plain": [
       "        term\n",
       "count  100.0\n",
       "mean    60.0\n",
       "std      0.0\n",
       "min     60.0\n",
       "25%     60.0\n",
       "50%     60.0\n",
       "75%     60.0\n",
       "max     60.0"
      ]
     },
     "execution_count": 434,
     "metadata": {},
     "output_type": "execute_result"
    }
   ],
   "source": [
    "df2.describe()"
   ]
  },
  {
   "cell_type": "code",
   "execution_count": 435,
   "metadata": {},
   "outputs": [
    {
     "data": {
      "text/plain": [
       "loan_status    object\n",
       "term            int64\n",
       "dtype: object"
      ]
     },
     "execution_count": 435,
     "metadata": {},
     "output_type": "execute_result"
    }
   ],
   "source": [
    "df_sample.dtypes"
   ]
  },
  {
   "cell_type": "code",
   "execution_count": 436,
   "metadata": {},
   "outputs": [
    {
     "data": {
      "text/html": [
       "<div>\n",
       "<style scoped>\n",
       "    .dataframe tbody tr th:only-of-type {\n",
       "        vertical-align: middle;\n",
       "    }\n",
       "\n",
       "    .dataframe tbody tr th {\n",
       "        vertical-align: top;\n",
       "    }\n",
       "\n",
       "    .dataframe thead th {\n",
       "        text-align: right;\n",
       "    }\n",
       "</style>\n",
       "<table border=\"1\" class=\"dataframe\">\n",
       "  <thead>\n",
       "    <tr style=\"text-align: right;\">\n",
       "      <th></th>\n",
       "      <th>term</th>\n",
       "    </tr>\n",
       "  </thead>\n",
       "  <tbody>\n",
       "    <tr>\n",
       "      <th>count</th>\n",
       "      <td>200.000000</td>\n",
       "    </tr>\n",
       "    <tr>\n",
       "      <th>mean</th>\n",
       "      <td>48.000000</td>\n",
       "    </tr>\n",
       "    <tr>\n",
       "      <th>std</th>\n",
       "      <td>12.030113</td>\n",
       "    </tr>\n",
       "    <tr>\n",
       "      <th>min</th>\n",
       "      <td>36.000000</td>\n",
       "    </tr>\n",
       "    <tr>\n",
       "      <th>25%</th>\n",
       "      <td>36.000000</td>\n",
       "    </tr>\n",
       "    <tr>\n",
       "      <th>50%</th>\n",
       "      <td>48.000000</td>\n",
       "    </tr>\n",
       "    <tr>\n",
       "      <th>75%</th>\n",
       "      <td>60.000000</td>\n",
       "    </tr>\n",
       "    <tr>\n",
       "      <th>max</th>\n",
       "      <td>60.000000</td>\n",
       "    </tr>\n",
       "  </tbody>\n",
       "</table>\n",
       "</div>"
      ],
      "text/plain": [
       "             term\n",
       "count  200.000000\n",
       "mean    48.000000\n",
       "std     12.030113\n",
       "min     36.000000\n",
       "25%     36.000000\n",
       "50%     48.000000\n",
       "75%     60.000000\n",
       "max     60.000000"
      ]
     },
     "execution_count": 436,
     "metadata": {},
     "output_type": "execute_result"
    }
   ],
   "source": [
    "df_sample.describe()"
   ]
  },
  {
   "cell_type": "code",
   "execution_count": 437,
   "metadata": {},
   "outputs": [
    {
     "data": {
      "text/plain": [
       "60    100\n",
       "36    100\n",
       "Name: term, dtype: int64"
      ]
     },
     "execution_count": 437,
     "metadata": {},
     "output_type": "execute_result"
    }
   ],
   "source": [
    "df_sample.term.value_counts()"
   ]
  },
  {
   "cell_type": "code",
   "execution_count": 438,
   "metadata": {},
   "outputs": [
    {
     "data": {
      "text/html": [
       "<div>\n",
       "<style scoped>\n",
       "    .dataframe tbody tr th:only-of-type {\n",
       "        vertical-align: middle;\n",
       "    }\n",
       "\n",
       "    .dataframe tbody tr th {\n",
       "        vertical-align: top;\n",
       "    }\n",
       "\n",
       "    .dataframe thead th {\n",
       "        text-align: right;\n",
       "    }\n",
       "</style>\n",
       "<table border=\"1\" class=\"dataframe\">\n",
       "  <thead>\n",
       "    <tr style=\"text-align: right;\">\n",
       "      <th></th>\n",
       "      <th>loan_status</th>\n",
       "      <th>term</th>\n",
       "    </tr>\n",
       "  </thead>\n",
       "  <tbody>\n",
       "    <tr>\n",
       "      <th>1340026</th>\n",
       "      <td>Fully Paid</td>\n",
       "      <td>36</td>\n",
       "    </tr>\n",
       "    <tr>\n",
       "      <th>583123</th>\n",
       "      <td>Fully Paid</td>\n",
       "      <td>60</td>\n",
       "    </tr>\n",
       "    <tr>\n",
       "      <th>2067819</th>\n",
       "      <td>Fully Paid</td>\n",
       "      <td>60</td>\n",
       "    </tr>\n",
       "    <tr>\n",
       "      <th>1684016</th>\n",
       "      <td>Fully Paid</td>\n",
       "      <td>60</td>\n",
       "    </tr>\n",
       "    <tr>\n",
       "      <th>826919</th>\n",
       "      <td>Charged Off</td>\n",
       "      <td>60</td>\n",
       "    </tr>\n",
       "  </tbody>\n",
       "</table>\n",
       "</div>"
      ],
      "text/plain": [
       "         loan_status  term\n",
       "1340026   Fully Paid    36\n",
       "583123    Fully Paid    60\n",
       "2067819   Fully Paid    60\n",
       "1684016   Fully Paid    60\n",
       "826919   Charged Off    60"
      ]
     },
     "execution_count": 438,
     "metadata": {},
     "output_type": "execute_result"
    }
   ],
   "source": [
    "df_sample.sample(5)"
   ]
  },
  {
   "cell_type": "code",
   "execution_count": 439,
   "metadata": {},
   "outputs": [],
   "source": [
    "df_sample['charge_off'] = df_sample['loan_status'].apply(lambda x : 1 if x=='Charged Off' else 0)\n"
   ]
  },
  {
   "cell_type": "code",
   "execution_count": 440,
   "metadata": {},
   "outputs": [],
   "source": [
    "#next we will find the sample proportions\n",
    "# number of charge offs for 36 and 60 months term\n",
    "total_36CB = sum(df_sample[df_sample.term==36].charge_off)\n",
    "total_60CB = sum(df_sample[df_sample.term==60].charge_off)\n",
    "\n",
    "total_60 = df_sample[df_sample.term==60].term.count()\n",
    "total_36 = df_sample[df_sample.term==36].term.count()\n"
   ]
  },
  {
   "cell_type": "code",
   "execution_count": 441,
   "metadata": {},
   "outputs": [
    {
     "name": "stdout",
     "output_type": "stream",
     "text": [
      "16\n",
      "38\n",
      "100\n",
      "100\n"
     ]
    }
   ],
   "source": [
    "print(total_36CB)\n",
    "print(total_60CB)\n",
    "print(total_60)\n",
    "print(total_36)\n"
   ]
  },
  {
   "cell_type": "code",
   "execution_count": 442,
   "metadata": {},
   "outputs": [
    {
     "name": "stdout",
     "output_type": "stream",
     "text": [
      "P value is 0.00022916078103285553\n",
      "Significance level alpha is 0.09999999999999998\n",
      "Confidence Interval at 95% is -0.32327270837953326  to  -0.11672729162046676\n",
      "Margin of Error is  -0.22\n"
     ]
    }
   ],
   "source": [
    "#source https://stattrek.com/hypothesis-test/difference-in-proportions.aspx\n",
    "\n",
    "p1 = total_36CB/total_36\n",
    "p2 = total_60CB/total_60\n",
    "n1 = total_36\n",
    "n2 = total_60\n",
    "confidence_level = 90\n",
    "p = (p1 * n1 + p2 * n2) / (n1 + n2)\n",
    "SE = np.sqrt(p * ( 1 - p ) * ( (1/n1) + (1/n2) ))\n",
    "z = (p1 - p2) / SE\n",
    "a = 1 - (confidence_level / 100)\n",
    "\n",
    "\n",
    "p_val=1-stats.norm.cdf(abs(z))\n",
    "z_critical=stats.norm.ppf((1+0.90)/2)\n",
    "\n",
    "ci_low = p1-p2-z_critical*SE\n",
    "ci_high = p1-p2+z_critical*SE\n",
    "\n",
    "moe = SE*z\n",
    "print('P value is', p_val)\n",
    "print('Significance level alpha is', a)\n",
    "print('Confidence Interval at 95% is', ci_low, ' to ', ci_high )\n",
    "print('Margin of Error is ', moe)\n",
    "\n"
   ]
  },
  {
   "cell_type": "markdown",
   "metadata": {},
   "source": [
    "Interpretation for Inferential statistics - Test 1:\n",
    "----------------\n",
    " Comparing the P-value to the significance level, we see that the P-value is less than the significance level. (p<a)\n",
    " So we have to reject the null hypothesis. \n",
    " That means Both sample proportions are different i.e. with 90% confidence we can say that term has significant impact on the charge backs "
   ]
  },
  {
   "cell_type": "markdown",
   "metadata": {},
   "source": [
    "Inferential statistics - Test 2\n",
    "-----------------------\n",
    "\n",
    "2. Interest Rate\n",
    "=================\n",
    "\n",
    "\n",
    "Next we will perform a statistical analysis to establish whether interest_rate has a significant impact on the charge backs ie our target variable loan_status\n",
    "\n",
    "1. Test\n",
    "We will use two sample Z statistic test two sided for this problem\n",
    "Explaination- We will take random sample from the data set with sample size =100 (50+50). Our target variable has 2 values. So this is a binomial distribution. However with n=100, CLT applies. The sampling distribution will follow normal distribution.\n",
    "\n",
    "2. Hypothesis\n",
    "\n",
    "Null Hypothesis H0: There are no differences in both sample proportions i.e. interest_rate has no impact on the charge back\n",
    "\n",
    "Alternate hypothesis H1: Both sample proportions are different i.e. interest_rate has impact on the charge backs\n",
    "\n",
    "3. Significance\n",
    "Confidence Level : 95%\n",
    "\n",
    "4. Interpretation\n",
    "Reject the null hypothesis if p value< a \n",
    "\n",
    "Note: the test is appropriate because the sampling method was simple random sampling, the samples were independent, each population was at least 10 times larger than its sample, and each sample included at least 10 successes and 10 failures."
   ]
  },
  {
   "cell_type": "code",
   "execution_count": 443,
   "metadata": {},
   "outputs": [
    {
     "data": {
      "text/plain": [
       "(200, 2)"
      ]
     },
     "execution_count": 443,
     "metadata": {},
     "output_type": "execute_result"
    }
   ],
   "source": [
    "df1 = df_NewAppl[df_NewAppl.loan_status == 'Fully Paid'][['loan_status', 'int_rate']].sample(100)\n",
    "df2 = df_NewAppl[df_NewAppl.loan_status == 'Charged Off'][['loan_status', 'int_rate']].sample(100)\n",
    "frames = [df1, df2]\n",
    "df_sample = pd.concat(frames)\n",
    "df_sample.shape"
   ]
  },
  {
   "cell_type": "code",
   "execution_count": 444,
   "metadata": {},
   "outputs": [
    {
     "data": {
      "text/html": [
       "<div>\n",
       "<style scoped>\n",
       "    .dataframe tbody tr th:only-of-type {\n",
       "        vertical-align: middle;\n",
       "    }\n",
       "\n",
       "    .dataframe tbody tr th {\n",
       "        vertical-align: top;\n",
       "    }\n",
       "\n",
       "    .dataframe thead th {\n",
       "        text-align: right;\n",
       "    }\n",
       "</style>\n",
       "<table border=\"1\" class=\"dataframe\">\n",
       "  <thead>\n",
       "    <tr style=\"text-align: right;\">\n",
       "      <th></th>\n",
       "      <th>int_rate</th>\n",
       "    </tr>\n",
       "  </thead>\n",
       "  <tbody>\n",
       "    <tr>\n",
       "      <th>count</th>\n",
       "      <td>200.000000</td>\n",
       "    </tr>\n",
       "    <tr>\n",
       "      <th>mean</th>\n",
       "      <td>14.010150</td>\n",
       "    </tr>\n",
       "    <tr>\n",
       "      <th>std</th>\n",
       "      <td>4.386206</td>\n",
       "    </tr>\n",
       "    <tr>\n",
       "      <th>min</th>\n",
       "      <td>5.320000</td>\n",
       "    </tr>\n",
       "    <tr>\n",
       "      <th>25%</th>\n",
       "      <td>11.440000</td>\n",
       "    </tr>\n",
       "    <tr>\n",
       "      <th>50%</th>\n",
       "      <td>13.465000</td>\n",
       "    </tr>\n",
       "    <tr>\n",
       "      <th>75%</th>\n",
       "      <td>16.560000</td>\n",
       "    </tr>\n",
       "    <tr>\n",
       "      <th>max</th>\n",
       "      <td>24.990000</td>\n",
       "    </tr>\n",
       "  </tbody>\n",
       "</table>\n",
       "</div>"
      ],
      "text/plain": [
       "         int_rate\n",
       "count  200.000000\n",
       "mean    14.010150\n",
       "std      4.386206\n",
       "min      5.320000\n",
       "25%     11.440000\n",
       "50%     13.465000\n",
       "75%     16.560000\n",
       "max     24.990000"
      ]
     },
     "execution_count": 444,
     "metadata": {},
     "output_type": "execute_result"
    }
   ],
   "source": [
    "df_sample.describe()"
   ]
  },
  {
   "cell_type": "code",
   "execution_count": 445,
   "metadata": {},
   "outputs": [
    {
     "data": {
      "text/plain": [
       "Charged Off    100\n",
       "Fully Paid     100\n",
       "Name: loan_status, dtype: int64"
      ]
     },
     "execution_count": 445,
     "metadata": {},
     "output_type": "execute_result"
    }
   ],
   "source": [
    "df_sample.loan_status.value_counts()"
   ]
  },
  {
   "cell_type": "code",
   "execution_count": 446,
   "metadata": {},
   "outputs": [
    {
     "data": {
      "text/html": [
       "<div>\n",
       "<style scoped>\n",
       "    .dataframe tbody tr th:only-of-type {\n",
       "        vertical-align: middle;\n",
       "    }\n",
       "\n",
       "    .dataframe tbody tr th {\n",
       "        vertical-align: top;\n",
       "    }\n",
       "\n",
       "    .dataframe thead th {\n",
       "        text-align: right;\n",
       "    }\n",
       "</style>\n",
       "<table border=\"1\" class=\"dataframe\">\n",
       "  <thead>\n",
       "    <tr style=\"text-align: right;\">\n",
       "      <th></th>\n",
       "      <th>loan_status</th>\n",
       "      <th>int_rate</th>\n",
       "    </tr>\n",
       "  </thead>\n",
       "  <tbody>\n",
       "    <tr>\n",
       "      <th>2067743</th>\n",
       "      <td>Charged Off</td>\n",
       "      <td>12.99</td>\n",
       "    </tr>\n",
       "    <tr>\n",
       "      <th>1695684</th>\n",
       "      <td>Fully Paid</td>\n",
       "      <td>15.10</td>\n",
       "    </tr>\n",
       "    <tr>\n",
       "      <th>909493</th>\n",
       "      <td>Fully Paid</td>\n",
       "      <td>17.99</td>\n",
       "    </tr>\n",
       "    <tr>\n",
       "      <th>2000622</th>\n",
       "      <td>Fully Paid</td>\n",
       "      <td>7.69</td>\n",
       "    </tr>\n",
       "    <tr>\n",
       "      <th>1807770</th>\n",
       "      <td>Charged Off</td>\n",
       "      <td>19.72</td>\n",
       "    </tr>\n",
       "  </tbody>\n",
       "</table>\n",
       "</div>"
      ],
      "text/plain": [
       "         loan_status  int_rate\n",
       "2067743  Charged Off     12.99\n",
       "1695684   Fully Paid     15.10\n",
       "909493    Fully Paid     17.99\n",
       "2000622   Fully Paid      7.69\n",
       "1807770  Charged Off     19.72"
      ]
     },
     "execution_count": 446,
     "metadata": {},
     "output_type": "execute_result"
    }
   ],
   "source": [
    "df_sample.sample(5)"
   ]
  },
  {
   "cell_type": "code",
   "execution_count": 447,
   "metadata": {},
   "outputs": [
    {
     "name": "stdout",
     "output_type": "stream",
     "text": [
      "P value is 1.0721494803078713e-09\n",
      "Significance level alpha is 0.050000000000000044\n",
      "Confidence Interval at 95% is -4.578505432617423  to  -2.3512945673825847\n",
      "Margin of Error is  -3.4649000000000036\n"
     ]
    }
   ],
   "source": [
    "m1 = np.mean(df_sample[df_sample.loan_status == 'Fully Paid']['int_rate'])\n",
    "std1 = np.std(df_sample[df_sample.loan_status == 'Fully Paid']['int_rate'])\n",
    "\n",
    "m2 = np.mean(df_sample[df_sample.loan_status == 'Charged Off']['int_rate'])\n",
    "std2 = np.std(df_sample[df_sample.loan_status == 'Charged Off']['int_rate'])\n",
    "\n",
    "n1 = df_sample[df_sample.loan_status == 'Fully Paid']['int_rate'].count()\n",
    "n2 = df_sample[df_sample.loan_status == 'Charged Off']['int_rate'].count()\n",
    "confidence_level = 95\n",
    "\n",
    "SE = np.sqrt( ((std1*std1)/n1) + ((std2*std2)/n2) )\n",
    "\n",
    "\n",
    "z = (m1 - m2) / SE\n",
    "a = 1 - (confidence_level / 100)\n",
    "\n",
    "\n",
    "p_val=1-stats.norm.cdf(abs(z))\n",
    "\n",
    "\n",
    "p_val*=2  # two sided test\n",
    "\n",
    "z_critical=stats.norm.ppf((1+0.95)/2)\n",
    "\n",
    "ci_low = m1-m2-z_critical*SE\n",
    "ci_high = m1-m2+z_critical*SE\n",
    "\n",
    "moe = SE*z\n",
    "print('P value is', p_val)\n",
    "print('Significance level alpha is', a)\n",
    "print('Confidence Interval at 95% is', ci_low, ' to ', ci_high )\n",
    "print('Margin of Error is ', moe)"
   ]
  },
  {
   "cell_type": "markdown",
   "metadata": {},
   "source": [
    "Interpretation for Inferential statistics - Test 1:\n",
    "----------------\n",
    "     comparing the P-value to the significance level, we see that the P-value is less than the alpha a.\n",
    "     So we have reject the null hypothesis. \n",
    "    That means Both sample means are different i.e. \n",
    "    with 95% confidence we can say that int_rate has significant impact on the charge offs "
   ]
  },
  {
   "cell_type": "code",
   "execution_count": 448,
   "metadata": {},
   "outputs": [],
   "source": [
    "df_NewAppl['target'] = df_NewAppl['loan_status'].apply(lambda x : 1 if x=='Charged Off' else 0)\n"
   ]
  },
  {
   "cell_type": "markdown",
   "metadata": {},
   "source": [
    "Pearson Correlation\n",
    "-----------------------\n",
    "\n",
    "We find Pearson correlation coefficients between pairs of features from our feature set. Correlation could be either positive or negative. We set the threshold of 0.3 and remove a feature where correlation coefficient > 0.3."
   ]
  },
  {
   "cell_type": "code",
   "execution_count": 451,
   "metadata": {},
   "outputs": [
    {
     "data": {
      "text/plain": [
       "<matplotlib.axes._subplots.AxesSubplot at 0x1a28b498d0>"
      ]
     },
     "execution_count": 451,
     "metadata": {},
     "output_type": "execute_result"
    },
    {
     "data": {
      "image/png": "[encoded data removed]",
      "text/plain": [
       "<Figure size 864x864 with 2 Axes>"
      ]
     },
     "metadata": {
      "needs_background": "light"
     },
     "output_type": "display_data"
    }
   ],
   "source": [
    "plot_list = ['loan_amnt', 'term', 'int_rate','installment', 'dti','open_acc', 'revol_bal','revol_util','total_acc', 'mort_acc']\n",
    "\n",
    "df_plot = pd.DataFrame()\n",
    "df_plot[plot_list] = df_NewAppl[plot_list]\n",
    "plt.figure(figsize=(12,12))\n",
    "cor = df_plot.corr()\n",
    "sns.heatmap(cor, annot=True)\n"
   ]
  },
  {
   "cell_type": "markdown",
   "metadata": {},
   "source": [
    "Loan amount and installment has a correlation coefficient of 0.95\n",
    "\n",
    "Term and loan amount\n",
    "Term and Interest rate\n",
    "\n",
    "Open account and dti\n",
    "Open account and total account\n",
    "\n",
    "Revolving balance and annual income\n",
    "Revolving balance and open account\n",
    "Revolving balance and loan amount\n",
    "revolving balance and Revolving util \n",
    "Revolving balance and installment\n",
    "\n",
    "Total acc and mort acc\n",
    "\n",
    "Annual income and mort acc\n",
    "Annual income and total acc\n",
    "Annual income and revolving balance\n",
    "Annual income and installment\n",
    "Annual income and loan amount\n",
    "\n",
    "We could set the threshold of 0.3 and could remove a feature where correlation coefficient > 0.3"
   ]
  },
  {
   "cell_type": "markdown",
   "metadata": {},
   "source": [
    "ML Model\n",
    "------------\n",
    "\n",
    "\n",
    "The aim is to find y , a target variable based on knowing a list of features X. We are trying to predict 'Loan Status'. Loan_status feature is converted to target feature  with values 0 = 'Fully paid' and 1 = 'Charged Off'. Since target variable takes only 2 values 0 and 1, this will be a binary classification problem.\n",
    "First we will use 'Logistic Regression'\n",
    "\n",
    "Training and Test Datasets\n",
    "When fitting models, we would like to ensure two things:\n",
    "\n",
    "- We have found the best model (in terms of model parameters).\n",
    "- The model is highly likely to generalize i.e. perform well on unseen data.\n",
    "\n",
    "First, we try a basic Logistic Regression:\n",
    "\n",
    "- Split the data into a training and test (hold-out) set\n",
    "- Train on the training set, and test for accuracy on the testing set"
   ]
  },
  {
   "cell_type": "code",
   "execution_count": 471,
   "metadata": {},
   "outputs": [],
   "source": [
    "from sklearn.model_selection import train_test_split\n",
    "from sklearn.linear_model import LogisticRegression\n",
    "from sklearn.metrics import accuracy_score, precision_score, recall_score, f1_score\n",
    "\n",
    "\n",
    "from sklearn.feature_selection import RFE\n",
    "from sklearn import metrics\n",
    "from sklearn.model_selection import KFold\n",
    "from sklearn.ensemble import RandomForestClassifier"
   ]
  },
  {
   "cell_type": "markdown",
   "metadata": {},
   "source": [
    "RFE\n",
    "-----\n",
    "\n",
    "Next we will use RFE. The Recursive Feature Elimination (or RFE) works by recursively removing attributes and building a model on those attributes that remain.\n",
    "\n",
    "It uses the model accuracy to identify which attributes (and combination of attributes) contribute the most to predicting the target attribute.\n",
    "\n",
    "You will use RFE with the Logistic Regression classifier to select the top 4 features. "
   ]
  },
  {
   "cell_type": "code",
   "execution_count": 453,
   "metadata": {
    "scrolled": true
   },
   "outputs": [
    {
     "name": "stderr",
     "output_type": "stream",
     "text": [
      "/anaconda3/lib/python3.7/site-packages/sklearn/linear_model/logistic.py:433: FutureWarning: Default solver will be changed to 'lbfgs' in 0.22. Specify a solver to silence this warning.\n",
      "  FutureWarning)\n",
      "/anaconda3/lib/python3.7/site-packages/sklearn/linear_model/logistic.py:433: FutureWarning: Default solver will be changed to 'lbfgs' in 0.22. Specify a solver to silence this warning.\n",
      "  FutureWarning)\n",
      "/anaconda3/lib/python3.7/site-packages/sklearn/linear_model/logistic.py:433: FutureWarning: Default solver will be changed to 'lbfgs' in 0.22. Specify a solver to silence this warning.\n",
      "  FutureWarning)\n",
      "/anaconda3/lib/python3.7/site-packages/sklearn/linear_model/logistic.py:433: FutureWarning: Default solver will be changed to 'lbfgs' in 0.22. Specify a solver to silence this warning.\n",
      "  FutureWarning)\n",
      "/anaconda3/lib/python3.7/site-packages/sklearn/linear_model/logistic.py:433: FutureWarning: Default solver will be changed to 'lbfgs' in 0.22. Specify a solver to silence this warning.\n",
      "  FutureWarning)\n",
      "/anaconda3/lib/python3.7/site-packages/sklearn/linear_model/logistic.py:433: FutureWarning: Default solver will be changed to 'lbfgs' in 0.22. Specify a solver to silence this warning.\n",
      "  FutureWarning)\n",
      "/anaconda3/lib/python3.7/site-packages/sklearn/linear_model/logistic.py:433: FutureWarning: Default solver will be changed to 'lbfgs' in 0.22. Specify a solver to silence this warning.\n",
      "  FutureWarning)\n",
      "/anaconda3/lib/python3.7/site-packages/sklearn/linear_model/logistic.py:433: FutureWarning: Default solver will be changed to 'lbfgs' in 0.22. Specify a solver to silence this warning.\n",
      "  FutureWarning)\n",
      "/anaconda3/lib/python3.7/site-packages/sklearn/linear_model/logistic.py:433: FutureWarning: Default solver will be changed to 'lbfgs' in 0.22. Specify a solver to silence this warning.\n",
      "  FutureWarning)\n"
     ]
    },
    {
     "name": "stdout",
     "output_type": "stream",
     "text": [
      "Num Features: 4\n",
      "Selected Features: [False  True  True False  True False False False False  True False False]\n",
      "Feature Ranking: [6 1 1 5 1 2 8 4 3 1 7 9]\n"
     ]
    }
   ],
   "source": [
    "\n",
    "feature_list = ['loan_amnt', 'term', 'int_rate','installment', 'dti','open_acc', 'revol_bal','revol_util','total_acc', 'mort_acc', 'annual_inc','annual_inc_norm' ]\n",
    "\n",
    "X = df_NewAppl[feature_list].values\n",
    "y = df_NewAppl.target\n",
    "\n",
    "# Feature extraction\n",
    "model = LogisticRegression()\n",
    "rfe = RFE(model, 4)\n",
    "fit = rfe.fit(X, y)\n",
    "print(\"Num Features: %s\" % (fit.n_features_))\n",
    "print(\"Selected Features: %s\" % (fit.support_))\n",
    "print(\"Feature Ranking: %s\" % (fit.ranking_))"
   ]
  },
  {
   "cell_type": "markdown",
   "metadata": {},
   "source": [
    "RFE chose the top 4 features as 'term','int_rate','mort_acc', 'annual_inc_norm' "
   ]
  },
  {
   "cell_type": "markdown",
   "metadata": {},
   "source": [
    "Let's first build the model with only top 4 features. Next we will build the model with all features. THen compare and see how the model performs."
   ]
  },
  {
   "cell_type": "code",
   "execution_count": 506,
   "metadata": {},
   "outputs": [
    {
     "name": "stderr",
     "output_type": "stream",
     "text": [
      "/anaconda3/lib/python3.7/site-packages/sklearn/linear_model/logistic.py:433: FutureWarning: Default solver will be changed to 'lbfgs' in 0.22. Specify a solver to silence this warning.\n",
      "  FutureWarning)\n"
     ]
    },
    {
     "name": "stdout",
     "output_type": "stream",
     "text": [
      "Accuracy Score =  0.808277276250969\n",
      "Classification report for LogisticRegression(C=1.0, class_weight=None, dual=False, fit_intercept=True,\n",
      "          intercept_scaling=1, max_iter=100, multi_class='warn',\n",
      "          n_jobs=None, penalty='l2', random_state=None, solver='warn',\n",
      "          tol=0.0001, verbose=0, warm_start=False)\n",
      "              precision    recall  f1-score   support\n",
      "\n",
      "           0       0.81      0.99      0.89    161771\n",
      "           1       0.48      0.04      0.08     38174\n",
      "\n",
      "   micro avg       0.81      0.81      0.81    199945\n",
      "   macro avg       0.65      0.52      0.49    199945\n",
      "weighted avg       0.75      0.81      0.74    199945\n",
      "\n",
      "[[159900   1871]\n",
      " [ 36463   1711]]\n"
     ]
    }
   ],
   "source": [
    "\n",
    "feature_list = ['term','int_rate','mort_acc', 'annual_inc_norm' ]\n",
    "\n",
    "X = df_NewAppl[feature_list].values\n",
    "y = df_NewAppl.target\n",
    "\n",
    "# Split the data into a training and test set.\n",
    "Xlr, Xtestlr, ylr, ytestlr = train_test_split(X, y,random_state=5)\n",
    "\n",
    "clf = LogisticRegression()\n",
    "\n",
    "# Fit the model on the trainng data.\n",
    "clf.fit(Xlr, ylr)\n",
    "\n",
    "# Print the accuracy from the testing data.\n",
    "y_predicted= clf.predict(Xtestlr)\n",
    "print(\"Accuracy Score = \", accuracy_score(y_predicted, ytestlr))\n",
    "\n",
    "# performance\n",
    "print(\"Classification report for %s\" % clf)\n",
    "print(metrics.classification_report(ytestlr, y_predicted))\n",
    "\n",
    "print(metrics.confusion_matrix(ytestlr,y_predicted))\n"
   ]
  },
  {
   "cell_type": "markdown",
   "metadata": {},
   "source": [
    "Handling Imbalanced distribution using class_weight of LogisticRegression\n",
    "--------------------------------------------\n",
    "As we have previously seen, out target variable is highlay imbalanced (0=80% and 1=20%).\n",
    "LogisticRegression comes with a built-in method of handling imbalanced classes. If we have highly imbalanced classes then we have the option of using the class_weight parameter to weight the classes to make certain we have a balanced mix of each class. Specifically, the balanced argument will automatically weigh classes inversely proportional to their frequency:\n"
   ]
  },
  {
   "cell_type": "code",
   "execution_count": 507,
   "metadata": {},
   "outputs": [
    {
     "name": "stderr",
     "output_type": "stream",
     "text": [
      "/anaconda3/lib/python3.7/site-packages/sklearn/linear_model/logistic.py:433: FutureWarning: Default solver will be changed to 'lbfgs' in 0.22. Specify a solver to silence this warning.\n",
      "  FutureWarning)\n"
     ]
    },
    {
     "name": "stdout",
     "output_type": "stream",
     "text": [
      "Accuracy Score =  0.6555902873290155\n",
      "Classification report for LogisticRegression(C=1.0, class_weight='balanced', dual=False,\n",
      "          fit_intercept=True, intercept_scaling=1, max_iter=100,\n",
      "          multi_class='warn', n_jobs=None, penalty='l2', random_state=0,\n",
      "          solver='warn', tol=0.0001, verbose=0, warm_start=False)\n",
      "              precision    recall  f1-score   support\n",
      "\n",
      "           0       0.88      0.67      0.76    161771\n",
      "           1       0.30      0.61      0.40     38174\n",
      "\n",
      "   micro avg       0.66      0.66      0.66    199945\n",
      "   macro avg       0.59      0.64      0.58    199945\n",
      "weighted avg       0.77      0.66      0.69    199945\n",
      "\n",
      "[[107750  54021]\n",
      " [ 14842  23332]]\n"
     ]
    }
   ],
   "source": [
    "feature_list = ['term','int_rate','mort_acc', 'annual_inc_norm' ]\n",
    "\n",
    "X = df_NewAppl[feature_list].values\n",
    "y = df_NewAppl.target\n",
    "\n",
    "# Split the data into a training and test set.\n",
    "Xlr, Xtestlr, ylr, ytestlr = train_test_split(X, y,random_state=5)\n",
    "\n",
    "clf = LogisticRegression(random_state=0, class_weight='balanced')\n",
    "\n",
    "# Fit the model on the trainng data.\n",
    "clf.fit(Xlr, ylr)\n",
    "\n",
    "# Print the accuracy from the testing data.\n",
    "y_predicted= clf.predict(Xtestlr)\n",
    "print(\"Accuracy Score = \", accuracy_score(y_predicted, ytestlr))\n",
    "\n",
    "# performance\n",
    "print(\"Classification report for %s\" % clf)\n",
    "print(metrics.classification_report(ytestlr, y_predicted))\n",
    "\n",
    "print(metrics.confusion_matrix(ytestlr,y_predicted))\n",
    "\n"
   ]
  },
  {
   "cell_type": "code",
   "execution_count": 455,
   "metadata": {},
   "outputs": [],
   "source": [
    "#Next let's build the model with all the features and compare\n",
    "#this will most probably lead to over fitting"
   ]
  },
  {
   "cell_type": "code",
   "execution_count": 508,
   "metadata": {},
   "outputs": [
    {
     "name": "stderr",
     "output_type": "stream",
     "text": [
      "/anaconda3/lib/python3.7/site-packages/sklearn/linear_model/logistic.py:433: FutureWarning: Default solver will be changed to 'lbfgs' in 0.22. Specify a solver to silence this warning.\n",
      "  FutureWarning)\n"
     ]
    }
   ],
   "source": [
    "feature_list2 = ['loan_amnt', 'term', 'int_rate','installment', 'dti','open_acc', 'revol_bal','revol_util','total_acc', 'mort_acc','annual_inc_norm' ]\n",
    "\n",
    "#Next let's build the model with all the features and compare\n",
    "\n",
    "X2 = df_NewAppl[feature_list2].values\n",
    "y2 = df_NewAppl.target\n",
    "\n",
    "# Split the data into a training and test set.\n",
    "Xlr2, Xtestlr2, ylr2, ytestlr2 = train_test_split(X2, y2,random_state=5)\n",
    "\n",
    "clf2 = LogisticRegression(random_state=1, class_weight='balanced')\n",
    "\n",
    "# Fit the model on the trainng data.\n",
    "history = clf2.fit(Xlr2, ylr2)\n",
    "\n",
    "# Print the accuracy from the testing data.\n",
    "y_predicted2= clf2.predict(Xtestlr2)\n"
   ]
  },
  {
   "cell_type": "code",
   "execution_count": 509,
   "metadata": {},
   "outputs": [
    {
     "name": "stdout",
     "output_type": "stream",
     "text": [
      "\n",
      "Model Performance Metrics : \n",
      "------------------------------\n",
      "Accuracy  : 0.654400\n",
      "\n",
      "Model Classification report :\n",
      "------------------------------\n",
      "              precision    recall  f1-score   support\n",
      "\n",
      "           0       0.88      0.66      0.76    161771\n",
      "           1       0.30      0.62      0.41     38174\n",
      "\n",
      "   micro avg       0.65      0.65      0.65    199945\n",
      "   macro avg       0.59      0.64      0.58    199945\n",
      "weighted avg       0.77      0.65      0.69    199945\n",
      "\n"
     ]
    }
   ],
   "source": [
    "print(\"\\nModel Performance Metrics : \")\n",
    "print('-'*30)\n",
    "# accuracy:\n",
    "accuracy = accuracy_score(ytestlr2, y_predicted2)\n",
    "print('Accuracy  : %f' % accuracy)\n",
    "\n",
    "\n",
    "# performance\n",
    "print(\"\\nModel Classification report :\")\n",
    "print('-'*30)\n",
    "Model1 = metrics.classification_report(ytestlr2, y_predicted2)\n",
    "\n",
    "print(Model1)"
   ]
  },
  {
   "cell_type": "code",
   "execution_count": 510,
   "metadata": {},
   "outputs": [
    {
     "name": "stderr",
     "output_type": "stream",
     "text": [
      "/anaconda3/lib/python3.7/site-packages/sklearn/linear_model/logistic.py:433: FutureWarning: Default solver will be changed to 'lbfgs' in 0.22. Specify a solver to silence this warning.\n",
      "  FutureWarning)\n"
     ]
    },
    {
     "name": "stdout",
     "output_type": "stream",
     "text": [
      "0.8093125609542624\n",
      "Classification report for LogisticRegression(C=0.001, class_weight=None, dual=False, fit_intercept=True,\n",
      "          intercept_scaling=1, max_iter=100, multi_class='warn',\n",
      "          n_jobs=None, penalty='l2', random_state=None, solver='warn',\n",
      "          tol=0.0001, verbose=0, warm_start=False)\n",
      "              precision    recall  f1-score   support\n",
      "\n",
      "           0       0.88      0.67      0.76    161771\n",
      "           1       0.30      0.61      0.40     38174\n",
      "\n",
      "   micro avg       0.66      0.66      0.66    199945\n",
      "   macro avg       0.59      0.64      0.58    199945\n",
      "weighted avg       0.77      0.66      0.69    199945\n",
      "\n",
      "[[107750  54021]\n",
      " [ 14842  23332]]\n"
     ]
    }
   ],
   "source": [
    "\n",
    "#1.Use the C and train a Logistic Regression on the training data\n",
    "clf = LogisticRegression(C=0.001)\n",
    "# Fit the model on the trainng data.\n",
    "clf.fit(Xlr, ylr)\n",
    "#2.Calculate the accuracy on the test data\n",
    "# Print the accuracy from the testing data.\n",
    "print(accuracy_score(clf.predict(Xtestlr), ytestlr))\n",
    "\n",
    "# performance\n",
    "print(\"Classification report for %s\" % clf)\n",
    "print(metrics.classification_report(ytestlr, y_predicted))\n",
    "\n",
    "print(metrics.confusion_matrix(ytestlr,y_predicted))"
   ]
  },
  {
   "cell_type": "code",
   "execution_count": 511,
   "metadata": {},
   "outputs": [
    {
     "name": "stderr",
     "output_type": "stream",
     "text": [
      "/anaconda3/lib/python3.7/site-packages/sklearn/linear_model/logistic.py:433: FutureWarning: Default solver will be changed to 'lbfgs' in 0.22. Specify a solver to silence this warning.\n",
      "  FutureWarning)\n",
      "/anaconda3/lib/python3.7/site-packages/sklearn/linear_model/logistic.py:433: FutureWarning: Default solver will be changed to 'lbfgs' in 0.22. Specify a solver to silence this warning.\n",
      "  FutureWarning)\n",
      "/anaconda3/lib/python3.7/site-packages/sklearn/linear_model/logistic.py:433: FutureWarning: Default solver will be changed to 'lbfgs' in 0.22. Specify a solver to silence this warning.\n",
      "  FutureWarning)\n",
      "/anaconda3/lib/python3.7/site-packages/sklearn/linear_model/logistic.py:433: FutureWarning: Default solver will be changed to 'lbfgs' in 0.22. Specify a solver to silence this warning.\n",
      "  FutureWarning)\n",
      "/anaconda3/lib/python3.7/site-packages/sklearn/linear_model/logistic.py:433: FutureWarning: Default solver will be changed to 'lbfgs' in 0.22. Specify a solver to silence this warning.\n",
      "  FutureWarning)\n",
      "/anaconda3/lib/python3.7/site-packages/sklearn/linear_model/logistic.py:433: FutureWarning: Default solver will be changed to 'lbfgs' in 0.22. Specify a solver to silence this warning.\n",
      "  FutureWarning)\n",
      "/anaconda3/lib/python3.7/site-packages/sklearn/linear_model/logistic.py:433: FutureWarning: Default solver will be changed to 'lbfgs' in 0.22. Specify a solver to silence this warning.\n",
      "  FutureWarning)\n",
      "/anaconda3/lib/python3.7/site-packages/sklearn/linear_model/logistic.py:433: FutureWarning: Default solver will be changed to 'lbfgs' in 0.22. Specify a solver to silence this warning.\n",
      "  FutureWarning)\n",
      "/anaconda3/lib/python3.7/site-packages/sklearn/linear_model/logistic.py:433: FutureWarning: Default solver will be changed to 'lbfgs' in 0.22. Specify a solver to silence this warning.\n",
      "  FutureWarning)\n",
      "/anaconda3/lib/python3.7/site-packages/sklearn/linear_model/logistic.py:433: FutureWarning: Default solver will be changed to 'lbfgs' in 0.22. Specify a solver to silence this warning.\n",
      "  FutureWarning)\n"
     ]
    },
    {
     "name": "stdout",
     "output_type": "stream",
     "text": [
      "F1 score: 0.73 with 95% Confidence Interval (+/- 0.0045)\n",
      "\n",
      "Classification report for all folds LogisticRegression(C=0.001, class_weight=None, dual=False, fit_intercept=True,\n",
      "          intercept_scaling=1, max_iter=100, multi_class='warn',\n",
      "          n_jobs=None, penalty='l2', random_state=None, solver='warn',\n",
      "          tol=0.0001, verbose=0, warm_start=False)\n",
      "\n",
      "[0.73409445 0.72873287 0.72884306 0.7273759  0.72887851 0.7301506\n",
      " 0.72969979 0.73492285 0.72992007 0.73028297]\n"
     ]
    }
   ],
   "source": [
    "#let's do K fold cross validation and find the F1 scores\n",
    "\n",
    "from sklearn.model_selection import cross_val_score\n",
    "\n",
    "scores = cross_val_score(clf, X, y, cv=10, scoring='f1_weighted')\n",
    "#print(scores)\n",
    "print(\"F1 score: %0.2f with 95%% Confidence Interval (+/- %0.4f)\\n\" % (scores.mean(), scores.std() *2))\n",
    "\n",
    "print(\"Classification report for all folds %s\\n\" % clf)\n",
    "print(scores)\n",
    "\n"
   ]
  },
  {
   "cell_type": "markdown",
   "metadata": {},
   "source": [
    "Handling data imbalance using weighted sampling\n",
    "-------------------------------------------------------\n"
   ]
  },
  {
   "cell_type": "code",
   "execution_count": 482,
   "metadata": {},
   "outputs": [
    {
     "data": {
      "text/plain": [
       "0    647325\n",
       "1    152455\n",
       "Name: target, dtype: int64"
      ]
     },
     "execution_count": 482,
     "metadata": {},
     "output_type": "execute_result"
    }
   ],
   "source": [
    "df_NewAppl.target.value_counts()"
   ]
  },
  {
   "cell_type": "code",
   "execution_count": 484,
   "metadata": {},
   "outputs": [
    {
     "data": {
      "text/plain": [
       "0    0.809379\n",
       "1    0.190621\n",
       "Name: target, dtype: float64"
      ]
     },
     "execution_count": 484,
     "metadata": {},
     "output_type": "execute_result"
    }
   ],
   "source": [
    "#data with 80-20 imbalance\n",
    "df_NewAppl.target.value_counts(normalize=True)"
   ]
  },
  {
   "cell_type": "code",
   "execution_count": 517,
   "metadata": {},
   "outputs": [],
   "source": [
    "#taking a sample for 'fully paid = 0' and 'charged off=1'\n",
    "#includig 180k for class0 and around 152k for class1\n",
    "sample0 = df_NewAppl[df_NewAppl.target == 0].sample(n=180000)\n",
    "sample1 = df_NewAppl[df_NewAppl.target==1]\n",
    "frames = [sample0, sample1]\n",
    "df_sample = pd.concat(frames)\n",
    "df_sample.shape\n",
    "\n",
    "X = df_sample[feature_list]\n",
    "y = df_sample.target\n",
    "\n",
    "#split the train test data\n",
    "X_train, X_test, y_train, y_test = train_test_split(X, y, test_size=0.2)\n"
   ]
  },
  {
   "cell_type": "code",
   "execution_count": 514,
   "metadata": {},
   "outputs": [
    {
     "name": "stdout",
     "output_type": "stream",
     "text": [
      "(799780, 4)\n",
      "(265964, 4)\n",
      "(53193, 4)\n",
      "(66491, 4)\n"
     ]
    }
   ],
   "source": [
    "print(X.shape)\n",
    "print(X_train.shape)\n",
    "print(X_val.shape)\n",
    "print(X_test.shape)\n"
   ]
  },
  {
   "cell_type": "code",
   "execution_count": 497,
   "metadata": {},
   "outputs": [
    {
     "data": {
      "text/plain": [
       "0    0.541427\n",
       "1    0.458573\n",
       "Name: target, dtype: float64"
      ]
     },
     "execution_count": 497,
     "metadata": {},
     "output_type": "execute_result"
    }
   ],
   "source": [
    "df_sample.target.value_counts(normalize=True)\n",
    "#imbalance -no more!"
   ]
  },
  {
   "cell_type": "code",
   "execution_count": 502,
   "metadata": {},
   "outputs": [
    {
     "name": "stderr",
     "output_type": "stream",
     "text": [
      "/anaconda3/lib/python3.7/site-packages/sklearn/linear_model/logistic.py:433: FutureWarning: Default solver will be changed to 'lbfgs' in 0.22. Specify a solver to silence this warning.\n",
      "  FutureWarning)\n",
      "/anaconda3/lib/python3.7/site-packages/sklearn/linear_model/logistic.py:433: FutureWarning: Default solver will be changed to 'lbfgs' in 0.22. Specify a solver to silence this warning.\n",
      "  FutureWarning)\n",
      "/anaconda3/lib/python3.7/site-packages/sklearn/linear_model/logistic.py:433: FutureWarning: Default solver will be changed to 'lbfgs' in 0.22. Specify a solver to silence this warning.\n",
      "  FutureWarning)\n",
      "/anaconda3/lib/python3.7/site-packages/sklearn/linear_model/logistic.py:433: FutureWarning: Default solver will be changed to 'lbfgs' in 0.22. Specify a solver to silence this warning.\n",
      "  FutureWarning)\n",
      "/anaconda3/lib/python3.7/site-packages/sklearn/linear_model/logistic.py:433: FutureWarning: Default solver will be changed to 'lbfgs' in 0.22. Specify a solver to silence this warning.\n",
      "  FutureWarning)\n",
      "/anaconda3/lib/python3.7/site-packages/sklearn/linear_model/logistic.py:433: FutureWarning: Default solver will be changed to 'lbfgs' in 0.22. Specify a solver to silence this warning.\n",
      "  FutureWarning)\n",
      "/anaconda3/lib/python3.7/site-packages/sklearn/linear_model/logistic.py:433: FutureWarning: Default solver will be changed to 'lbfgs' in 0.22. Specify a solver to silence this warning.\n",
      "  FutureWarning)\n",
      "/anaconda3/lib/python3.7/site-packages/sklearn/linear_model/logistic.py:433: FutureWarning: Default solver will be changed to 'lbfgs' in 0.22. Specify a solver to silence this warning.\n",
      "  FutureWarning)\n",
      "/anaconda3/lib/python3.7/site-packages/sklearn/linear_model/logistic.py:433: FutureWarning: Default solver will be changed to 'lbfgs' in 0.22. Specify a solver to silence this warning.\n",
      "  FutureWarning)\n",
      "/anaconda3/lib/python3.7/site-packages/sklearn/linear_model/logistic.py:433: FutureWarning: Default solver will be changed to 'lbfgs' in 0.22. Specify a solver to silence this warning.\n",
      "  FutureWarning)\n"
     ]
    },
    {
     "name": "stdout",
     "output_type": "stream",
     "text": [
      "Accuracy Score =  0.6420643395346739\n",
      "Classification report for LogisticRegression(C=1.0, class_weight=None, dual=False, fit_intercept=True,\n",
      "          intercept_scaling=1, max_iter=100, multi_class='warn',\n",
      "          n_jobs=None, penalty='l2', random_state=None, solver='warn',\n",
      "          tol=0.0001, verbose=0, warm_start=False)\n",
      "              precision    recall  f1-score   support\n",
      "\n",
      "           0       0.74      0.65      0.69    163888\n",
      "           1       0.53      0.63      0.58    102076\n",
      "\n",
      "   micro avg       0.64      0.64      0.64    265964\n",
      "   macro avg       0.63      0.64      0.63    265964\n",
      "weighted avg       0.66      0.64      0.65    265964\n",
      "\n",
      "[[106279  57609]\n",
      " [ 37589  64487]]\n"
     ]
    }
   ],
   "source": [
    "#let's do K fold cross validation and find the scores\n",
    "\n",
    "from sklearn.model_selection import cross_val_predict\n",
    "\n",
    "clf = LogisticRegression()\n",
    "\n",
    "y_predicted = cross_val_predict(clf, X_train, y_train, cv=10)\n",
    "#accuracy\n",
    "print(\"Accuracy Score = \", accuracy_score(y_predicted, y_train))\n",
    "\n",
    "# performance\n",
    "print(\"Classification report for %s\" % clf)\n",
    "print(metrics.classification_report(y_predicted, y_train))\n",
    "\n",
    "print(metrics.confusion_matrix(y_predicted, y_train))\n",
    "\n"
   ]
  },
  {
   "cell_type": "markdown",
   "metadata": {},
   "source": [
    "handling data imbalance using StratifiedKFold\n",
    "-------------------------------------------------------\n",
    "From the sklearn docs for cross_val_score's cv argument :\n",
    "\n",
    "\"For cv = integer/None inputs, if y is binary or multiclass, StratifiedKFold used. \n",
    "\n",
    "StratifiedKFold is a variation of k-fold which returns stratified folds: each set contains approximately the same percentage of samples of each target class as the complete set."
   ]
  },
  {
   "cell_type": "code",
   "execution_count": 521,
   "metadata": {},
   "outputs": [
    {
     "name": "stderr",
     "output_type": "stream",
     "text": [
      "/anaconda3/lib/python3.7/site-packages/sklearn/linear_model/logistic.py:433: FutureWarning: Default solver will be changed to 'lbfgs' in 0.22. Specify a solver to silence this warning.\n",
      "  FutureWarning)\n",
      "/anaconda3/lib/python3.7/site-packages/sklearn/linear_model/logistic.py:433: FutureWarning: Default solver will be changed to 'lbfgs' in 0.22. Specify a solver to silence this warning.\n",
      "  FutureWarning)\n",
      "/anaconda3/lib/python3.7/site-packages/sklearn/linear_model/logistic.py:433: FutureWarning: Default solver will be changed to 'lbfgs' in 0.22. Specify a solver to silence this warning.\n",
      "  FutureWarning)\n",
      "/anaconda3/lib/python3.7/site-packages/sklearn/linear_model/logistic.py:433: FutureWarning: Default solver will be changed to 'lbfgs' in 0.22. Specify a solver to silence this warning.\n",
      "  FutureWarning)\n",
      "/anaconda3/lib/python3.7/site-packages/sklearn/linear_model/logistic.py:433: FutureWarning: Default solver will be changed to 'lbfgs' in 0.22. Specify a solver to silence this warning.\n",
      "  FutureWarning)\n",
      "/anaconda3/lib/python3.7/site-packages/sklearn/linear_model/logistic.py:433: FutureWarning: Default solver will be changed to 'lbfgs' in 0.22. Specify a solver to silence this warning.\n",
      "  FutureWarning)\n",
      "/anaconda3/lib/python3.7/site-packages/sklearn/linear_model/logistic.py:433: FutureWarning: Default solver will be changed to 'lbfgs' in 0.22. Specify a solver to silence this warning.\n",
      "  FutureWarning)\n",
      "/anaconda3/lib/python3.7/site-packages/sklearn/linear_model/logistic.py:433: FutureWarning: Default solver will be changed to 'lbfgs' in 0.22. Specify a solver to silence this warning.\n",
      "  FutureWarning)\n",
      "/anaconda3/lib/python3.7/site-packages/sklearn/linear_model/logistic.py:433: FutureWarning: Default solver will be changed to 'lbfgs' in 0.22. Specify a solver to silence this warning.\n",
      "  FutureWarning)\n",
      "/anaconda3/lib/python3.7/site-packages/sklearn/linear_model/logistic.py:433: FutureWarning: Default solver will be changed to 'lbfgs' in 0.22. Specify a solver to silence this warning.\n",
      "  FutureWarning)\n",
      "/anaconda3/lib/python3.7/site-packages/sklearn/linear_model/logistic.py:433: FutureWarning: Default solver will be changed to 'lbfgs' in 0.22. Specify a solver to silence this warning.\n",
      "  FutureWarning)\n",
      "/anaconda3/lib/python3.7/site-packages/sklearn/linear_model/logistic.py:433: FutureWarning: Default solver will be changed to 'lbfgs' in 0.22. Specify a solver to silence this warning.\n",
      "  FutureWarning)\n",
      "/anaconda3/lib/python3.7/site-packages/sklearn/linear_model/logistic.py:433: FutureWarning: Default solver will be changed to 'lbfgs' in 0.22. Specify a solver to silence this warning.\n",
      "  FutureWarning)\n",
      "/anaconda3/lib/python3.7/site-packages/sklearn/linear_model/logistic.py:433: FutureWarning: Default solver will be changed to 'lbfgs' in 0.22. Specify a solver to silence this warning.\n",
      "  FutureWarning)\n",
      "/anaconda3/lib/python3.7/site-packages/sklearn/linear_model/logistic.py:433: FutureWarning: Default solver will be changed to 'lbfgs' in 0.22. Specify a solver to silence this warning.\n",
      "  FutureWarning)\n",
      "/anaconda3/lib/python3.7/site-packages/sklearn/linear_model/logistic.py:433: FutureWarning: Default solver will be changed to 'lbfgs' in 0.22. Specify a solver to silence this warning.\n",
      "  FutureWarning)\n",
      "/anaconda3/lib/python3.7/site-packages/sklearn/linear_model/logistic.py:433: FutureWarning: Default solver will be changed to 'lbfgs' in 0.22. Specify a solver to silence this warning.\n",
      "  FutureWarning)\n",
      "/anaconda3/lib/python3.7/site-packages/sklearn/linear_model/logistic.py:433: FutureWarning: Default solver will be changed to 'lbfgs' in 0.22. Specify a solver to silence this warning.\n",
      "  FutureWarning)\n",
      "/anaconda3/lib/python3.7/site-packages/sklearn/linear_model/logistic.py:433: FutureWarning: Default solver will be changed to 'lbfgs' in 0.22. Specify a solver to silence this warning.\n",
      "  FutureWarning)\n",
      "/anaconda3/lib/python3.7/site-packages/sklearn/linear_model/logistic.py:433: FutureWarning: Default solver will be changed to 'lbfgs' in 0.22. Specify a solver to silence this warning.\n",
      "  FutureWarning)\n",
      "/anaconda3/lib/python3.7/site-packages/sklearn/linear_model/logistic.py:433: FutureWarning: Default solver will be changed to 'lbfgs' in 0.22. Specify a solver to silence this warning.\n",
      "  FutureWarning)\n",
      "/anaconda3/lib/python3.7/site-packages/sklearn/linear_model/logistic.py:433: FutureWarning: Default solver will be changed to 'lbfgs' in 0.22. Specify a solver to silence this warning.\n",
      "  FutureWarning)\n",
      "/anaconda3/lib/python3.7/site-packages/sklearn/linear_model/logistic.py:433: FutureWarning: Default solver will be changed to 'lbfgs' in 0.22. Specify a solver to silence this warning.\n",
      "  FutureWarning)\n",
      "/anaconda3/lib/python3.7/site-packages/sklearn/linear_model/logistic.py:433: FutureWarning: Default solver will be changed to 'lbfgs' in 0.22. Specify a solver to silence this warning.\n",
      "  FutureWarning)\n",
      "/anaconda3/lib/python3.7/site-packages/sklearn/linear_model/logistic.py:433: FutureWarning: Default solver will be changed to 'lbfgs' in 0.22. Specify a solver to silence this warning.\n",
      "  FutureWarning)\n",
      "/anaconda3/lib/python3.7/site-packages/sklearn/linear_model/logistic.py:433: FutureWarning: Default solver will be changed to 'lbfgs' in 0.22. Specify a solver to silence this warning.\n",
      "  FutureWarning)\n",
      "/anaconda3/lib/python3.7/site-packages/sklearn/linear_model/logistic.py:433: FutureWarning: Default solver will be changed to 'lbfgs' in 0.22. Specify a solver to silence this warning.\n",
      "  FutureWarning)\n",
      "/anaconda3/lib/python3.7/site-packages/sklearn/linear_model/logistic.py:433: FutureWarning: Default solver will be changed to 'lbfgs' in 0.22. Specify a solver to silence this warning.\n",
      "  FutureWarning)\n",
      "/anaconda3/lib/python3.7/site-packages/sklearn/linear_model/logistic.py:433: FutureWarning: Default solver will be changed to 'lbfgs' in 0.22. Specify a solver to silence this warning.\n",
      "  FutureWarning)\n",
      "/anaconda3/lib/python3.7/site-packages/sklearn/linear_model/logistic.py:433: FutureWarning: Default solver will be changed to 'lbfgs' in 0.22. Specify a solver to silence this warning.\n",
      "  FutureWarning)\n"
     ]
    },
    {
     "name": "stdout",
     "output_type": "stream",
     "text": [
      "Classification report for all folds LogisticRegression(C=0.001, class_weight=None, dual=False, fit_intercept=True,\n",
      "          intercept_scaling=1, max_iter=100, multi_class='warn',\n",
      "          n_jobs=None, penalty='l2', random_state=None, solver='warn',\n",
      "          tol=0.0001, verbose=0, warm_start=False)\n",
      "\n",
      "Recall :  0.5397440626012076\n",
      "Precision :  0.6284955518946199\n",
      "F1 :  0.5807422173930658\n"
     ]
    }
   ],
   "source": [
    "#let's do StratifiedKFold cross validation and find the scores\n",
    "\n",
    "recall = cross_val_score(clf, X_train, y_train, cv=10, scoring='recall')\n",
    "precision = cross_val_score(clf, X_train, y_train, cv=10, scoring='precision')\n",
    "f1 = cross_val_score(clf, X_train, y_train, cv=10, scoring='f1')\n",
    "\n",
    "print(\"Classification report for all folds %s\\n\" % clf)\n",
    "print('Recall : ', np.mean(recall))\n",
    "print('Precision : ', np.mean(precision))\n",
    "print('F1 : ', np.mean(f1))"
   ]
  },
  {
   "cell_type": "markdown",
   "metadata": {},
   "source": [
    "Model Assumptions and Data Quality\n",
    "-------------------------------------------\n",
    "To gauge how the model will perform with the real world data, let's look at the train and test data.\n",
    "Wwill be looking at the underlying distribution of our train and test data. We will take small samples and see if they follow the same distribution. If there is a change in data distributions, its called data drifting.\n",
    "steps-\n",
    "1.we create a dataset which is a mixture of training and test instances, where we have labelled each instance of training data as ‘training =0’ and test as ‘test=1’ before mixing.\n",
    "2.create a model taking one feature at a time while having ‘origin’ as the target variable on part of dataset\n",
    "3.predict on the rest part of the dataset and calculate the value of AUC-ROC.\n",
    "4.if the value of AUC-ROC for a particular feature is greater than 0.80, we classify that feature as drifting."
   ]
  },
  {
   "cell_type": "code",
   "execution_count": 480,
   "metadata": {},
   "outputs": [
    {
     "name": "stderr",
     "output_type": "stream",
     "text": [
      "/anaconda3/lib/python3.7/site-packages/ipykernel_launcher.py:16: SettingWithCopyWarning: \n",
      "A value is trying to be set on a copy of a slice from a DataFrame.\n",
      "Try using .loc[row_indexer,col_indexer] = value instead\n",
      "\n",
      "See the caveats in the documentation: http://pandas.pydata.org/pandas-docs/stable/indexing.html#indexing-view-versus-copy\n",
      "  app.launch_new_instance()\n",
      "/anaconda3/lib/python3.7/site-packages/ipykernel_launcher.py:17: SettingWithCopyWarning: \n",
      "A value is trying to be set on a copy of a slice from a DataFrame.\n",
      "Try using .loc[row_indexer,col_indexer] = value instead\n",
      "\n",
      "See the caveats in the documentation: http://pandas.pydata.org/pandas-docs/stable/indexing.html#indexing-view-versus-copy\n"
     ]
    },
    {
     "name": "stdout",
     "output_type": "stream",
     "text": [
      "Not drifting term 0.50275\n",
      "Not drifting int_rate 0.50140751\n",
      "Not drifting mort_acc 0.49924454000000007\n",
      "Not drifting annual_inc_norm 0.50868803\n"
     ]
    }
   ],
   "source": [
    "feature_list = ['term','int_rate','mort_acc', 'annual_inc_norm' ]\n",
    "\n",
    "X = df_NewAppl[feature_list]\n",
    "y = df_NewAppl.target\n",
    "\n",
    "# Split the data into a training and test set.\n",
    "Xlr, Xtestlr, ylr, ytestlr = train_test_split(X, y,random_state=5)\n",
    "\n",
    "# store the train and test data\n",
    "train = Xlr\n",
    "test = Xtestlr\n",
    "\n",
    "## creating a new feature origin\n",
    "train['origin'] = 0\n",
    "test['origin'] = 1\n",
    "\n",
    "## taking sample from training and test data\n",
    "training = train.sample(10000, random_state=1)\n",
    "testing = test.sample(10000, random_state=2)\n",
    "\n",
    "## combining random samples and deleting the 'origin' from our X=combi\n",
    "combi = training.append(testing)\n",
    "y = combi['origin']\n",
    "combi.drop('origin',axis=1,inplace=True)\n",
    "\n",
    "## modelling\n",
    "model = RandomForestClassifier(n_estimators = 50, max_depth = 5,min_samples_leaf = 5)\n",
    "drop_list = []\n",
    "for i in combi.columns:\n",
    "    score = cross_val_score(model,pd.DataFrame(combi[i]),y,cv=2,scoring='roc_auc')\n",
    "    if (np.mean(score) > 0.8):\n",
    "        drop_list.append(i)\n",
    "        print('drifting', i,np.mean(score))\n",
    "    else:\n",
    "        print('Not drifting' , i,np.mean(score))\n"
   ]
  },
  {
   "cell_type": "markdown",
   "metadata": {},
   "source": [
    " Conclusion\n",
    " --------------\n",
    " This proves that our train and test data comes from the same underlying distribution.\n"
   ]
  },
  {
   "cell_type": "markdown",
   "metadata": {},
   "source": [
    "Future Recommendations/ Improvements\n",
    "------------------------------------------------\n",
    "Since our train and test data come from the same file, \n",
    "we can safely say that the samples taken from train and test data are coming from the same ditribution.\n",
    "This could be the contributing factor to get nicely performing ML model. \n",
    "However this may not be the case in the real world. \n",
    "So there is a possibility that the model maynot predict as efficiently with the real world data.\n",
    "So there is a good scope of future imporovement with respect to model efficiency in cases where model performs poorly. \n",
    "Also we will need to iteratively keep training the model to include as diverse training cases as possible.\n"
   ]
  },
  {
   "cell_type": "code",
   "execution_count": null,
   "metadata": {},
   "outputs": [],
   "source": []
  }
 ],
 "metadata": {
  "kernelspec": {
   "display_name": "Python 3",
   "language": "python",
   "name": "python3"
  },
  "language_info": {
   "codemirror_mode": {
    "name": "ipython",
    "version": 3
   },
   "file_extension": ".py",
   "mimetype": "text/x-python",
   "name": "python",
   "nbconvert_exporter": "python",
   "pygments_lexer": "ipython3",
   "version": "3.7.3"
  }
 },
 "nbformat": 4,
 "nbformat_minor": 2
}
