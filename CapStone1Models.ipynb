{
 "cells": [
  {
   "cell_type": "code",
   "execution_count": 1,
   "metadata": {},
   "outputs": [],
   "source": [
    "# Import necessary Libraries\n",
    "import pandas as pd\n",
    "import numpy as np\n",
    "import scipy as sp\n",
    "import pandas as pd\n",
    "import matplotlib as mpl\n",
    "import matplotlib.pyplot as plt\n",
    "import seaborn as sns\n",
    "from scipy import stats"
   ]
  },
  {
   "cell_type": "code",
   "execution_count": 2,
   "metadata": {},
   "outputs": [],
   "source": [
    "# import warnings filter\n",
    "from warnings import simplefilter\n",
    "# ignore all future warnings\n",
    "simplefilter(action='ignore', category=FutureWarning)\n",
    "pd.set_option('mode.chained_assignment', None)"
   ]
  },
  {
   "cell_type": "code",
   "execution_count": 3,
   "metadata": {},
   "outputs": [
    {
     "name": "stdout",
     "output_type": "stream",
     "text": [
      "<class 'pandas.core.frame.DataFrame'>\n",
      "RangeIndex: 2260668 entries, 0 to 2260667\n",
      "Columns: 145 entries, id to settlement_term\n",
      "dtypes: float64(105), int64(4), object(36)\n",
      "memory usage: 2.4+ GB\n"
     ]
    }
   ],
   "source": [
    "# open csv file and load the data into pandas dataframe\n",
    "appl_df = pd.read_csv('../data/raw/loan.csv', low_memory=False)\n",
    "appl_df.info()"
   ]
  },
  {
   "cell_type": "code",
   "execution_count": 4,
   "metadata": {},
   "outputs": [
    {
     "data": {
      "text/plain": [
       "id                                            float64\n",
       "member_id                                     float64\n",
       "loan_amnt                                       int64\n",
       "funded_amnt                                     int64\n",
       "funded_amnt_inv                               float64\n",
       "term                                           object\n",
       "int_rate                                      float64\n",
       "installment                                   float64\n",
       "grade                                          object\n",
       "sub_grade                                      object\n",
       "emp_title                                      object\n",
       "emp_length                                     object\n",
       "home_ownership                                 object\n",
       "annual_inc                                    float64\n",
       "verification_status                            object\n",
       "issue_d                                        object\n",
       "loan_status                                    object\n",
       "pymnt_plan                                     object\n",
       "url                                           float64\n",
       "desc                                           object\n",
       "purpose                                        object\n",
       "title                                          object\n",
       "zip_code                                       object\n",
       "addr_state                                     object\n",
       "dti                                           float64\n",
       "delinq_2yrs                                   float64\n",
       "earliest_cr_line                               object\n",
       "inq_last_6mths                                float64\n",
       "mths_since_last_delinq                        float64\n",
       "mths_since_last_record                        float64\n",
       "                                               ...   \n",
       "sec_app_open_acc                              float64\n",
       "sec_app_revol_util                            float64\n",
       "sec_app_open_act_il                           float64\n",
       "sec_app_num_rev_accts                         float64\n",
       "sec_app_chargeoff_within_12_mths              float64\n",
       "sec_app_collections_12_mths_ex_med            float64\n",
       "sec_app_mths_since_last_major_derog           float64\n",
       "hardship_flag                                  object\n",
       "hardship_type                                  object\n",
       "hardship_reason                                object\n",
       "hardship_status                                object\n",
       "deferral_term                                 float64\n",
       "hardship_amount                               float64\n",
       "hardship_start_date                            object\n",
       "hardship_end_date                              object\n",
       "payment_plan_start_date                        object\n",
       "hardship_length                               float64\n",
       "hardship_dpd                                  float64\n",
       "hardship_loan_status                           object\n",
       "orig_projected_additional_accrued_interest    float64\n",
       "hardship_payoff_balance_amount                float64\n",
       "hardship_last_payment_amount                  float64\n",
       "disbursement_method                            object\n",
       "debt_settlement_flag                           object\n",
       "debt_settlement_flag_date                      object\n",
       "settlement_status                              object\n",
       "settlement_date                                object\n",
       "settlement_amount                             float64\n",
       "settlement_percentage                         float64\n",
       "settlement_term                               float64\n",
       "Length: 145, dtype: object"
      ]
     },
     "execution_count": 4,
     "metadata": {},
     "output_type": "execute_result"
    }
   ],
   "source": [
    "appl_df.dtypes"
   ]
  },
  {
   "cell_type": "code",
   "execution_count": 5,
   "metadata": {},
   "outputs": [
    {
     "data": {
      "text/html": [
       "<div>\n",
       "<style scoped>\n",
       "    .dataframe tbody tr th:only-of-type {\n",
       "        vertical-align: middle;\n",
       "    }\n",
       "\n",
       "    .dataframe tbody tr th {\n",
       "        vertical-align: top;\n",
       "    }\n",
       "\n",
       "    .dataframe thead th {\n",
       "        text-align: right;\n",
       "    }\n",
       "</style>\n",
       "<table border=\"1\" class=\"dataframe\">\n",
       "  <thead>\n",
       "    <tr style=\"text-align: right;\">\n",
       "      <th></th>\n",
       "      <th>id</th>\n",
       "      <th>member_id</th>\n",
       "      <th>loan_amnt</th>\n",
       "      <th>funded_amnt</th>\n",
       "      <th>funded_amnt_inv</th>\n",
       "      <th>int_rate</th>\n",
       "      <th>installment</th>\n",
       "      <th>annual_inc</th>\n",
       "      <th>url</th>\n",
       "      <th>dti</th>\n",
       "      <th>...</th>\n",
       "      <th>deferral_term</th>\n",
       "      <th>hardship_amount</th>\n",
       "      <th>hardship_length</th>\n",
       "      <th>hardship_dpd</th>\n",
       "      <th>orig_projected_additional_accrued_interest</th>\n",
       "      <th>hardship_payoff_balance_amount</th>\n",
       "      <th>hardship_last_payment_amount</th>\n",
       "      <th>settlement_amount</th>\n",
       "      <th>settlement_percentage</th>\n",
       "      <th>settlement_term</th>\n",
       "    </tr>\n",
       "  </thead>\n",
       "  <tbody>\n",
       "    <tr>\n",
       "      <th>count</th>\n",
       "      <td>0.0</td>\n",
       "      <td>0.0</td>\n",
       "      <td>2.260668e+06</td>\n",
       "      <td>2.260668e+06</td>\n",
       "      <td>2.260668e+06</td>\n",
       "      <td>2.260668e+06</td>\n",
       "      <td>2.260668e+06</td>\n",
       "      <td>2.260664e+06</td>\n",
       "      <td>0.0</td>\n",
       "      <td>2.258957e+06</td>\n",
       "      <td>...</td>\n",
       "      <td>10613.0</td>\n",
       "      <td>10613.000000</td>\n",
       "      <td>10613.0</td>\n",
       "      <td>10613.000000</td>\n",
       "      <td>8426.000000</td>\n",
       "      <td>10613.000000</td>\n",
       "      <td>10613.000000</td>\n",
       "      <td>33056.000000</td>\n",
       "      <td>33056.000000</td>\n",
       "      <td>33056.000000</td>\n",
       "    </tr>\n",
       "    <tr>\n",
       "      <th>mean</th>\n",
       "      <td>NaN</td>\n",
       "      <td>NaN</td>\n",
       "      <td>1.504693e+04</td>\n",
       "      <td>1.504166e+04</td>\n",
       "      <td>1.502344e+04</td>\n",
       "      <td>1.309291e+01</td>\n",
       "      <td>4.458076e+02</td>\n",
       "      <td>7.799243e+04</td>\n",
       "      <td>NaN</td>\n",
       "      <td>1.882420e+01</td>\n",
       "      <td>...</td>\n",
       "      <td>3.0</td>\n",
       "      <td>155.006696</td>\n",
       "      <td>3.0</td>\n",
       "      <td>13.686422</td>\n",
       "      <td>454.840802</td>\n",
       "      <td>11628.036442</td>\n",
       "      <td>193.606331</td>\n",
       "      <td>5030.606922</td>\n",
       "      <td>47.775600</td>\n",
       "      <td>13.148596</td>\n",
       "    </tr>\n",
       "    <tr>\n",
       "      <th>std</th>\n",
       "      <td>NaN</td>\n",
       "      <td>NaN</td>\n",
       "      <td>9.190245e+03</td>\n",
       "      <td>9.188413e+03</td>\n",
       "      <td>9.192332e+03</td>\n",
       "      <td>4.832114e+00</td>\n",
       "      <td>2.671737e+02</td>\n",
       "      <td>1.126962e+05</td>\n",
       "      <td>NaN</td>\n",
       "      <td>1.418333e+01</td>\n",
       "      <td>...</td>\n",
       "      <td>0.0</td>\n",
       "      <td>129.113137</td>\n",
       "      <td>0.0</td>\n",
       "      <td>9.728138</td>\n",
       "      <td>375.830737</td>\n",
       "      <td>7615.161123</td>\n",
       "      <td>198.694368</td>\n",
       "      <td>3692.027842</td>\n",
       "      <td>7.336379</td>\n",
       "      <td>8.192319</td>\n",
       "    </tr>\n",
       "    <tr>\n",
       "      <th>min</th>\n",
       "      <td>NaN</td>\n",
       "      <td>NaN</td>\n",
       "      <td>5.000000e+02</td>\n",
       "      <td>5.000000e+02</td>\n",
       "      <td>0.000000e+00</td>\n",
       "      <td>5.310000e+00</td>\n",
       "      <td>4.930000e+00</td>\n",
       "      <td>0.000000e+00</td>\n",
       "      <td>NaN</td>\n",
       "      <td>-1.000000e+00</td>\n",
       "      <td>...</td>\n",
       "      <td>3.0</td>\n",
       "      <td>0.640000</td>\n",
       "      <td>3.0</td>\n",
       "      <td>0.000000</td>\n",
       "      <td>1.920000</td>\n",
       "      <td>55.730000</td>\n",
       "      <td>0.010000</td>\n",
       "      <td>44.210000</td>\n",
       "      <td>0.200000</td>\n",
       "      <td>0.000000</td>\n",
       "    </tr>\n",
       "    <tr>\n",
       "      <th>25%</th>\n",
       "      <td>NaN</td>\n",
       "      <td>NaN</td>\n",
       "      <td>8.000000e+03</td>\n",
       "      <td>8.000000e+03</td>\n",
       "      <td>8.000000e+03</td>\n",
       "      <td>9.490000e+00</td>\n",
       "      <td>2.516500e+02</td>\n",
       "      <td>4.600000e+04</td>\n",
       "      <td>NaN</td>\n",
       "      <td>1.189000e+01</td>\n",
       "      <td>...</td>\n",
       "      <td>3.0</td>\n",
       "      <td>59.370000</td>\n",
       "      <td>3.0</td>\n",
       "      <td>5.000000</td>\n",
       "      <td>174.967500</td>\n",
       "      <td>5628.730000</td>\n",
       "      <td>43.780000</td>\n",
       "      <td>2227.000000</td>\n",
       "      <td>45.000000</td>\n",
       "      <td>6.000000</td>\n",
       "    </tr>\n",
       "    <tr>\n",
       "      <th>50%</th>\n",
       "      <td>NaN</td>\n",
       "      <td>NaN</td>\n",
       "      <td>1.290000e+04</td>\n",
       "      <td>1.287500e+04</td>\n",
       "      <td>1.280000e+04</td>\n",
       "      <td>1.262000e+01</td>\n",
       "      <td>3.779900e+02</td>\n",
       "      <td>6.500000e+04</td>\n",
       "      <td>NaN</td>\n",
       "      <td>1.784000e+01</td>\n",
       "      <td>...</td>\n",
       "      <td>3.0</td>\n",
       "      <td>119.040000</td>\n",
       "      <td>3.0</td>\n",
       "      <td>15.000000</td>\n",
       "      <td>352.605000</td>\n",
       "      <td>10044.220000</td>\n",
       "      <td>132.890000</td>\n",
       "      <td>4172.855000</td>\n",
       "      <td>45.000000</td>\n",
       "      <td>14.000000</td>\n",
       "    </tr>\n",
       "    <tr>\n",
       "      <th>75%</th>\n",
       "      <td>NaN</td>\n",
       "      <td>NaN</td>\n",
       "      <td>2.000000e+04</td>\n",
       "      <td>2.000000e+04</td>\n",
       "      <td>2.000000e+04</td>\n",
       "      <td>1.599000e+01</td>\n",
       "      <td>5.933200e+02</td>\n",
       "      <td>9.300000e+04</td>\n",
       "      <td>NaN</td>\n",
       "      <td>2.449000e+01</td>\n",
       "      <td>...</td>\n",
       "      <td>3.0</td>\n",
       "      <td>213.260000</td>\n",
       "      <td>3.0</td>\n",
       "      <td>22.000000</td>\n",
       "      <td>622.792500</td>\n",
       "      <td>16114.940000</td>\n",
       "      <td>284.180000</td>\n",
       "      <td>6870.782500</td>\n",
       "      <td>50.000000</td>\n",
       "      <td>18.000000</td>\n",
       "    </tr>\n",
       "    <tr>\n",
       "      <th>max</th>\n",
       "      <td>NaN</td>\n",
       "      <td>NaN</td>\n",
       "      <td>4.000000e+04</td>\n",
       "      <td>4.000000e+04</td>\n",
       "      <td>4.000000e+04</td>\n",
       "      <td>3.099000e+01</td>\n",
       "      <td>1.719830e+03</td>\n",
       "      <td>1.100000e+08</td>\n",
       "      <td>NaN</td>\n",
       "      <td>9.990000e+02</td>\n",
       "      <td>...</td>\n",
       "      <td>3.0</td>\n",
       "      <td>943.940000</td>\n",
       "      <td>3.0</td>\n",
       "      <td>37.000000</td>\n",
       "      <td>2680.890000</td>\n",
       "      <td>40306.410000</td>\n",
       "      <td>1407.860000</td>\n",
       "      <td>33601.000000</td>\n",
       "      <td>521.350000</td>\n",
       "      <td>181.000000</td>\n",
       "    </tr>\n",
       "  </tbody>\n",
       "</table>\n",
       "<p>8 rows × 109 columns</p>\n",
       "</div>"
      ],
      "text/plain": [
       "        id  member_id     loan_amnt   funded_amnt  funded_amnt_inv  \\\n",
       "count  0.0        0.0  2.260668e+06  2.260668e+06     2.260668e+06   \n",
       "mean   NaN        NaN  1.504693e+04  1.504166e+04     1.502344e+04   \n",
       "std    NaN        NaN  9.190245e+03  9.188413e+03     9.192332e+03   \n",
       "min    NaN        NaN  5.000000e+02  5.000000e+02     0.000000e+00   \n",
       "25%    NaN        NaN  8.000000e+03  8.000000e+03     8.000000e+03   \n",
       "50%    NaN        NaN  1.290000e+04  1.287500e+04     1.280000e+04   \n",
       "75%    NaN        NaN  2.000000e+04  2.000000e+04     2.000000e+04   \n",
       "max    NaN        NaN  4.000000e+04  4.000000e+04     4.000000e+04   \n",
       "\n",
       "           int_rate   installment    annual_inc  url           dti  ...  \\\n",
       "count  2.260668e+06  2.260668e+06  2.260664e+06  0.0  2.258957e+06  ...   \n",
       "mean   1.309291e+01  4.458076e+02  7.799243e+04  NaN  1.882420e+01  ...   \n",
       "std    4.832114e+00  2.671737e+02  1.126962e+05  NaN  1.418333e+01  ...   \n",
       "min    5.310000e+00  4.930000e+00  0.000000e+00  NaN -1.000000e+00  ...   \n",
       "25%    9.490000e+00  2.516500e+02  4.600000e+04  NaN  1.189000e+01  ...   \n",
       "50%    1.262000e+01  3.779900e+02  6.500000e+04  NaN  1.784000e+01  ...   \n",
       "75%    1.599000e+01  5.933200e+02  9.300000e+04  NaN  2.449000e+01  ...   \n",
       "max    3.099000e+01  1.719830e+03  1.100000e+08  NaN  9.990000e+02  ...   \n",
       "\n",
       "       deferral_term  hardship_amount  hardship_length  hardship_dpd  \\\n",
       "count        10613.0     10613.000000          10613.0  10613.000000   \n",
       "mean             3.0       155.006696              3.0     13.686422   \n",
       "std              0.0       129.113137              0.0      9.728138   \n",
       "min              3.0         0.640000              3.0      0.000000   \n",
       "25%              3.0        59.370000              3.0      5.000000   \n",
       "50%              3.0       119.040000              3.0     15.000000   \n",
       "75%              3.0       213.260000              3.0     22.000000   \n",
       "max              3.0       943.940000              3.0     37.000000   \n",
       "\n",
       "       orig_projected_additional_accrued_interest  \\\n",
       "count                                 8426.000000   \n",
       "mean                                   454.840802   \n",
       "std                                    375.830737   \n",
       "min                                      1.920000   \n",
       "25%                                    174.967500   \n",
       "50%                                    352.605000   \n",
       "75%                                    622.792500   \n",
       "max                                   2680.890000   \n",
       "\n",
       "       hardship_payoff_balance_amount  hardship_last_payment_amount  \\\n",
       "count                    10613.000000                  10613.000000   \n",
       "mean                     11628.036442                    193.606331   \n",
       "std                       7615.161123                    198.694368   \n",
       "min                         55.730000                      0.010000   \n",
       "25%                       5628.730000                     43.780000   \n",
       "50%                      10044.220000                    132.890000   \n",
       "75%                      16114.940000                    284.180000   \n",
       "max                      40306.410000                   1407.860000   \n",
       "\n",
       "       settlement_amount  settlement_percentage  settlement_term  \n",
       "count       33056.000000           33056.000000     33056.000000  \n",
       "mean         5030.606922              47.775600        13.148596  \n",
       "std          3692.027842               7.336379         8.192319  \n",
       "min            44.210000               0.200000         0.000000  \n",
       "25%          2227.000000              45.000000         6.000000  \n",
       "50%          4172.855000              45.000000        14.000000  \n",
       "75%          6870.782500              50.000000        18.000000  \n",
       "max         33601.000000             521.350000       181.000000  \n",
       "\n",
       "[8 rows x 109 columns]"
      ]
     },
     "execution_count": 5,
     "metadata": {},
     "output_type": "execute_result"
    }
   ],
   "source": [
    "appl_df.describe()"
   ]
  },
  {
   "cell_type": "code",
   "execution_count": 6,
   "metadata": {},
   "outputs": [
    {
     "data": {
      "text/plain": [
       "<function seaborn.rcmod.set(context='notebook', style='darkgrid', palette='deep', font='sans-serif', font_scale=1, color_codes=True, rc=None)>"
      ]
     },
     "execution_count": 6,
     "metadata": {},
     "output_type": "execute_result"
    }
   ],
   "source": [
    "pd.set_option('display.max_rows', 200)\n",
    "pd.set_option('display.max_columns', 200)\n",
    "pd.set_option('display.width', 1000)\n",
    "sns.set"
   ]
  },
  {
   "cell_type": "code",
   "execution_count": 7,
   "metadata": {},
   "outputs": [
    {
     "data": {
      "text/plain": [
       "id                                                  0\n",
       "member_id                                           0\n",
       "loan_amnt                                     2260668\n",
       "funded_amnt                                   2260668\n",
       "funded_amnt_inv                               2260668\n",
       "term                                          2260668\n",
       "int_rate                                      2260668\n",
       "installment                                   2260668\n",
       "grade                                         2260668\n",
       "sub_grade                                     2260668\n",
       "emp_title                                     2093699\n",
       "emp_length                                    2113761\n",
       "home_ownership                                2260668\n",
       "annual_inc                                    2260664\n",
       "verification_status                           2260668\n",
       "issue_d                                       2260668\n",
       "loan_status                                   2260668\n",
       "pymnt_plan                                    2260668\n",
       "url                                                 0\n",
       "desc                                           126067\n",
       "purpose                                       2260668\n",
       "title                                         2237343\n",
       "zip_code                                      2260667\n",
       "addr_state                                    2260668\n",
       "dti                                           2258957\n",
       "delinq_2yrs                                   2260639\n",
       "earliest_cr_line                              2260639\n",
       "inq_last_6mths                                2260638\n",
       "mths_since_last_delinq                        1102166\n",
       "mths_since_last_record                         359156\n",
       "open_acc                                      2260639\n",
       "pub_rec                                       2260639\n",
       "revol_bal                                     2260668\n",
       "revol_util                                    2258866\n",
       "total_acc                                     2260639\n",
       "initial_list_status                           2260668\n",
       "out_prncp                                     2260668\n",
       "out_prncp_inv                                 2260668\n",
       "total_pymnt                                   2260668\n",
       "total_pymnt_inv                               2260668\n",
       "total_rec_prncp                               2260668\n",
       "total_rec_int                                 2260668\n",
       "total_rec_late_fee                            2260668\n",
       "recoveries                                    2260668\n",
       "collection_recovery_fee                       2260668\n",
       "last_pymnt_d                                  2258242\n",
       "last_pymnt_amnt                               2260668\n",
       "next_pymnt_d                                   957061\n",
       "last_credit_pull_d                            2260595\n",
       "collections_12_mths_ex_med                    2260523\n",
       "mths_since_last_major_derog                    580775\n",
       "policy_code                                   2260668\n",
       "application_type                              2260668\n",
       "annual_inc_joint                               120710\n",
       "dti_joint                                      120706\n",
       "verification_status_joint                      115730\n",
       "acc_now_delinq                                2260639\n",
       "tot_coll_amt                                  2190392\n",
       "tot_cur_bal                                   2190392\n",
       "open_acc_6m                                   1394538\n",
       "open_act_il                                   1394539\n",
       "open_il_12m                                   1394539\n",
       "open_il_24m                                   1394539\n",
       "mths_since_rcnt_il                            1350744\n",
       "total_bal_il                                  1394539\n",
       "il_util                                       1191818\n",
       "open_rv_12m                                   1394539\n",
       "open_rv_24m                                   1394539\n",
       "max_bal_bc                                    1394539\n",
       "all_util                                      1394320\n",
       "total_rev_hi_lim                              2190392\n",
       "inq_fi                                        1394539\n",
       "total_cu_tl                                   1394538\n",
       "inq_last_12m                                  1394538\n",
       "acc_open_past_24mths                          2210638\n",
       "avg_cur_bal                                   2190322\n",
       "bc_open_to_buy                                2185733\n",
       "bc_util                                       2184597\n",
       "chargeoff_within_12_mths                      2260523\n",
       "delinq_amnt                                   2260639\n",
       "mo_sin_old_il_acct                            2121597\n",
       "mo_sin_old_rev_tl_op                          2190391\n",
       "mo_sin_rcnt_rev_tl_op                         2190391\n",
       "mo_sin_rcnt_tl                                2190392\n",
       "mort_acc                                      2210638\n",
       "mths_since_recent_bc                          2187256\n",
       "mths_since_recent_bc_dlq                       519701\n",
       "mths_since_recent_inq                         1965233\n",
       "mths_since_recent_revol_delinq                 740359\n",
       "num_accts_ever_120_pd                         2190392\n",
       "num_actv_bc_tl                                2190392\n",
       "num_actv_rev_tl                               2190392\n",
       "num_bc_sats                                   2202078\n",
       "num_bc_tl                                     2190392\n",
       "num_il_tl                                     2190392\n",
       "num_op_rev_tl                                 2190392\n",
       "num_rev_accts                                 2190391\n",
       "num_rev_tl_bal_gt_0                           2190392\n",
       "num_sats                                      2202078\n",
       "num_tl_120dpd_2m                              2107011\n",
       "num_tl_30dpd                                  2190392\n",
       "num_tl_90g_dpd_24m                            2190392\n",
       "num_tl_op_past_12m                            2190392\n",
       "pct_tl_nvr_dlq                                2190237\n",
       "percent_bc_gt_75                              2185289\n",
       "pub_rec_bankruptcies                          2259303\n",
       "tax_liens                                     2260563\n",
       "tot_hi_cred_lim                               2190392\n",
       "total_bal_ex_mort                             2210638\n",
       "total_bc_limit                                2210638\n",
       "total_il_high_credit_limit                    2190392\n",
       "revol_bal_joint                                108020\n",
       "sec_app_earliest_cr_line                       108021\n",
       "sec_app_inq_last_6mths                         108021\n",
       "sec_app_mort_acc                               108021\n",
       "sec_app_open_acc                               108021\n",
       "sec_app_revol_util                             106184\n",
       "sec_app_open_act_il                            108021\n",
       "sec_app_num_rev_accts                          108021\n",
       "sec_app_chargeoff_within_12_mths               108021\n",
       "sec_app_collections_12_mths_ex_med             108021\n",
       "sec_app_mths_since_last_major_derog             35942\n",
       "hardship_flag                                 2260668\n",
       "hardship_type                                   10613\n",
       "hardship_reason                                 10613\n",
       "hardship_status                                 10613\n",
       "deferral_term                                   10613\n",
       "hardship_amount                                 10613\n",
       "hardship_start_date                             10613\n",
       "hardship_end_date                               10613\n",
       "payment_plan_start_date                         10613\n",
       "hardship_length                                 10613\n",
       "hardship_dpd                                    10613\n",
       "hardship_loan_status                            10613\n",
       "orig_projected_additional_accrued_interest       8426\n",
       "hardship_payoff_balance_amount                  10613\n",
       "hardship_last_payment_amount                    10613\n",
       "disbursement_method                           2260668\n",
       "debt_settlement_flag                          2260668\n",
       "debt_settlement_flag_date                       33056\n",
       "settlement_status                               33056\n",
       "settlement_date                                 33056\n",
       "settlement_amount                               33056\n",
       "settlement_percentage                           33056\n",
       "settlement_term                                 33056\n",
       "dtype: int64"
      ]
     },
     "execution_count": 7,
     "metadata": {},
     "output_type": "execute_result"
    }
   ],
   "source": [
    "appl_df.count(axis=0, numeric_only=False)"
   ]
  },
  {
   "cell_type": "code",
   "execution_count": 8,
   "metadata": {},
   "outputs": [],
   "source": [
    "#member id and ids are all uniques, we will drop these fields\n",
    "appl_df.drop('member_id', axis=1, inplace=True)\n",
    "appl_df.drop('id', axis=1, inplace=True)"
   ]
  },
  {
   "cell_type": "code",
   "execution_count": 9,
   "metadata": {},
   "outputs": [
    {
     "data": {
      "text/plain": [
       "Fully Paid                                             1041952\n",
       "Current                                                 919695\n",
       "Charged Off                                             261655\n",
       "Late (31-120 days)                                       21897\n",
       "In Grace Period                                           8952\n",
       "Late (16-30 days)                                         3737\n",
       "Does not meet the credit policy. Status:Fully Paid        1988\n",
       "Does not meet the credit policy. Status:Charged Off        761\n",
       "Default                                                     31\n",
       "Name: loan_status, dtype: int64"
      ]
     },
     "execution_count": 9,
     "metadata": {},
     "output_type": "execute_result"
    }
   ],
   "source": [
    "appl_df.loan_status.value_counts()"
   ]
  },
  {
   "cell_type": "code",
   "execution_count": 10,
   "metadata": {},
   "outputs": [
    {
     "data": {
      "text/plain": [
       "(2260668, 143)"
      ]
     },
     "execution_count": 10,
     "metadata": {},
     "output_type": "execute_result"
    }
   ],
   "source": [
    "appl_df.shape"
   ]
  },
  {
   "cell_type": "code",
   "execution_count": 11,
   "metadata": {},
   "outputs": [],
   "source": [
    "df_cleanAppl = appl_df[(appl_df.loan_status == 'Fully Paid') | (appl_df.loan_status == 'Charged Off')]"
   ]
  },
  {
   "cell_type": "code",
   "execution_count": 12,
   "metadata": {
    "scrolled": true
   },
   "outputs": [
    {
     "data": {
      "text/plain": [
       "Fully Paid     1041952\n",
       "Charged Off     261655\n",
       "Name: loan_status, dtype: int64"
      ]
     },
     "execution_count": 12,
     "metadata": {},
     "output_type": "execute_result"
    }
   ],
   "source": [
    "df_cleanAppl.loan_status.value_counts()"
   ]
  },
  {
   "cell_type": "code",
   "execution_count": 13,
   "metadata": {},
   "outputs": [
    {
     "data": {
      "text/plain": [
       "(1303607, 143)"
      ]
     },
     "execution_count": 13,
     "metadata": {},
     "output_type": "execute_result"
    }
   ],
   "source": [
    "df_cleanAppl.shape"
   ]
  },
  {
   "cell_type": "code",
   "execution_count": 14,
   "metadata": {},
   "outputs": [
    {
     "data": {
      "text/plain": [
       "Fully Paid     0.799284\n",
       "Charged Off    0.200716\n",
       "Name: loan_status, dtype: float64"
      ]
     },
     "execution_count": 14,
     "metadata": {},
     "output_type": "execute_result"
    }
   ],
   "source": [
    "df_cleanAppl.loan_status.value_counts(normalize=True) #About 80% are ‘Fully Paid’ and 20% are ‘Charged Off’So our sample is biased in this case"
   ]
  },
  {
   "cell_type": "code",
   "execution_count": 15,
   "metadata": {},
   "outputs": [
    {
     "data": {
      "text/plain": [
       "True     103\n",
       "False     40\n",
       "dtype: int64"
      ]
     },
     "execution_count": 15,
     "metadata": {},
     "output_type": "execute_result"
    }
   ],
   "source": [
    "df_cleanAppl.isnull().any().value_counts() #103 COLUMNS HAVE MISSING VALUES"
   ]
  },
  {
   "cell_type": "code",
   "execution_count": 16,
   "metadata": {},
   "outputs": [
    {
     "name": "stdout",
     "output_type": "stream",
     "text": [
      "loan_amnt                                     1303607\n",
      "funded_amnt                                   1303607\n",
      "funded_amnt_inv                               1303607\n",
      "term                                          1303607\n",
      "int_rate                                      1303607\n",
      "installment                                   1303607\n",
      "grade                                         1303607\n",
      "sub_grade                                     1303607\n",
      "emp_title                                     1303607\n",
      "emp_length                                    1303607\n",
      "home_ownership                                1303607\n",
      "annual_inc                                    1303607\n",
      "verification_status                           1303607\n",
      "issue_d                                       1303607\n",
      "loan_status                                   1303607\n",
      "pymnt_plan                                    1303607\n",
      "url                                           1303607\n",
      "desc                                          1303607\n",
      "purpose                                       1303607\n",
      "title                                         1303607\n",
      "zip_code                                      1303607\n",
      "addr_state                                    1303607\n",
      "dti                                           1303607\n",
      "delinq_2yrs                                   1303607\n",
      "earliest_cr_line                              1303607\n",
      "inq_last_6mths                                1303607\n",
      "mths_since_last_delinq                        1303607\n",
      "mths_since_last_record                        1303607\n",
      "open_acc                                      1303607\n",
      "pub_rec                                       1303607\n",
      "revol_bal                                     1303607\n",
      "revol_util                                    1303607\n",
      "total_acc                                     1303607\n",
      "initial_list_status                           1303607\n",
      "out_prncp                                     1303607\n",
      "out_prncp_inv                                 1303607\n",
      "total_pymnt                                   1303607\n",
      "total_pymnt_inv                               1303607\n",
      "total_rec_prncp                               1303607\n",
      "total_rec_int                                 1303607\n",
      "total_rec_late_fee                            1303607\n",
      "recoveries                                    1303607\n",
      "collection_recovery_fee                       1303607\n",
      "last_pymnt_d                                  1303607\n",
      "last_pymnt_amnt                               1303607\n",
      "next_pymnt_d                                  1303607\n",
      "last_credit_pull_d                            1303607\n",
      "collections_12_mths_ex_med                    1303607\n",
      "mths_since_last_major_derog                   1303607\n",
      "policy_code                                   1303607\n",
      "application_type                              1303607\n",
      "annual_inc_joint                              1303607\n",
      "dti_joint                                     1303607\n",
      "verification_status_joint                     1303607\n",
      "acc_now_delinq                                1303607\n",
      "tot_coll_amt                                  1303607\n",
      "tot_cur_bal                                   1303607\n",
      "open_acc_6m                                   1303607\n",
      "open_act_il                                   1303607\n",
      "open_il_12m                                   1303607\n",
      "open_il_24m                                   1303607\n",
      "mths_since_rcnt_il                            1303607\n",
      "total_bal_il                                  1303607\n",
      "il_util                                       1303607\n",
      "open_rv_12m                                   1303607\n",
      "open_rv_24m                                   1303607\n",
      "max_bal_bc                                    1303607\n",
      "all_util                                      1303607\n",
      "total_rev_hi_lim                              1303607\n",
      "inq_fi                                        1303607\n",
      "total_cu_tl                                   1303607\n",
      "inq_last_12m                                  1303607\n",
      "acc_open_past_24mths                          1303607\n",
      "avg_cur_bal                                   1303607\n",
      "bc_open_to_buy                                1303607\n",
      "bc_util                                       1303607\n",
      "chargeoff_within_12_mths                      1303607\n",
      "delinq_amnt                                   1303607\n",
      "mo_sin_old_il_acct                            1303607\n",
      "mo_sin_old_rev_tl_op                          1303607\n",
      "mo_sin_rcnt_rev_tl_op                         1303607\n",
      "mo_sin_rcnt_tl                                1303607\n",
      "mort_acc                                      1303607\n",
      "mths_since_recent_bc                          1303607\n",
      "mths_since_recent_bc_dlq                      1303607\n",
      "mths_since_recent_inq                         1303607\n",
      "mths_since_recent_revol_delinq                1303607\n",
      "num_accts_ever_120_pd                         1303607\n",
      "num_actv_bc_tl                                1303607\n",
      "num_actv_rev_tl                               1303607\n",
      "num_bc_sats                                   1303607\n",
      "num_bc_tl                                     1303607\n",
      "num_il_tl                                     1303607\n",
      "num_op_rev_tl                                 1303607\n",
      "num_rev_accts                                 1303607\n",
      "num_rev_tl_bal_gt_0                           1303607\n",
      "num_sats                                      1303607\n",
      "num_tl_120dpd_2m                              1303607\n",
      "num_tl_30dpd                                  1303607\n",
      "num_tl_90g_dpd_24m                            1303607\n",
      "num_tl_op_past_12m                            1303607\n",
      "pct_tl_nvr_dlq                                1303607\n",
      "percent_bc_gt_75                              1303607\n",
      "pub_rec_bankruptcies                          1303607\n",
      "tax_liens                                     1303607\n",
      "tot_hi_cred_lim                               1303607\n",
      "total_bal_ex_mort                             1303607\n",
      "total_bc_limit                                1303607\n",
      "total_il_high_credit_limit                    1303607\n",
      "revol_bal_joint                               1303607\n",
      "sec_app_earliest_cr_line                      1303607\n",
      "sec_app_inq_last_6mths                        1303607\n",
      "sec_app_mort_acc                              1303607\n",
      "sec_app_open_acc                              1303607\n",
      "sec_app_revol_util                            1303607\n",
      "sec_app_open_act_il                           1303607\n",
      "sec_app_num_rev_accts                         1303607\n",
      "sec_app_chargeoff_within_12_mths              1303607\n",
      "sec_app_collections_12_mths_ex_med            1303607\n",
      "sec_app_mths_since_last_major_derog           1303607\n",
      "hardship_flag                                 1303607\n",
      "hardship_type                                 1303607\n",
      "hardship_reason                               1303607\n",
      "hardship_status                               1303607\n",
      "deferral_term                                 1303607\n",
      "hardship_amount                               1303607\n",
      "hardship_start_date                           1303607\n",
      "hardship_end_date                             1303607\n",
      "payment_plan_start_date                       1303607\n",
      "hardship_length                               1303607\n",
      "hardship_dpd                                  1303607\n",
      "hardship_loan_status                          1303607\n",
      "orig_projected_additional_accrued_interest    1303607\n",
      "hardship_payoff_balance_amount                1303607\n",
      "hardship_last_payment_amount                  1303607\n",
      "disbursement_method                           1303607\n",
      "debt_settlement_flag                          1303607\n",
      "debt_settlement_flag_date                     1303607\n",
      "settlement_status                             1303607\n",
      "settlement_date                               1303607\n",
      "settlement_amount                             1303607\n",
      "settlement_percentage                         1303607\n",
      "settlement_term                               1303607\n",
      "dtype: int64\n"
     ]
    }
   ],
   "source": [
    "print(df_cleanAppl.isnull().count())"
   ]
  },
  {
   "cell_type": "code",
   "execution_count": 17,
   "metadata": {},
   "outputs": [
    {
     "name": "stdout",
     "output_type": "stream",
     "text": [
      "loan_amnt                                     1303607\n",
      "funded_amnt                                   1303607\n",
      "funded_amnt_inv                               1303607\n",
      "term                                          1303607\n",
      "int_rate                                      1303607\n",
      "installment                                   1303607\n",
      "grade                                         1303607\n",
      "sub_grade                                     1303607\n",
      "emp_title                                     1221028\n",
      "emp_length                                    1228153\n",
      "home_ownership                                1303607\n",
      "annual_inc                                    1303607\n",
      "verification_status                           1303607\n",
      "issue_d                                       1303607\n",
      "loan_status                                   1303607\n",
      "pymnt_plan                                    1303607\n",
      "url                                                 0\n",
      "desc                                           123327\n",
      "purpose                                       1303607\n",
      "title                                         1288181\n",
      "zip_code                                      1303606\n",
      "addr_state                                    1303607\n",
      "dti                                           1303295\n",
      "delinq_2yrs                                   1303607\n",
      "earliest_cr_line                              1303607\n",
      "inq_last_6mths                                1303606\n",
      "mths_since_last_delinq                         645783\n",
      "mths_since_last_record                         221766\n",
      "open_acc                                      1303607\n",
      "pub_rec                                       1303607\n",
      "revol_bal                                     1303607\n",
      "revol_util                                    1302797\n",
      "total_acc                                     1303607\n",
      "initial_list_status                           1303607\n",
      "out_prncp                                     1303607\n",
      "out_prncp_inv                                 1303607\n",
      "total_pymnt                                   1303607\n",
      "total_pymnt_inv                               1303607\n",
      "total_rec_prncp                               1303607\n",
      "total_rec_int                                 1303607\n",
      "total_rec_late_fee                            1303607\n",
      "recoveries                                    1303607\n",
      "collection_recovery_fee                       1303607\n",
      "last_pymnt_d                                  1301347\n",
      "last_pymnt_amnt                               1303607\n",
      "next_pymnt_d                                        0\n",
      "last_credit_pull_d                            1303553\n",
      "collections_12_mths_ex_med                    1303551\n",
      "mths_since_last_major_derog                    342367\n",
      "policy_code                                   1303607\n",
      "application_type                              1303607\n",
      "annual_inc_joint                                23237\n",
      "dti_joint                                       23235\n",
      "verification_status_joint                       23091\n",
      "acc_now_delinq                                1303607\n",
      "tot_coll_amt                                  1236080\n",
      "tot_cur_bal                                   1236080\n",
      "open_acc_6m                                    499544\n",
      "open_act_il                                    499545\n",
      "open_il_12m                                    499545\n",
      "open_il_24m                                    499545\n",
      "mths_since_rcnt_il                             486548\n",
      "total_bal_il                                   499545\n",
      "il_util                                        432668\n",
      "open_rv_12m                                    499545\n",
      "open_rv_24m                                    499545\n",
      "max_bal_bc                                     499545\n",
      "all_util                                       499494\n",
      "total_rev_hi_lim                              1236080\n",
      "inq_fi                                         499545\n",
      "total_cu_tl                                    499544\n",
      "inq_last_12m                                   499544\n",
      "acc_open_past_24mths                          1256326\n",
      "avg_cur_bal                                   1236059\n",
      "bc_open_to_buy                                1242968\n",
      "bc_util                                       1242221\n",
      "chargeoff_within_12_mths                      1303551\n",
      "delinq_amnt                                   1303607\n",
      "mo_sin_old_il_acct                            1199312\n",
      "mo_sin_old_rev_tl_op                          1236079\n",
      "mo_sin_rcnt_rev_tl_op                         1236079\n",
      "mo_sin_rcnt_tl                                1236080\n",
      "mort_acc                                      1256326\n",
      "mths_since_recent_bc                          1243866\n",
      "mths_since_recent_bc_dlq                       309146\n",
      "mths_since_recent_inq                         1134058\n",
      "mths_since_recent_revol_delinq                 435835\n",
      "num_accts_ever_120_pd                         1236080\n",
      "num_actv_bc_tl                                1236080\n",
      "num_actv_rev_tl                               1236080\n",
      "num_bc_sats                                   1247766\n",
      "num_bc_tl                                     1236080\n",
      "num_il_tl                                     1236080\n",
      "num_op_rev_tl                                 1236080\n",
      "num_rev_accts                                 1236079\n",
      "num_rev_tl_bal_gt_0                           1236080\n",
      "num_sats                                      1247766\n",
      "num_tl_120dpd_2m                              1188037\n",
      "num_tl_30dpd                                  1236080\n",
      "num_tl_90g_dpd_24m                            1236080\n",
      "num_tl_op_past_12m                            1236080\n",
      "pct_tl_nvr_dlq                                1235926\n",
      "percent_bc_gt_75                              1242560\n",
      "pub_rec_bankruptcies                          1302910\n",
      "tax_liens                                     1303568\n",
      "tot_hi_cred_lim                               1236080\n",
      "total_bal_ex_mort                             1256326\n",
      "total_bc_limit                                1256326\n",
      "total_il_high_credit_limit                    1236080\n",
      "revol_bal_joint                                 16510\n",
      "sec_app_earliest_cr_line                        16511\n",
      "sec_app_inq_last_6mths                          16511\n",
      "sec_app_mort_acc                                16511\n",
      "sec_app_open_acc                                16511\n",
      "sec_app_revol_util                              16218\n",
      "sec_app_open_act_il                             16511\n",
      "sec_app_num_rev_accts                           16511\n",
      "sec_app_chargeoff_within_12_mths                16511\n",
      "sec_app_collections_12_mths_ex_med              16511\n",
      "sec_app_mths_since_last_major_derog              5932\n",
      "hardship_flag                                 1303607\n",
      "hardship_type                                    5335\n",
      "hardship_reason                                  5335\n",
      "hardship_status                                  5335\n",
      "deferral_term                                    5335\n",
      "hardship_amount                                  5335\n",
      "hardship_start_date                              5335\n",
      "hardship_end_date                                5335\n",
      "payment_plan_start_date                          5335\n",
      "hardship_length                                  5335\n",
      "hardship_dpd                                     5335\n",
      "hardship_loan_status                             5335\n",
      "orig_projected_additional_accrued_interest       3433\n",
      "hardship_payoff_balance_amount                   5335\n",
      "hardship_last_payment_amount                     5335\n",
      "disbursement_method                           1303607\n",
      "debt_settlement_flag                          1303607\n",
      "debt_settlement_flag_date                       31989\n",
      "settlement_status                               31989\n",
      "settlement_date                                 31989\n",
      "settlement_amount                               31989\n",
      "settlement_percentage                           31989\n",
      "settlement_term                                 31989\n",
      "dtype: int64\n"
     ]
    }
   ],
   "source": [
    "print(df_cleanAppl.count())"
   ]
  },
  {
   "cell_type": "code",
   "execution_count": 18,
   "metadata": {},
   "outputs": [
    {
     "name": "stdout",
     "output_type": "stream",
     "text": [
      "1303607\n"
     ]
    }
   ],
   "source": [
    "print(len(df_cleanAppl))"
   ]
  },
  {
   "cell_type": "code",
   "execution_count": 19,
   "metadata": {},
   "outputs": [],
   "source": [
    "# we will calculate the percentage of missing values by features\n",
    "total_num = df_cleanAppl.isnull().sum().sort_values(ascending=False)\n",
    "\n",
    "perc = df_cleanAppl.isnull().sum()/len(df_cleanAppl) *100\n",
    "perc1 = (round(perc,2).sort_values(ascending=False))\n",
    "\n",
    "# Creating a data frame of missing percentages\n",
    "df_miss = pd.concat([total_num, perc1], axis=1, keys =[\"Total Missing Values\", \"Percentage %\"], sort=True).sort_values(by =[\"Percentage %\"], ascending = False)\n",
    "df_miss.reset_index(inplace=True)"
   ]
  },
  {
   "cell_type": "code",
   "execution_count": 20,
   "metadata": {},
   "outputs": [
    {
     "data": {
      "text/html": [
       "<div>\n",
       "<style scoped>\n",
       "    .dataframe tbody tr th:only-of-type {\n",
       "        vertical-align: middle;\n",
       "    }\n",
       "\n",
       "    .dataframe tbody tr th {\n",
       "        vertical-align: top;\n",
       "    }\n",
       "\n",
       "    .dataframe thead th {\n",
       "        text-align: right;\n",
       "    }\n",
       "</style>\n",
       "<table border=\"1\" class=\"dataframe\">\n",
       "  <thead>\n",
       "    <tr style=\"text-align: right;\">\n",
       "      <th></th>\n",
       "      <th>index</th>\n",
       "      <th>Total Missing Values</th>\n",
       "      <th>Percentage %</th>\n",
       "    </tr>\n",
       "  </thead>\n",
       "  <tbody>\n",
       "    <tr>\n",
       "      <th>0</th>\n",
       "      <td>url</td>\n",
       "      <td>1303607</td>\n",
       "      <td>100.00</td>\n",
       "    </tr>\n",
       "    <tr>\n",
       "      <th>1</th>\n",
       "      <td>next_pymnt_d</td>\n",
       "      <td>1303607</td>\n",
       "      <td>100.00</td>\n",
       "    </tr>\n",
       "    <tr>\n",
       "      <th>2</th>\n",
       "      <td>orig_projected_additional_accrued_interest</td>\n",
       "      <td>1300174</td>\n",
       "      <td>99.74</td>\n",
       "    </tr>\n",
       "    <tr>\n",
       "      <th>3</th>\n",
       "      <td>deferral_term</td>\n",
       "      <td>1298272</td>\n",
       "      <td>99.59</td>\n",
       "    </tr>\n",
       "    <tr>\n",
       "      <th>4</th>\n",
       "      <td>hardship_last_payment_amount</td>\n",
       "      <td>1298272</td>\n",
       "      <td>99.59</td>\n",
       "    </tr>\n",
       "    <tr>\n",
       "      <th>5</th>\n",
       "      <td>hardship_payoff_balance_amount</td>\n",
       "      <td>1298272</td>\n",
       "      <td>99.59</td>\n",
       "    </tr>\n",
       "    <tr>\n",
       "      <th>6</th>\n",
       "      <td>hardship_end_date</td>\n",
       "      <td>1298272</td>\n",
       "      <td>99.59</td>\n",
       "    </tr>\n",
       "    <tr>\n",
       "      <th>7</th>\n",
       "      <td>hardship_dpd</td>\n",
       "      <td>1298272</td>\n",
       "      <td>99.59</td>\n",
       "    </tr>\n",
       "    <tr>\n",
       "      <th>8</th>\n",
       "      <td>hardship_amount</td>\n",
       "      <td>1298272</td>\n",
       "      <td>99.59</td>\n",
       "    </tr>\n",
       "    <tr>\n",
       "      <th>9</th>\n",
       "      <td>hardship_reason</td>\n",
       "      <td>1298272</td>\n",
       "      <td>99.59</td>\n",
       "    </tr>\n",
       "    <tr>\n",
       "      <th>10</th>\n",
       "      <td>hardship_start_date</td>\n",
       "      <td>1298272</td>\n",
       "      <td>99.59</td>\n",
       "    </tr>\n",
       "    <tr>\n",
       "      <th>11</th>\n",
       "      <td>hardship_status</td>\n",
       "      <td>1298272</td>\n",
       "      <td>99.59</td>\n",
       "    </tr>\n",
       "    <tr>\n",
       "      <th>12</th>\n",
       "      <td>hardship_type</td>\n",
       "      <td>1298272</td>\n",
       "      <td>99.59</td>\n",
       "    </tr>\n",
       "    <tr>\n",
       "      <th>13</th>\n",
       "      <td>hardship_loan_status</td>\n",
       "      <td>1298272</td>\n",
       "      <td>99.59</td>\n",
       "    </tr>\n",
       "    <tr>\n",
       "      <th>14</th>\n",
       "      <td>hardship_length</td>\n",
       "      <td>1298272</td>\n",
       "      <td>99.59</td>\n",
       "    </tr>\n",
       "    <tr>\n",
       "      <th>15</th>\n",
       "      <td>payment_plan_start_date</td>\n",
       "      <td>1298272</td>\n",
       "      <td>99.59</td>\n",
       "    </tr>\n",
       "    <tr>\n",
       "      <th>16</th>\n",
       "      <td>sec_app_mths_since_last_major_derog</td>\n",
       "      <td>1297675</td>\n",
       "      <td>99.54</td>\n",
       "    </tr>\n",
       "    <tr>\n",
       "      <th>17</th>\n",
       "      <td>sec_app_revol_util</td>\n",
       "      <td>1287389</td>\n",
       "      <td>98.76</td>\n",
       "    </tr>\n",
       "    <tr>\n",
       "      <th>18</th>\n",
       "      <td>sec_app_num_rev_accts</td>\n",
       "      <td>1287096</td>\n",
       "      <td>98.73</td>\n",
       "    </tr>\n",
       "    <tr>\n",
       "      <th>19</th>\n",
       "      <td>sec_app_chargeoff_within_12_mths</td>\n",
       "      <td>1287096</td>\n",
       "      <td>98.73</td>\n",
       "    </tr>\n",
       "    <tr>\n",
       "      <th>20</th>\n",
       "      <td>revol_bal_joint</td>\n",
       "      <td>1287097</td>\n",
       "      <td>98.73</td>\n",
       "    </tr>\n",
       "    <tr>\n",
       "      <th>21</th>\n",
       "      <td>sec_app_inq_last_6mths</td>\n",
       "      <td>1287096</td>\n",
       "      <td>98.73</td>\n",
       "    </tr>\n",
       "    <tr>\n",
       "      <th>22</th>\n",
       "      <td>sec_app_mort_acc</td>\n",
       "      <td>1287096</td>\n",
       "      <td>98.73</td>\n",
       "    </tr>\n",
       "    <tr>\n",
       "      <th>23</th>\n",
       "      <td>sec_app_open_acc</td>\n",
       "      <td>1287096</td>\n",
       "      <td>98.73</td>\n",
       "    </tr>\n",
       "    <tr>\n",
       "      <th>24</th>\n",
       "      <td>sec_app_earliest_cr_line</td>\n",
       "      <td>1287096</td>\n",
       "      <td>98.73</td>\n",
       "    </tr>\n",
       "    <tr>\n",
       "      <th>25</th>\n",
       "      <td>sec_app_open_act_il</td>\n",
       "      <td>1287096</td>\n",
       "      <td>98.73</td>\n",
       "    </tr>\n",
       "    <tr>\n",
       "      <th>26</th>\n",
       "      <td>sec_app_collections_12_mths_ex_med</td>\n",
       "      <td>1287096</td>\n",
       "      <td>98.73</td>\n",
       "    </tr>\n",
       "    <tr>\n",
       "      <th>27</th>\n",
       "      <td>verification_status_joint</td>\n",
       "      <td>1280516</td>\n",
       "      <td>98.23</td>\n",
       "    </tr>\n",
       "    <tr>\n",
       "      <th>28</th>\n",
       "      <td>dti_joint</td>\n",
       "      <td>1280372</td>\n",
       "      <td>98.22</td>\n",
       "    </tr>\n",
       "    <tr>\n",
       "      <th>29</th>\n",
       "      <td>annual_inc_joint</td>\n",
       "      <td>1280370</td>\n",
       "      <td>98.22</td>\n",
       "    </tr>\n",
       "    <tr>\n",
       "      <th>30</th>\n",
       "      <td>settlement_amount</td>\n",
       "      <td>1271618</td>\n",
       "      <td>97.55</td>\n",
       "    </tr>\n",
       "    <tr>\n",
       "      <th>31</th>\n",
       "      <td>settlement_term</td>\n",
       "      <td>1271618</td>\n",
       "      <td>97.55</td>\n",
       "    </tr>\n",
       "    <tr>\n",
       "      <th>32</th>\n",
       "      <td>settlement_status</td>\n",
       "      <td>1271618</td>\n",
       "      <td>97.55</td>\n",
       "    </tr>\n",
       "    <tr>\n",
       "      <th>33</th>\n",
       "      <td>settlement_date</td>\n",
       "      <td>1271618</td>\n",
       "      <td>97.55</td>\n",
       "    </tr>\n",
       "    <tr>\n",
       "      <th>34</th>\n",
       "      <td>settlement_percentage</td>\n",
       "      <td>1271618</td>\n",
       "      <td>97.55</td>\n",
       "    </tr>\n",
       "    <tr>\n",
       "      <th>35</th>\n",
       "      <td>debt_settlement_flag_date</td>\n",
       "      <td>1271618</td>\n",
       "      <td>97.55</td>\n",
       "    </tr>\n",
       "    <tr>\n",
       "      <th>36</th>\n",
       "      <td>desc</td>\n",
       "      <td>1180280</td>\n",
       "      <td>90.54</td>\n",
       "    </tr>\n",
       "    <tr>\n",
       "      <th>37</th>\n",
       "      <td>mths_since_last_record</td>\n",
       "      <td>1081841</td>\n",
       "      <td>82.99</td>\n",
       "    </tr>\n",
       "    <tr>\n",
       "      <th>38</th>\n",
       "      <td>mths_since_recent_bc_dlq</td>\n",
       "      <td>994461</td>\n",
       "      <td>76.29</td>\n",
       "    </tr>\n",
       "    <tr>\n",
       "      <th>39</th>\n",
       "      <td>mths_since_last_major_derog</td>\n",
       "      <td>961240</td>\n",
       "      <td>73.74</td>\n",
       "    </tr>\n",
       "    <tr>\n",
       "      <th>40</th>\n",
       "      <td>il_util</td>\n",
       "      <td>870939</td>\n",
       "      <td>66.81</td>\n",
       "    </tr>\n",
       "    <tr>\n",
       "      <th>41</th>\n",
       "      <td>mths_since_recent_revol_delinq</td>\n",
       "      <td>867772</td>\n",
       "      <td>66.57</td>\n",
       "    </tr>\n",
       "    <tr>\n",
       "      <th>42</th>\n",
       "      <td>mths_since_rcnt_il</td>\n",
       "      <td>817059</td>\n",
       "      <td>62.68</td>\n",
       "    </tr>\n",
       "    <tr>\n",
       "      <th>43</th>\n",
       "      <td>total_cu_tl</td>\n",
       "      <td>804063</td>\n",
       "      <td>61.68</td>\n",
       "    </tr>\n",
       "    <tr>\n",
       "      <th>44</th>\n",
       "      <td>open_il_12m</td>\n",
       "      <td>804062</td>\n",
       "      <td>61.68</td>\n",
       "    </tr>\n",
       "    <tr>\n",
       "      <th>45</th>\n",
       "      <td>open_act_il</td>\n",
       "      <td>804062</td>\n",
       "      <td>61.68</td>\n",
       "    </tr>\n",
       "    <tr>\n",
       "      <th>46</th>\n",
       "      <td>open_acc_6m</td>\n",
       "      <td>804063</td>\n",
       "      <td>61.68</td>\n",
       "    </tr>\n",
       "    <tr>\n",
       "      <th>47</th>\n",
       "      <td>open_rv_24m</td>\n",
       "      <td>804062</td>\n",
       "      <td>61.68</td>\n",
       "    </tr>\n",
       "    <tr>\n",
       "      <th>48</th>\n",
       "      <td>open_rv_12m</td>\n",
       "      <td>804062</td>\n",
       "      <td>61.68</td>\n",
       "    </tr>\n",
       "    <tr>\n",
       "      <th>49</th>\n",
       "      <td>max_bal_bc</td>\n",
       "      <td>804062</td>\n",
       "      <td>61.68</td>\n",
       "    </tr>\n",
       "    <tr>\n",
       "      <th>50</th>\n",
       "      <td>open_il_24m</td>\n",
       "      <td>804062</td>\n",
       "      <td>61.68</td>\n",
       "    </tr>\n",
       "    <tr>\n",
       "      <th>51</th>\n",
       "      <td>inq_last_12m</td>\n",
       "      <td>804063</td>\n",
       "      <td>61.68</td>\n",
       "    </tr>\n",
       "    <tr>\n",
       "      <th>52</th>\n",
       "      <td>total_bal_il</td>\n",
       "      <td>804062</td>\n",
       "      <td>61.68</td>\n",
       "    </tr>\n",
       "    <tr>\n",
       "      <th>53</th>\n",
       "      <td>all_util</td>\n",
       "      <td>804113</td>\n",
       "      <td>61.68</td>\n",
       "    </tr>\n",
       "    <tr>\n",
       "      <th>54</th>\n",
       "      <td>inq_fi</td>\n",
       "      <td>804062</td>\n",
       "      <td>61.68</td>\n",
       "    </tr>\n",
       "    <tr>\n",
       "      <th>55</th>\n",
       "      <td>mths_since_last_delinq</td>\n",
       "      <td>657824</td>\n",
       "      <td>50.46</td>\n",
       "    </tr>\n",
       "    <tr>\n",
       "      <th>56</th>\n",
       "      <td>mths_since_recent_inq</td>\n",
       "      <td>169549</td>\n",
       "      <td>13.01</td>\n",
       "    </tr>\n",
       "    <tr>\n",
       "      <th>57</th>\n",
       "      <td>num_tl_120dpd_2m</td>\n",
       "      <td>115570</td>\n",
       "      <td>8.87</td>\n",
       "    </tr>\n",
       "    <tr>\n",
       "      <th>58</th>\n",
       "      <td>mo_sin_old_il_acct</td>\n",
       "      <td>104295</td>\n",
       "      <td>8.00</td>\n",
       "    </tr>\n",
       "    <tr>\n",
       "      <th>59</th>\n",
       "      <td>emp_title</td>\n",
       "      <td>82579</td>\n",
       "      <td>6.33</td>\n",
       "    </tr>\n",
       "    <tr>\n",
       "      <th>60</th>\n",
       "      <td>emp_length</td>\n",
       "      <td>75454</td>\n",
       "      <td>5.79</td>\n",
       "    </tr>\n",
       "    <tr>\n",
       "      <th>61</th>\n",
       "      <td>pct_tl_nvr_dlq</td>\n",
       "      <td>67681</td>\n",
       "      <td>5.19</td>\n",
       "    </tr>\n",
       "    <tr>\n",
       "      <th>62</th>\n",
       "      <td>num_accts_ever_120_pd</td>\n",
       "      <td>67527</td>\n",
       "      <td>5.18</td>\n",
       "    </tr>\n",
       "    <tr>\n",
       "      <th>63</th>\n",
       "      <td>num_op_rev_tl</td>\n",
       "      <td>67527</td>\n",
       "      <td>5.18</td>\n",
       "    </tr>\n",
       "    <tr>\n",
       "      <th>64</th>\n",
       "      <td>num_rev_accts</td>\n",
       "      <td>67528</td>\n",
       "      <td>5.18</td>\n",
       "    </tr>\n",
       "    <tr>\n",
       "      <th>65</th>\n",
       "      <td>num_tl_90g_dpd_24m</td>\n",
       "      <td>67527</td>\n",
       "      <td>5.18</td>\n",
       "    </tr>\n",
       "    <tr>\n",
       "      <th>66</th>\n",
       "      <td>num_rev_tl_bal_gt_0</td>\n",
       "      <td>67527</td>\n",
       "      <td>5.18</td>\n",
       "    </tr>\n",
       "    <tr>\n",
       "      <th>67</th>\n",
       "      <td>num_tl_30dpd</td>\n",
       "      <td>67527</td>\n",
       "      <td>5.18</td>\n",
       "    </tr>\n",
       "    <tr>\n",
       "      <th>68</th>\n",
       "      <td>num_bc_tl</td>\n",
       "      <td>67527</td>\n",
       "      <td>5.18</td>\n",
       "    </tr>\n",
       "    <tr>\n",
       "      <th>69</th>\n",
       "      <td>num_tl_op_past_12m</td>\n",
       "      <td>67527</td>\n",
       "      <td>5.18</td>\n",
       "    </tr>\n",
       "    <tr>\n",
       "      <th>70</th>\n",
       "      <td>tot_hi_cred_lim</td>\n",
       "      <td>67527</td>\n",
       "      <td>5.18</td>\n",
       "    </tr>\n",
       "    <tr>\n",
       "      <th>71</th>\n",
       "      <td>num_il_tl</td>\n",
       "      <td>67527</td>\n",
       "      <td>5.18</td>\n",
       "    </tr>\n",
       "    <tr>\n",
       "      <th>72</th>\n",
       "      <td>num_actv_rev_tl</td>\n",
       "      <td>67527</td>\n",
       "      <td>5.18</td>\n",
       "    </tr>\n",
       "    <tr>\n",
       "      <th>73</th>\n",
       "      <td>tot_cur_bal</td>\n",
       "      <td>67527</td>\n",
       "      <td>5.18</td>\n",
       "    </tr>\n",
       "    <tr>\n",
       "      <th>74</th>\n",
       "      <td>num_actv_bc_tl</td>\n",
       "      <td>67527</td>\n",
       "      <td>5.18</td>\n",
       "    </tr>\n",
       "    <tr>\n",
       "      <th>75</th>\n",
       "      <td>total_il_high_credit_limit</td>\n",
       "      <td>67527</td>\n",
       "      <td>5.18</td>\n",
       "    </tr>\n",
       "    <tr>\n",
       "      <th>76</th>\n",
       "      <td>tot_coll_amt</td>\n",
       "      <td>67527</td>\n",
       "      <td>5.18</td>\n",
       "    </tr>\n",
       "    <tr>\n",
       "      <th>77</th>\n",
       "      <td>avg_cur_bal</td>\n",
       "      <td>67548</td>\n",
       "      <td>5.18</td>\n",
       "    </tr>\n",
       "    <tr>\n",
       "      <th>78</th>\n",
       "      <td>mo_sin_rcnt_tl</td>\n",
       "      <td>67527</td>\n",
       "      <td>5.18</td>\n",
       "    </tr>\n",
       "    <tr>\n",
       "      <th>79</th>\n",
       "      <td>mo_sin_rcnt_rev_tl_op</td>\n",
       "      <td>67528</td>\n",
       "      <td>5.18</td>\n",
       "    </tr>\n",
       "    <tr>\n",
       "      <th>80</th>\n",
       "      <td>mo_sin_old_rev_tl_op</td>\n",
       "      <td>67528</td>\n",
       "      <td>5.18</td>\n",
       "    </tr>\n",
       "    <tr>\n",
       "      <th>81</th>\n",
       "      <td>total_rev_hi_lim</td>\n",
       "      <td>67527</td>\n",
       "      <td>5.18</td>\n",
       "    </tr>\n",
       "    <tr>\n",
       "      <th>82</th>\n",
       "      <td>bc_util</td>\n",
       "      <td>61386</td>\n",
       "      <td>4.71</td>\n",
       "    </tr>\n",
       "    <tr>\n",
       "      <th>83</th>\n",
       "      <td>percent_bc_gt_75</td>\n",
       "      <td>61047</td>\n",
       "      <td>4.68</td>\n",
       "    </tr>\n",
       "    <tr>\n",
       "      <th>84</th>\n",
       "      <td>bc_open_to_buy</td>\n",
       "      <td>60639</td>\n",
       "      <td>4.65</td>\n",
       "    </tr>\n",
       "    <tr>\n",
       "      <th>85</th>\n",
       "      <td>mths_since_recent_bc</td>\n",
       "      <td>59741</td>\n",
       "      <td>4.58</td>\n",
       "    </tr>\n",
       "    <tr>\n",
       "      <th>86</th>\n",
       "      <td>num_bc_sats</td>\n",
       "      <td>55841</td>\n",
       "      <td>4.28</td>\n",
       "    </tr>\n",
       "    <tr>\n",
       "      <th>87</th>\n",
       "      <td>num_sats</td>\n",
       "      <td>55841</td>\n",
       "      <td>4.28</td>\n",
       "    </tr>\n",
       "    <tr>\n",
       "      <th>88</th>\n",
       "      <td>acc_open_past_24mths</td>\n",
       "      <td>47281</td>\n",
       "      <td>3.63</td>\n",
       "    </tr>\n",
       "    <tr>\n",
       "      <th>89</th>\n",
       "      <td>total_bal_ex_mort</td>\n",
       "      <td>47281</td>\n",
       "      <td>3.63</td>\n",
       "    </tr>\n",
       "    <tr>\n",
       "      <th>90</th>\n",
       "      <td>total_bc_limit</td>\n",
       "      <td>47281</td>\n",
       "      <td>3.63</td>\n",
       "    </tr>\n",
       "    <tr>\n",
       "      <th>91</th>\n",
       "      <td>mort_acc</td>\n",
       "      <td>47281</td>\n",
       "      <td>3.63</td>\n",
       "    </tr>\n",
       "    <tr>\n",
       "      <th>92</th>\n",
       "      <td>title</td>\n",
       "      <td>15426</td>\n",
       "      <td>1.18</td>\n",
       "    </tr>\n",
       "    <tr>\n",
       "      <th>93</th>\n",
       "      <td>last_pymnt_d</td>\n",
       "      <td>2260</td>\n",
       "      <td>0.17</td>\n",
       "    </tr>\n",
       "    <tr>\n",
       "      <th>94</th>\n",
       "      <td>revol_util</td>\n",
       "      <td>810</td>\n",
       "      <td>0.06</td>\n",
       "    </tr>\n",
       "    <tr>\n",
       "      <th>95</th>\n",
       "      <td>pub_rec_bankruptcies</td>\n",
       "      <td>697</td>\n",
       "      <td>0.05</td>\n",
       "    </tr>\n",
       "    <tr>\n",
       "      <th>96</th>\n",
       "      <td>dti</td>\n",
       "      <td>312</td>\n",
       "      <td>0.02</td>\n",
       "    </tr>\n",
       "    <tr>\n",
       "      <th>97</th>\n",
       "      <td>total_rec_late_fee</td>\n",
       "      <td>0</td>\n",
       "      <td>0.00</td>\n",
       "    </tr>\n",
       "    <tr>\n",
       "      <th>98</th>\n",
       "      <td>total_rec_prncp</td>\n",
       "      <td>0</td>\n",
       "      <td>0.00</td>\n",
       "    </tr>\n",
       "    <tr>\n",
       "      <th>99</th>\n",
       "      <td>total_pymnt</td>\n",
       "      <td>0</td>\n",
       "      <td>0.00</td>\n",
       "    </tr>\n",
       "    <tr>\n",
       "      <th>100</th>\n",
       "      <td>sub_grade</td>\n",
       "      <td>0</td>\n",
       "      <td>0.00</td>\n",
       "    </tr>\n",
       "    <tr>\n",
       "      <th>101</th>\n",
       "      <td>tax_liens</td>\n",
       "      <td>39</td>\n",
       "      <td>0.00</td>\n",
       "    </tr>\n",
       "    <tr>\n",
       "      <th>102</th>\n",
       "      <td>term</td>\n",
       "      <td>0</td>\n",
       "      <td>0.00</td>\n",
       "    </tr>\n",
       "    <tr>\n",
       "      <th>103</th>\n",
       "      <td>verification_status</td>\n",
       "      <td>0</td>\n",
       "      <td>0.00</td>\n",
       "    </tr>\n",
       "    <tr>\n",
       "      <th>104</th>\n",
       "      <td>total_rec_int</td>\n",
       "      <td>0</td>\n",
       "      <td>0.00</td>\n",
       "    </tr>\n",
       "    <tr>\n",
       "      <th>105</th>\n",
       "      <td>total_pymnt_inv</td>\n",
       "      <td>0</td>\n",
       "      <td>0.00</td>\n",
       "    </tr>\n",
       "    <tr>\n",
       "      <th>106</th>\n",
       "      <td>total_acc</td>\n",
       "      <td>0</td>\n",
       "      <td>0.00</td>\n",
       "    </tr>\n",
       "    <tr>\n",
       "      <th>107</th>\n",
       "      <td>acc_now_delinq</td>\n",
       "      <td>0</td>\n",
       "      <td>0.00</td>\n",
       "    </tr>\n",
       "    <tr>\n",
       "      <th>108</th>\n",
       "      <td>revol_bal</td>\n",
       "      <td>0</td>\n",
       "      <td>0.00</td>\n",
       "    </tr>\n",
       "    <tr>\n",
       "      <th>109</th>\n",
       "      <td>delinq_2yrs</td>\n",
       "      <td>0</td>\n",
       "      <td>0.00</td>\n",
       "    </tr>\n",
       "    <tr>\n",
       "      <th>110</th>\n",
       "      <td>grade</td>\n",
       "      <td>0</td>\n",
       "      <td>0.00</td>\n",
       "    </tr>\n",
       "    <tr>\n",
       "      <th>111</th>\n",
       "      <td>funded_amnt_inv</td>\n",
       "      <td>0</td>\n",
       "      <td>0.00</td>\n",
       "    </tr>\n",
       "    <tr>\n",
       "      <th>112</th>\n",
       "      <td>funded_amnt</td>\n",
       "      <td>0</td>\n",
       "      <td>0.00</td>\n",
       "    </tr>\n",
       "    <tr>\n",
       "      <th>113</th>\n",
       "      <td>earliest_cr_line</td>\n",
       "      <td>0</td>\n",
       "      <td>0.00</td>\n",
       "    </tr>\n",
       "    <tr>\n",
       "      <th>114</th>\n",
       "      <td>disbursement_method</td>\n",
       "      <td>0</td>\n",
       "      <td>0.00</td>\n",
       "    </tr>\n",
       "    <tr>\n",
       "      <th>115</th>\n",
       "      <td>delinq_amnt</td>\n",
       "      <td>0</td>\n",
       "      <td>0.00</td>\n",
       "    </tr>\n",
       "    <tr>\n",
       "      <th>116</th>\n",
       "      <td>debt_settlement_flag</td>\n",
       "      <td>0</td>\n",
       "      <td>0.00</td>\n",
       "    </tr>\n",
       "    <tr>\n",
       "      <th>117</th>\n",
       "      <td>home_ownership</td>\n",
       "      <td>0</td>\n",
       "      <td>0.00</td>\n",
       "    </tr>\n",
       "    <tr>\n",
       "      <th>118</th>\n",
       "      <td>collections_12_mths_ex_med</td>\n",
       "      <td>56</td>\n",
       "      <td>0.00</td>\n",
       "    </tr>\n",
       "    <tr>\n",
       "      <th>119</th>\n",
       "      <td>collection_recovery_fee</td>\n",
       "      <td>0</td>\n",
       "      <td>0.00</td>\n",
       "    </tr>\n",
       "    <tr>\n",
       "      <th>120</th>\n",
       "      <td>chargeoff_within_12_mths</td>\n",
       "      <td>56</td>\n",
       "      <td>0.00</td>\n",
       "    </tr>\n",
       "    <tr>\n",
       "      <th>121</th>\n",
       "      <td>application_type</td>\n",
       "      <td>0</td>\n",
       "      <td>0.00</td>\n",
       "    </tr>\n",
       "    <tr>\n",
       "      <th>122</th>\n",
       "      <td>annual_inc</td>\n",
       "      <td>0</td>\n",
       "      <td>0.00</td>\n",
       "    </tr>\n",
       "    <tr>\n",
       "      <th>123</th>\n",
       "      <td>addr_state</td>\n",
       "      <td>0</td>\n",
       "      <td>0.00</td>\n",
       "    </tr>\n",
       "    <tr>\n",
       "      <th>124</th>\n",
       "      <td>hardship_flag</td>\n",
       "      <td>0</td>\n",
       "      <td>0.00</td>\n",
       "    </tr>\n",
       "    <tr>\n",
       "      <th>125</th>\n",
       "      <td>initial_list_status</td>\n",
       "      <td>0</td>\n",
       "      <td>0.00</td>\n",
       "    </tr>\n",
       "    <tr>\n",
       "      <th>126</th>\n",
       "      <td>recoveries</td>\n",
       "      <td>0</td>\n",
       "      <td>0.00</td>\n",
       "    </tr>\n",
       "    <tr>\n",
       "      <th>127</th>\n",
       "      <td>open_acc</td>\n",
       "      <td>0</td>\n",
       "      <td>0.00</td>\n",
       "    </tr>\n",
       "    <tr>\n",
       "      <th>128</th>\n",
       "      <td>pymnt_plan</td>\n",
       "      <td>0</td>\n",
       "      <td>0.00</td>\n",
       "    </tr>\n",
       "    <tr>\n",
       "      <th>129</th>\n",
       "      <td>purpose</td>\n",
       "      <td>0</td>\n",
       "      <td>0.00</td>\n",
       "    </tr>\n",
       "    <tr>\n",
       "      <th>130</th>\n",
       "      <td>pub_rec</td>\n",
       "      <td>0</td>\n",
       "      <td>0.00</td>\n",
       "    </tr>\n",
       "    <tr>\n",
       "      <th>131</th>\n",
       "      <td>policy_code</td>\n",
       "      <td>0</td>\n",
       "      <td>0.00</td>\n",
       "    </tr>\n",
       "    <tr>\n",
       "      <th>132</th>\n",
       "      <td>out_prncp_inv</td>\n",
       "      <td>0</td>\n",
       "      <td>0.00</td>\n",
       "    </tr>\n",
       "    <tr>\n",
       "      <th>133</th>\n",
       "      <td>out_prncp</td>\n",
       "      <td>0</td>\n",
       "      <td>0.00</td>\n",
       "    </tr>\n",
       "    <tr>\n",
       "      <th>134</th>\n",
       "      <td>loan_status</td>\n",
       "      <td>0</td>\n",
       "      <td>0.00</td>\n",
       "    </tr>\n",
       "    <tr>\n",
       "      <th>135</th>\n",
       "      <td>inq_last_6mths</td>\n",
       "      <td>1</td>\n",
       "      <td>0.00</td>\n",
       "    </tr>\n",
       "    <tr>\n",
       "      <th>136</th>\n",
       "      <td>loan_amnt</td>\n",
       "      <td>0</td>\n",
       "      <td>0.00</td>\n",
       "    </tr>\n",
       "    <tr>\n",
       "      <th>137</th>\n",
       "      <td>last_pymnt_amnt</td>\n",
       "      <td>0</td>\n",
       "      <td>0.00</td>\n",
       "    </tr>\n",
       "    <tr>\n",
       "      <th>138</th>\n",
       "      <td>last_credit_pull_d</td>\n",
       "      <td>54</td>\n",
       "      <td>0.00</td>\n",
       "    </tr>\n",
       "    <tr>\n",
       "      <th>139</th>\n",
       "      <td>issue_d</td>\n",
       "      <td>0</td>\n",
       "      <td>0.00</td>\n",
       "    </tr>\n",
       "    <tr>\n",
       "      <th>140</th>\n",
       "      <td>int_rate</td>\n",
       "      <td>0</td>\n",
       "      <td>0.00</td>\n",
       "    </tr>\n",
       "    <tr>\n",
       "      <th>141</th>\n",
       "      <td>installment</td>\n",
       "      <td>0</td>\n",
       "      <td>0.00</td>\n",
       "    </tr>\n",
       "    <tr>\n",
       "      <th>142</th>\n",
       "      <td>zip_code</td>\n",
       "      <td>1</td>\n",
       "      <td>0.00</td>\n",
       "    </tr>\n",
       "  </tbody>\n",
       "</table>\n",
       "</div>"
      ],
      "text/plain": [
       "                                          index  Total Missing Values  Percentage %\n",
       "0                                           url               1303607        100.00\n",
       "1                                  next_pymnt_d               1303607        100.00\n",
       "2    orig_projected_additional_accrued_interest               1300174         99.74\n",
       "3                                 deferral_term               1298272         99.59\n",
       "4                  hardship_last_payment_amount               1298272         99.59\n",
       "5                hardship_payoff_balance_amount               1298272         99.59\n",
       "6                             hardship_end_date               1298272         99.59\n",
       "7                                  hardship_dpd               1298272         99.59\n",
       "8                               hardship_amount               1298272         99.59\n",
       "9                               hardship_reason               1298272         99.59\n",
       "10                          hardship_start_date               1298272         99.59\n",
       "11                              hardship_status               1298272         99.59\n",
       "12                                hardship_type               1298272         99.59\n",
       "13                         hardship_loan_status               1298272         99.59\n",
       "14                              hardship_length               1298272         99.59\n",
       "15                      payment_plan_start_date               1298272         99.59\n",
       "16          sec_app_mths_since_last_major_derog               1297675         99.54\n",
       "17                           sec_app_revol_util               1287389         98.76\n",
       "18                        sec_app_num_rev_accts               1287096         98.73\n",
       "19             sec_app_chargeoff_within_12_mths               1287096         98.73\n",
       "20                              revol_bal_joint               1287097         98.73\n",
       "21                       sec_app_inq_last_6mths               1287096         98.73\n",
       "22                             sec_app_mort_acc               1287096         98.73\n",
       "23                             sec_app_open_acc               1287096         98.73\n",
       "24                     sec_app_earliest_cr_line               1287096         98.73\n",
       "25                          sec_app_open_act_il               1287096         98.73\n",
       "26           sec_app_collections_12_mths_ex_med               1287096         98.73\n",
       "27                    verification_status_joint               1280516         98.23\n",
       "28                                    dti_joint               1280372         98.22\n",
       "29                             annual_inc_joint               1280370         98.22\n",
       "30                            settlement_amount               1271618         97.55\n",
       "31                              settlement_term               1271618         97.55\n",
       "32                            settlement_status               1271618         97.55\n",
       "33                              settlement_date               1271618         97.55\n",
       "34                        settlement_percentage               1271618         97.55\n",
       "35                    debt_settlement_flag_date               1271618         97.55\n",
       "36                                         desc               1180280         90.54\n",
       "37                       mths_since_last_record               1081841         82.99\n",
       "38                     mths_since_recent_bc_dlq                994461         76.29\n",
       "39                  mths_since_last_major_derog                961240         73.74\n",
       "40                                      il_util                870939         66.81\n",
       "41               mths_since_recent_revol_delinq                867772         66.57\n",
       "42                           mths_since_rcnt_il                817059         62.68\n",
       "43                                  total_cu_tl                804063         61.68\n",
       "44                                  open_il_12m                804062         61.68\n",
       "45                                  open_act_il                804062         61.68\n",
       "46                                  open_acc_6m                804063         61.68\n",
       "47                                  open_rv_24m                804062         61.68\n",
       "48                                  open_rv_12m                804062         61.68\n",
       "49                                   max_bal_bc                804062         61.68\n",
       "50                                  open_il_24m                804062         61.68\n",
       "51                                 inq_last_12m                804063         61.68\n",
       "52                                 total_bal_il                804062         61.68\n",
       "53                                     all_util                804113         61.68\n",
       "54                                       inq_fi                804062         61.68\n",
       "55                       mths_since_last_delinq                657824         50.46\n",
       "56                        mths_since_recent_inq                169549         13.01\n",
       "57                             num_tl_120dpd_2m                115570          8.87\n",
       "58                           mo_sin_old_il_acct                104295          8.00\n",
       "59                                    emp_title                 82579          6.33\n",
       "60                                   emp_length                 75454          5.79\n",
       "61                               pct_tl_nvr_dlq                 67681          5.19\n",
       "62                        num_accts_ever_120_pd                 67527          5.18\n",
       "63                                num_op_rev_tl                 67527          5.18\n",
       "64                                num_rev_accts                 67528          5.18\n",
       "65                           num_tl_90g_dpd_24m                 67527          5.18\n",
       "66                          num_rev_tl_bal_gt_0                 67527          5.18\n",
       "67                                 num_tl_30dpd                 67527          5.18\n",
       "68                                    num_bc_tl                 67527          5.18\n",
       "69                           num_tl_op_past_12m                 67527          5.18\n",
       "70                              tot_hi_cred_lim                 67527          5.18\n",
       "71                                    num_il_tl                 67527          5.18\n",
       "72                              num_actv_rev_tl                 67527          5.18\n",
       "73                                  tot_cur_bal                 67527          5.18\n",
       "74                               num_actv_bc_tl                 67527          5.18\n",
       "75                   total_il_high_credit_limit                 67527          5.18\n",
       "76                                 tot_coll_amt                 67527          5.18\n",
       "77                                  avg_cur_bal                 67548          5.18\n",
       "78                               mo_sin_rcnt_tl                 67527          5.18\n",
       "79                        mo_sin_rcnt_rev_tl_op                 67528          5.18\n",
       "80                         mo_sin_old_rev_tl_op                 67528          5.18\n",
       "81                             total_rev_hi_lim                 67527          5.18\n",
       "82                                      bc_util                 61386          4.71\n",
       "83                             percent_bc_gt_75                 61047          4.68\n",
       "84                               bc_open_to_buy                 60639          4.65\n",
       "85                         mths_since_recent_bc                 59741          4.58\n",
       "86                                  num_bc_sats                 55841          4.28\n",
       "87                                     num_sats                 55841          4.28\n",
       "88                         acc_open_past_24mths                 47281          3.63\n",
       "89                            total_bal_ex_mort                 47281          3.63\n",
       "90                               total_bc_limit                 47281          3.63\n",
       "91                                     mort_acc                 47281          3.63\n",
       "92                                        title                 15426          1.18\n",
       "93                                 last_pymnt_d                  2260          0.17\n",
       "94                                   revol_util                   810          0.06\n",
       "95                         pub_rec_bankruptcies                   697          0.05\n",
       "96                                          dti                   312          0.02\n",
       "97                           total_rec_late_fee                     0          0.00\n",
       "98                              total_rec_prncp                     0          0.00\n",
       "99                                  total_pymnt                     0          0.00\n",
       "100                                   sub_grade                     0          0.00\n",
       "101                                   tax_liens                    39          0.00\n",
       "102                                        term                     0          0.00\n",
       "103                         verification_status                     0          0.00\n",
       "104                               total_rec_int                     0          0.00\n",
       "105                             total_pymnt_inv                     0          0.00\n",
       "106                                   total_acc                     0          0.00\n",
       "107                              acc_now_delinq                     0          0.00\n",
       "108                                   revol_bal                     0          0.00\n",
       "109                                 delinq_2yrs                     0          0.00\n",
       "110                                       grade                     0          0.00\n",
       "111                             funded_amnt_inv                     0          0.00\n",
       "112                                 funded_amnt                     0          0.00\n",
       "113                            earliest_cr_line                     0          0.00\n",
       "114                         disbursement_method                     0          0.00\n",
       "115                                 delinq_amnt                     0          0.00\n",
       "116                        debt_settlement_flag                     0          0.00\n",
       "117                              home_ownership                     0          0.00\n",
       "118                  collections_12_mths_ex_med                    56          0.00\n",
       "119                     collection_recovery_fee                     0          0.00\n",
       "120                    chargeoff_within_12_mths                    56          0.00\n",
       "121                            application_type                     0          0.00\n",
       "122                                  annual_inc                     0          0.00\n",
       "123                                  addr_state                     0          0.00\n",
       "124                               hardship_flag                     0          0.00\n",
       "125                         initial_list_status                     0          0.00\n",
       "126                                  recoveries                     0          0.00\n",
       "127                                    open_acc                     0          0.00\n",
       "128                                  pymnt_plan                     0          0.00\n",
       "129                                     purpose                     0          0.00\n",
       "130                                     pub_rec                     0          0.00\n",
       "131                                 policy_code                     0          0.00\n",
       "132                               out_prncp_inv                     0          0.00\n",
       "133                                   out_prncp                     0          0.00\n",
       "134                                 loan_status                     0          0.00\n",
       "135                              inq_last_6mths                     1          0.00\n",
       "136                                   loan_amnt                     0          0.00\n",
       "137                             last_pymnt_amnt                     0          0.00\n",
       "138                          last_credit_pull_d                    54          0.00\n",
       "139                                     issue_d                     0          0.00\n",
       "140                                    int_rate                     0          0.00\n",
       "141                                 installment                     0          0.00\n",
       "142                                    zip_code                     1          0.00"
      ]
     },
     "execution_count": 20,
     "metadata": {},
     "output_type": "execute_result"
    }
   ],
   "source": [
    "df_miss"
   ]
  },
  {
   "cell_type": "code",
   "execution_count": 21,
   "metadata": {},
   "outputs": [
    {
     "data": {
      "text/plain": [
       "index                   56\n",
       "Total Missing Values    56\n",
       "Percentage %            56\n",
       "dtype: int64"
      ]
     },
     "execution_count": 21,
     "metadata": {},
     "output_type": "execute_result"
    }
   ],
   "source": [
    "df_miss[df_miss['Percentage %']>50].count()"
   ]
  },
  {
   "cell_type": "code",
   "execution_count": 22,
   "metadata": {},
   "outputs": [
    {
     "data": {
      "text/plain": [
       "index                   143\n",
       "Total Missing Values    143\n",
       "Percentage %            143\n",
       "dtype: int64"
      ]
     },
     "execution_count": 22,
     "metadata": {},
     "output_type": "execute_result"
    }
   ],
   "source": [
    "df_miss.count()"
   ]
  },
  {
   "cell_type": "code",
   "execution_count": 23,
   "metadata": {},
   "outputs": [],
   "source": [
    "# drop all those features that has more than 50% missing values\n",
    "df_NewAppl = df_cleanAppl.drop(df_miss[df_miss[\"Percentage %\"]>50][\"index\"], axis = 1)"
   ]
  },
  {
   "cell_type": "code",
   "execution_count": 24,
   "metadata": {},
   "outputs": [
    {
     "data": {
      "text/plain": [
       "(1303607, 87)"
      ]
     },
     "execution_count": 24,
     "metadata": {},
     "output_type": "execute_result"
    }
   ],
   "source": [
    "df_NewAppl.shape"
   ]
  },
  {
   "cell_type": "code",
   "execution_count": 25,
   "metadata": {},
   "outputs": [
    {
     "data": {
      "text/plain": [
       "0                                            url\n",
       "1                                   next_pymnt_d\n",
       "2     orig_projected_additional_accrued_interest\n",
       "3                                  deferral_term\n",
       "4                   hardship_last_payment_amount\n",
       "5                 hardship_payoff_balance_amount\n",
       "6                              hardship_end_date\n",
       "7                                   hardship_dpd\n",
       "8                                hardship_amount\n",
       "9                                hardship_reason\n",
       "10                           hardship_start_date\n",
       "11                               hardship_status\n",
       "12                                 hardship_type\n",
       "13                          hardship_loan_status\n",
       "14                               hardship_length\n",
       "15                       payment_plan_start_date\n",
       "16           sec_app_mths_since_last_major_derog\n",
       "17                            sec_app_revol_util\n",
       "18                         sec_app_num_rev_accts\n",
       "19              sec_app_chargeoff_within_12_mths\n",
       "20                               revol_bal_joint\n",
       "21                        sec_app_inq_last_6mths\n",
       "22                              sec_app_mort_acc\n",
       "23                              sec_app_open_acc\n",
       "24                      sec_app_earliest_cr_line\n",
       "25                           sec_app_open_act_il\n",
       "26            sec_app_collections_12_mths_ex_med\n",
       "27                     verification_status_joint\n",
       "28                                     dti_joint\n",
       "29                              annual_inc_joint\n",
       "30                             settlement_amount\n",
       "31                               settlement_term\n",
       "32                             settlement_status\n",
       "33                               settlement_date\n",
       "34                         settlement_percentage\n",
       "35                     debt_settlement_flag_date\n",
       "36                                          desc\n",
       "37                        mths_since_last_record\n",
       "38                      mths_since_recent_bc_dlq\n",
       "39                   mths_since_last_major_derog\n",
       "40                                       il_util\n",
       "41                mths_since_recent_revol_delinq\n",
       "42                            mths_since_rcnt_il\n",
       "43                                   total_cu_tl\n",
       "44                                   open_il_12m\n",
       "45                                   open_act_il\n",
       "46                                   open_acc_6m\n",
       "47                                   open_rv_24m\n",
       "48                                   open_rv_12m\n",
       "49                                    max_bal_bc\n",
       "50                                   open_il_24m\n",
       "51                                  inq_last_12m\n",
       "52                                  total_bal_il\n",
       "53                                      all_util\n",
       "54                                        inq_fi\n",
       "55                        mths_since_last_delinq\n",
       "Name: index, dtype: object"
      ]
     },
     "execution_count": 25,
     "metadata": {},
     "output_type": "execute_result"
    }
   ],
   "source": [
    "df_miss[df_miss[\"Percentage %\"]>50][\"index\"] # features that were dropped"
   ]
  },
  {
   "cell_type": "code",
   "execution_count": 26,
   "metadata": {},
   "outputs": [
    {
     "data": {
      "text/plain": [
       "(1303607, 143)"
      ]
     },
     "execution_count": 26,
     "metadata": {},
     "output_type": "execute_result"
    }
   ],
   "source": [
    "df_NewAppl = df_cleanAppl\n",
    "df_NewAppl.shape"
   ]
  },
  {
   "cell_type": "code",
   "execution_count": 27,
   "metadata": {},
   "outputs": [
    {
     "data": {
      "text/plain": [
       "loan_amnt                                       int64\n",
       "funded_amnt                                     int64\n",
       "funded_amnt_inv                               float64\n",
       "term                                           object\n",
       "int_rate                                      float64\n",
       "installment                                   float64\n",
       "grade                                          object\n",
       "sub_grade                                      object\n",
       "emp_title                                      object\n",
       "emp_length                                     object\n",
       "home_ownership                                 object\n",
       "annual_inc                                    float64\n",
       "verification_status                            object\n",
       "issue_d                                        object\n",
       "loan_status                                    object\n",
       "pymnt_plan                                     object\n",
       "url                                           float64\n",
       "desc                                           object\n",
       "purpose                                        object\n",
       "title                                          object\n",
       "zip_code                                       object\n",
       "addr_state                                     object\n",
       "dti                                           float64\n",
       "delinq_2yrs                                   float64\n",
       "earliest_cr_line                               object\n",
       "inq_last_6mths                                float64\n",
       "mths_since_last_delinq                        float64\n",
       "mths_since_last_record                        float64\n",
       "open_acc                                      float64\n",
       "pub_rec                                       float64\n",
       "revol_bal                                       int64\n",
       "revol_util                                    float64\n",
       "total_acc                                     float64\n",
       "initial_list_status                            object\n",
       "out_prncp                                     float64\n",
       "out_prncp_inv                                 float64\n",
       "total_pymnt                                   float64\n",
       "total_pymnt_inv                               float64\n",
       "total_rec_prncp                               float64\n",
       "total_rec_int                                 float64\n",
       "total_rec_late_fee                            float64\n",
       "recoveries                                    float64\n",
       "collection_recovery_fee                       float64\n",
       "last_pymnt_d                                   object\n",
       "last_pymnt_amnt                               float64\n",
       "next_pymnt_d                                   object\n",
       "last_credit_pull_d                             object\n",
       "collections_12_mths_ex_med                    float64\n",
       "mths_since_last_major_derog                   float64\n",
       "policy_code                                     int64\n",
       "application_type                               object\n",
       "annual_inc_joint                              float64\n",
       "dti_joint                                     float64\n",
       "verification_status_joint                      object\n",
       "acc_now_delinq                                float64\n",
       "tot_coll_amt                                  float64\n",
       "tot_cur_bal                                   float64\n",
       "open_acc_6m                                   float64\n",
       "open_act_il                                   float64\n",
       "open_il_12m                                   float64\n",
       "open_il_24m                                   float64\n",
       "mths_since_rcnt_il                            float64\n",
       "total_bal_il                                  float64\n",
       "il_util                                       float64\n",
       "open_rv_12m                                   float64\n",
       "open_rv_24m                                   float64\n",
       "max_bal_bc                                    float64\n",
       "all_util                                      float64\n",
       "total_rev_hi_lim                              float64\n",
       "inq_fi                                        float64\n",
       "total_cu_tl                                   float64\n",
       "inq_last_12m                                  float64\n",
       "acc_open_past_24mths                          float64\n",
       "avg_cur_bal                                   float64\n",
       "bc_open_to_buy                                float64\n",
       "bc_util                                       float64\n",
       "chargeoff_within_12_mths                      float64\n",
       "delinq_amnt                                   float64\n",
       "mo_sin_old_il_acct                            float64\n",
       "mo_sin_old_rev_tl_op                          float64\n",
       "mo_sin_rcnt_rev_tl_op                         float64\n",
       "mo_sin_rcnt_tl                                float64\n",
       "mort_acc                                      float64\n",
       "mths_since_recent_bc                          float64\n",
       "mths_since_recent_bc_dlq                      float64\n",
       "mths_since_recent_inq                         float64\n",
       "mths_since_recent_revol_delinq                float64\n",
       "num_accts_ever_120_pd                         float64\n",
       "num_actv_bc_tl                                float64\n",
       "num_actv_rev_tl                               float64\n",
       "num_bc_sats                                   float64\n",
       "num_bc_tl                                     float64\n",
       "num_il_tl                                     float64\n",
       "num_op_rev_tl                                 float64\n",
       "num_rev_accts                                 float64\n",
       "num_rev_tl_bal_gt_0                           float64\n",
       "num_sats                                      float64\n",
       "num_tl_120dpd_2m                              float64\n",
       "num_tl_30dpd                                  float64\n",
       "num_tl_90g_dpd_24m                            float64\n",
       "num_tl_op_past_12m                            float64\n",
       "pct_tl_nvr_dlq                                float64\n",
       "percent_bc_gt_75                              float64\n",
       "pub_rec_bankruptcies                          float64\n",
       "tax_liens                                     float64\n",
       "tot_hi_cred_lim                               float64\n",
       "total_bal_ex_mort                             float64\n",
       "total_bc_limit                                float64\n",
       "total_il_high_credit_limit                    float64\n",
       "revol_bal_joint                               float64\n",
       "sec_app_earliest_cr_line                       object\n",
       "sec_app_inq_last_6mths                        float64\n",
       "sec_app_mort_acc                              float64\n",
       "sec_app_open_acc                              float64\n",
       "sec_app_revol_util                            float64\n",
       "sec_app_open_act_il                           float64\n",
       "sec_app_num_rev_accts                         float64\n",
       "sec_app_chargeoff_within_12_mths              float64\n",
       "sec_app_collections_12_mths_ex_med            float64\n",
       "sec_app_mths_since_last_major_derog           float64\n",
       "hardship_flag                                  object\n",
       "hardship_type                                  object\n",
       "hardship_reason                                object\n",
       "hardship_status                                object\n",
       "deferral_term                                 float64\n",
       "hardship_amount                               float64\n",
       "hardship_start_date                            object\n",
       "hardship_end_date                              object\n",
       "payment_plan_start_date                        object\n",
       "hardship_length                               float64\n",
       "hardship_dpd                                  float64\n",
       "hardship_loan_status                           object\n",
       "orig_projected_additional_accrued_interest    float64\n",
       "hardship_payoff_balance_amount                float64\n",
       "hardship_last_payment_amount                  float64\n",
       "disbursement_method                            object\n",
       "debt_settlement_flag                           object\n",
       "debt_settlement_flag_date                      object\n",
       "settlement_status                              object\n",
       "settlement_date                                object\n",
       "settlement_amount                             float64\n",
       "settlement_percentage                         float64\n",
       "settlement_term                               float64\n",
       "dtype: object"
      ]
     },
     "execution_count": 27,
     "metadata": {},
     "output_type": "execute_result"
    }
   ],
   "source": [
    "df_NewAppl.dtypes"
   ]
  },
  {
   "cell_type": "code",
   "execution_count": 28,
   "metadata": {},
   "outputs": [
    {
     "name": "stdout",
     "output_type": "stream",
     "text": [
      "['funded_amnt', 'funded_amnt_inv', 'issue_d', 'pymnt_plan', 'url', 'desc', 'delinq_2yrs', 'inq_last_6mths', 'mths_since_last_delinq', 'mths_since_last_record', 'out_prncp', 'out_prncp_inv', 'total_pymnt', 'total_pymnt_inv', 'total_rec_prncp', 'total_rec_int', 'total_rec_late_fee', 'recoveries', 'collection_recovery_fee', 'last_pymnt_d', 'last_pymnt_amnt', 'next_pymnt_d', 'last_credit_pull_d', 'collections_12_mths_ex_med', 'mths_since_last_major_derog', 'policy_code', 'annual_inc_joint', 'dti_joint', 'verification_status_joint', 'acc_now_delinq', 'tot_coll_amt', 'tot_cur_bal', 'open_acc_6m', 'open_act_il', 'open_il_12m', 'open_il_24m', 'mths_since_rcnt_il', 'total_bal_il', 'il_util', 'open_rv_12m', 'open_rv_24m', 'max_bal_bc', 'all_util', 'total_rev_hi_lim', 'inq_fi', 'total_cu_tl', 'inq_last_12m', 'acc_open_past_24mths', 'avg_cur_bal', 'bc_open_to_buy', 'bc_util', 'chargeoff_within_12_mths', 'delinq_amnt', 'mo_sin_old_il_acct', 'mo_sin_old_rev_tl_op', 'mo_sin_rcnt_rev_tl_op', 'mo_sin_rcnt_tl', 'mths_since_recent_bc', 'mths_since_recent_bc_dlq', 'mths_since_recent_inq', 'mths_since_recent_revol_delinq', 'num_accts_ever_120_pd', 'num_actv_bc_tl', 'num_actv_rev_tl', 'num_bc_sats', 'num_bc_tl', 'num_il_tl', 'num_op_rev_tl', 'num_rev_accts', 'num_rev_tl_bal_gt_0', 'num_sats', 'num_tl_120dpd_2m', 'num_tl_30dpd', 'num_tl_90g_dpd_24m', 'num_tl_op_past_12m', 'pct_tl_nvr_dlq', 'percent_bc_gt_75', 'tax_liens', 'tot_hi_cred_lim', 'total_bal_ex_mort', 'total_bc_limit', 'total_il_high_credit_limit', 'revol_bal_joint', 'sec_app_earliest_cr_line', 'sec_app_inq_last_6mths', 'sec_app_mort_acc', 'sec_app_open_acc', 'sec_app_revol_util', 'sec_app_open_act_il', 'sec_app_num_rev_accts', 'sec_app_chargeoff_within_12_mths', 'sec_app_collections_12_mths_ex_med', 'sec_app_mths_since_last_major_derog', 'hardship_flag', 'hardship_type', 'hardship_reason', 'hardship_status', 'deferral_term', 'hardship_amount', 'hardship_start_date', 'hardship_end_date', 'payment_plan_start_date', 'hardship_length', 'hardship_dpd', 'hardship_loan_status', 'orig_projected_additional_accrued_interest', 'hardship_payoff_balance_amount', 'hardship_last_payment_amount', 'disbursement_method', 'debt_settlement_flag', 'debt_settlement_flag_date', 'settlement_status', 'settlement_date', 'settlement_amount', 'settlement_percentage', 'settlement_term']\n"
     ]
    }
   ],
   "source": [
    "keep_list = ['addr_state','annual_inc', 'application_type', 'dti', 'earliest_cr_line', 'emp_length', 'emp_title', 'grade', 'home_ownership', 'id', 'initial_list_status', 'installment', 'int_rate', 'loan_amnt', 'loan_status', 'mort_acc', 'open_acc', 'pub_rec', 'pub_rec_bankruptcies', 'purpose', 'revol_bal', 'revol_util', 'sub_grade', 'term', 'title', 'total_acc', 'verification_status', 'zip_code', 'annual_inc_norm', 'target']\n",
    "drop_list = [col for col in df_NewAppl.columns if col not in keep_list]\n",
    "print(drop_list) "
   ]
  },
  {
   "cell_type": "code",
   "execution_count": 29,
   "metadata": {},
   "outputs": [],
   "source": [
    "df_NewAppl.drop(labels=drop_list, axis=1, inplace=True)"
   ]
  },
  {
   "cell_type": "code",
   "execution_count": 30,
   "metadata": {},
   "outputs": [
    {
     "data": {
      "text/plain": [
       "(1303607, 27)"
      ]
     },
     "execution_count": 30,
     "metadata": {},
     "output_type": "execute_result"
    }
   ],
   "source": [
    "df_NewAppl.shape"
   ]
  },
  {
   "cell_type": "code",
   "execution_count": 31,
   "metadata": {},
   "outputs": [
    {
     "data": {
      "text/plain": [
       "['addr_state',\n",
       " 'annual_inc',\n",
       " 'application_type',\n",
       " 'dti',\n",
       " 'earliest_cr_line',\n",
       " 'emp_length',\n",
       " 'emp_title',\n",
       " 'grade',\n",
       " 'home_ownership',\n",
       " 'initial_list_status',\n",
       " 'installment',\n",
       " 'int_rate',\n",
       " 'loan_amnt',\n",
       " 'loan_status',\n",
       " 'mort_acc',\n",
       " 'open_acc',\n",
       " 'pub_rec',\n",
       " 'pub_rec_bankruptcies',\n",
       " 'purpose',\n",
       " 'revol_bal',\n",
       " 'revol_util',\n",
       " 'sub_grade',\n",
       " 'term',\n",
       " 'title',\n",
       " 'total_acc',\n",
       " 'verification_status',\n",
       " 'zip_code']"
      ]
     },
     "execution_count": 31,
     "metadata": {},
     "output_type": "execute_result"
    }
   ],
   "source": [
    "sorted(df_NewAppl.columns)"
   ]
  },
  {
   "cell_type": "code",
   "execution_count": 32,
   "metadata": {},
   "outputs": [],
   "source": [
    "#Zip code is in the format-891xx    900xx    etc. We have clean that.\n",
    "df_NewAppl.zip_code = df_NewAppl.zip_code.str.replace(\"xx\",\"\") "
   ]
  },
  {
   "cell_type": "code",
   "execution_count": 33,
   "metadata": {},
   "outputs": [],
   "source": [
    "#Next is formatting the dates- for e.g. Oct-2013 to 2015-10-01  format\n",
    "\n",
    "df_NewAppl['earliest_cr_line'] = pd.to_datetime(df_NewAppl['earliest_cr_line'],infer_datetime_format=True)"
   ]
  },
  {
   "cell_type": "markdown",
   "metadata": {},
   "source": [
    "Next is cleaning up the employment length feature as follows-\n",
    "The values are -\n",
    "10+ years\n",
    " < 1 year\n",
    " 2 years\n",
    " 3 years etc\n",
    "We will make it as 0/1/2/3/...10 etc"
   ]
  },
  {
   "cell_type": "code",
   "execution_count": 34,
   "metadata": {},
   "outputs": [],
   "source": [
    "#Next is cleaning up the employment length feature as follows- The values are - 10+ years < 1 year 2 years 3 years etc We will make it as 0/1/2/3/...10 etc\n",
    "\n",
    "df_NewAppl['emp_length'].replace(to_replace='10+ years', value='10 years', inplace=True)\n",
    "df_NewAppl['emp_length'].replace('< 1 year', '0 years', inplace=True)\n",
    "\n",
    "def emp_length_to_int(str_val):\n",
    "    if pd.isnull(str_val):\n",
    "        return str_val\n",
    "    else:\n",
    "        return np.int8(str_val.split()[0])\n",
    "df_NewAppl['emp_length'] = df_NewAppl['emp_length'].apply(emp_length_to_int)"
   ]
  },
  {
   "cell_type": "code",
   "execution_count": 35,
   "metadata": {},
   "outputs": [
    {
     "name": "stdout",
     "output_type": "stream",
     "text": [
      "loan_amnt               12000.00\n",
      "int_rate                    6.24\n",
      "installment               331.63\n",
      "emp_length                  8.00\n",
      "annual_inc              44160.00\n",
      "dti                        12.25\n",
      "open_acc                    6.00\n",
      "pub_rec                     0.00\n",
      "revol_bal               13796.00\n",
      "revol_util                 37.20\n",
      "total_acc                  16.00\n",
      "mort_acc                    3.00\n",
      "pub_rec_bankruptcies        0.00\n",
      "dtype: float64\n"
     ]
    }
   ],
   "source": [
    "#Outliers\n",
    "#--------\n",
    "#Next we will figure out the outliers with The interquartile range (IQR), also called the midspread or middle 50%\n",
    "#It is a measure of the dispersion similar to standard deviation or variance, but is much more robust against outliers.\n",
    "#IQR is somewhat similar to Z-score in terms of finding the distribution of data and then keeping some threshold to identify the outlier.\n",
    "\n",
    "Q1 = df_NewAppl.quantile(0.25)\n",
    "Q3 = df_NewAppl.quantile(0.75)\n",
    "IQR = Q3 - Q1\n",
    "print(IQR)"
   ]
  },
  {
   "cell_type": "code",
   "execution_count": 36,
   "metadata": {},
   "outputs": [],
   "source": [
    "Num_list = ['loan_amnt', 'int_rate', 'installment', 'emp_length','annual_inc', 'dti','open_acc','pub_rec','revol_bal', 'revol_util', 'total_acc','mort_acc','pub_rec_bankruptcies', ]\n",
    "df_NewApplNum = df_NewAppl[Num_list]\n"
   ]
  },
  {
   "cell_type": "code",
   "execution_count": 37,
   "metadata": {},
   "outputs": [],
   "source": [
    "#After computing the value of IQR, using threshhold of 1.5 * IQR away from Q1 and Q3 on both sides \n",
    "df_NewApplReduced = df_NewAppl[~((df_NewApplNum < (Q1 - 1.5 * IQR)) |(df_NewApplNum > (Q3 + 1.5 * IQR))).any(axis=1)]\n"
   ]
  },
  {
   "cell_type": "code",
   "execution_count": 38,
   "metadata": {},
   "outputs": [
    {
     "name": "stdout",
     "output_type": "stream",
     "text": [
      "(1303607, 27)\n",
      "(888553, 27)\n"
     ]
    }
   ],
   "source": [
    "print(df_NewAppl.shape)\n",
    "print(df_NewApplReduced.shape)\n"
   ]
  },
  {
   "cell_type": "code",
   "execution_count": 39,
   "metadata": {},
   "outputs": [],
   "source": [
    "# After removing the outliers\n",
    "df_NewAppl = df_NewApplReduced"
   ]
  },
  {
   "cell_type": "code",
   "execution_count": 40,
   "metadata": {},
   "outputs": [],
   "source": [
    "#Next we will move on to EDA with individual features"
   ]
  },
  {
   "cell_type": "markdown",
   "metadata": {},
   "source": [
    "Next, We will inspect each feature individually.\n",
    "We will perform the univariate and bivariate analysis using the folloiwng steps-\n",
    "    Summary statistics\n",
    "    Plot individually\n",
    "    Plot against our target variable- loan_status\n",
    "    Modify the feature to make it ready for modelling, if necessary\n",
    "\n",
    "\tFor individual summary statistics we will use \n",
    "        .describe()\n",
    "        .sample(5)\n",
    "        .nunique()\n",
    "     \n",
    "    Finally we will plot the feature against our target feature loan_status to see if and how both are related\n"
   ]
  },
  {
   "cell_type": "code",
   "execution_count": 41,
   "metadata": {},
   "outputs": [],
   "source": [
    "def plot_var(col_name, full_name, continuous):\n",
    "    \"\"\"\n",
    "    plot a variable with and without loan status.\n",
    "    - col_name is the variable name in the dataframe\n",
    "    - full_name is the full variable name- for display purposes\n",
    "    - continuous is True if the variable is continuous, False otherwise\n",
    "    \"\"\"\n",
    "    f, (ax1, ax2) = plt.subplots(nrows=1, ncols=2, figsize=(12,3), dpi=90)\n",
    "    \n",
    "    # Plot without loan status\n",
    "    if continuous:\n",
    "        sns.distplot(df_NewAppl.loc[df_NewAppl[col_name].notnull(), col_name], kde=False, ax=ax1)\n",
    "    else:\n",
    "        sns.countplot(df_NewAppl[col_name], order=sorted(df_NewAppl[col_name].unique()), color='#5975A4', saturation=1, ax=ax1)\n",
    "    ax1.set_xlabel(full_name)\n",
    "    ax1.set_ylabel('Count')\n",
    "    ax1.set_title('Distribution of ' + full_name)\n",
    "\n",
    "    # Plot with loan status\n",
    "    if continuous:\n",
    "        sns.boxplot(x=col_name, y='loan_status', data=df_NewAppl, ax=ax2)\n",
    "        ax2.set_ylabel('')\n",
    "        ax2.set_title(full_name + ' by Loan Status')\n",
    "    else:\n",
    "        charge_off_rates = df_NewAppl.groupby(col_name)['loan_status'].value_counts(normalize=True).loc[:,'Charged Off']\n",
    "        sns.barplot(x=charge_off_rates.index, y=charge_off_rates.values, color='#5975A4', saturation=1, ax=ax2)\n",
    "        ax2.set_ylabel('Fraction of Loans Charged-off')\n",
    "        ax2.set_title('Charge-off Rate by ' + full_name)\n",
    "    ax2.set_xlabel(full_name)\n",
    "    \n",
    "    plt.tight_layout()\n",
    "\n",
    "    \n",
    "def print_stats(col_name, group_by=False):\n",
    "    \"\"\"\n",
    "    print the general statistics of the passed column\n",
    "    \"\"\"\n",
    "    print('-'*60, '\\n Individual Summary Statistics for', col_name, '\\n', '-'*60)\n",
    "    print('Describe \\n',df_NewAppl[col_name].describe(), '\\n', '-'*20)\n",
    "    print('Sample Observations \\n',df_NewAppl[col_name].sample(5), '\\n', '-'*20)\n",
    "    print('Number of Uniques \\n',df_NewAppl[col_name].nunique(), '\\n', '-'*20)\n",
    "    num_uniques = df_NewAppl[col_name].nunique()\n",
    "    if num_uniques <31: \n",
    "        print('Unique value counts \\n', df_NewAppl[col_name].value_counts(), '\\n', '-'*20)\n",
    "        \n",
    "    if group_by:\n",
    "        print('Group_by \\n', df_NewAppl.groupby('loan_status')[col_name].describe(), '\\n','-'*20)"
   ]
  },
  {
   "cell_type": "markdown",
   "metadata": {},
   "source": [
    "1.addr_state\n",
    "2.zip_code"
   ]
  },
  {
   "cell_type": "code",
   "execution_count": 42,
   "metadata": {
    "scrolled": true
   },
   "outputs": [
    {
     "name": "stdout",
     "output_type": "stream",
     "text": [
      "------------------------------------------------------------ \n",
      " Individual Summary Statistics for addr_state \n",
      " ------------------------------------------------------------\n",
      "Describe \n",
      " count     888553\n",
      "unique        51\n",
      "top           CA\n",
      "freq      129241\n",
      "Name: addr_state, dtype: object \n",
      " --------------------\n",
      "Sample Observations \n",
      " 770958     MA\n",
      "919087     NV\n",
      "1142408    CA\n",
      "2174730    NY\n",
      "1706294    MI\n",
      "Name: addr_state, dtype: object \n",
      " --------------------\n",
      "Number of Uniques \n",
      " 51 \n",
      " --------------------\n"
     ]
    }
   ],
   "source": [
    "print_stats('addr_state')"
   ]
  },
  {
   "cell_type": "code",
   "execution_count": 43,
   "metadata": {},
   "outputs": [
    {
     "name": "stdout",
     "output_type": "stream",
     "text": [
      "------------------------------------------------------------ \n",
      " Individual Summary Statistics for zip_code \n",
      " ------------------------------------------------------------\n",
      "Describe \n",
      " count     888553\n",
      "unique       931\n",
      "top          112\n",
      "freq        9981\n",
      "Name: zip_code, dtype: object \n",
      " --------------------\n",
      "Sample Observations \n",
      " 766933     941\n",
      "1061303    770\n",
      "1917886    296\n",
      "1196994    071\n",
      "1915930    440\n",
      "Name: zip_code, dtype: object \n",
      " --------------------\n",
      "Number of Uniques \n",
      " 931 \n",
      " --------------------\n"
     ]
    }
   ],
   "source": [
    "print_stats('zip_code')\n"
   ]
  },
  {
   "cell_type": "markdown",
   "metadata": {},
   "source": [
    "This shows there are 51 unique states and 943 values for zip_code. \n",
    "These are too many values i.e. lot of different zip codes. So we will drop the zip_code column. \n",
    "Instead we will keep the state"
   ]
  },
  {
   "cell_type": "code",
   "execution_count": 44,
   "metadata": {},
   "outputs": [],
   "source": [
    "df_NewAppl.drop(labels='zip_code', axis=1, inplace=True)"
   ]
  },
  {
   "cell_type": "code",
   "execution_count": 45,
   "metadata": {},
   "outputs": [
    {
     "data": {
      "image/png": "[encoded data removed]",
      "text/plain": [
       "<Figure size 1080x270 with 2 Axes>"
      ]
     },
     "metadata": {
      "needs_background": "light"
     },
     "output_type": "display_data"
    }
   ],
   "source": [
    "plot_var('addr_state', 'Address State', continuous=False)"
   ]
  },
  {
   "cell_type": "code",
   "execution_count": 45,
   "metadata": {},
   "outputs": [],
   "source": [
    "#there are 51 unique values for state and the bar chart for charge-offs by state does not show any prominent trend. All the state have more or less similar charge-off rates, so we will drop this feature\n",
    "df_NewAppl.drop(labels='addr_state', axis=1, inplace=True)\n"
   ]
  },
  {
   "cell_type": "markdown",
   "metadata": {},
   "source": [
    "3. annual_inc\n",
    "\n",
    "The summary stats show annual income values range from 0 to 10,999,200 with a median of 65,000. Since the values vary so much we will transform the data using minmax scaler. We will create a new feature called 'annual_inc_norm' and store these values there and then drop the feature annual_inc. This will scale the annual income data between 0 and 1.\n",
    "\n",
    "From the plot it appears that individuals who paid off the loans have slightly higher annual income.\n"
   ]
  },
  {
   "cell_type": "code",
   "execution_count": 47,
   "metadata": {},
   "outputs": [
    {
     "data": {
      "text/plain": [
       "count    888553.000000\n",
       "mean      65335.405348\n",
       "std       28820.618072\n",
       "min           0.000000\n",
       "25%       44000.000000\n",
       "50%       60000.000000\n",
       "75%       82000.000000\n",
       "max      156186.000000\n",
       "Name: annual_inc, dtype: float64"
      ]
     },
     "execution_count": 47,
     "metadata": {},
     "output_type": "execute_result"
    }
   ],
   "source": [
    "df_NewAppl['annual_inc'].describe()"
   ]
  },
  {
   "cell_type": "code",
   "execution_count": 46,
   "metadata": {},
   "outputs": [],
   "source": [
    "from sklearn.preprocessing import minmax_scale\n",
    "# mix-max scale the annual income data between 0 and 1\n",
    "df_NewAppl['annual_inc_norm'] = minmax_scale(df_NewAppl['annual_inc'])"
   ]
  },
  {
   "cell_type": "code",
   "execution_count": 49,
   "metadata": {},
   "outputs": [
    {
     "name": "stdout",
     "output_type": "stream",
     "text": [
      "------------------------------------------------------------ \n",
      " Individual Summary Statistics for annual_inc_norm \n",
      " ------------------------------------------------------------\n",
      "Describe \n",
      " count    888553.000000\n",
      "mean          0.418318\n",
      "std           0.184528\n",
      "min           0.000000\n",
      "25%           0.281715\n",
      "50%           0.384157\n",
      "75%           0.525015\n",
      "max           1.000000\n",
      "Name: annual_inc_norm, dtype: float64 \n",
      " --------------------\n",
      "Sample Observations \n",
      " 1283321    0.288118\n",
      "1687816    0.252904\n",
      "800861     0.576236\n",
      "503048     0.396963\n",
      "980814     0.326534\n",
      "Name: annual_inc_norm, dtype: float64 \n",
      " --------------------\n",
      "Number of Uniques \n",
      " 46363 \n",
      " --------------------\n",
      "Group_by \n",
      "                 count      mean       std  min       25%       50%       75%       max\n",
      "loan_status                                                                           \n",
      "Charged Off  170996.0  0.393275  0.176147  0.0  0.262508  0.358547  0.484592  1.000000\n",
      "Fully Paid   717557.0  0.424286  0.185972  0.0  0.288118  0.384157  0.537820  0.999641 \n",
      " --------------------\n"
     ]
    }
   ],
   "source": [
    "print_stats('annual_inc_norm', True)"
   ]
  },
  {
   "cell_type": "code",
   "execution_count": 50,
   "metadata": {},
   "outputs": [
    {
     "name": "stdout",
     "output_type": "stream",
     "text": [
      "------------------------------------------------------------ \n",
      " Individual Summary Statistics for annual_inc \n",
      " ------------------------------------------------------------\n",
      "Describe \n",
      " count    888553.000000\n",
      "mean      65335.405348\n",
      "std       28820.618072\n",
      "min           0.000000\n",
      "25%       44000.000000\n",
      "50%       60000.000000\n",
      "75%       82000.000000\n",
      "max      156186.000000\n",
      "Name: annual_inc, dtype: float64 \n",
      " --------------------\n",
      "Sample Observations \n",
      " 1786427     91000.0\n",
      "603600      55000.0\n",
      "1110701     16000.0\n",
      "1802491     70000.0\n",
      "1174420    109000.0\n",
      "Name: annual_inc, dtype: float64 \n",
      " --------------------\n",
      "Number of Uniques \n",
      " 46363 \n",
      " --------------------\n",
      "Group_by \n",
      "                 count          mean           std  min      25%      50%      75%       max\n",
      "loan_status                                                                                \n",
      "Charged Off  170996.0  61424.073248  27511.753867  0.0  41000.0  56000.0  75686.5  156186.0\n",
      "Fully Paid   717557.0  66267.487599  29046.257243  0.0  45000.0  60000.0  84000.0  156130.0 \n",
      " --------------------\n"
     ]
    }
   ],
   "source": [
    "print_stats('annual_inc', True)"
   ]
  },
  {
   "cell_type": "code",
   "execution_count": 51,
   "metadata": {},
   "outputs": [
    {
     "data": {
      "image/png": "[encoded data removed]",
      "text/plain": [
       "<Figure size 1080x270 with 2 Axes>"
      ]
     },
     "metadata": {
      "needs_background": "light"
     },
     "output_type": "display_data"
    },
    {
     "data": {
      "image/png": "[encoded data removed]",
      "text/plain": [
       "<Figure size 1080x270 with 2 Axes>"
      ]
     },
     "metadata": {
      "needs_background": "light"
     },
     "output_type": "display_data"
    }
   ],
   "source": [
    "#lets compare and chaeck if both ditributions are same after normalization\n",
    "plot_var('annual_inc', 'Annual Income', continuous=True)\n",
    "plot_var('annual_inc_norm', 'Annual Income normalized', continuous=True)\n",
    "\n",
    "#yes! they are same. So hence forth we will use annual_inc_norm"
   ]
  },
  {
   "cell_type": "markdown",
   "metadata": {},
   "source": [
    "4. loan_amnt\n",
    "\n",
    "\n"
   ]
  },
  {
   "cell_type": "code",
   "execution_count": 52,
   "metadata": {},
   "outputs": [
    {
     "name": "stdout",
     "output_type": "stream",
     "text": [
      "------------------------------------------------------------ \n",
      " Individual Summary Statistics for loan_amnt \n",
      " ------------------------------------------------------------\n",
      "Describe \n",
      " count    888553.000000\n",
      "mean      13211.045824\n",
      "std        7589.800367\n",
      "min         500.000000\n",
      "25%        7200.000000\n",
      "50%       12000.000000\n",
      "75%       18000.000000\n",
      "max       38000.000000\n",
      "Name: loan_amnt, dtype: float64 \n",
      " --------------------\n",
      "Sample Observations \n",
      " 967858      6500\n",
      "1170665    26400\n",
      "1310758     4200\n",
      "802304      5000\n",
      "1866203    20400\n",
      "Name: loan_amnt, dtype: int64 \n",
      " --------------------\n",
      "Number of Uniques \n",
      " 1431 \n",
      " --------------------\n",
      "Group_by \n",
      "                 count          mean          std    min     25%      50%      75%      max\n",
      "loan_status                                                                               \n",
      "Charged Off  170996.0  14281.453806  7807.601512  900.0  8000.0  12950.0  20000.0  38000.0\n",
      "Fully Paid   717557.0  12955.964369  7514.511223  500.0  7000.0  11900.0  18000.0  38000.0 \n",
      " --------------------\n"
     ]
    },
    {
     "data": {
      "image/png": "[encoded data removed]",
      "text/plain": [
       "<Figure size 1080x270 with 2 Axes>"
      ]
     },
     "metadata": {
      "needs_background": "light"
     },
     "output_type": "display_data"
    }
   ],
   "source": [
    "print_stats('loan_amnt', True)\n",
    "plot_var('loan_amnt', 'Loan Amount', continuous=True)"
   ]
  },
  {
   "cell_type": "code",
   "execution_count": 53,
   "metadata": {},
   "outputs": [],
   "source": [
    "#After plotting we see charged off loans have higher loan amount"
   ]
  },
  {
   "cell_type": "markdown",
   "metadata": {},
   "source": [
    "5. term"
   ]
  },
  {
   "cell_type": "code",
   "execution_count": 54,
   "metadata": {},
   "outputs": [
    {
     "name": "stdout",
     "output_type": "stream",
     "text": [
      "------------------------------------------------------------ \n",
      " Individual Summary Statistics for term \n",
      " ------------------------------------------------------------\n",
      "Describe \n",
      " count         888553\n",
      "unique             2\n",
      "top        36 months\n",
      "freq          683990\n",
      "Name: term, dtype: object \n",
      " --------------------\n",
      "Sample Observations \n",
      " 1737550     60 months\n",
      "805330      36 months\n",
      "1852187     36 months\n",
      "1995088     36 months\n",
      "1823121     36 months\n",
      "Name: term, dtype: object \n",
      " --------------------\n",
      "Number of Uniques \n",
      " 2 \n",
      " --------------------\n",
      "Unique value counts \n",
      "  36 months    683990\n",
      " 60 months    204563\n",
      "Name: term, dtype: int64 \n",
      " --------------------\n"
     ]
    }
   ],
   "source": [
    "print_stats('term')\n",
    "\n"
   ]
  },
  {
   "cell_type": "code",
   "execution_count": 47,
   "metadata": {},
   "outputs": [],
   "source": [
    "#Term has values ‘36 months’ or ‘60 months’. We will convert it into integer as follows\n",
    "df_NewAppl['term'] = df_NewAppl['term'].apply(lambda s: np.int8(s.split()[0]))"
   ]
  },
  {
   "cell_type": "code",
   "execution_count": 48,
   "metadata": {},
   "outputs": [
    {
     "data": {
      "text/plain": [
       "36    0.76978\n",
       "60    0.23022\n",
       "Name: term, dtype: float64"
      ]
     },
     "execution_count": 48,
     "metadata": {},
     "output_type": "execute_result"
    }
   ],
   "source": [
    "df_NewAppl['term'].value_counts(normalize=True) #SHows about 76% of loans have 3 year period and rest are 5 year loans"
   ]
  },
  {
   "cell_type": "code",
   "execution_count": 49,
   "metadata": {},
   "outputs": [
    {
     "data": {
      "text/plain": [
       "term\n",
       "36    0.155806\n",
       "60    0.314945\n",
       "Name: loan_status, dtype: float64"
      ]
     },
     "execution_count": 49,
     "metadata": {},
     "output_type": "execute_result"
    }
   ],
   "source": [
    "df_NewAppl.groupby('term')['loan_status'].value_counts(normalize=True).loc[:,'Charged Off']\n",
    "#If we focus only on charged off loans, 5 year loans are almost TWICE as likely to go BAD as 3 year loans!!!"
   ]
  },
  {
   "cell_type": "code",
   "execution_count": 50,
   "metadata": {},
   "outputs": [
    {
     "data": {
      "image/png": "[encoded data removed]",
      "text/plain": [
       "<Figure size 1080x270 with 2 Axes>"
      ]
     },
     "metadata": {
      "needs_background": "light"
     },
     "output_type": "display_data"
    }
   ],
   "source": [
    "plot_var('term', 'Term', continuous=False)"
   ]
  },
  {
   "cell_type": "markdown",
   "metadata": {},
   "source": [
    "6. Int_rate"
   ]
  },
  {
   "cell_type": "code",
   "execution_count": 51,
   "metadata": {},
   "outputs": [
    {
     "name": "stdout",
     "output_type": "stream",
     "text": [
      "------------------------------------------------------------ \n",
      " Individual Summary Statistics for int_rate \n",
      " ------------------------------------------------------------\n",
      "Describe \n",
      " count    888553.000000\n",
      "mean         12.900300\n",
      "std           4.378491\n",
      "min           5.310000\n",
      "25%           9.490000\n",
      "50%          12.690000\n",
      "75%          15.610000\n",
      "max          25.340000\n",
      "Name: int_rate, dtype: float64 \n",
      " --------------------\n",
      "Sample Observations \n",
      " 1153489     8.18\n",
      "250559     17.97\n",
      "2023689     8.39\n",
      "989884     13.18\n",
      "574995      8.99\n",
      "Name: int_rate, dtype: float64 \n",
      " --------------------\n",
      "Number of Uniques \n",
      " 594 \n",
      " --------------------\n",
      "Group_by \n",
      "                 count       mean       std   min    25%    50%    75%    max\n",
      "loan_status                                                                 \n",
      "Charged Off  170996.0  15.139194  4.254223  5.31  12.12  14.65  18.06  25.34\n",
      "Fully Paid   717557.0  12.366764  4.236468  5.31   9.16  11.99  14.99  25.34 \n",
      " --------------------\n"
     ]
    }
   ],
   "source": [
    "print_stats('int_rate', True)\n"
   ]
  },
  {
   "cell_type": "markdown",
   "metadata": {},
   "source": [
    "Shows int_rate ranges from 5 to 25%!"
   ]
  },
  {
   "cell_type": "code",
   "execution_count": 52,
   "metadata": {},
   "outputs": [
    {
     "data": {
      "image/png": "[encoded data removed]",
      "text/plain": [
       "<Figure size 1080x270 with 2 Axes>"
      ]
     },
     "metadata": {
      "needs_background": "light"
     },
     "output_type": "display_data"
    }
   ],
   "source": [
    "plot_var('int_rate', 'Interest Rate', continuous=True)"
   ]
  },
  {
   "cell_type": "markdown",
   "metadata": {},
   "source": [
    "Shows charged off loans have much HIGHER interest rate!!\n",
    "\n",
    "Next let's compare the summary statistics by loan status:"
   ]
  },
  {
   "cell_type": "code",
   "execution_count": 53,
   "metadata": {},
   "outputs": [
    {
     "data": {
      "text/html": [
       "<div>\n",
       "<style scoped>\n",
       "    .dataframe tbody tr th:only-of-type {\n",
       "        vertical-align: middle;\n",
       "    }\n",
       "\n",
       "    .dataframe tbody tr th {\n",
       "        vertical-align: top;\n",
       "    }\n",
       "\n",
       "    .dataframe thead th {\n",
       "        text-align: right;\n",
       "    }\n",
       "</style>\n",
       "<table border=\"1\" class=\"dataframe\">\n",
       "  <thead>\n",
       "    <tr style=\"text-align: right;\">\n",
       "      <th></th>\n",
       "      <th>count</th>\n",
       "      <th>mean</th>\n",
       "      <th>std</th>\n",
       "      <th>min</th>\n",
       "      <th>25%</th>\n",
       "      <th>50%</th>\n",
       "      <th>75%</th>\n",
       "      <th>max</th>\n",
       "    </tr>\n",
       "    <tr>\n",
       "      <th>loan_status</th>\n",
       "      <th></th>\n",
       "      <th></th>\n",
       "      <th></th>\n",
       "      <th></th>\n",
       "      <th></th>\n",
       "      <th></th>\n",
       "      <th></th>\n",
       "      <th></th>\n",
       "    </tr>\n",
       "  </thead>\n",
       "  <tbody>\n",
       "    <tr>\n",
       "      <th>Charged Off</th>\n",
       "      <td>170996.0</td>\n",
       "      <td>15.139194</td>\n",
       "      <td>4.254223</td>\n",
       "      <td>5.31</td>\n",
       "      <td>12.12</td>\n",
       "      <td>14.65</td>\n",
       "      <td>18.06</td>\n",
       "      <td>25.34</td>\n",
       "    </tr>\n",
       "    <tr>\n",
       "      <th>Fully Paid</th>\n",
       "      <td>717557.0</td>\n",
       "      <td>12.366764</td>\n",
       "      <td>4.236468</td>\n",
       "      <td>5.31</td>\n",
       "      <td>9.16</td>\n",
       "      <td>11.99</td>\n",
       "      <td>14.99</td>\n",
       "      <td>25.34</td>\n",
       "    </tr>\n",
       "  </tbody>\n",
       "</table>\n",
       "</div>"
      ],
      "text/plain": [
       "                count       mean       std   min    25%    50%    75%    max\n",
       "loan_status                                                                 \n",
       "Charged Off  170996.0  15.139194  4.254223  5.31  12.12  14.65  18.06  25.34\n",
       "Fully Paid   717557.0  12.366764  4.236468  5.31   9.16  11.99  14.99  25.34"
      ]
     },
     "execution_count": 53,
     "metadata": {},
     "output_type": "execute_result"
    }
   ],
   "source": [
    "df_NewAppl.groupby('loan_status')['int_rate'].describe()"
   ]
  },
  {
   "cell_type": "markdown",
   "metadata": {},
   "source": [
    "7. Installment"
   ]
  },
  {
   "cell_type": "code",
   "execution_count": 54,
   "metadata": {},
   "outputs": [
    {
     "name": "stdout",
     "output_type": "stream",
     "text": [
      "------------------------------------------------------------ \n",
      " Individual Summary Statistics for installment \n",
      " ------------------------------------------------------------\n",
      "Describe \n",
      " count    888553.000000\n",
      "mean        398.371542\n",
      "std         216.407369\n",
      "min          14.010000\n",
      "25%         237.520000\n",
      "50%         355.300000\n",
      "75%         527.710000\n",
      "max        1077.890000\n",
      "Name: installment, dtype: float64 \n",
      " --------------------\n",
      "Sample Observations \n",
      " 2218989    498.02\n",
      "780145     248.32\n",
      "1274084    571.49\n",
      "976885     650.63\n",
      "774788     459.67\n",
      "Name: installment, dtype: float64 \n",
      " --------------------\n",
      "Number of Uniques \n",
      " 69342 \n",
      " --------------------\n"
     ]
    }
   ],
   "source": [
    "print_stats('installment')"
   ]
  },
  {
   "cell_type": "code",
   "execution_count": 55,
   "metadata": {},
   "outputs": [],
   "source": [
    "#Installments range from $4.93 to $1,719, with a median of $375"
   ]
  },
  {
   "cell_type": "code",
   "execution_count": 56,
   "metadata": {},
   "outputs": [
    {
     "data": {
      "image/png": "[encoded data removed]",
      "text/plain": [
       "<Figure size 1080x270 with 2 Axes>"
      ]
     },
     "metadata": {
      "needs_background": "light"
     },
     "output_type": "display_data"
    }
   ],
   "source": [
    "plot_var('installment', 'Installment', continuous=True)"
   ]
  },
  {
   "cell_type": "markdown",
   "metadata": {},
   "source": [
    "Charged-off loans tend to have higher installments. Let's compare the summary statistics by loan status:"
   ]
  },
  {
   "cell_type": "code",
   "execution_count": 57,
   "metadata": {},
   "outputs": [
    {
     "data": {
      "text/html": [
       "<div>\n",
       "<style scoped>\n",
       "    .dataframe tbody tr th:only-of-type {\n",
       "        vertical-align: middle;\n",
       "    }\n",
       "\n",
       "    .dataframe tbody tr th {\n",
       "        vertical-align: top;\n",
       "    }\n",
       "\n",
       "    .dataframe thead th {\n",
       "        text-align: right;\n",
       "    }\n",
       "</style>\n",
       "<table border=\"1\" class=\"dataframe\">\n",
       "  <thead>\n",
       "    <tr style=\"text-align: right;\">\n",
       "      <th></th>\n",
       "      <th>count</th>\n",
       "      <th>mean</th>\n",
       "      <th>std</th>\n",
       "      <th>min</th>\n",
       "      <th>25%</th>\n",
       "      <th>50%</th>\n",
       "      <th>75%</th>\n",
       "      <th>max</th>\n",
       "    </tr>\n",
       "    <tr>\n",
       "      <th>loan_status</th>\n",
       "      <th></th>\n",
       "      <th></th>\n",
       "      <th></th>\n",
       "      <th></th>\n",
       "      <th></th>\n",
       "      <th></th>\n",
       "      <th></th>\n",
       "      <th></th>\n",
       "    </tr>\n",
       "  </thead>\n",
       "  <tbody>\n",
       "    <tr>\n",
       "      <th>Charged Off</th>\n",
       "      <td>170996.0</td>\n",
       "      <td>420.750440</td>\n",
       "      <td>215.421860</td>\n",
       "      <td>21.62</td>\n",
       "      <td>263.99</td>\n",
       "      <td>379.28</td>\n",
       "      <td>550.68</td>\n",
       "      <td>1077.67</td>\n",
       "    </tr>\n",
       "    <tr>\n",
       "      <th>Fully Paid</th>\n",
       "      <td>717557.0</td>\n",
       "      <td>393.038584</td>\n",
       "      <td>216.300353</td>\n",
       "      <td>14.01</td>\n",
       "      <td>230.74</td>\n",
       "      <td>348.18</td>\n",
       "      <td>521.03</td>\n",
       "      <td>1077.89</td>\n",
       "    </tr>\n",
       "  </tbody>\n",
       "</table>\n",
       "</div>"
      ],
      "text/plain": [
       "                count        mean         std    min     25%     50%     75%      max\n",
       "loan_status                                                                          \n",
       "Charged Off  170996.0  420.750440  215.421860  21.62  263.99  379.28  550.68  1077.67\n",
       "Fully Paid   717557.0  393.038584  216.300353  14.01  230.74  348.18  521.03  1077.89"
      ]
     },
     "execution_count": 57,
     "metadata": {},
     "output_type": "execute_result"
    }
   ],
   "source": [
    "df_NewAppl.groupby('loan_status')['installment'].describe()"
   ]
  },
  {
   "cell_type": "markdown",
   "metadata": {},
   "source": [
    "8. grade\n",
    "9. sub_grade"
   ]
  },
  {
   "cell_type": "code",
   "execution_count": 58,
   "metadata": {},
   "outputs": [
    {
     "name": "stdout",
     "output_type": "stream",
     "text": [
      "['A', 'B', 'C', 'D', 'E', 'F', 'G']\n"
     ]
    }
   ],
   "source": [
    "print(sorted(df_NewAppl['grade'].unique()))"
   ]
  },
  {
   "cell_type": "code",
   "execution_count": 59,
   "metadata": {},
   "outputs": [
    {
     "name": "stdout",
     "output_type": "stream",
     "text": [
      "['A1', 'A2', 'A3', 'A4', 'A5', 'B1', 'B2', 'B3', 'B4', 'B5', 'C1', 'C2', 'C3', 'C4', 'C5', 'D1', 'D2', 'D3', 'D4', 'D5', 'E1', 'E2', 'E3', 'E4', 'E5', 'F1', 'F2', 'F3', 'F4', 'F5', 'G1', 'G2', 'G3', 'G4', 'G5']\n"
     ]
    }
   ],
   "source": [
    "print(sorted(df_NewAppl['sub_grade'].unique()))"
   ]
  },
  {
   "cell_type": "code",
   "execution_count": 60,
   "metadata": {},
   "outputs": [],
   "source": [
    "#the grade is implied by the subgrade, so let's drop the grade column.\n",
    "df_NewAppl.drop('grade', axis=1, inplace=True)"
   ]
  },
  {
   "cell_type": "code",
   "execution_count": 61,
   "metadata": {},
   "outputs": [
    {
     "data": {
      "image/png": "[encoded data removed]",
      "text/plain": [
       "<Figure size 1080x270 with 2 Axes>"
      ]
     },
     "metadata": {
      "needs_background": "light"
     },
     "output_type": "display_data"
    }
   ],
   "source": [
    "plot_var('sub_grade', 'Subgrade', continuous=False)"
   ]
  },
  {
   "cell_type": "code",
   "execution_count": 62,
   "metadata": {},
   "outputs": [
    {
     "data": {
      "text/plain": [
       "array([ 2,  7, 15, 10, 20,  9,  5, 16,  8,  3,  6, 12,  4,  1, 14, 13, 17,\n",
       "       18,  0, 11, 22, 21, 19, 24, 23, 28, 25, 32, 26, 27, 31, 30, 29, 34,\n",
       "       33])"
      ]
     },
     "execution_count": 62,
     "metadata": {},
     "output_type": "execute_result"
    }
   ],
   "source": [
    "# Import label encoder \n",
    "from sklearn import preprocessing \n",
    "\n",
    "# label_encoder object knows how to understand word labels. \n",
    "label_encoder = preprocessing.LabelEncoder() \n",
    "\n",
    "# Encode labels in column 'species'. \n",
    "df_NewAppl['num_subgrade']= label_encoder.fit_transform(df_NewAppl['sub_grade']) \n",
    "\n",
    "df_NewAppl['num_subgrade'].unique() \n"
   ]
  },
  {
   "cell_type": "code",
   "execution_count": 63,
   "metadata": {},
   "outputs": [
    {
     "data": {
      "image/png": "[encoded data removed]",
      "text/plain": [
       "<Figure size 1080x270 with 2 Axes>"
      ]
     },
     "metadata": {
      "needs_background": "light"
     },
     "output_type": "display_data"
    }
   ],
   "source": [
    "plot_var('num_subgrade', 'Numeric Subgrade', continuous=False)"
   ]
  },
  {
   "cell_type": "markdown",
   "metadata": {},
   "source": [
    "There's a clear trend of higher probability of charge-off as the subgrade gets worse!"
   ]
  },
  {
   "cell_type": "markdown",
   "metadata": {},
   "source": [
    "10. emp_title"
   ]
  },
  {
   "cell_type": "code",
   "execution_count": 64,
   "metadata": {},
   "outputs": [
    {
     "name": "stdout",
     "output_type": "stream",
     "text": [
      "------------------------------------------------------------ \n",
      " Individual Summary Statistics for emp_title \n",
      " ------------------------------------------------------------\n",
      "Describe \n",
      " count      835115\n",
      "unique     281839\n",
      "top       Teacher\n",
      "freq        14898\n",
      "Name: emp_title, dtype: object \n",
      " --------------------\n",
      "Sample Observations \n",
      " 1094934         Production Control Clerk\n",
      "1896067                        Secretary\n",
      "1717390    Network Repair Associate Tech\n",
      "2009792        Business Planning Manager\n",
      "1715284                       Head Coach\n",
      "Name: emp_title, dtype: object \n",
      " --------------------\n",
      "Number of Uniques \n",
      " 281839 \n",
      " --------------------\n"
     ]
    }
   ],
   "source": [
    "print_stats('emp_title')"
   ]
  },
  {
   "cell_type": "code",
   "execution_count": 65,
   "metadata": {},
   "outputs": [],
   "source": [
    "#There are too many unique values of emp_title to be useful. So we will drop this feature\n",
    "df_NewAppl.drop(labels='emp_title', axis=1, inplace=True)"
   ]
  },
  {
   "cell_type": "markdown",
   "metadata": {},
   "source": [
    "11. emp_length"
   ]
  },
  {
   "cell_type": "code",
   "execution_count": 86,
   "metadata": {},
   "outputs": [
    {
     "name": "stdout",
     "output_type": "stream",
     "text": [
      "------------------------------------------------------------ \n",
      " Individual Summary Statistics for emp_length \n",
      " ------------------------------------------------------------\n",
      "Describe \n",
      " count    839903.000000\n",
      "mean          5.794185\n",
      "std           3.687045\n",
      "min           0.000000\n",
      "25%           2.000000\n",
      "50%           6.000000\n",
      "75%          10.000000\n",
      "max          10.000000\n",
      "Name: emp_length, dtype: float64 \n",
      " --------------------\n",
      "Sample Observations \n",
      " 1998352     8.0\n",
      "699923     10.0\n",
      "908095      1.0\n",
      "1556712    10.0\n",
      "1944372    10.0\n",
      "Name: emp_length, dtype: float64 \n",
      " --------------------\n",
      "Number of Uniques \n",
      " 11 \n",
      " --------------------\n",
      "Unique value counts \n",
      " 10.0    273785\n",
      "2.0      84558\n",
      "0.0      75306\n",
      "3.0      74010\n",
      "1.0      62282\n",
      "5.0      57332\n",
      "4.0      55154\n",
      "6.0      42697\n",
      "7.0      40413\n",
      "8.0      40368\n",
      "9.0      33998\n",
      "Name: emp_length, dtype: int64 \n",
      " --------------------\n"
     ]
    },
    {
     "data": {
      "text/plain": [
       "0.0      75306\n",
       "1.0      62282\n",
       "2.0      84558\n",
       "3.0      74010\n",
       "4.0      55154\n",
       "5.0      57332\n",
       "6.0      42697\n",
       "7.0      40413\n",
       "8.0      40368\n",
       "9.0      33998\n",
       "10.0    273785\n",
       "NaN      48650\n",
       "Name: emp_length, dtype: int64"
      ]
     },
     "execution_count": 86,
     "metadata": {},
     "output_type": "execute_result"
    }
   ],
   "source": [
    "print_stats('emp_length')\n",
    "df_NewAppl['emp_length'].value_counts(dropna=False).sort_index()"
   ]
  },
  {
   "cell_type": "markdown",
   "metadata": {},
   "source": [
    "Note there are 75454 loans with missing value for the length of employment.\n"
   ]
  },
  {
   "cell_type": "code",
   "execution_count": 87,
   "metadata": {},
   "outputs": [
    {
     "data": {
      "image/png": "[encoded data removed]",
      "text/plain": [
       "<Figure size 1080x270 with 2 Axes>"
      ]
     },
     "metadata": {
      "needs_background": "light"
     },
     "output_type": "display_data"
    }
   ],
   "source": [
    "plot_var('emp_length', 'Employment Length', continuous=False)"
   ]
  },
  {
   "cell_type": "markdown",
   "metadata": {},
   "source": [
    "THere doesn't seem to be significant effect of employment length on loan status\n",
    "As the plot shows loan status does not appear to vary much with employment length on average, except for a small drop in charge-offs for borrowers with over 10 years of employment."
   ]
  },
  {
   "cell_type": "markdown",
   "metadata": {},
   "source": [
    "12. home_ownership"
   ]
  },
  {
   "cell_type": "code",
   "execution_count": 88,
   "metadata": {},
   "outputs": [
    {
     "data": {
      "text/plain": [
       "MORTGAGE    411309\n",
       "RENT        381745\n",
       "OWN          95156\n",
       "ANY            173\n",
       "OTHER          129\n",
       "NONE            41\n",
       "Name: home_ownership, dtype: int64"
      ]
     },
     "execution_count": 88,
     "metadata": {},
     "output_type": "execute_result"
    }
   ],
   "source": [
    "df_NewAppl['home_ownership'].value_counts(dropna=False)"
   ]
  },
  {
   "cell_type": "markdown",
   "metadata": {},
   "source": [
    "Let's combine the category ANY and NONO into OTHER"
   ]
  },
  {
   "cell_type": "code",
   "execution_count": 66,
   "metadata": {},
   "outputs": [],
   "source": [
    "df_NewAppl['home_ownership'].replace(['NONE', 'ANY'], 'OTHER', inplace=True)"
   ]
  },
  {
   "cell_type": "code",
   "execution_count": 90,
   "metadata": {},
   "outputs": [
    {
     "data": {
      "text/plain": [
       "MORTGAGE    411309\n",
       "RENT        381745\n",
       "OWN          95156\n",
       "OTHER          343\n",
       "Name: home_ownership, dtype: int64"
      ]
     },
     "execution_count": 90,
     "metadata": {},
     "output_type": "execute_result"
    }
   ],
   "source": [
    "df_NewAppl['home_ownership'].value_counts(dropna=False)"
   ]
  },
  {
   "cell_type": "code",
   "execution_count": 91,
   "metadata": {},
   "outputs": [
    {
     "data": {
      "image/png": "[encoded data removed]",
      "text/plain": [
       "<Figure size 1080x270 with 2 Axes>"
      ]
     },
     "metadata": {
      "needs_background": "light"
     },
     "output_type": "display_data"
    }
   ],
   "source": [
    "plot_var('home_ownership', 'Home Ownership', continuous=False)"
   ]
  },
  {
   "cell_type": "markdown",
   "metadata": {},
   "source": [
    "There appears to be significant differences in charge-off rates by home ownership status. Renters and homeowners have a higher probability of charge-off. Let's compare the charge-off rates:"
   ]
  },
  {
   "cell_type": "code",
   "execution_count": 92,
   "metadata": {},
   "outputs": [
    {
     "data": {
      "text/plain": [
       "home_ownership\n",
       "MORTGAGE    0.166556\n",
       "OTHER       0.189504\n",
       "OWN         0.198495\n",
       "RENT        0.218829\n",
       "Name: loan_status, dtype: float64"
      ]
     },
     "execution_count": 92,
     "metadata": {},
     "output_type": "execute_result"
    }
   ],
   "source": [
    "df_NewAppl.groupby('home_ownership')['loan_status'].value_counts(normalize=True).loc[:,'Charged Off']\n",
    "\n"
   ]
  },
  {
   "cell_type": "code",
   "execution_count": 93,
   "metadata": {},
   "outputs": [
    {
     "data": {
      "text/plain": [
       "<matplotlib.axes._subplots.AxesSubplot at 0x1a24a8aba8>"
      ]
     },
     "execution_count": 93,
     "metadata": {},
     "output_type": "execute_result"
    },
    {
     "data": {
      "image/png": "[encoded data removed]",
      "text/plain": [
       "<Figure size 432x288 with 1 Axes>"
      ]
     },
     "metadata": {
      "needs_background": "light"
     },
     "output_type": "display_data"
    }
   ],
   "source": [
    "df_NewAppl['home_ownership'].value_counts(dropna=False, normalize = True).plot(kind='bar')"
   ]
  },
  {
   "cell_type": "markdown",
   "metadata": {},
   "source": [
    "13. application_type\n",
    "Tells whether the loan application is individual or joint application\n",
    "\n",
    "From our plot and summary stats we see that - Joint loans are more likely to be charged off than individual loans"
   ]
  },
  {
   "cell_type": "code",
   "execution_count": 94,
   "metadata": {},
   "outputs": [
    {
     "name": "stdout",
     "output_type": "stream",
     "text": [
      "------------------------------------------------------------ \n",
      " Individual Summary Statistics for application_type \n",
      " ------------------------------------------------------------\n",
      "Describe \n",
      " count         888553\n",
      "unique             2\n",
      "top       Individual\n",
      "freq          876475\n",
      "Name: application_type, dtype: object \n",
      " --------------------\n",
      "Sample Observations \n",
      " 1100833    Individual\n",
      "722235     Individual\n",
      "1705512    Individual\n",
      "610721     Individual\n",
      "1097869    Individual\n",
      "Name: application_type, dtype: object \n",
      " --------------------\n",
      "Number of Uniques \n",
      " 2 \n",
      " --------------------\n",
      "Unique value counts \n",
      " Individual    876475\n",
      "Joint App      12078\n",
      "Name: application_type, dtype: int64 \n",
      " --------------------\n",
      "Group_by \n",
      "               count unique         top    freq\n",
      "loan_status                                   \n",
      "Charged Off  170996      2  Individual  168210\n",
      "Fully Paid   717557      2  Individual  708265 \n",
      " --------------------\n",
      "application_type\n",
      "Individual    0.191916\n",
      "Joint App     0.230667\n",
      "Name: loan_status, dtype: float64\n"
     ]
    }
   ],
   "source": [
    "print_stats('application_type', True)\n",
    "\n",
    "\n",
    "print(df_NewAppl.groupby('application_type')['loan_status'].value_counts(normalize=True).loc[:,'Charged Off'])\n"
   ]
  },
  {
   "cell_type": "code",
   "execution_count": 68,
   "metadata": {},
   "outputs": [
    {
     "name": "stdout",
     "output_type": "stream",
     "text": [
      "application_type\n",
      "Individual    168210\n",
      "Joint App       2786\n",
      "Name: loan_status, dtype: int64\n"
     ]
    }
   ],
   "source": [
    "print(df_NewAppl.groupby('application_type')['loan_status'].value_counts(normalize=False).loc[:,'Charged Off'])"
   ]
  },
  {
   "cell_type": "code",
   "execution_count": 69,
   "metadata": {},
   "outputs": [
    {
     "data": {
      "image/png": "[encoded data removed]",
      "text/plain": [
       "<Figure size 1080x270 with 2 Axes>"
      ]
     },
     "metadata": {
      "needs_background": "light"
     },
     "output_type": "display_data"
    }
   ],
   "source": [
    "plot_var('application_type', 'Application Type', continuous=False)"
   ]
  },
  {
   "cell_type": "markdown",
   "metadata": {},
   "source": [
    "14. dti : debt to income ratio (debt excluding mortgage and current application debt)"
   ]
  },
  {
   "cell_type": "code",
   "execution_count": 70,
   "metadata": {},
   "outputs": [
    {
     "name": "stdout",
     "output_type": "stream",
     "text": [
      "------------------------------------------------------------ \n",
      " Individual Summary Statistics for dti \n",
      " ------------------------------------------------------------\n",
      "Describe \n",
      " count    888341.000000\n",
      "mean         18.017513\n",
      "std           8.280638\n",
      "min           0.000000\n",
      "25%          11.840000\n",
      "50%          17.560000\n",
      "75%          23.830000\n",
      "max          42.390000\n",
      "Name: dti, dtype: float64 \n",
      " --------------------\n",
      "Sample Observations \n",
      " 511581      8.48\n",
      "2102162    19.80\n",
      "1824788    20.58\n",
      "275406     14.90\n",
      "1259676     1.31\n",
      "Name: dti, dtype: float64 \n",
      " --------------------\n",
      "Number of Uniques \n",
      " 4222 \n",
      " --------------------\n"
     ]
    }
   ],
   "source": [
    "print_stats('dti')"
   ]
  },
  {
   "cell_type": "code",
   "execution_count": 71,
   "metadata": {},
   "outputs": [
    {
     "data": {
      "text/plain": [
       "4222"
      ]
     },
     "execution_count": 71,
     "metadata": {},
     "output_type": "execute_result"
    }
   ],
   "source": [
    "\n",
    "df_NewAppl.dti.nunique()"
   ]
  },
  {
   "cell_type": "code",
   "execution_count": 72,
   "metadata": {},
   "outputs": [
    {
     "data": {
      "text/plain": [
       "(888553, 24)"
      ]
     },
     "execution_count": 72,
     "metadata": {},
     "output_type": "execute_result"
    }
   ],
   "source": [
    "df_NewAppl.shape"
   ]
  },
  {
   "cell_type": "code",
   "execution_count": 73,
   "metadata": {},
   "outputs": [
    {
     "data": {
      "text/plain": [
       "216807"
      ]
     },
     "execution_count": 73,
     "metadata": {},
     "output_type": "execute_result"
    }
   ],
   "source": [
    "df_NewAppl[df_NewAppl.dti > 24].dti.count()"
   ]
  },
  {
   "cell_type": "code",
   "execution_count": 74,
   "metadata": {},
   "outputs": [
    {
     "data": {
      "image/png": "[encoded data removed]",
      "text/plain": [
       "<Figure size 1080x270 with 2 Axes>"
      ]
     },
     "metadata": {
      "needs_background": "light"
     },
     "output_type": "display_data"
    }
   ],
   "source": [
    "plot_var('dti', 'dti', continuous=True)"
   ]
  },
  {
   "cell_type": "markdown",
   "metadata": {},
   "source": [
    "15. initial_list_status: Initial listing status of the listing"
   ]
  },
  {
   "cell_type": "code",
   "execution_count": 76,
   "metadata": {},
   "outputs": [
    {
     "name": "stdout",
     "output_type": "stream",
     "text": [
      "------------------------------------------------------------ \n",
      " Individual Summary Statistics for initial_list_status \n",
      " ------------------------------------------------------------\n",
      "Describe \n",
      " count     888553\n",
      "unique         2\n",
      "top            w\n",
      "freq      498682\n",
      "Name: initial_list_status, dtype: object \n",
      " --------------------\n",
      "Sample Observations \n",
      " 1056273    w\n",
      "2009672    f\n",
      "1866162    f\n",
      "850485     w\n",
      "1909054    w\n",
      "Name: initial_list_status, dtype: object \n",
      " --------------------\n",
      "Number of Uniques \n",
      " 2 \n",
      " --------------------\n",
      "Unique value counts \n",
      " w    498682\n",
      "f    389871\n",
      "Name: initial_list_status, dtype: int64 \n",
      " --------------------\n"
     ]
    }
   ],
   "source": [
    "print_stats('initial_list_status')"
   ]
  },
  {
   "cell_type": "markdown",
   "metadata": {},
   "source": [
    "16. mort_acc: number of mortgage accounts"
   ]
  },
  {
   "cell_type": "code",
   "execution_count": 77,
   "metadata": {},
   "outputs": [
    {
     "data": {
      "image/png": "[encoded data removed]",
      "text/plain": [
       "<Figure size 1080x270 with 2 Axes>"
      ]
     },
     "metadata": {
      "needs_background": "light"
     },
     "output_type": "display_data"
    }
   ],
   "source": [
    "plot_var('initial_list_status', 'initial_list_status', continuous=False)"
   ]
  },
  {
   "cell_type": "code",
   "execution_count": 78,
   "metadata": {},
   "outputs": [
    {
     "name": "stdout",
     "output_type": "stream",
     "text": [
      "------------------------------------------------------------ \n",
      " Individual Summary Statistics for mort_acc \n",
      " ------------------------------------------------------------\n",
      "Describe \n",
      " count    847816.000000\n",
      "mean          1.415173\n",
      "std           1.727178\n",
      "min           0.000000\n",
      "25%           0.000000\n",
      "50%           1.000000\n",
      "75%           2.000000\n",
      "max           7.000000\n",
      "Name: mort_acc, dtype: float64 \n",
      " --------------------\n",
      "Sample Observations \n",
      " 606911     0.0\n",
      "2027241    0.0\n",
      "1776991    0.0\n",
      "1279814    1.0\n",
      "696640     1.0\n",
      "Name: mort_acc, dtype: float64 \n",
      " --------------------\n",
      "Number of Uniques \n",
      " 8 \n",
      " --------------------\n",
      "Unique value counts \n",
      " 0.0    383262\n",
      "1.0    146693\n",
      "2.0    116594\n",
      "3.0     83621\n",
      "4.0     56281\n",
      "5.0     33534\n",
      "6.0     18549\n",
      "7.0      9282\n",
      "Name: mort_acc, dtype: int64 \n",
      " --------------------\n"
     ]
    }
   ],
   "source": [
    "print_stats('mort_acc')"
   ]
  },
  {
   "cell_type": "code",
   "execution_count": 79,
   "metadata": {},
   "outputs": [
    {
     "data": {
      "image/png": "[encoded data removed]",
      "text/plain": [
       "<Figure size 1080x270 with 2 Axes>"
      ]
     },
     "metadata": {
      "needs_background": "light"
     },
     "output_type": "display_data"
    }
   ],
   "source": [
    "plot_var('mort_acc', 'mort_acc', continuous=False)"
   ]
  },
  {
   "cell_type": "markdown",
   "metadata": {},
   "source": [
    "17. open_acc: the number of open credit lines in borrower's credit line"
   ]
  },
  {
   "cell_type": "code",
   "execution_count": 80,
   "metadata": {},
   "outputs": [
    {
     "name": "stdout",
     "output_type": "stream",
     "text": [
      "------------------------------------------------------------ \n",
      " Individual Summary Statistics for open_acc \n",
      " ------------------------------------------------------------\n",
      "Describe \n",
      " count    888553.000000\n",
      "mean         10.724468\n",
      "std           4.432910\n",
      "min           0.000000\n",
      "25%           7.000000\n",
      "50%          10.000000\n",
      "75%          13.000000\n",
      "max          23.000000\n",
      "Name: open_acc, dtype: float64 \n",
      " --------------------\n",
      "Sample Observations \n",
      " 1736391    14.0\n",
      "1271461     7.0\n",
      "658134      8.0\n",
      "1860025     7.0\n",
      "1915997    11.0\n",
      "Name: open_acc, dtype: float64 \n",
      " --------------------\n",
      "Number of Uniques \n",
      " 24 \n",
      " --------------------\n",
      "Unique value counts \n",
      " 9.0     83124\n",
      "8.0     81442\n",
      "10.0    79564\n",
      "7.0     74322\n",
      "11.0    72584\n",
      "12.0    64442\n",
      "6.0     62779\n",
      "13.0    55988\n",
      "14.0    46926\n",
      "5.0     46115\n",
      "15.0    39123\n",
      "16.0    32176\n",
      "4.0     28655\n",
      "17.0    26173\n",
      "18.0    21197\n",
      "19.0    17311\n",
      "20.0    13497\n",
      "3.0     13019\n",
      "21.0    10592\n",
      "22.0     8489\n",
      "23.0     6592\n",
      "2.0      4016\n",
      "1.0       415\n",
      "0.0        12\n",
      "Name: open_acc, dtype: int64 \n",
      " --------------------\n"
     ]
    }
   ],
   "source": [
    "print_stats('open_acc')"
   ]
  },
  {
   "cell_type": "code",
   "execution_count": 81,
   "metadata": {},
   "outputs": [
    {
     "data": {
      "image/png": "[encoded data removed]",
      "text/plain": [
       "<Figure size 1080x270 with 2 Axes>"
      ]
     },
     "metadata": {
      "needs_background": "light"
     },
     "output_type": "display_data"
    }
   ],
   "source": [
    "plot_var('open_acc', 'open_acc', continuous=False)"
   ]
  },
  {
   "cell_type": "markdown",
   "metadata": {},
   "source": [
    "18. pub_rec : number of derogatory public accounts"
   ]
  },
  {
   "cell_type": "code",
   "execution_count": 82,
   "metadata": {},
   "outputs": [
    {
     "name": "stdout",
     "output_type": "stream",
     "text": [
      "------------------------------------------------------------ \n",
      " Individual Summary Statistics for pub_rec \n",
      " ------------------------------------------------------------\n",
      "Describe \n",
      " count    888553.0\n",
      "mean          0.0\n",
      "std           0.0\n",
      "min           0.0\n",
      "25%           0.0\n",
      "50%           0.0\n",
      "75%           0.0\n",
      "max           0.0\n",
      "Name: pub_rec, dtype: float64 \n",
      " --------------------\n",
      "Sample Observations \n",
      " 1936794    0.0\n",
      "1172701    0.0\n",
      "1857372    0.0\n",
      "1909176    0.0\n",
      "1955214    0.0\n",
      "Name: pub_rec, dtype: float64 \n",
      " --------------------\n",
      "Number of Uniques \n",
      " 1 \n",
      " --------------------\n",
      "Unique value counts \n",
      " 0.0    888553\n",
      "Name: pub_rec, dtype: int64 \n",
      " --------------------\n"
     ]
    }
   ],
   "source": [
    "print_stats('pub_rec')"
   ]
  },
  {
   "cell_type": "code",
   "execution_count": 83,
   "metadata": {},
   "outputs": [],
   "source": [
    "#Since pub_rec is all zeros, we will drop this column\n",
    "df_NewAppl.drop('pub_rec', axis=1, inplace=True)"
   ]
  },
  {
   "cell_type": "code",
   "execution_count": 84,
   "metadata": {},
   "outputs": [],
   "source": [
    "#19. pub_rec_bankruptcies: number of public record bankruptcies"
   ]
  },
  {
   "cell_type": "code",
   "execution_count": null,
   "metadata": {},
   "outputs": [],
   "source": [
    "plot_var('pub_rec_bankruptcies', 'Public Record Bankrptcies', continuous=False)"
   ]
  },
  {
   "cell_type": "code",
   "execution_count": 67,
   "metadata": {},
   "outputs": [],
   "source": [
    "#Since pub_rec_bankruptcies is all zeros, we will drop this column\n",
    "df_NewAppl.drop('pub_rec_bankruptcies', axis=1, inplace=True)"
   ]
  },
  {
   "cell_type": "markdown",
   "metadata": {},
   "source": [
    "20. purpose: a category provided by the borrower for the loan request"
   ]
  },
  {
   "cell_type": "code",
   "execution_count": 86,
   "metadata": {},
   "outputs": [
    {
     "name": "stdout",
     "output_type": "stream",
     "text": [
      "------------------------------------------------------------ \n",
      " Individual Summary Statistics for purpose \n",
      " ------------------------------------------------------------\n",
      "Describe \n",
      " count                 888553\n",
      "unique                    14\n",
      "top       debt_consolidation\n",
      "freq                  515529\n",
      "Name: purpose, dtype: object \n",
      " --------------------\n",
      "Sample Observations \n",
      " 1081860    debt_consolidation\n",
      "1178077    debt_consolidation\n",
      "1501372        major_purchase\n",
      "1682054    debt_consolidation\n",
      "819188     debt_consolidation\n",
      "Name: purpose, dtype: object \n",
      " --------------------\n",
      "Number of Uniques \n",
      " 14 \n",
      " --------------------\n",
      "Unique value counts \n",
      " debt_consolidation    515529\n",
      "credit_card           198128\n",
      "other                  52733\n",
      "home_improvement       51528\n",
      "major_purchase         20001\n",
      "car                    10494\n",
      "medical                10361\n",
      "small_business          9244\n",
      "moving                  6863\n",
      "vacation                6351\n",
      "house                   4363\n",
      "wedding                 2036\n",
      "renewable_energy         640\n",
      "educational              282\n",
      "Name: purpose, dtype: int64 \n",
      " --------------------\n",
      "debt_consolidation    515529\n",
      "credit_card           198128\n",
      "other                  52733\n",
      "home_improvement       51528\n",
      "major_purchase         20001\n",
      "car                    10494\n",
      "medical                10361\n",
      "small_business          9244\n",
      "moving                  6863\n",
      "vacation                6351\n",
      "house                   4363\n",
      "wedding                 2036\n",
      "renewable_energy         640\n",
      "educational              282\n",
      "Name: purpose, dtype: int64\n"
     ]
    }
   ],
   "source": [
    "print_stats('purpose')\n",
    "print(df_NewAppl.purpose.value_counts())\n"
   ]
  },
  {
   "cell_type": "code",
   "execution_count": 87,
   "metadata": {},
   "outputs": [
    {
     "data": {
      "image/png": "[encoded data removed]",
      "text/plain": [
       "<Figure size 1080x270 with 2 Axes>"
      ]
     },
     "metadata": {
      "needs_background": "light"
     },
     "output_type": "display_data"
    }
   ],
   "source": [
    "plot_var('purpose', 'purpose', continuous=False)"
   ]
  },
  {
   "cell_type": "code",
   "execution_count": 88,
   "metadata": {},
   "outputs": [
    {
     "name": "stdout",
     "output_type": "stream",
     "text": [
      "------------------------------------------------------------ \n",
      " Individual Summary Statistics for pymnt_plan \n",
      " ------------------------------------------------------------\n"
     ]
    },
    {
     "ename": "KeyError",
     "evalue": "'pymnt_plan'",
     "output_type": "error",
     "traceback": [
      "\u001b[0;31m---------------------------------------------------------------------------\u001b[0m",
      "\u001b[0;31mKeyError\u001b[0m                                  Traceback (most recent call last)",
      "\u001b[0;32m/anaconda3/lib/python3.7/site-packages/pandas/core/indexes/base.py\u001b[0m in \u001b[0;36mget_loc\u001b[0;34m(self, key, method, tolerance)\u001b[0m\n\u001b[1;32m   2656\u001b[0m             \u001b[0;32mtry\u001b[0m\u001b[0;34m:\u001b[0m\u001b[0;34m\u001b[0m\u001b[0;34m\u001b[0m\u001b[0m\n\u001b[0;32m-> 2657\u001b[0;31m                 \u001b[0;32mreturn\u001b[0m \u001b[0mself\u001b[0m\u001b[0;34m.\u001b[0m\u001b[0m_engine\u001b[0m\u001b[0;34m.\u001b[0m\u001b[0mget_loc\u001b[0m\u001b[0;34m(\u001b[0m\u001b[0mkey\u001b[0m\u001b[0;34m)\u001b[0m\u001b[0;34m\u001b[0m\u001b[0;34m\u001b[0m\u001b[0m\n\u001b[0m\u001b[1;32m   2658\u001b[0m             \u001b[0;32mexcept\u001b[0m \u001b[0mKeyError\u001b[0m\u001b[0;34m:\u001b[0m\u001b[0;34m\u001b[0m\u001b[0;34m\u001b[0m\u001b[0m\n",
      "\u001b[0;32mpandas/_libs/index.pyx\u001b[0m in \u001b[0;36mpandas._libs.index.IndexEngine.get_loc\u001b[0;34m()\u001b[0m\n",
      "\u001b[0;32mpandas/_libs/index.pyx\u001b[0m in \u001b[0;36mpandas._libs.index.IndexEngine.get_loc\u001b[0;34m()\u001b[0m\n",
      "\u001b[0;32mpandas/_libs/hashtable_class_helper.pxi\u001b[0m in \u001b[0;36mpandas._libs.hashtable.PyObjectHashTable.get_item\u001b[0;34m()\u001b[0m\n",
      "\u001b[0;32mpandas/_libs/hashtable_class_helper.pxi\u001b[0m in \u001b[0;36mpandas._libs.hashtable.PyObjectHashTable.get_item\u001b[0;34m()\u001b[0m\n",
      "\u001b[0;31mKeyError\u001b[0m: 'pymnt_plan'",
      "\nDuring handling of the above exception, another exception occurred:\n",
      "\u001b[0;31mKeyError\u001b[0m                                  Traceback (most recent call last)",
      "\u001b[0;32m<ipython-input-88-206a900be9ae>\u001b[0m in \u001b[0;36m<module>\u001b[0;34m\u001b[0m\n\u001b[1;32m      1\u001b[0m \u001b[0;31m#Paymet plan\u001b[0m\u001b[0;34m\u001b[0m\u001b[0;34m\u001b[0m\u001b[0;34m\u001b[0m\u001b[0m\n\u001b[0;32m----> 2\u001b[0;31m \u001b[0mprint_stats\u001b[0m\u001b[0;34m(\u001b[0m\u001b[0;34m'pymnt_plan'\u001b[0m\u001b[0;34m)\u001b[0m\u001b[0;34m\u001b[0m\u001b[0;34m\u001b[0m\u001b[0m\n\u001b[0m",
      "\u001b[0;32m<ipython-input-41-736e7bdf2658>\u001b[0m in \u001b[0;36mprint_stats\u001b[0;34m(col_name, group_by)\u001b[0m\n\u001b[1;32m     37\u001b[0m     \"\"\"\n\u001b[1;32m     38\u001b[0m     \u001b[0mprint\u001b[0m\u001b[0;34m(\u001b[0m\u001b[0;34m'-'\u001b[0m\u001b[0;34m*\u001b[0m\u001b[0;36m60\u001b[0m\u001b[0;34m,\u001b[0m \u001b[0;34m'\\n Individual Summary Statistics for'\u001b[0m\u001b[0;34m,\u001b[0m \u001b[0mcol_name\u001b[0m\u001b[0;34m,\u001b[0m \u001b[0;34m'\\n'\u001b[0m\u001b[0;34m,\u001b[0m \u001b[0;34m'-'\u001b[0m\u001b[0;34m*\u001b[0m\u001b[0;36m60\u001b[0m\u001b[0;34m)\u001b[0m\u001b[0;34m\u001b[0m\u001b[0;34m\u001b[0m\u001b[0m\n\u001b[0;32m---> 39\u001b[0;31m     \u001b[0mprint\u001b[0m\u001b[0;34m(\u001b[0m\u001b[0;34m'Describe \\n'\u001b[0m\u001b[0;34m,\u001b[0m\u001b[0mdf_NewAppl\u001b[0m\u001b[0;34m[\u001b[0m\u001b[0mcol_name\u001b[0m\u001b[0;34m]\u001b[0m\u001b[0;34m.\u001b[0m\u001b[0mdescribe\u001b[0m\u001b[0;34m(\u001b[0m\u001b[0;34m)\u001b[0m\u001b[0;34m,\u001b[0m \u001b[0;34m'\\n'\u001b[0m\u001b[0;34m,\u001b[0m \u001b[0;34m'-'\u001b[0m\u001b[0;34m*\u001b[0m\u001b[0;36m20\u001b[0m\u001b[0;34m)\u001b[0m\u001b[0;34m\u001b[0m\u001b[0;34m\u001b[0m\u001b[0m\n\u001b[0m\u001b[1;32m     40\u001b[0m     \u001b[0mprint\u001b[0m\u001b[0;34m(\u001b[0m\u001b[0;34m'Sample Observations \\n'\u001b[0m\u001b[0;34m,\u001b[0m\u001b[0mdf_NewAppl\u001b[0m\u001b[0;34m[\u001b[0m\u001b[0mcol_name\u001b[0m\u001b[0;34m]\u001b[0m\u001b[0;34m.\u001b[0m\u001b[0msample\u001b[0m\u001b[0;34m(\u001b[0m\u001b[0;36m5\u001b[0m\u001b[0;34m)\u001b[0m\u001b[0;34m,\u001b[0m \u001b[0;34m'\\n'\u001b[0m\u001b[0;34m,\u001b[0m \u001b[0;34m'-'\u001b[0m\u001b[0;34m*\u001b[0m\u001b[0;36m20\u001b[0m\u001b[0;34m)\u001b[0m\u001b[0;34m\u001b[0m\u001b[0;34m\u001b[0m\u001b[0m\n\u001b[1;32m     41\u001b[0m     \u001b[0mprint\u001b[0m\u001b[0;34m(\u001b[0m\u001b[0;34m'Number of Uniques \\n'\u001b[0m\u001b[0;34m,\u001b[0m\u001b[0mdf_NewAppl\u001b[0m\u001b[0;34m[\u001b[0m\u001b[0mcol_name\u001b[0m\u001b[0;34m]\u001b[0m\u001b[0;34m.\u001b[0m\u001b[0mnunique\u001b[0m\u001b[0;34m(\u001b[0m\u001b[0;34m)\u001b[0m\u001b[0;34m,\u001b[0m \u001b[0;34m'\\n'\u001b[0m\u001b[0;34m,\u001b[0m \u001b[0;34m'-'\u001b[0m\u001b[0;34m*\u001b[0m\u001b[0;36m20\u001b[0m\u001b[0;34m)\u001b[0m\u001b[0;34m\u001b[0m\u001b[0;34m\u001b[0m\u001b[0m\n",
      "\u001b[0;32m/anaconda3/lib/python3.7/site-packages/pandas/core/frame.py\u001b[0m in \u001b[0;36m__getitem__\u001b[0;34m(self, key)\u001b[0m\n\u001b[1;32m   2925\u001b[0m             \u001b[0;32mif\u001b[0m \u001b[0mself\u001b[0m\u001b[0;34m.\u001b[0m\u001b[0mcolumns\u001b[0m\u001b[0;34m.\u001b[0m\u001b[0mnlevels\u001b[0m \u001b[0;34m>\u001b[0m \u001b[0;36m1\u001b[0m\u001b[0;34m:\u001b[0m\u001b[0;34m\u001b[0m\u001b[0;34m\u001b[0m\u001b[0m\n\u001b[1;32m   2926\u001b[0m                 \u001b[0;32mreturn\u001b[0m \u001b[0mself\u001b[0m\u001b[0;34m.\u001b[0m\u001b[0m_getitem_multilevel\u001b[0m\u001b[0;34m(\u001b[0m\u001b[0mkey\u001b[0m\u001b[0;34m)\u001b[0m\u001b[0;34m\u001b[0m\u001b[0;34m\u001b[0m\u001b[0m\n\u001b[0;32m-> 2927\u001b[0;31m             \u001b[0mindexer\u001b[0m \u001b[0;34m=\u001b[0m \u001b[0mself\u001b[0m\u001b[0;34m.\u001b[0m\u001b[0mcolumns\u001b[0m\u001b[0;34m.\u001b[0m\u001b[0mget_loc\u001b[0m\u001b[0;34m(\u001b[0m\u001b[0mkey\u001b[0m\u001b[0;34m)\u001b[0m\u001b[0;34m\u001b[0m\u001b[0;34m\u001b[0m\u001b[0m\n\u001b[0m\u001b[1;32m   2928\u001b[0m             \u001b[0;32mif\u001b[0m \u001b[0mis_integer\u001b[0m\u001b[0;34m(\u001b[0m\u001b[0mindexer\u001b[0m\u001b[0;34m)\u001b[0m\u001b[0;34m:\u001b[0m\u001b[0;34m\u001b[0m\u001b[0;34m\u001b[0m\u001b[0m\n\u001b[1;32m   2929\u001b[0m                 \u001b[0mindexer\u001b[0m \u001b[0;34m=\u001b[0m \u001b[0;34m[\u001b[0m\u001b[0mindexer\u001b[0m\u001b[0;34m]\u001b[0m\u001b[0;34m\u001b[0m\u001b[0;34m\u001b[0m\u001b[0m\n",
      "\u001b[0;32m/anaconda3/lib/python3.7/site-packages/pandas/core/indexes/base.py\u001b[0m in \u001b[0;36mget_loc\u001b[0;34m(self, key, method, tolerance)\u001b[0m\n\u001b[1;32m   2657\u001b[0m                 \u001b[0;32mreturn\u001b[0m \u001b[0mself\u001b[0m\u001b[0;34m.\u001b[0m\u001b[0m_engine\u001b[0m\u001b[0;34m.\u001b[0m\u001b[0mget_loc\u001b[0m\u001b[0;34m(\u001b[0m\u001b[0mkey\u001b[0m\u001b[0;34m)\u001b[0m\u001b[0;34m\u001b[0m\u001b[0;34m\u001b[0m\u001b[0m\n\u001b[1;32m   2658\u001b[0m             \u001b[0;32mexcept\u001b[0m \u001b[0mKeyError\u001b[0m\u001b[0;34m:\u001b[0m\u001b[0;34m\u001b[0m\u001b[0;34m\u001b[0m\u001b[0m\n\u001b[0;32m-> 2659\u001b[0;31m                 \u001b[0;32mreturn\u001b[0m \u001b[0mself\u001b[0m\u001b[0;34m.\u001b[0m\u001b[0m_engine\u001b[0m\u001b[0;34m.\u001b[0m\u001b[0mget_loc\u001b[0m\u001b[0;34m(\u001b[0m\u001b[0mself\u001b[0m\u001b[0;34m.\u001b[0m\u001b[0m_maybe_cast_indexer\u001b[0m\u001b[0;34m(\u001b[0m\u001b[0mkey\u001b[0m\u001b[0;34m)\u001b[0m\u001b[0;34m)\u001b[0m\u001b[0;34m\u001b[0m\u001b[0;34m\u001b[0m\u001b[0m\n\u001b[0m\u001b[1;32m   2660\u001b[0m         \u001b[0mindexer\u001b[0m \u001b[0;34m=\u001b[0m \u001b[0mself\u001b[0m\u001b[0;34m.\u001b[0m\u001b[0mget_indexer\u001b[0m\u001b[0;34m(\u001b[0m\u001b[0;34m[\u001b[0m\u001b[0mkey\u001b[0m\u001b[0;34m]\u001b[0m\u001b[0;34m,\u001b[0m \u001b[0mmethod\u001b[0m\u001b[0;34m=\u001b[0m\u001b[0mmethod\u001b[0m\u001b[0;34m,\u001b[0m \u001b[0mtolerance\u001b[0m\u001b[0;34m=\u001b[0m\u001b[0mtolerance\u001b[0m\u001b[0;34m)\u001b[0m\u001b[0;34m\u001b[0m\u001b[0;34m\u001b[0m\u001b[0m\n\u001b[1;32m   2661\u001b[0m         \u001b[0;32mif\u001b[0m \u001b[0mindexer\u001b[0m\u001b[0;34m.\u001b[0m\u001b[0mndim\u001b[0m \u001b[0;34m>\u001b[0m \u001b[0;36m1\u001b[0m \u001b[0;32mor\u001b[0m \u001b[0mindexer\u001b[0m\u001b[0;34m.\u001b[0m\u001b[0msize\u001b[0m \u001b[0;34m>\u001b[0m \u001b[0;36m1\u001b[0m\u001b[0;34m:\u001b[0m\u001b[0;34m\u001b[0m\u001b[0;34m\u001b[0m\u001b[0m\n",
      "\u001b[0;32mpandas/_libs/index.pyx\u001b[0m in \u001b[0;36mpandas._libs.index.IndexEngine.get_loc\u001b[0;34m()\u001b[0m\n",
      "\u001b[0;32mpandas/_libs/index.pyx\u001b[0m in \u001b[0;36mpandas._libs.index.IndexEngine.get_loc\u001b[0;34m()\u001b[0m\n",
      "\u001b[0;32mpandas/_libs/hashtable_class_helper.pxi\u001b[0m in \u001b[0;36mpandas._libs.hashtable.PyObjectHashTable.get_item\u001b[0;34m()\u001b[0m\n",
      "\u001b[0;32mpandas/_libs/hashtable_class_helper.pxi\u001b[0m in \u001b[0;36mpandas._libs.hashtable.PyObjectHashTable.get_item\u001b[0;34m()\u001b[0m\n",
      "\u001b[0;31mKeyError\u001b[0m: 'pymnt_plan'"
     ]
    }
   ],
   "source": [
    "#Paymet plan\n",
    "print_stats('pymnt_plan')"
   ]
  },
  {
   "cell_type": "code",
   "execution_count": 89,
   "metadata": {},
   "outputs": [],
   "source": [
    "#Since there is only one value 'n' we could drop this column"
   ]
  },
  {
   "cell_type": "code",
   "execution_count": 90,
   "metadata": {},
   "outputs": [],
   "source": [
    "#21. revol_bal: total credit revolving balance"
   ]
  },
  {
   "cell_type": "code",
   "execution_count": 93,
   "metadata": {},
   "outputs": [
    {
     "name": "stdout",
     "output_type": "stream",
     "text": [
      "------------------------------------------------------------ \n",
      " Individual Summary Statistics for earliest_cr_line \n",
      " ------------------------------------------------------------\n",
      "Describe \n",
      " count                  888553\n",
      "unique                    716\n",
      "top       2004-09-01 00:00:00\n",
      "freq                     6434\n",
      "first     1934-04-01 00:00:00\n",
      "last      2015-09-01 00:00:00\n",
      "Name: earliest_cr_line, dtype: object \n",
      " --------------------\n",
      "Sample Observations \n",
      " 701490    2003-01-01\n",
      "494464    2004-11-01\n",
      "755357    1993-08-01\n",
      "759210    2010-09-01\n",
      "1671114   2005-06-01\n",
      "Name: earliest_cr_line, dtype: datetime64[ns] \n",
      " --------------------\n",
      "Number of Uniques \n",
      " 716 \n",
      " --------------------\n"
     ]
    }
   ],
   "source": [
    "#earliest_cr_line\n",
    "print_stats('earliest_cr_line')\n"
   ]
  },
  {
   "cell_type": "code",
   "execution_count": 98,
   "metadata": {},
   "outputs": [],
   "source": [
    "#21. revol_bal: total credit revolving balance"
   ]
  },
  {
   "cell_type": "code",
   "execution_count": 99,
   "metadata": {},
   "outputs": [
    {
     "name": "stdout",
     "output_type": "stream",
     "text": [
      "------------------------------------------------------------ \n",
      " Individual Summary Statistics for revol_bal \n",
      " ------------------------------------------------------------\n",
      "Describe \n",
      " count    888553.000000\n",
      "mean      12770.648062\n",
      "std        8932.727633\n",
      "min           0.000000\n",
      "25%        5892.000000\n",
      "50%       10763.000000\n",
      "75%       17814.000000\n",
      "max       40442.000000\n",
      "Name: revol_bal, dtype: float64 \n",
      " --------------------\n",
      "Sample Observations \n",
      " 1031842     4910\n",
      "1138248    19808\n",
      "1913158     3473\n",
      "1690911     4787\n",
      "494538      6016\n",
      "Name: revol_bal, dtype: int64 \n",
      " --------------------\n",
      "Number of Uniques \n",
      " 40297 \n",
      " --------------------\n"
     ]
    }
   ],
   "source": [
    "print_stats('revol_bal')\n"
   ]
  },
  {
   "cell_type": "code",
   "execution_count": 100,
   "metadata": {},
   "outputs": [
    {
     "data": {
      "image/png": "[encoded data removed]",
      "text/plain": [
       "<Figure size 1080x270 with 2 Axes>"
      ]
     },
     "metadata": {
      "needs_background": "light"
     },
     "output_type": "display_data"
    }
   ],
   "source": [
    "plot_var('revol_bal', 'revol_bal', continuous=True)"
   ]
  },
  {
   "cell_type": "code",
   "execution_count": 101,
   "metadata": {},
   "outputs": [],
   "source": [
    "#22. revol_util: revolving line utilization rate"
   ]
  },
  {
   "cell_type": "code",
   "execution_count": 102,
   "metadata": {},
   "outputs": [
    {
     "name": "stdout",
     "output_type": "stream",
     "text": [
      "------------------------------------------------------------ \n",
      " Individual Summary Statistics for revol_util \n",
      " ------------------------------------------------------------\n",
      "Describe \n",
      " count    887959.000000\n",
      "mean         52.285071\n",
      "std          24.641468\n",
      "min           0.000000\n",
      "25%          33.900000\n",
      "50%          52.700000\n",
      "75%          71.400000\n",
      "max         126.400000\n",
      "Name: revol_util, dtype: float64 \n",
      " --------------------\n",
      "Sample Observations \n",
      " 943655      8.4\n",
      "679393     80.0\n",
      "1308956    55.0\n",
      "747017     43.5\n",
      "688573     31.5\n",
      "Name: revol_util, dtype: float64 \n",
      " --------------------\n",
      "Number of Uniques \n",
      " 1272 \n",
      " --------------------\n"
     ]
    }
   ],
   "source": [
    "print_stats('revol_util')"
   ]
  },
  {
   "cell_type": "code",
   "execution_count": 103,
   "metadata": {},
   "outputs": [
    {
     "data": {
      "image/png": "[encoded data removed]",
      "text/plain": [
       "<Figure size 1080x270 with 2 Axes>"
      ]
     },
     "metadata": {
      "needs_background": "light"
     },
     "output_type": "display_data"
    }
   ],
   "source": [
    "plot_var('revol_util', 'revol_util', continuous=True)"
   ]
  },
  {
   "cell_type": "code",
   "execution_count": null,
   "metadata": {},
   "outputs": [],
   "source": [
    "#23. title"
   ]
  },
  {
   "cell_type": "code",
   "execution_count": 104,
   "metadata": {},
   "outputs": [
    {
     "name": "stdout",
     "output_type": "stream",
     "text": [
      "------------------------------------------------------------ \n",
      " Individual Summary Statistics for title \n",
      " ------------------------------------------------------------\n",
      "Describe \n",
      " count                 878511\n",
      "unique                 51948\n",
      "top       Debt consolidation\n",
      "freq                  420893\n",
      "Name: title, dtype: object \n",
      " --------------------\n",
      "Sample Observations \n",
      " 1550086         Debt consolidation\n",
      "1237077    Credit card refinancing\n",
      "1161960    Credit card refinancing\n",
      "1678104         Debt Consolidation\n",
      "779610     Credit card refinancing\n",
      "Name: title, dtype: object \n",
      " --------------------\n",
      "Number of Uniques \n",
      " 51948 \n",
      " --------------------\n"
     ]
    }
   ],
   "source": [
    "print_stats('title')"
   ]
  },
  {
   "cell_type": "code",
   "execution_count": 105,
   "metadata": {},
   "outputs": [],
   "source": [
    "#There are too many unique values of title to be useful. So we will drop this feature\n",
    "df_NewAppl.drop(labels='title', axis=1, inplace=True)"
   ]
  },
  {
   "cell_type": "code",
   "execution_count": 106,
   "metadata": {},
   "outputs": [
    {
     "name": "stdout",
     "output_type": "stream",
     "text": [
      "------------------------------------------------------------ \n",
      " Individual Summary Statistics for earliest_cr_line \n",
      " ------------------------------------------------------------\n",
      "Describe \n",
      " count                  888553\n",
      "unique                    716\n",
      "top       2004-09-01 00:00:00\n",
      "freq                     6434\n",
      "first     1934-04-01 00:00:00\n",
      "last      2015-09-01 00:00:00\n",
      "Name: earliest_cr_line, dtype: object \n",
      " --------------------\n",
      "Sample Observations \n",
      " 1212310   2009-06-01\n",
      "1039366   2002-09-01\n",
      "1943256   2001-08-01\n",
      "2014532   2009-02-01\n",
      "1810659   1998-03-01\n",
      "Name: earliest_cr_line, dtype: datetime64[ns] \n",
      " --------------------\n",
      "Number of Uniques \n",
      " 716 \n",
      " --------------------\n"
     ]
    }
   ],
   "source": [
    "#earliest_cr_line\n",
    "print_stats('earliest_cr_line')"
   ]
  },
  {
   "cell_type": "code",
   "execution_count": 107,
   "metadata": {},
   "outputs": [],
   "source": [
    "#Since there are too many uniques values of earliest_cr_line, we will drop this column\n",
    "df_NewAppl.drop(labels='earliest_cr_line', axis=1, inplace=True)"
   ]
  },
  {
   "cell_type": "code",
   "execution_count": 108,
   "metadata": {},
   "outputs": [],
   "source": [
    "#24. total_acc: the total number of credit lines currently in the borrower's credit line"
   ]
  },
  {
   "cell_type": "code",
   "execution_count": 109,
   "metadata": {},
   "outputs": [
    {
     "name": "stdout",
     "output_type": "stream",
     "text": [
      "------------------------------------------------------------ \n",
      " Individual Summary Statistics for total_acc \n",
      " ------------------------------------------------------------\n",
      "Describe \n",
      " count    888553.000000\n",
      "mean         22.919669\n",
      "std          10.276434\n",
      "min           2.000000\n",
      "25%          15.000000\n",
      "50%          22.000000\n",
      "75%          29.000000\n",
      "max          56.000000\n",
      "Name: total_acc, dtype: float64 \n",
      " --------------------\n",
      "Sample Observations \n",
      " 1690493     6.0\n",
      "1195493    27.0\n",
      "2072798    34.0\n",
      "1877765    40.0\n",
      "1998642    32.0\n",
      "Name: total_acc, dtype: float64 \n",
      " --------------------\n",
      "Number of Uniques \n",
      " 55 \n",
      " --------------------\n"
     ]
    }
   ],
   "source": [
    "print_stats('total_acc')"
   ]
  },
  {
   "cell_type": "code",
   "execution_count": 110,
   "metadata": {},
   "outputs": [
    {
     "data": {
      "image/png": "[encoded data removed]",
      "text/plain": [
       "<Figure size 1080x270 with 2 Axes>"
      ]
     },
     "metadata": {
      "needs_background": "light"
     },
     "output_type": "display_data"
    }
   ],
   "source": [
    "plot_var('total_acc', 'total_acc', continuous=True)"
   ]
  },
  {
   "cell_type": "code",
   "execution_count": 111,
   "metadata": {},
   "outputs": [],
   "source": [
    "#25. verification_status"
   ]
  },
  {
   "cell_type": "code",
   "execution_count": 112,
   "metadata": {},
   "outputs": [
    {
     "name": "stdout",
     "output_type": "stream",
     "text": [
      "------------------------------------------------------------ \n",
      " Individual Summary Statistics for verification_status \n",
      " ------------------------------------------------------------\n",
      "Describe \n",
      " count              888553\n",
      "unique                  3\n",
      "top       Source Verified\n",
      "freq               333405\n",
      "Name: verification_status, dtype: object \n",
      " --------------------\n",
      "Sample Observations \n",
      " 1733385    Source Verified\n",
      "2122488       Not Verified\n",
      "669577     Source Verified\n",
      "2011062       Not Verified\n",
      "1305037       Not Verified\n",
      "Name: verification_status, dtype: object \n",
      " --------------------\n",
      "Number of Uniques \n",
      " 3 \n",
      " --------------------\n",
      "Unique value counts \n",
      " Source Verified    333405\n",
      "Not Verified       298469\n",
      "Verified           256679\n",
      "Name: verification_status, dtype: int64 \n",
      " --------------------\n"
     ]
    }
   ],
   "source": [
    "print_stats('verification_status')"
   ]
  },
  {
   "cell_type": "code",
   "execution_count": 113,
   "metadata": {},
   "outputs": [
    {
     "data": {
      "text/plain": [
       "array([0, 1, 2])"
      ]
     },
     "execution_count": 113,
     "metadata": {},
     "output_type": "execute_result"
    }
   ],
   "source": [
    "# Encode labels in column 'species'. \n",
    "df_NewAppl['num_verification_status']= label_encoder.fit_transform(df_NewAppl['verification_status']) \n",
    "\n",
    "df_NewAppl['num_verification_status'].unique() "
   ]
  },
  {
   "cell_type": "code",
   "execution_count": 114,
   "metadata": {},
   "outputs": [
    {
     "data": {
      "image/png": "[encoded data removed]",
      "text/plain": [
       "<Figure size 1080x270 with 2 Axes>"
      ]
     },
     "metadata": {
      "needs_background": "light"
     },
     "output_type": "display_data"
    }
   ],
   "source": [
    "plot_var('verification_status', 'verification_status', continuous=False)"
   ]
  },
  {
   "cell_type": "code",
   "execution_count": 115,
   "metadata": {},
   "outputs": [
    {
     "data": {
      "image/png": "[encoded data removed]",
      "text/plain": [
       "<Figure size 1080x270 with 2 Axes>"
      ]
     },
     "metadata": {
      "needs_background": "light"
     },
     "output_type": "display_data"
    }
   ],
   "source": [
    "plot_var('num_verification_status', 'Numerical verification_status', continuous=False)"
   ]
  },
  {
   "cell_type": "markdown",
   "metadata": {},
   "source": [
    "-fico_range_low, fico_range_high : upper and lower boundary range for fico score\n",
    "FICO score, a measure of consumer credit risk\n"
   ]
  },
  {
   "cell_type": "code",
   "execution_count": 117,
   "metadata": {},
   "outputs": [
    {
     "name": "stdout",
     "output_type": "stream",
     "text": [
      "loan_amnt                    int64\n",
      "term                         int64\n",
      "int_rate                   float64\n",
      "installment                float64\n",
      "sub_grade                   object\n",
      "emp_length                 float64\n",
      "home_ownership              object\n",
      "annual_inc                 float64\n",
      "verification_status         object\n",
      "loan_status                 object\n",
      "purpose                     object\n",
      "dti                        float64\n",
      "open_acc                   float64\n",
      "revol_bal                    int64\n",
      "revol_util                 float64\n",
      "total_acc                  float64\n",
      "initial_list_status         object\n",
      "application_type            object\n",
      "mort_acc                   float64\n",
      "annual_inc_norm            float64\n",
      "num_subgrade                 int64\n",
      "num_verification_status      int64\n",
      "dtype: object\n",
      "(888553, 22)\n",
      "loan_amnt                      0\n",
      "term                           0\n",
      "int_rate                       0\n",
      "installment                    0\n",
      "sub_grade                      0\n",
      "emp_length                 48650\n",
      "home_ownership                 0\n",
      "annual_inc                     0\n",
      "verification_status            0\n",
      "loan_status                    0\n",
      "purpose                        0\n",
      "dti                          212\n",
      "open_acc                       0\n",
      "revol_bal                      0\n",
      "revol_util                   594\n",
      "total_acc                      0\n",
      "initial_list_status            0\n",
      "application_type               0\n",
      "mort_acc                   40737\n",
      "annual_inc_norm                0\n",
      "num_subgrade                   0\n",
      "num_verification_status        0\n",
      "dtype: int64\n"
     ]
    }
   ],
   "source": [
    "print(df_NewAppl.dtypes)\n",
    "print(df_NewAppl.shape)\n",
    "print(df_NewAppl.isnull().sum())\n"
   ]
  },
  {
   "cell_type": "markdown",
   "metadata": {},
   "source": [
    "Missing Values\n",
    "----------------\n",
    "\n",
    "There are 888553 observations out of which 800 or so have missing values. In effect there are 0.0009% rows have missing values. This is a very miniscuse percent so we could safely drop the rows with missing values without having any impact on our future models.\n"
   ]
  },
  {
   "cell_type": "code",
   "execution_count": 118,
   "metadata": {},
   "outputs": [],
   "source": [
    "df_NewAppl.dropna(inplace=True)"
   ]
  },
  {
   "cell_type": "code",
   "execution_count": 119,
   "metadata": {},
   "outputs": [
    {
     "name": "stdout",
     "output_type": "stream",
     "text": [
      "loan_amnt                    int64\n",
      "term                         int64\n",
      "int_rate                   float64\n",
      "installment                float64\n",
      "sub_grade                   object\n",
      "emp_length                 float64\n",
      "home_ownership              object\n",
      "annual_inc                 float64\n",
      "verification_status         object\n",
      "loan_status                 object\n",
      "purpose                     object\n",
      "dti                        float64\n",
      "open_acc                   float64\n",
      "revol_bal                    int64\n",
      "revol_util                 float64\n",
      "total_acc                  float64\n",
      "initial_list_status         object\n",
      "application_type            object\n",
      "mort_acc                   float64\n",
      "annual_inc_norm            float64\n",
      "num_subgrade                 int64\n",
      "num_verification_status      int64\n",
      "dtype: object\n",
      "(799780, 22)\n",
      "loan_amnt                  0\n",
      "term                       0\n",
      "int_rate                   0\n",
      "installment                0\n",
      "sub_grade                  0\n",
      "emp_length                 0\n",
      "home_ownership             0\n",
      "annual_inc                 0\n",
      "verification_status        0\n",
      "loan_status                0\n",
      "purpose                    0\n",
      "dti                        0\n",
      "open_acc                   0\n",
      "revol_bal                  0\n",
      "revol_util                 0\n",
      "total_acc                  0\n",
      "initial_list_status        0\n",
      "application_type           0\n",
      "mort_acc                   0\n",
      "annual_inc_norm            0\n",
      "num_subgrade               0\n",
      "num_verification_status    0\n",
      "dtype: int64\n"
     ]
    }
   ],
   "source": [
    "print(df_NewAppl.dtypes)\n",
    "print(df_NewAppl.shape)\n",
    "print(df_NewAppl.isnull().sum())"
   ]
  },
  {
   "cell_type": "markdown",
   "metadata": {},
   "source": [
    "Inferential Statistics - Test 1\n",
    "-----------------------\n",
    "\n",
    "1. Term:\n",
    "--------\n",
    "\n",
    "Next we will perform a statistical analysis to establish whether term has a significant impact on the charge backs aka our target variable loan_status\n",
    "\n",
    "1. Test:\n",
    "We will use Z statistic test for this problem\n",
    "Explanation- We will take random sample from the data set with sample size =100 (50+50). Our target variable has 2 values. So this is a binomial distribution. However with n=100, CLT applies. The sampling distribution will follow normal distribution.\n",
    "\n",
    "2. Hypothesis:\n",
    "\n",
    "Null Hypothesis H0: P1 = P2 i.e.There are no differences in both sample proportions i.e. term has no impact on the charge offs\n",
    "\n",
    "Alternate hypothesis H1: P1<>P2 Both sample proportions are different i.e. term has impact on the charge offs\n",
    "\n",
    "3. Significance:\n",
    "Confidence Level : 90%\n",
    "\n",
    "4. Analysis Plan:\n",
    "Reject the null hypothesis if p value< a \n",
    "\n",
    "Note: the test is appropriate because the sampling method was simple random sampling, the samples were independent, each population was at least 10 times larger than its sample, and each sample included at least 10 successes and 10 failures."
   ]
  },
  {
   "cell_type": "code",
   "execution_count": 120,
   "metadata": {},
   "outputs": [
    {
     "name": "stdout",
     "output_type": "stream",
     "text": [
      "------------------------------------------------------------ \n",
      " Individual Summary Statistics for term \n",
      " ------------------------------------------------------------\n",
      "Describe \n",
      " count    799780.000000\n",
      "mean         41.614874\n",
      "std          10.160231\n",
      "min          36.000000\n",
      "25%          36.000000\n",
      "50%          36.000000\n",
      "75%          36.000000\n",
      "max          60.000000\n",
      "Name: term, dtype: float64 \n",
      " --------------------\n",
      "Sample Observations \n",
      " 2256802    36\n",
      "1050866    36\n",
      "1642791    36\n",
      "759710     36\n",
      "1759046    36\n",
      "Name: term, dtype: int64 \n",
      " --------------------\n",
      "Number of Uniques \n",
      " 2 \n",
      " --------------------\n",
      "Unique value counts \n",
      " 36    612669\n",
      "60    187111\n",
      "Name: term, dtype: int64 \n",
      " --------------------\n"
     ]
    }
   ],
   "source": [
    "print_stats('term')"
   ]
  },
  {
   "cell_type": "code",
   "execution_count": 121,
   "metadata": {},
   "outputs": [
    {
     "data": {
      "text/plain": [
       "36    612669\n",
       "60    187111\n",
       "Name: term, dtype: int64"
      ]
     },
     "execution_count": 121,
     "metadata": {},
     "output_type": "execute_result"
    }
   ],
   "source": [
    "df_NewAppl.term.value_counts()"
   ]
  },
  {
   "cell_type": "code",
   "execution_count": 122,
   "metadata": {},
   "outputs": [
    {
     "data": {
      "text/plain": [
       "(200, 2)"
      ]
     },
     "execution_count": 122,
     "metadata": {},
     "output_type": "execute_result"
    }
   ],
   "source": [
    "df1 = df_NewAppl[df_NewAppl.term == 36][['loan_status', 'term']].sample(n=100)\n",
    "df2 = df_NewAppl[df_NewAppl.term==60][['loan_status', 'term']].sample(n=100)\n",
    "frames = [df1, df2]\n",
    "df_sample = pd.concat(frames)\n",
    "df_sample.shape"
   ]
  },
  {
   "cell_type": "code",
   "execution_count": 123,
   "metadata": {},
   "outputs": [
    {
     "data": {
      "text/html": [
       "<div>\n",
       "<style scoped>\n",
       "    .dataframe tbody tr th:only-of-type {\n",
       "        vertical-align: middle;\n",
       "    }\n",
       "\n",
       "    .dataframe tbody tr th {\n",
       "        vertical-align: top;\n",
       "    }\n",
       "\n",
       "    .dataframe thead th {\n",
       "        text-align: right;\n",
       "    }\n",
       "</style>\n",
       "<table border=\"1\" class=\"dataframe\">\n",
       "  <thead>\n",
       "    <tr style=\"text-align: right;\">\n",
       "      <th></th>\n",
       "      <th>term</th>\n",
       "    </tr>\n",
       "  </thead>\n",
       "  <tbody>\n",
       "    <tr>\n",
       "      <th>count</th>\n",
       "      <td>100.0</td>\n",
       "    </tr>\n",
       "    <tr>\n",
       "      <th>mean</th>\n",
       "      <td>60.0</td>\n",
       "    </tr>\n",
       "    <tr>\n",
       "      <th>std</th>\n",
       "      <td>0.0</td>\n",
       "    </tr>\n",
       "    <tr>\n",
       "      <th>min</th>\n",
       "      <td>60.0</td>\n",
       "    </tr>\n",
       "    <tr>\n",
       "      <th>25%</th>\n",
       "      <td>60.0</td>\n",
       "    </tr>\n",
       "    <tr>\n",
       "      <th>50%</th>\n",
       "      <td>60.0</td>\n",
       "    </tr>\n",
       "    <tr>\n",
       "      <th>75%</th>\n",
       "      <td>60.0</td>\n",
       "    </tr>\n",
       "    <tr>\n",
       "      <th>max</th>\n",
       "      <td>60.0</td>\n",
       "    </tr>\n",
       "  </tbody>\n",
       "</table>\n",
       "</div>"
      ],
      "text/plain": [
       "        term\n",
       "count  100.0\n",
       "mean    60.0\n",
       "std      0.0\n",
       "min     60.0\n",
       "25%     60.0\n",
       "50%     60.0\n",
       "75%     60.0\n",
       "max     60.0"
      ]
     },
     "execution_count": 123,
     "metadata": {},
     "output_type": "execute_result"
    }
   ],
   "source": [
    "df2.describe()"
   ]
  },
  {
   "cell_type": "code",
   "execution_count": 124,
   "metadata": {},
   "outputs": [
    {
     "data": {
      "text/plain": [
       "loan_status    object\n",
       "term            int64\n",
       "dtype: object"
      ]
     },
     "execution_count": 124,
     "metadata": {},
     "output_type": "execute_result"
    }
   ],
   "source": [
    "df_sample.dtypes"
   ]
  },
  {
   "cell_type": "code",
   "execution_count": 125,
   "metadata": {},
   "outputs": [
    {
     "data": {
      "text/html": [
       "<div>\n",
       "<style scoped>\n",
       "    .dataframe tbody tr th:only-of-type {\n",
       "        vertical-align: middle;\n",
       "    }\n",
       "\n",
       "    .dataframe tbody tr th {\n",
       "        vertical-align: top;\n",
       "    }\n",
       "\n",
       "    .dataframe thead th {\n",
       "        text-align: right;\n",
       "    }\n",
       "</style>\n",
       "<table border=\"1\" class=\"dataframe\">\n",
       "  <thead>\n",
       "    <tr style=\"text-align: right;\">\n",
       "      <th></th>\n",
       "      <th>term</th>\n",
       "    </tr>\n",
       "  </thead>\n",
       "  <tbody>\n",
       "    <tr>\n",
       "      <th>count</th>\n",
       "      <td>200.000000</td>\n",
       "    </tr>\n",
       "    <tr>\n",
       "      <th>mean</th>\n",
       "      <td>48.000000</td>\n",
       "    </tr>\n",
       "    <tr>\n",
       "      <th>std</th>\n",
       "      <td>12.030113</td>\n",
       "    </tr>\n",
       "    <tr>\n",
       "      <th>min</th>\n",
       "      <td>36.000000</td>\n",
       "    </tr>\n",
       "    <tr>\n",
       "      <th>25%</th>\n",
       "      <td>36.000000</td>\n",
       "    </tr>\n",
       "    <tr>\n",
       "      <th>50%</th>\n",
       "      <td>48.000000</td>\n",
       "    </tr>\n",
       "    <tr>\n",
       "      <th>75%</th>\n",
       "      <td>60.000000</td>\n",
       "    </tr>\n",
       "    <tr>\n",
       "      <th>max</th>\n",
       "      <td>60.000000</td>\n",
       "    </tr>\n",
       "  </tbody>\n",
       "</table>\n",
       "</div>"
      ],
      "text/plain": [
       "             term\n",
       "count  200.000000\n",
       "mean    48.000000\n",
       "std     12.030113\n",
       "min     36.000000\n",
       "25%     36.000000\n",
       "50%     48.000000\n",
       "75%     60.000000\n",
       "max     60.000000"
      ]
     },
     "execution_count": 125,
     "metadata": {},
     "output_type": "execute_result"
    }
   ],
   "source": [
    "df_sample.describe()"
   ]
  },
  {
   "cell_type": "code",
   "execution_count": 126,
   "metadata": {},
   "outputs": [
    {
     "data": {
      "text/plain": [
       "60    100\n",
       "36    100\n",
       "Name: term, dtype: int64"
      ]
     },
     "execution_count": 126,
     "metadata": {},
     "output_type": "execute_result"
    }
   ],
   "source": [
    "df_sample.term.value_counts()"
   ]
  },
  {
   "cell_type": "code",
   "execution_count": 127,
   "metadata": {},
   "outputs": [
    {
     "data": {
      "text/html": [
       "<div>\n",
       "<style scoped>\n",
       "    .dataframe tbody tr th:only-of-type {\n",
       "        vertical-align: middle;\n",
       "    }\n",
       "\n",
       "    .dataframe tbody tr th {\n",
       "        vertical-align: top;\n",
       "    }\n",
       "\n",
       "    .dataframe thead th {\n",
       "        text-align: right;\n",
       "    }\n",
       "</style>\n",
       "<table border=\"1\" class=\"dataframe\">\n",
       "  <thead>\n",
       "    <tr style=\"text-align: right;\">\n",
       "      <th></th>\n",
       "      <th>loan_status</th>\n",
       "      <th>term</th>\n",
       "    </tr>\n",
       "  </thead>\n",
       "  <tbody>\n",
       "    <tr>\n",
       "      <th>1739431</th>\n",
       "      <td>Fully Paid</td>\n",
       "      <td>60</td>\n",
       "    </tr>\n",
       "    <tr>\n",
       "      <th>497192</th>\n",
       "      <td>Fully Paid</td>\n",
       "      <td>60</td>\n",
       "    </tr>\n",
       "    <tr>\n",
       "      <th>585227</th>\n",
       "      <td>Charged Off</td>\n",
       "      <td>36</td>\n",
       "    </tr>\n",
       "    <tr>\n",
       "      <th>1680462</th>\n",
       "      <td>Fully Paid</td>\n",
       "      <td>36</td>\n",
       "    </tr>\n",
       "    <tr>\n",
       "      <th>1819926</th>\n",
       "      <td>Fully Paid</td>\n",
       "      <td>60</td>\n",
       "    </tr>\n",
       "  </tbody>\n",
       "</table>\n",
       "</div>"
      ],
      "text/plain": [
       "         loan_status  term\n",
       "1739431   Fully Paid    60\n",
       "497192    Fully Paid    60\n",
       "585227   Charged Off    36\n",
       "1680462   Fully Paid    36\n",
       "1819926   Fully Paid    60"
      ]
     },
     "execution_count": 127,
     "metadata": {},
     "output_type": "execute_result"
    }
   ],
   "source": [
    "df_sample.sample(5)"
   ]
  },
  {
   "cell_type": "code",
   "execution_count": 128,
   "metadata": {},
   "outputs": [],
   "source": [
    "df_sample['charge_off'] = df_sample['loan_status'].apply(lambda x : 1 if x=='Charged Off' else 0)\n"
   ]
  },
  {
   "cell_type": "code",
   "execution_count": 129,
   "metadata": {},
   "outputs": [],
   "source": [
    "#next we will find the sample proportions\n",
    "# number of charge offs for 36 and 60 months term\n",
    "total_36CB = sum(df_sample[df_sample.term==36].charge_off)\n",
    "total_60CB = sum(df_sample[df_sample.term==60].charge_off)\n",
    "\n",
    "total_60 = df_sample[df_sample.term==60].term.count()\n",
    "total_36 = df_sample[df_sample.term==36].term.count()\n"
   ]
  },
  {
   "cell_type": "code",
   "execution_count": 130,
   "metadata": {},
   "outputs": [
    {
     "name": "stdout",
     "output_type": "stream",
     "text": [
      "19\n",
      "35\n",
      "100\n",
      "100\n"
     ]
    }
   ],
   "source": [
    "print(total_36CB)\n",
    "print(total_60CB)\n",
    "print(total_60)\n",
    "print(total_36)\n"
   ]
  },
  {
   "cell_type": "code",
   "execution_count": 131,
   "metadata": {},
   "outputs": [
    {
     "name": "stdout",
     "output_type": "stream",
     "text": [
      "P value is 0.005411454626651047\n",
      "Significance level alpha is 0.09999999999999998\n",
      "Confidence Interval at 95% is -0.2632727083795332  to  -0.05672729162046673\n",
      "Margin of Error is  -0.15999999999999998\n"
     ]
    }
   ],
   "source": [
    "#source https://stattrek.com/hypothesis-test/difference-in-proportions.aspx\n",
    "\n",
    "p1 = total_36CB/total_36\n",
    "p2 = total_60CB/total_60\n",
    "n1 = total_36\n",
    "n2 = total_60\n",
    "confidence_level = 90\n",
    "p = (p1 * n1 + p2 * n2) / (n1 + n2)\n",
    "SE = np.sqrt(p * ( 1 - p ) * ( (1/n1) + (1/n2) ))\n",
    "z = (p1 - p2) / SE\n",
    "a = 1 - (confidence_level / 100)\n",
    "\n",
    "\n",
    "p_val=1-stats.norm.cdf(abs(z))\n",
    "z_critical=stats.norm.ppf((1+0.90)/2)\n",
    "\n",
    "ci_low = p1-p2-z_critical*SE\n",
    "ci_high = p1-p2+z_critical*SE\n",
    "\n",
    "moe = SE*z\n",
    "print('P value is', p_val)\n",
    "print('Significance level alpha is', a)\n",
    "print('Confidence Interval at 95% is', ci_low, ' to ', ci_high )\n",
    "print('Margin of Error is ', moe)\n",
    "\n"
   ]
  },
  {
   "cell_type": "markdown",
   "metadata": {},
   "source": [
    "Interpretation for Inferential statistics - Test 1:\n",
    "----------------\n",
    " Comparing the P-value to the significance level, we see that the P-value is less than the significance level. (p<a)\n",
    " So we have to reject the null hypothesis. \n",
    " That means Both sample proportions are different i.e. with 90% confidence we can say that term has significant impact on the charge backs "
   ]
  },
  {
   "cell_type": "markdown",
   "metadata": {},
   "source": [
    "Inferential statistics - Test 2\n",
    "-----------------------\n",
    "\n",
    "2. Interest Rate\n",
    "=================\n",
    "\n",
    "\n",
    "Next we will perform a statistical analysis to establish whether interest_rate has a significant impact on the charge backs ie our target variable loan_status\n",
    "\n",
    "1. Test\n",
    "We will use two sample Z statistic test two sided for this problem\n",
    "Explaination- We will take random sample from the data set with sample size =100 (50+50). Our target variable has 2 values. So this is a binomial distribution. However with n=100, CLT applies. The sampling distribution will follow normal distribution.\n",
    "\n",
    "2. Hypothesis\n",
    "\n",
    "Null Hypothesis H0: There are no differences in both sample proportions i.e. interest_rate has no impact on the charge back\n",
    "\n",
    "Alternate hypothesis H1: Both sample proportions are different i.e. interest_rate has impact on the charge backs\n",
    "\n",
    "3. Significance\n",
    "Confidence Level : 95%\n",
    "\n",
    "4. Interpretation\n",
    "Reject the null hypothesis if p value< a \n",
    "\n",
    "Note: the test is appropriate because the sampling method was simple random sampling, the samples were independent, each population was at least 10 times larger than its sample, and each sample included at least 10 successes and 10 failures."
   ]
  },
  {
   "cell_type": "code",
   "execution_count": 132,
   "metadata": {},
   "outputs": [
    {
     "data": {
      "text/plain": [
       "(200, 2)"
      ]
     },
     "execution_count": 132,
     "metadata": {},
     "output_type": "execute_result"
    }
   ],
   "source": [
    "df1 = df_NewAppl[df_NewAppl.loan_status == 'Fully Paid'][['loan_status', 'int_rate']].sample(100)\n",
    "df2 = df_NewAppl[df_NewAppl.loan_status == 'Charged Off'][['loan_status', 'int_rate']].sample(100)\n",
    "frames = [df1, df2]\n",
    "df_sample = pd.concat(frames)\n",
    "df_sample.shape"
   ]
  },
  {
   "cell_type": "code",
   "execution_count": 133,
   "metadata": {},
   "outputs": [
    {
     "data": {
      "text/html": [
       "<div>\n",
       "<style scoped>\n",
       "    .dataframe tbody tr th:only-of-type {\n",
       "        vertical-align: middle;\n",
       "    }\n",
       "\n",
       "    .dataframe tbody tr th {\n",
       "        vertical-align: top;\n",
       "    }\n",
       "\n",
       "    .dataframe thead th {\n",
       "        text-align: right;\n",
       "    }\n",
       "</style>\n",
       "<table border=\"1\" class=\"dataframe\">\n",
       "  <thead>\n",
       "    <tr style=\"text-align: right;\">\n",
       "      <th></th>\n",
       "      <th>int_rate</th>\n",
       "    </tr>\n",
       "  </thead>\n",
       "  <tbody>\n",
       "    <tr>\n",
       "      <th>count</th>\n",
       "      <td>200.00000</td>\n",
       "    </tr>\n",
       "    <tr>\n",
       "      <th>mean</th>\n",
       "      <td>13.75515</td>\n",
       "    </tr>\n",
       "    <tr>\n",
       "      <th>std</th>\n",
       "      <td>4.39442</td>\n",
       "    </tr>\n",
       "    <tr>\n",
       "      <th>min</th>\n",
       "      <td>5.32000</td>\n",
       "    </tr>\n",
       "    <tr>\n",
       "      <th>25%</th>\n",
       "      <td>10.97000</td>\n",
       "    </tr>\n",
       "    <tr>\n",
       "      <th>50%</th>\n",
       "      <td>13.83000</td>\n",
       "    </tr>\n",
       "    <tr>\n",
       "      <th>75%</th>\n",
       "      <td>16.46750</td>\n",
       "    </tr>\n",
       "    <tr>\n",
       "      <th>max</th>\n",
       "      <td>24.70000</td>\n",
       "    </tr>\n",
       "  </tbody>\n",
       "</table>\n",
       "</div>"
      ],
      "text/plain": [
       "        int_rate\n",
       "count  200.00000\n",
       "mean    13.75515\n",
       "std      4.39442\n",
       "min      5.32000\n",
       "25%     10.97000\n",
       "50%     13.83000\n",
       "75%     16.46750\n",
       "max     24.70000"
      ]
     },
     "execution_count": 133,
     "metadata": {},
     "output_type": "execute_result"
    }
   ],
   "source": [
    "df_sample.describe()"
   ]
  },
  {
   "cell_type": "code",
   "execution_count": 134,
   "metadata": {},
   "outputs": [
    {
     "data": {
      "text/plain": [
       "Charged Off    100\n",
       "Fully Paid     100\n",
       "Name: loan_status, dtype: int64"
      ]
     },
     "execution_count": 134,
     "metadata": {},
     "output_type": "execute_result"
    }
   ],
   "source": [
    "df_sample.loan_status.value_counts()"
   ]
  },
  {
   "cell_type": "code",
   "execution_count": 135,
   "metadata": {},
   "outputs": [
    {
     "data": {
      "text/html": [
       "<div>\n",
       "<style scoped>\n",
       "    .dataframe tbody tr th:only-of-type {\n",
       "        vertical-align: middle;\n",
       "    }\n",
       "\n",
       "    .dataframe tbody tr th {\n",
       "        vertical-align: top;\n",
       "    }\n",
       "\n",
       "    .dataframe thead th {\n",
       "        text-align: right;\n",
       "    }\n",
       "</style>\n",
       "<table border=\"1\" class=\"dataframe\">\n",
       "  <thead>\n",
       "    <tr style=\"text-align: right;\">\n",
       "      <th></th>\n",
       "      <th>loan_status</th>\n",
       "      <th>int_rate</th>\n",
       "    </tr>\n",
       "  </thead>\n",
       "  <tbody>\n",
       "    <tr>\n",
       "      <th>1373464</th>\n",
       "      <td>Fully Paid</td>\n",
       "      <td>8.24</td>\n",
       "    </tr>\n",
       "    <tr>\n",
       "      <th>1894175</th>\n",
       "      <td>Fully Paid</td>\n",
       "      <td>11.99</td>\n",
       "    </tr>\n",
       "    <tr>\n",
       "      <th>2007682</th>\n",
       "      <td>Charged Off</td>\n",
       "      <td>12.99</td>\n",
       "    </tr>\n",
       "    <tr>\n",
       "      <th>653235</th>\n",
       "      <td>Fully Paid</td>\n",
       "      <td>8.39</td>\n",
       "    </tr>\n",
       "    <tr>\n",
       "      <th>566874</th>\n",
       "      <td>Charged Off</td>\n",
       "      <td>19.99</td>\n",
       "    </tr>\n",
       "  </tbody>\n",
       "</table>\n",
       "</div>"
      ],
      "text/plain": [
       "         loan_status  int_rate\n",
       "1373464   Fully Paid      8.24\n",
       "1894175   Fully Paid     11.99\n",
       "2007682  Charged Off     12.99\n",
       "653235    Fully Paid      8.39\n",
       "566874   Charged Off     19.99"
      ]
     },
     "execution_count": 135,
     "metadata": {},
     "output_type": "execute_result"
    }
   ],
   "source": [
    "df_sample.sample(5)"
   ]
  },
  {
   "cell_type": "code",
   "execution_count": 136,
   "metadata": {},
   "outputs": [
    {
     "name": "stdout",
     "output_type": "stream",
     "text": [
      "P value is 7.316375632915317e-05\n",
      "Significance level alpha is 0.050000000000000044\n",
      "Confidence Interval at 95% is -3.5369730442579095  to  -1.1972269557420812\n",
      "Margin of Error is  -2.3670999999999953\n"
     ]
    }
   ],
   "source": [
    "m1 = np.mean(df_sample[df_sample.loan_status == 'Fully Paid']['int_rate'])\n",
    "std1 = np.std(df_sample[df_sample.loan_status == 'Fully Paid']['int_rate'])\n",
    "\n",
    "m2 = np.mean(df_sample[df_sample.loan_status == 'Charged Off']['int_rate'])\n",
    "std2 = np.std(df_sample[df_sample.loan_status == 'Charged Off']['int_rate'])\n",
    "\n",
    "n1 = df_sample[df_sample.loan_status == 'Fully Paid']['int_rate'].count()\n",
    "n2 = df_sample[df_sample.loan_status == 'Charged Off']['int_rate'].count()\n",
    "confidence_level = 95\n",
    "\n",
    "SE = np.sqrt( ((std1*std1)/n1) + ((std2*std2)/n2) )\n",
    "\n",
    "\n",
    "z = (m1 - m2) / SE\n",
    "a = 1 - (confidence_level / 100)\n",
    "\n",
    "\n",
    "p_val=1-stats.norm.cdf(abs(z))\n",
    "\n",
    "\n",
    "p_val*=2  # two sided test\n",
    "\n",
    "z_critical=stats.norm.ppf((1+0.95)/2)\n",
    "\n",
    "ci_low = m1-m2-z_critical*SE\n",
    "ci_high = m1-m2+z_critical*SE\n",
    "\n",
    "moe = SE*z\n",
    "print('P value is', p_val)\n",
    "print('Significance level alpha is', a)\n",
    "print('Confidence Interval at 95% is', ci_low, ' to ', ci_high )\n",
    "print('Margin of Error is ', moe)"
   ]
  },
  {
   "cell_type": "markdown",
   "metadata": {},
   "source": [
    "Interpretation for Inferential statistics - Test 1:\n",
    "----------------\n",
    "     comparing the P-value to the significance level, we see that the P-value is less than the alpha a.\n",
    "     So we have reject the null hypothesis. \n",
    "    That means Both sample means are different i.e. \n",
    "    with 95% confidence we can say that int_rate has significant impact on the charge offs "
   ]
  },
  {
   "cell_type": "code",
   "execution_count": 137,
   "metadata": {},
   "outputs": [],
   "source": [
    "df_NewAppl['target'] = df_NewAppl['loan_status'].apply(lambda x : 1 if x=='Charged Off' else 0)\n"
   ]
  },
  {
   "cell_type": "markdown",
   "metadata": {},
   "source": [
    "Pearson Correlation\n",
    "-----------------------\n",
    "\n",
    "We find Pearson correlation coefficients between pairs of features from our feature set. Correlation could be either positive or negative. We set the threshold of 0.3 and remove a feature where correlation coefficient > 0.3."
   ]
  },
  {
   "cell_type": "code",
   "execution_count": 138,
   "metadata": {},
   "outputs": [
    {
     "data": {
      "text/plain": [
       "<matplotlib.axes._subplots.AxesSubplot at 0x1a2c2ae4e0>"
      ]
     },
     "execution_count": 138,
     "metadata": {},
     "output_type": "execute_result"
    },
    {
     "data": {
      "image/png": "[encoded data removed]",
      "text/plain": [
       "<Figure size 864x864 with 2 Axes>"
      ]
     },
     "metadata": {
      "needs_background": "light"
     },
     "output_type": "display_data"
    }
   ],
   "source": [
    "plot_list = ['loan_amnt', 'num_subgrade','term', 'int_rate','installment', 'dti','open_acc', 'revol_bal','revol_util','total_acc', 'mort_acc']\n",
    "\n",
    "df_plot = pd.DataFrame()\n",
    "df_plot[plot_list] = df_NewAppl[plot_list]\n",
    "plt.figure(figsize=(12,12))\n",
    "cor = df_plot.corr()\n",
    "sns.heatmap(cor, annot=True)\n"
   ]
  },
  {
   "cell_type": "markdown",
   "metadata": {},
   "source": [
    "Loan amount and installment has a correlation coefficient of 0.95\n",
    "\n",
    "Term and loan amount\n",
    "Term and Interest rate\n",
    "\n",
    "Open account and dti\n",
    "Open account and total account\n",
    "\n",
    "Revolving balance and annual income\n",
    "Revolving balance and open account\n",
    "Revolving balance and loan amount\n",
    "revolving balance and Revolving util \n",
    "Revolving balance and installment\n",
    "\n",
    "Total acc and mort acc\n",
    "\n",
    "Annual income and mort acc\n",
    "Annual income and total acc\n",
    "Annual income and revolving balance\n",
    "Annual income and installment\n",
    "Annual income and loan amount\n",
    "\n",
    "We could set the threshold of 0.3 and could remove a feature where correlation coefficient > 0.3"
   ]
  },
  {
   "cell_type": "markdown",
   "metadata": {},
   "source": [
    "ML Model\n",
    "------------\n",
    "\n",
    "\n",
    "The aim is to find y , a target variable based on knowing a list of features X. We are trying to predict 'Loan Status'. Loan_status feature is converted to target feature  with values 0 = 'Fully paid' and 1 = 'Charged Off'. Since target variable takes only 2 values 0 and 1, this will be a binary classification problem.\n",
    "First we will use 'Logistic Regression'\n",
    "\n",
    "Training and Test Datasets\n",
    "When fitting models, we would like to ensure two things:\n",
    "\n",
    "- We have found the best model (in terms of model parameters).\n",
    "- The model is highly likely to generalize i.e. perform well on unseen data.\n",
    "\n",
    "We will  be using a combination of 2 approaches-\n",
    "\n",
    "-Holdout \n",
    "The given data set is divided into 2 partitions as test and train 20% and 80% respectively. The train set will be used to train the model and the unseen test data will be used to test its predictive power.\n",
    "\n",
    "10 fold Cross Validation\n",
    "The 80% train data set is randomly partitioned into 10 mutually exclusive subsets, each approximately equal size. Training and testing iterated over these 10 folds.\n",
    "\n",
    "Finally the trained model is tested on the 20% holdout set.\n",
    "\n",
    "First, we try a basic Logistic Regression:\n",
    "\n",
    "- Split the data into a training and test (hold-out) set\n",
    "- Train on the training set, and test for accuracy on the testing set"
   ]
  },
  {
   "cell_type": "code",
   "execution_count": 139,
   "metadata": {},
   "outputs": [],
   "source": [
    "from sklearn.model_selection import train_test_split\n",
    "from sklearn.linear_model import LogisticRegression\n",
    "from sklearn.metrics import accuracy_score, precision_score, recall_score, f1_score\n",
    "\n",
    "\n",
    "from sklearn.feature_selection import RFE\n",
    "from sklearn import metrics\n",
    "from sklearn.model_selection import KFold\n",
    "from sklearn.ensemble import RandomForestClassifier\n",
    "\n",
    "from sklearn.linear_model import SGDClassifier\n",
    "from sklearn.pipeline import Pipeline\n",
    "from sklearn.preprocessing import StandardScaler\n",
    "from sklearn.model_selection import GridSearchCV"
   ]
  },
  {
   "cell_type": "markdown",
   "metadata": {},
   "source": [
    "RFE\n",
    "-----\n",
    "\n",
    "Next we will use RFE. The Recursive Feature Elimination (or RFE) works by recursively removing attributes and building a model on those attributes that remain.\n",
    "\n",
    "It uses the model accuracy to identify which attributes (and combination of attributes) contribute the most to predicting the target attribute.\n",
    "\n",
    "You will use RFE with the Logistic Regression classifier to select the top 4 features. "
   ]
  },
  {
   "cell_type": "code",
   "execution_count": 140,
   "metadata": {
    "scrolled": true
   },
   "outputs": [
    {
     "name": "stdout",
     "output_type": "stream",
     "text": [
      "Num Features: 4\n",
      "Selected Features: [False  True  True False False False False  True  True]\n",
      "Feature Ranking: [6 1 1 2 3 4 5 1 1]\n"
     ]
    }
   ],
   "source": [
    "\n",
    "feature_list = ['loan_amnt', 'num_subgrade','term', 'int_rate','installment', 'dti','open_acc', 'revol_bal','revol_util','total_acc', 'mort_acc', 'annual_inc_norm' ]\n",
    "#feature_list = ['int_rate','installment', 'dti','open_acc', 'revol_bal','revol_util','total_acc', 'mort_acc', 'annual_inc_norm' ]\n",
    "#feature_list0 = [ 'num_subgrade','term', 'int_rate','installment', 'dti','open_acc','revol_util', 'mort_acc', 'annual_inc_norm' ]\n",
    "feature_list0 = ['loan_amnt', 'num_subgrade','num_verification_status', 'term', 'dti','open_acc','revol_util', 'mort_acc', 'annual_inc_norm' ]\n",
    "\n",
    "\n",
    "\n",
    "\n",
    "X = df_NewAppl[feature_list0].values\n",
    "y = df_NewAppl.target\n",
    "\n",
    "# Feature extraction\n",
    "model = LogisticRegression(solver='lbfgs', max_iter=1000)\n",
    "rfe = RFE(model, 4)\n",
    "fit = rfe.fit(X, y)\n",
    "print(\"Num Features: %s\" % (fit.n_features_))\n",
    "print(\"Selected Features: %s\" % (fit.support_))\n",
    "print(\"Feature Ranking: %s\" % (fit.ranking_))"
   ]
  },
  {
   "cell_type": "markdown",
   "metadata": {},
   "source": [
    "RFE chose the top 4 features as 'sub_grade', 'term','int_rate','dti','mort_acc' "
   ]
  },
  {
   "cell_type": "markdown",
   "metadata": {},
   "source": [
    "Let's first build the model with only top 4 features. Next we will build the model with all features. THen compare and see how the model performs."
   ]
  },
  {
   "cell_type": "markdown",
   "metadata": {},
   "source": [
    "Base Model\n",
    "=========="
   ]
  },
  {
   "cell_type": "code",
   "execution_count": 141,
   "metadata": {
    "scrolled": true
   },
   "outputs": [
    {
     "name": "stdout",
     "output_type": "stream",
     "text": [
      "Accuracy Score =  0.8085073395183675\n",
      "Classification report for LogisticRegression(C=1.0, class_weight=None, dual=False, fit_intercept=True,\n",
      "          intercept_scaling=1, max_iter=100, multi_class='warn',\n",
      "          n_jobs=None, penalty='l2', random_state=None, solver='lbfgs',\n",
      "          tol=0.0001, verbose=0, warm_start=False)\n",
      "              precision    recall  f1-score   support\n",
      "\n",
      "           0       0.82      0.99      0.89    161771\n",
      "           1       0.49      0.05      0.09     38174\n",
      "\n",
      "   micro avg       0.81      0.81      0.81    199945\n",
      "   macro avg       0.65      0.52      0.49    199945\n",
      "weighted avg       0.75      0.81      0.74    199945\n",
      "\n",
      "[[159714   2057]\n",
      " [ 36231   1943]]\n"
     ]
    }
   ],
   "source": [
    "\n",
    "feature_list = ['term','int_rate','dti','mort_acc']\n",
    "\n",
    "X = df_NewAppl[feature_list].values\n",
    "y = df_NewAppl.target\n",
    "\n",
    "# Split the data into a training and test set.\n",
    "Xlr, Xtestlr, ylr, ytestlr = train_test_split(X, y,random_state=5)\n",
    "\n",
    "clf = LogisticRegression(solver='lbfgs')\n",
    "\n",
    "# Fit the model on the trainng data.\n",
    "clf.fit(Xlr, ylr)\n",
    "\n",
    "# Print the accuracy from the testing data.\n",
    "y_predicted= clf.predict(Xtestlr)\n",
    "print(\"Accuracy Score = \", accuracy_score(y_predicted, ytestlr))\n",
    "\n",
    "# performance\n",
    "print(\"Classification report for %s\" % clf)\n",
    "print(metrics.classification_report(ytestlr, y_predicted))\n",
    "\n",
    "print(metrics.confusion_matrix(ytestlr,y_predicted))\n"
   ]
  },
  {
   "cell_type": "markdown",
   "metadata": {},
   "source": [
    "Handling Imbalanced distribution using class_weight of LogisticRegression\n",
    "--------------------------------------------\n",
    "As we have previously seen, out target variable is highlay imbalanced (0=80% and 1=20%).\n",
    "LogisticRegression comes with a built-in method of handling imbalanced classes. If we have highly imbalanced classes then we have the option of using the class_weight parameter to weight the classes to make certain we have a balanced mix of each class. Specifically, the balanced argument will automatically weigh classes inversely proportional to their frequency:\n"
   ]
  },
  {
   "cell_type": "code",
   "execution_count": 142,
   "metadata": {},
   "outputs": [
    {
     "name": "stdout",
     "output_type": "stream",
     "text": [
      "Accuracy Score =  0.6562604716296981\n",
      "Classification report for LogisticRegression(C=1.0, class_weight='balanced', dual=False,\n",
      "          fit_intercept=True, intercept_scaling=1, max_iter=1000,\n",
      "          multi_class='warn', n_jobs=None, penalty='l2', random_state=0,\n",
      "          solver='lbfgs', tol=0.0001, verbose=0, warm_start=False)\n",
      "              precision    recall  f1-score   support\n",
      "\n",
      "           0       0.88      0.67      0.76    161771\n",
      "           1       0.30      0.61      0.41     38174\n",
      "\n",
      "   micro avg       0.66      0.66      0.66    199945\n",
      "   macro avg       0.59      0.64      0.58    199945\n",
      "weighted avg       0.77      0.66      0.69    199945\n",
      "\n",
      "[[107755  54016]\n",
      " [ 14713  23461]]\n"
     ]
    }
   ],
   "source": [
    "feature_list = ['term','int_rate','dti','mort_acc']\n",
    "\n",
    "X = df_NewAppl[feature_list].values\n",
    "y = df_NewAppl.target\n",
    "\n",
    "# Split the data into a training and test set.\n",
    "Xlr, Xtestlr, ylr, ytestlr = train_test_split(X, y,random_state=5)\n",
    "\n",
    "clf = LogisticRegression(solver='lbfgs', random_state=0, class_weight='balanced', max_iter=1000)\n",
    "\n",
    "# Fit the model on the trainng data.\n",
    "clf.fit(Xlr, ylr)\n",
    "\n",
    "# Print the accuracy from the testing data.\n",
    "y_predicted= clf.predict(Xtestlr)\n",
    "print(\"Accuracy Score = \", accuracy_score(y_predicted, ytestlr))\n",
    "\n",
    "# performance\n",
    "print(\"Classification report for %s\" % clf)\n",
    "print(metrics.classification_report(ytestlr, y_predicted))\n",
    "\n",
    "print(metrics.confusion_matrix(ytestlr,y_predicted))\n",
    "\n"
   ]
  },
  {
   "cell_type": "code",
   "execution_count": 137,
   "metadata": {},
   "outputs": [],
   "source": [
    "#Next let's build the model with all the features and compare\n",
    "#this will most probably lead to over fitting"
   ]
  },
  {
   "cell_type": "code",
   "execution_count": 144,
   "metadata": {},
   "outputs": [],
   "source": [
    "feature_list2 = ['loan_amnt', 'term', 'int_rate','installment', 'dti','open_acc', 'revol_bal','revol_util','total_acc', 'mort_acc','annual_inc_norm' ]\n",
    "\n",
    "#Next let's build the model with all the features and compare\n",
    "\n",
    "X2 = df_NewAppl[feature_list0].values\n",
    "y2 = df_NewAppl.target\n",
    "\n",
    "# Split the data into a training and test set.\n",
    "Xlr2, Xtestlr2, ylr2, ytestlr2 = train_test_split(X2, y2,random_state=5)\n",
    "\n",
    "clf2 = LogisticRegression(solver='lbfgs', random_state=1, class_weight='balanced', max_iter=1000)\n",
    "\n",
    "# Fit the model on the trainng data.\n",
    "history = clf2.fit(Xlr2, ylr2)\n",
    "\n",
    "# Print the accuracy from the testing data.\n",
    "y_predicted2= clf2.predict(Xtestlr2)\n"
   ]
  },
  {
   "cell_type": "code",
   "execution_count": 145,
   "metadata": {},
   "outputs": [
    {
     "name": "stdout",
     "output_type": "stream",
     "text": [
      "\n",
      "Model Performance Metrics : \n",
      "------------------------------\n",
      "Accuracy  : 0.612769\n",
      "\n",
      "Model Classification report :\n",
      "------------------------------\n",
      "              precision    recall  f1-score   support\n",
      "\n",
      "           0       0.88      0.60      0.72    161771\n",
      "           1       0.28      0.65      0.39     38174\n",
      "\n",
      "   micro avg       0.61      0.61      0.61    199945\n",
      "   macro avg       0.58      0.63      0.55    199945\n",
      "weighted avg       0.76      0.61      0.65    199945\n",
      "\n"
     ]
    }
   ],
   "source": [
    "print(\"\\nModel Performance Metrics : \")\n",
    "print('-'*30)\n",
    "# accuracy:\n",
    "accuracy = accuracy_score(ytestlr2, y_predicted2)\n",
    "print('Accuracy  : %f' % accuracy)\n",
    "\n",
    "\n",
    "# performance\n",
    "print(\"\\nModel Classification report :\")\n",
    "print('-'*30)\n",
    "Model1 = metrics.classification_report(ytestlr2, y_predicted2)\n",
    "\n",
    "print(Model1)"
   ]
  },
  {
   "cell_type": "code",
   "execution_count": 146,
   "metadata": {},
   "outputs": [
    {
     "name": "stdout",
     "output_type": "stream",
     "text": [
      "0.6563354922603716\n",
      "Classification report for LogisticRegression(C=0.001, class_weight='balanced', dual=False,\n",
      "          fit_intercept=True, intercept_scaling=1, max_iter=100,\n",
      "          multi_class='warn', n_jobs=None, penalty='l2', random_state=None,\n",
      "          solver='lbfgs', tol=0.0001, verbose=0, warm_start=False)\n",
      "              precision    recall  f1-score   support\n",
      "\n",
      "           0       0.88      0.67      0.76    161771\n",
      "           1       0.30      0.61      0.41     38174\n",
      "\n",
      "   micro avg       0.66      0.66      0.66    199945\n",
      "   macro avg       0.59      0.64      0.58    199945\n",
      "weighted avg       0.77      0.66      0.69    199945\n",
      "\n",
      "[[107767  54004]\n",
      " [ 14710  23464]]\n"
     ]
    }
   ],
   "source": [
    "\n",
    "#1.Use the C and train a Logistic Regression on the training data\n",
    "clf = LogisticRegression(C=0.001, solver='lbfgs', class_weight='balanced')\n",
    "# Fit the model on the trainng data.\n",
    "clf.fit(Xlr, ylr)\n",
    "\n",
    "y_predicted= clf.predict(Xtestlr)\n",
    "\n",
    "\n",
    "#2.Calculate the accuracy on the test data\n",
    "# Print the accuracy from the testing data.\n",
    "print(accuracy_score(clf.predict(Xtestlr), ytestlr))\n",
    "\n",
    "# performance\n",
    "print(\"Classification report for %s\" % clf)\n",
    "print(metrics.classification_report(ytestlr, y_predicted))\n",
    "\n",
    "print(metrics.confusion_matrix(ytestlr,y_predicted))"
   ]
  },
  {
   "cell_type": "code",
   "execution_count": 147,
   "metadata": {},
   "outputs": [
    {
     "name": "stdout",
     "output_type": "stream",
     "text": [
      "F1 score: 0.69 with 95% Confidence Interval (+/- 0.0653)\n",
      "\n",
      "Classification report for all folds LogisticRegression(C=0.001, class_weight='balanced', dual=False,\n",
      "          fit_intercept=True, intercept_scaling=1, max_iter=100,\n",
      "          multi_class='warn', n_jobs=None, penalty='l2', random_state=None,\n",
      "          solver='lbfgs', tol=0.0001, verbose=0, warm_start=False)\n",
      "\n",
      "[0.6932576  0.72582399 0.72432982 0.72433429 0.71457244 0.69595992\n",
      " 0.6281269  0.64680439 0.68145413 0.66568476]\n"
     ]
    }
   ],
   "source": [
    "#let's do K fold cross validation and find the F1 scores\n",
    "\n",
    "from sklearn.model_selection import cross_val_score\n",
    "\n",
    "scores = cross_val_score(clf, X, y, cv=10, scoring='f1_weighted')\n",
    "#print(scores)\n",
    "print(\"F1 score: %0.2f with 95%% Confidence Interval (+/- %0.4f)\\n\" % (scores.mean(), scores.std() *2))\n",
    "\n",
    "print(\"Classification report for all folds %s\\n\" % clf)\n",
    "print(scores)\n",
    "\n"
   ]
  },
  {
   "cell_type": "markdown",
   "metadata": {},
   "source": [
    "Handling data imbalance using weighted sampling\n",
    "-------------------------------------------------------\n"
   ]
  },
  {
   "cell_type": "code",
   "execution_count": 148,
   "metadata": {},
   "outputs": [
    {
     "data": {
      "text/plain": [
       "0    647325\n",
       "1    152455\n",
       "Name: target, dtype: int64"
      ]
     },
     "execution_count": 148,
     "metadata": {},
     "output_type": "execute_result"
    }
   ],
   "source": [
    "df_NewAppl.target.value_counts()"
   ]
  },
  {
   "cell_type": "code",
   "execution_count": 149,
   "metadata": {},
   "outputs": [
    {
     "data": {
      "text/plain": [
       "0    0.809379\n",
       "1    0.190621\n",
       "Name: target, dtype: float64"
      ]
     },
     "execution_count": 149,
     "metadata": {},
     "output_type": "execute_result"
    }
   ],
   "source": [
    "#data with 80-20 imbalance\n",
    "df_NewAppl.target.value_counts(normalize=True)"
   ]
  },
  {
   "cell_type": "code",
   "execution_count": 150,
   "metadata": {},
   "outputs": [
    {
     "name": "stdout",
     "output_type": "stream",
     "text": [
      "(799780, 23)\n",
      "(200, 2)\n"
     ]
    }
   ],
   "source": [
    "print(df_NewAppl.shape)\n",
    "print(df_sample.shape)"
   ]
  },
  {
   "cell_type": "code",
   "execution_count": 151,
   "metadata": {},
   "outputs": [],
   "source": [
    "#taking a sample for 'fully paid = 0' and 'charged off=1'\n",
    "#includig 180k for class0 and around 152k for class1\n",
    "sample0 = df_NewAppl[df_NewAppl.target == 0].sample(n=180000)\n",
    "sample1 = df_NewAppl[df_NewAppl.target==1]\n",
    "frames = [sample0, sample1]\n",
    "df_sample = pd.concat(frames)\n",
    "df_sample.shape\n",
    "\n",
    "X = df_sample[feature_list2]\n",
    "y = df_sample.target\n",
    "\n",
    "#split the train test data\n",
    "X_train, X_test, y_train, y_test = train_test_split(X, y, test_size=0.2)\n"
   ]
  },
  {
   "cell_type": "code",
   "execution_count": 152,
   "metadata": {},
   "outputs": [
    {
     "name": "stdout",
     "output_type": "stream",
     "text": [
      "(332455, 11)\n",
      "(265964, 11)\n",
      "(66491, 11)\n"
     ]
    }
   ],
   "source": [
    "print(X.shape)\n",
    "print(X_train.shape)\n",
    "print(X_test.shape)\n"
   ]
  },
  {
   "cell_type": "code",
   "execution_count": 153,
   "metadata": {},
   "outputs": [
    {
     "data": {
      "text/plain": [
       "0    0.541427\n",
       "1    0.458573\n",
       "Name: target, dtype: float64"
      ]
     },
     "execution_count": 153,
     "metadata": {},
     "output_type": "execute_result"
    }
   ],
   "source": [
    "df_sample.target.value_counts(normalize=True)\n",
    "#imbalance -no more!"
   ]
  },
  {
   "cell_type": "code",
   "execution_count": 154,
   "metadata": {},
   "outputs": [
    {
     "name": "stderr",
     "output_type": "stream",
     "text": [
      "/anaconda3/lib/python3.7/site-packages/sklearn/linear_model/logistic.py:758: ConvergenceWarning: lbfgs failed to converge. Increase the number of iterations.\n",
      "  \"of iterations.\", ConvergenceWarning)\n",
      "/anaconda3/lib/python3.7/site-packages/sklearn/linear_model/logistic.py:758: ConvergenceWarning: lbfgs failed to converge. Increase the number of iterations.\n",
      "  \"of iterations.\", ConvergenceWarning)\n",
      "/anaconda3/lib/python3.7/site-packages/sklearn/linear_model/logistic.py:758: ConvergenceWarning: lbfgs failed to converge. Increase the number of iterations.\n",
      "  \"of iterations.\", ConvergenceWarning)\n",
      "/anaconda3/lib/python3.7/site-packages/sklearn/linear_model/logistic.py:758: ConvergenceWarning: lbfgs failed to converge. Increase the number of iterations.\n",
      "  \"of iterations.\", ConvergenceWarning)\n",
      "/anaconda3/lib/python3.7/site-packages/sklearn/linear_model/logistic.py:758: ConvergenceWarning: lbfgs failed to converge. Increase the number of iterations.\n",
      "  \"of iterations.\", ConvergenceWarning)\n",
      "/anaconda3/lib/python3.7/site-packages/sklearn/linear_model/logistic.py:758: ConvergenceWarning: lbfgs failed to converge. Increase the number of iterations.\n",
      "  \"of iterations.\", ConvergenceWarning)\n",
      "/anaconda3/lib/python3.7/site-packages/sklearn/linear_model/logistic.py:758: ConvergenceWarning: lbfgs failed to converge. Increase the number of iterations.\n",
      "  \"of iterations.\", ConvergenceWarning)\n",
      "/anaconda3/lib/python3.7/site-packages/sklearn/linear_model/logistic.py:758: ConvergenceWarning: lbfgs failed to converge. Increase the number of iterations.\n",
      "  \"of iterations.\", ConvergenceWarning)\n",
      "/anaconda3/lib/python3.7/site-packages/sklearn/linear_model/logistic.py:758: ConvergenceWarning: lbfgs failed to converge. Increase the number of iterations.\n",
      "  \"of iterations.\", ConvergenceWarning)\n",
      "/anaconda3/lib/python3.7/site-packages/sklearn/linear_model/logistic.py:758: ConvergenceWarning: lbfgs failed to converge. Increase the number of iterations.\n",
      "  \"of iterations.\", ConvergenceWarning)\n"
     ]
    },
    {
     "name": "stdout",
     "output_type": "stream",
     "text": [
      "Accuracy Score =  0.6095035418327293\n",
      "Classification report for LogisticRegression(C=0.01, class_weight=None, dual=False, fit_intercept=True,\n",
      "          intercept_scaling=1, max_iter=100, multi_class='warn',\n",
      "          n_jobs=None, penalty='l2', random_state=None, solver='lbfgs',\n",
      "          tol=0.0001, verbose=0, warm_start=False)\n",
      "              precision    recall  f1-score   support\n",
      "\n",
      "           0       0.68      0.63      0.65    154971\n",
      "           1       0.53      0.58      0.55    110993\n",
      "\n",
      "   micro avg       0.61      0.61      0.61    265964\n",
      "   macro avg       0.60      0.61      0.60    265964\n",
      "weighted avg       0.62      0.61      0.61    265964\n",
      "\n",
      "[[97562 57409]\n",
      " [46449 64544]]\n"
     ]
    }
   ],
   "source": [
    "#let's do K fold cross validation and find the scores\n",
    "\n",
    "from sklearn.model_selection import cross_val_predict\n",
    "\n",
    "clf = LogisticRegression(solver='lbfgs', C=0.01)\n",
    "\n",
    "y_predicted = cross_val_predict(clf, X_train, y_train, cv=10)\n",
    "#accuracy\n",
    "print(\"Accuracy Score = \", accuracy_score(y_predicted, y_train))\n",
    "\n",
    "# performance\n",
    "print(\"Classification report for %s\" % clf)\n",
    "print(metrics.classification_report(y_predicted, y_train))\n",
    "\n",
    "print(metrics.confusion_matrix(y_predicted, y_train))\n",
    "\n"
   ]
  },
  {
   "cell_type": "markdown",
   "metadata": {},
   "source": [
    "handling data imbalance using StratifiedKFold\n",
    "-------------------------------------------------------\n",
    "From the sklearn docs for cross_val_score's cv argument :\n",
    "\n",
    "\"For cv = integer/None inputs, if y is binary or multiclass, StratifiedKFold used. \n",
    "\n",
    "StratifiedKFold is a variation of k-fold which returns stratified folds: each set contains approximately the same percentage of samples of each target class as the complete set."
   ]
  },
  {
   "cell_type": "code",
   "execution_count": 203,
   "metadata": {},
   "outputs": [
    {
     "name": "stderr",
     "output_type": "stream",
     "text": [
      "/anaconda3/lib/python3.7/site-packages/sklearn/linear_model/logistic.py:758: ConvergenceWarning: lbfgs failed to converge. Increase the number of iterations.\n",
      "  \"of iterations.\", ConvergenceWarning)\n",
      "/anaconda3/lib/python3.7/site-packages/sklearn/linear_model/logistic.py:758: ConvergenceWarning: lbfgs failed to converge. Increase the number of iterations.\n",
      "  \"of iterations.\", ConvergenceWarning)\n",
      "/anaconda3/lib/python3.7/site-packages/sklearn/linear_model/logistic.py:758: ConvergenceWarning: lbfgs failed to converge. Increase the number of iterations.\n",
      "  \"of iterations.\", ConvergenceWarning)\n",
      "/anaconda3/lib/python3.7/site-packages/sklearn/linear_model/logistic.py:758: ConvergenceWarning: lbfgs failed to converge. Increase the number of iterations.\n",
      "  \"of iterations.\", ConvergenceWarning)\n",
      "/anaconda3/lib/python3.7/site-packages/sklearn/linear_model/logistic.py:758: ConvergenceWarning: lbfgs failed to converge. Increase the number of iterations.\n",
      "  \"of iterations.\", ConvergenceWarning)\n",
      "/anaconda3/lib/python3.7/site-packages/sklearn/linear_model/logistic.py:758: ConvergenceWarning: lbfgs failed to converge. Increase the number of iterations.\n",
      "  \"of iterations.\", ConvergenceWarning)\n",
      "/anaconda3/lib/python3.7/site-packages/sklearn/linear_model/logistic.py:758: ConvergenceWarning: lbfgs failed to converge. Increase the number of iterations.\n",
      "  \"of iterations.\", ConvergenceWarning)\n",
      "/anaconda3/lib/python3.7/site-packages/sklearn/linear_model/logistic.py:758: ConvergenceWarning: lbfgs failed to converge. Increase the number of iterations.\n",
      "  \"of iterations.\", ConvergenceWarning)\n",
      "/anaconda3/lib/python3.7/site-packages/sklearn/linear_model/logistic.py:758: ConvergenceWarning: lbfgs failed to converge. Increase the number of iterations.\n",
      "  \"of iterations.\", ConvergenceWarning)\n",
      "/anaconda3/lib/python3.7/site-packages/sklearn/linear_model/logistic.py:758: ConvergenceWarning: lbfgs failed to converge. Increase the number of iterations.\n",
      "  \"of iterations.\", ConvergenceWarning)\n",
      "/anaconda3/lib/python3.7/site-packages/sklearn/linear_model/logistic.py:758: ConvergenceWarning: lbfgs failed to converge. Increase the number of iterations.\n",
      "  \"of iterations.\", ConvergenceWarning)\n",
      "/anaconda3/lib/python3.7/site-packages/sklearn/linear_model/logistic.py:758: ConvergenceWarning: lbfgs failed to converge. Increase the number of iterations.\n",
      "  \"of iterations.\", ConvergenceWarning)\n",
      "/anaconda3/lib/python3.7/site-packages/sklearn/linear_model/logistic.py:758: ConvergenceWarning: lbfgs failed to converge. Increase the number of iterations.\n",
      "  \"of iterations.\", ConvergenceWarning)\n",
      "/anaconda3/lib/python3.7/site-packages/sklearn/linear_model/logistic.py:758: ConvergenceWarning: lbfgs failed to converge. Increase the number of iterations.\n",
      "  \"of iterations.\", ConvergenceWarning)\n",
      "/anaconda3/lib/python3.7/site-packages/sklearn/linear_model/logistic.py:758: ConvergenceWarning: lbfgs failed to converge. Increase the number of iterations.\n",
      "  \"of iterations.\", ConvergenceWarning)\n",
      "/anaconda3/lib/python3.7/site-packages/sklearn/linear_model/logistic.py:758: ConvergenceWarning: lbfgs failed to converge. Increase the number of iterations.\n",
      "  \"of iterations.\", ConvergenceWarning)\n",
      "/anaconda3/lib/python3.7/site-packages/sklearn/linear_model/logistic.py:758: ConvergenceWarning: lbfgs failed to converge. Increase the number of iterations.\n",
      "  \"of iterations.\", ConvergenceWarning)\n",
      "/anaconda3/lib/python3.7/site-packages/sklearn/linear_model/logistic.py:758: ConvergenceWarning: lbfgs failed to converge. Increase the number of iterations.\n",
      "  \"of iterations.\", ConvergenceWarning)\n",
      "/anaconda3/lib/python3.7/site-packages/sklearn/linear_model/logistic.py:758: ConvergenceWarning: lbfgs failed to converge. Increase the number of iterations.\n",
      "  \"of iterations.\", ConvergenceWarning)\n",
      "/anaconda3/lib/python3.7/site-packages/sklearn/linear_model/logistic.py:758: ConvergenceWarning: lbfgs failed to converge. Increase the number of iterations.\n",
      "  \"of iterations.\", ConvergenceWarning)\n",
      "/anaconda3/lib/python3.7/site-packages/sklearn/linear_model/logistic.py:758: ConvergenceWarning: lbfgs failed to converge. Increase the number of iterations.\n",
      "  \"of iterations.\", ConvergenceWarning)\n",
      "/anaconda3/lib/python3.7/site-packages/sklearn/linear_model/logistic.py:758: ConvergenceWarning: lbfgs failed to converge. Increase the number of iterations.\n",
      "  \"of iterations.\", ConvergenceWarning)\n",
      "/anaconda3/lib/python3.7/site-packages/sklearn/linear_model/logistic.py:758: ConvergenceWarning: lbfgs failed to converge. Increase the number of iterations.\n",
      "  \"of iterations.\", ConvergenceWarning)\n",
      "/anaconda3/lib/python3.7/site-packages/sklearn/linear_model/logistic.py:758: ConvergenceWarning: lbfgs failed to converge. Increase the number of iterations.\n",
      "  \"of iterations.\", ConvergenceWarning)\n",
      "/anaconda3/lib/python3.7/site-packages/sklearn/linear_model/logistic.py:758: ConvergenceWarning: lbfgs failed to converge. Increase the number of iterations.\n",
      "  \"of iterations.\", ConvergenceWarning)\n",
      "/anaconda3/lib/python3.7/site-packages/sklearn/linear_model/logistic.py:758: ConvergenceWarning: lbfgs failed to converge. Increase the number of iterations.\n",
      "  \"of iterations.\", ConvergenceWarning)\n",
      "/anaconda3/lib/python3.7/site-packages/sklearn/linear_model/logistic.py:758: ConvergenceWarning: lbfgs failed to converge. Increase the number of iterations.\n",
      "  \"of iterations.\", ConvergenceWarning)\n",
      "/anaconda3/lib/python3.7/site-packages/sklearn/linear_model/logistic.py:758: ConvergenceWarning: lbfgs failed to converge. Increase the number of iterations.\n",
      "  \"of iterations.\", ConvergenceWarning)\n",
      "/anaconda3/lib/python3.7/site-packages/sklearn/linear_model/logistic.py:758: ConvergenceWarning: lbfgs failed to converge. Increase the number of iterations.\n",
      "  \"of iterations.\", ConvergenceWarning)\n"
     ]
    },
    {
     "name": "stdout",
     "output_type": "stream",
     "text": [
      "Classification report for all folds LogisticRegression(C=1.0, class_weight=None, dual=False, fit_intercept=True,\n",
      "          intercept_scaling=1, max_iter=100, multi_class='warn',\n",
      "          n_jobs=None, penalty='l2', random_state=None, solver='lbfgs',\n",
      "          tol=0.0001, verbose=0, warm_start=False)\n",
      "\n",
      "Recall :  0.5597074591986779\n",
      "Precision :  0.6048345214980244\n",
      "F1 :  0.5812291771507916\n"
     ]
    },
    {
     "name": "stderr",
     "output_type": "stream",
     "text": [
      "/anaconda3/lib/python3.7/site-packages/sklearn/linear_model/logistic.py:758: ConvergenceWarning: lbfgs failed to converge. Increase the number of iterations.\n",
      "  \"of iterations.\", ConvergenceWarning)\n"
     ]
    }
   ],
   "source": [
    "#let's do StratifiedKFold cross validation and find the scores\n",
    "\n",
    "recall = cross_val_score(clf, X_train, y_train, cv=10, scoring='recall')\n",
    "precision = cross_val_score(clf, X_train, y_train, cv=10, scoring='precision')\n",
    "f1 = cross_val_score(clf, X_train, y_train, cv=10, scoring='f1')\n",
    "\n",
    "print(\"Classification report for all folds %s\\n\" % clf)\n",
    "print('Recall : ', np.mean(recall))\n",
    "print('Precision : ', np.mean(precision))\n",
    "print('F1 : ', np.mean(f1))"
   ]
  },
  {
   "cell_type": "markdown",
   "metadata": {},
   "source": [
    "Final Model:\n",
    "Let's train our next model with balanced data and best hyperparameters and then we will compare the performance and classification metrics.\n"
   ]
  },
  {
   "cell_type": "markdown",
   "metadata": {},
   "source": [
    "#SGD\n",
    "=====\n",
    "Logistic regression with SGD¶\n",
    "The SGDClassifier estimator in scikit-learn implements linear classifiers (SVM, logistic regression, and others) with stochastic gradient descent (SGD) training. we choose logistic regression by setting loss = 'log'\n",
    "\n",
    "We will also be usinf standard scaler to scale our features before usinng those in training the model.\n",
    "this is done so that the variance of the features are in the same range. Thus we mitigate the risk of one feature dominating the other feature."
   ]
  },
  {
   "cell_type": "code",
   "execution_count": 254,
   "metadata": {},
   "outputs": [],
   "source": [
    "#feature_list = ['loan_amnt', 'num_subgrade','term', 'int_rate','installment', 'dti','open_acc', 'revol_bal','revol_util','total_acc', 'mort_acc', 'annual_inc_norm' ]\n",
    "\n",
    "\n",
    "feature_list2 = [ 'num_subgrade','term', 'int_rate', 'dti','revol_util','total_acc', 'annual_inc_norm' ]\n"
   ]
  },
  {
   "cell_type": "code",
   "execution_count": 328,
   "metadata": {},
   "outputs": [],
   "source": [
    "#The machine learning pipeline loss='log' for logistics model\n",
    "pipeline_sgdlogreg = Pipeline([\n",
    "    ('scaler', StandardScaler(copy=False)),\n",
    "    ('model', SGDClassifier(loss='log', max_iter=1000, tol=1e-3, random_state=1, warm_start=True))\n",
    "])"
   ]
  },
  {
   "cell_type": "code",
   "execution_count": 329,
   "metadata": {},
   "outputs": [
    {
     "name": "stdout",
     "output_type": "stream",
     "text": [
      "Fitting 5 folds for each of 3 candidates, totalling 15 fits\n"
     ]
    },
    {
     "name": "stderr",
     "output_type": "stream",
     "text": [
      "[Parallel(n_jobs=1)]: Using backend SequentialBackend with 1 concurrent workers.\n",
      "[Parallel(n_jobs=1)]: Done  15 out of  15 | elapsed:   12.8s finished\n"
     ]
    },
    {
     "data": {
      "text/plain": [
       "{'model__alpha': 0.01}"
      ]
     },
     "execution_count": 329,
     "metadata": {},
     "output_type": "execute_result"
    }
   ],
   "source": [
    "#grid of hyperparameters to search over\n",
    "param_grid_sgdlogreg = {\n",
    "    'model__alpha': [10**-5, 10**-2, 10**1]\n",
    "}\n",
    "\n",
    "X = df_sample[feature_list0]\n",
    "y = df_sample.target\n",
    "# Create train and test sets\n",
    "X_train, X_test, y_train, y_test = train_test_split(X,y,test_size=0.2, random_state=21)\n",
    "\n",
    "#Create the search grid object\n",
    "grid_sgdlogreg = GridSearchCV(estimator=pipeline_sgdlogreg, param_grid=param_grid_sgdlogreg, scoring='roc_auc', n_jobs=1, pre_dispatch=1, cv=5, verbose=1, return_train_score=False)\n",
    "#Conduct the grid search and train the final model on the whole dataset\n",
    "grid_sgdlogreg.fit(X_train.astype(float), y_train)\n",
    "\n",
    "#Mean cross-validated score of the best model\n",
    "grid_sgdlogreg.best_score_\n",
    "\n",
    "#Best hyperparameters\n",
    "grid_sgdlogreg.best_params_"
   ]
  },
  {
   "cell_type": "code",
   "execution_count": 330,
   "metadata": {},
   "outputs": [
    {
     "name": "stdout",
     "output_type": "stream",
     "text": [
      "Accuracy score on training set: 0.7031064515959886\n",
      "Accuracy score on test dataset: 0.7053174398676887\n",
      "              precision    recall  f1-score   support\n",
      "\n",
      "           0       0.65      0.75      0.70     35862\n",
      "           1       0.64      0.53      0.58     30629\n",
      "\n",
      "   micro avg       0.65      0.65      0.65     66491\n",
      "   macro avg       0.65      0.64      0.64     66491\n",
      "weighted avg       0.65      0.65      0.64     66491\n",
      "\n",
      "Tuned Model Parameters: {'model__alpha': 0.01}\n"
     ]
    },
    {
     "name": "stderr",
     "output_type": "stream",
     "text": [
      "/anaconda3/lib/python3.7/site-packages/sklearn/pipeline.py:331: DataConversionWarning: Data with input dtype int64, float64 were all converted to float64 by StandardScaler.\n",
      "  Xt = transform.transform(Xt)\n",
      "/anaconda3/lib/python3.7/site-packages/sklearn/pipeline.py:401: DataConversionWarning: Data with input dtype int64, float64 were all converted to float64 by StandardScaler.\n",
      "  Xt = transform.transform(Xt)\n"
     ]
    }
   ],
   "source": [
    "# Predict the labels of the test set: y_pred\n",
    "y_pred = grid_sgdlogreg.predict(X_test)\n",
    "\n",
    "# Compute and print metrics\n",
    "print(\"Accuracy score on training set:\", grid_sgdlogreg.best_score_)\n",
    "print(\"Accuracy score on test dataset: {}\".format(grid_sgdlogreg.score(X_test, y_test)))\n",
    "print(metrics.classification_report(y_test, y_pred))\n",
    "print(\"Tuned Model Parameters: {}\".format(grid_sgdlogreg.best_params_))\n",
    "\n",
    "#traning and test scores are similar, this shows the model is not overfitting"
   ]
  },
  {
   "cell_type": "code",
   "execution_count": 223,
   "metadata": {},
   "outputs": [
    {
     "name": "stdout",
     "output_type": "stream",
     "text": [
      "Avg score: 0.7051899158141858\n",
      "Best C: {'model__alpha': 0.01}\n"
     ]
    }
   ],
   "source": [
    "# View The Best Parameters\n",
    "print('Avg score:', grid_sgdlogreg.best_score_)\n",
    "print('Best C:', grid_sgdlogreg.best_params_)"
   ]
  },
  {
   "cell_type": "code",
   "execution_count": 332,
   "metadata": {},
   "outputs": [],
   "source": [
    "\n",
    "feature_list3 =['num_subgrade','num_verification_status', 'term', 'dti', 'mort_acc', 'annual_inc_norm' ]\n"
   ]
  },
  {
   "cell_type": "code",
   "execution_count": 335,
   "metadata": {},
   "outputs": [
    {
     "name": "stdout",
     "output_type": "stream",
     "text": [
      "(332455, 9)\n",
      "(265964, 9)\n",
      "(66491, 9)\n"
     ]
    },
    {
     "data": {
      "text/plain": [
       "0    0.541427\n",
       "1    0.458573\n",
       "Name: target, dtype: float64"
      ]
     },
     "execution_count": 335,
     "metadata": {},
     "output_type": "execute_result"
    }
   ],
   "source": [
    "\n",
    "\n",
    "X = df_sample[feature_list0]\n",
    "y = df_sample.target\n",
    "\n",
    "\n",
    "#split the train test data\n",
    "X_train, X_test, y_train, y_test = train_test_split(X, y, test_size=0.2)\n",
    "\n",
    "print(X.shape)\n",
    "print(X_train.shape)\n",
    "print(X_test.shape)\n",
    "\n",
    "df_sample.target.value_counts(normalize=True)\n",
    "#imbalance -no more!\n"
   ]
  },
  {
   "cell_type": "code",
   "execution_count": 336,
   "metadata": {},
   "outputs": [
    {
     "name": "stdout",
     "output_type": "stream",
     "text": [
      "Accuracy Score =  0.6135567219623709\n",
      "Classification report for LogisticRegression(C=0.001, class_weight='balanced', dual=False,\n",
      "          fit_intercept=True, intercept_scaling=1, max_iter=100,\n",
      "          multi_class='warn', n_jobs=None, penalty='l2', random_state=None,\n",
      "          solver='lbfgs', tol=0.0001, verbose=0, warm_start=False)\n",
      "              precision    recall  f1-score   support\n",
      "\n",
      "           0       0.73      0.62      0.67    168335\n",
      "           1       0.48      0.60      0.53     97629\n",
      "\n",
      "   micro avg       0.61      0.61      0.61    265964\n",
      "   macro avg       0.60      0.61      0.60    265964\n",
      "weighted avg       0.64      0.61      0.62    265964\n",
      "\n",
      "[[104715  63620]\n",
      " [ 39160  58469]]\n"
     ]
    }
   ],
   "source": [
    "# # Random Forest Classification\n",
    "from sklearn.ensemble import RandomForestClassifier\n",
    "random = RandomForestClassifier(n_estimators = 10, criterion = 'entropy')\n",
    "# Train the model\n",
    "random.fit(X_train, y_train)\n",
    "    \n",
    "# Make predictions and evalute\n",
    "random_pred = random.predict(X_test)\n",
    "\n",
    "\n",
    "y_predicted = cross_val_predict(random, X_train, y_train, cv=10)\n",
    "#accuracy\n",
    "print(\"Accuracy Score = \", accuracy_score(y_predicted, y_train))\n",
    "\n",
    "# performance\n",
    "print(\"Classification report for %s\" % random)\n",
    "print(metrics.classification_report(y_predicted, y_train))\n",
    "\n",
    "print(metrics.confusion_matrix(y_predicted, y_train))\n",
    "#print('Random Forest Performance on the test set: Cross Validation Score = %0.4f' % random_cross)\n"
   ]
  },
  {
   "cell_type": "markdown",
   "metadata": {},
   "source": [
    "Comparison of Base Model to “Final” Model\n",
    "=========================================\n",
    "\n",
    "Base Model\n",
    "--------------\n",
    "Accuracy Score =  0.8082622721248344\n",
    "Classification report for LogisticRegression(C=1.0, class_weight=None, dual=False, fit_intercept=True,\n",
    "          intercept_scaling=1, max_iter=100, multi_class='warn',\n",
    "          n_jobs=None, penalty='l2', random_state=None, solver='lbfgs',\n",
    "          tol=0.0001, verbose=0, warm_start=False)\n",
    "              precision    recall  f1-score   support\n",
    "\n",
    "           0       0.81      0.99      0.89    161771\n",
    "           1       0.48      0.05      0.08     38174\n",
    "\n",
    "   micro avg       0.81      0.81      0.81    199945\n",
    "   macro avg       0.65      0.52      0.49    199945\n",
    "weighted avg       0.75      0.81      0.74    199945\n",
    "\n",
    "Final Models\n",
    "--------------\n",
    "1. SGD\n",
    "======\n",
    "After hyperparamter tuning and scaling all the features using standardscaler.\n",
    "\n",
    "Accuracy score on training set: 0.7001977031716071\n",
    "Accuracy score on test dataset: 0.7023885636575766\n",
    "              precision    recall  f1-score   support\n",
    "\n",
    "           0       0.65      0.74      0.69     35862\n",
    "           1       0.64      0.53      0.58     30629\n",
    "\n",
    "   micro avg       0.65      0.65      0.65     66491\n",
    "   macro avg       0.65      0.64      0.64     66491\n",
    "weighted avg       0.65      0.65      0.64     66491\n",
    "\n",
    "2. Logistics Regression\n",
    "=======================\n",
    "After hyperparameter tuning \n",
    "\n",
    "Accuracy score on training set: 0.6948059891541704\n",
    "Accuracy score on test dataset: 0.6975098108396514\n",
    "              precision    recall  f1-score   support\n",
    "\n",
    "           0       0.65      0.75      0.69     35862\n",
    "           1       0.64      0.52      0.57     30629\n",
    "\n",
    "   micro avg       0.64      0.64      0.64     66491\n",
    "   macro avg       0.64      0.63      0.63     66491\n",
    "weighted avg       0.64      0.64      0.64     66491\n",
    "\n",
    "\n",
    "Also if we compare the model training time\n",
    "\n",
    "1. SGD\n",
    "[Parallel(n_jobs=1)]: Done  15 out of  15 | elapsed:    8.7s finished\n",
    "\n",
    "2. Logistics Regression\n",
    "[Parallel(n_jobs=1)]: Done  15 out of  15 | elapsed:    9.2s finished\n",
    "\n",
    "There is a huge improvement from base model performance to both our final models.\n",
    "we see that SGD while on comparing performance/classification metric performed similarly. However it is slightly better when we compare model training time that with Logistics Regression."
   ]
  },
  {
   "cell_type": "code",
   "execution_count": null,
   "metadata": {},
   "outputs": [],
   "source": []
  },
  {
   "cell_type": "markdown",
   "metadata": {},
   "source": [
    "Future Recommendations/ Improvements\n",
    "------------------------------------------------\n",
    "Since our train and test data come from the same file, \n",
    "we can safely say that the samples taken from train and test data are coming from the same ditribution.\n",
    "This is ususally a contributing factor to get nicely performing ML model. \n",
    "However this may not be the case in the real world. \n",
    "So there is a possibility that the model maynot predict as efficiently with the real world data.\n",
    "So we will need to iteratively keep training the model to include as diverse training cases as possible.\n",
    "This is a good scope of future imporovement with respect to model efficiency in cases where model performs poorly. "
   ]
  }
 ],
 "metadata": {
  "kernelspec": {
   "display_name": "Python 3",
   "language": "python",
   "name": "python3"
  },
  "language_info": {
   "codemirror_mode": {
    "name": "ipython",
    "version": 3
   },
   "file_extension": ".py",
   "mimetype": "text/x-python",
   "name": "python",
   "nbconvert_exporter": "python",
   "pygments_lexer": "ipython3",
   "version": "3.7.3"
  }
 },
 "nbformat": 4,
 "nbformat_minor": 2
}
