{
 "cells": [
  {
   "cell_type": "code",
   "execution_count": 2,
   "metadata": {},
   "outputs": [],
   "source": [
    "# Import necessary Libraries\n",
    "import pandas as pd\n",
    "import numpy as np\n",
    "import scipy as sp\n",
    "import pandas as pd\n",
    "import matplotlib as mpl\n",
    "import matplotlib.pyplot as plt\n",
    "import seaborn as sns\n",
    "from scipy import stats"
   ]
  },
  {
   "cell_type": "code",
   "execution_count": 3,
   "metadata": {},
   "outputs": [
    {
     "name": "stderr",
     "output_type": "stream",
     "text": [
      "/anaconda3/lib/python3.7/site-packages/IPython/core/interactiveshell.py:3049: DtypeWarning: Columns (19,47,55,112,123,124,125,128,129,130,133,139,140,141) have mixed types. Specify dtype option on import or set low_memory=False.\n",
      "  interactivity=interactivity, compiler=compiler, result=result)\n"
     ]
    },
    {
     "name": "stdout",
     "output_type": "stream",
     "text": [
      "<class 'pandas.core.frame.DataFrame'>\n",
      "RangeIndex: 2260668 entries, 0 to 2260667\n",
      "Columns: 145 entries, id to settlement_term\n",
      "dtypes: float64(105), int64(4), object(36)\n",
      "memory usage: 2.4+ GB\n"
     ]
    }
   ],
   "source": [
    "# open csv file and load the data into pandas dataframe\n",
    "appl_df = pd.read_csv('../data/raw/loan.csv')\n",
    "appl_df.info()"
   ]
  },
  {
   "cell_type": "code",
   "execution_count": 4,
   "metadata": {},
   "outputs": [
    {
     "data": {
      "text/plain": [
       "id                                            float64\n",
       "member_id                                     float64\n",
       "loan_amnt                                       int64\n",
       "funded_amnt                                     int64\n",
       "funded_amnt_inv                               float64\n",
       "term                                           object\n",
       "int_rate                                      float64\n",
       "installment                                   float64\n",
       "grade                                          object\n",
       "sub_grade                                      object\n",
       "emp_title                                      object\n",
       "emp_length                                     object\n",
       "home_ownership                                 object\n",
       "annual_inc                                    float64\n",
       "verification_status                            object\n",
       "issue_d                                        object\n",
       "loan_status                                    object\n",
       "pymnt_plan                                     object\n",
       "url                                           float64\n",
       "desc                                           object\n",
       "purpose                                        object\n",
       "title                                          object\n",
       "zip_code                                       object\n",
       "addr_state                                     object\n",
       "dti                                           float64\n",
       "delinq_2yrs                                   float64\n",
       "earliest_cr_line                               object\n",
       "inq_last_6mths                                float64\n",
       "mths_since_last_delinq                        float64\n",
       "mths_since_last_record                        float64\n",
       "                                               ...   \n",
       "sec_app_open_acc                              float64\n",
       "sec_app_revol_util                            float64\n",
       "sec_app_open_act_il                           float64\n",
       "sec_app_num_rev_accts                         float64\n",
       "sec_app_chargeoff_within_12_mths              float64\n",
       "sec_app_collections_12_mths_ex_med            float64\n",
       "sec_app_mths_since_last_major_derog           float64\n",
       "hardship_flag                                  object\n",
       "hardship_type                                  object\n",
       "hardship_reason                                object\n",
       "hardship_status                                object\n",
       "deferral_term                                 float64\n",
       "hardship_amount                               float64\n",
       "hardship_start_date                            object\n",
       "hardship_end_date                              object\n",
       "payment_plan_start_date                        object\n",
       "hardship_length                               float64\n",
       "hardship_dpd                                  float64\n",
       "hardship_loan_status                           object\n",
       "orig_projected_additional_accrued_interest    float64\n",
       "hardship_payoff_balance_amount                float64\n",
       "hardship_last_payment_amount                  float64\n",
       "disbursement_method                            object\n",
       "debt_settlement_flag                           object\n",
       "debt_settlement_flag_date                      object\n",
       "settlement_status                              object\n",
       "settlement_date                                object\n",
       "settlement_amount                             float64\n",
       "settlement_percentage                         float64\n",
       "settlement_term                               float64\n",
       "Length: 145, dtype: object"
      ]
     },
     "execution_count": 4,
     "metadata": {},
     "output_type": "execute_result"
    }
   ],
   "source": [
    "appl_df.dtypes"
   ]
  },
  {
   "cell_type": "code",
   "execution_count": 5,
   "metadata": {},
   "outputs": [
    {
     "data": {
      "text/html": [
       "<div>\n",
       "<style scoped>\n",
       "    .dataframe tbody tr th:only-of-type {\n",
       "        vertical-align: middle;\n",
       "    }\n",
       "\n",
       "    .dataframe tbody tr th {\n",
       "        vertical-align: top;\n",
       "    }\n",
       "\n",
       "    .dataframe thead th {\n",
       "        text-align: right;\n",
       "    }\n",
       "</style>\n",
       "<table border=\"1\" class=\"dataframe\">\n",
       "  <thead>\n",
       "    <tr style=\"text-align: right;\">\n",
       "      <th></th>\n",
       "      <th>id</th>\n",
       "      <th>member_id</th>\n",
       "      <th>loan_amnt</th>\n",
       "      <th>funded_amnt</th>\n",
       "      <th>funded_amnt_inv</th>\n",
       "      <th>int_rate</th>\n",
       "      <th>installment</th>\n",
       "      <th>annual_inc</th>\n",
       "      <th>url</th>\n",
       "      <th>dti</th>\n",
       "      <th>...</th>\n",
       "      <th>deferral_term</th>\n",
       "      <th>hardship_amount</th>\n",
       "      <th>hardship_length</th>\n",
       "      <th>hardship_dpd</th>\n",
       "      <th>orig_projected_additional_accrued_interest</th>\n",
       "      <th>hardship_payoff_balance_amount</th>\n",
       "      <th>hardship_last_payment_amount</th>\n",
       "      <th>settlement_amount</th>\n",
       "      <th>settlement_percentage</th>\n",
       "      <th>settlement_term</th>\n",
       "    </tr>\n",
       "  </thead>\n",
       "  <tbody>\n",
       "    <tr>\n",
       "      <th>count</th>\n",
       "      <td>0.0</td>\n",
       "      <td>0.0</td>\n",
       "      <td>2.260668e+06</td>\n",
       "      <td>2.260668e+06</td>\n",
       "      <td>2.260668e+06</td>\n",
       "      <td>2.260668e+06</td>\n",
       "      <td>2.260668e+06</td>\n",
       "      <td>2.260664e+06</td>\n",
       "      <td>0.0</td>\n",
       "      <td>2.258957e+06</td>\n",
       "      <td>...</td>\n",
       "      <td>10613.0</td>\n",
       "      <td>10613.000000</td>\n",
       "      <td>10613.0</td>\n",
       "      <td>10613.000000</td>\n",
       "      <td>8426.000000</td>\n",
       "      <td>10613.000000</td>\n",
       "      <td>10613.000000</td>\n",
       "      <td>33056.000000</td>\n",
       "      <td>33056.000000</td>\n",
       "      <td>33056.000000</td>\n",
       "    </tr>\n",
       "    <tr>\n",
       "      <th>mean</th>\n",
       "      <td>NaN</td>\n",
       "      <td>NaN</td>\n",
       "      <td>1.504693e+04</td>\n",
       "      <td>1.504166e+04</td>\n",
       "      <td>1.502344e+04</td>\n",
       "      <td>1.309291e+01</td>\n",
       "      <td>4.458076e+02</td>\n",
       "      <td>7.799243e+04</td>\n",
       "      <td>NaN</td>\n",
       "      <td>1.882420e+01</td>\n",
       "      <td>...</td>\n",
       "      <td>3.0</td>\n",
       "      <td>155.006696</td>\n",
       "      <td>3.0</td>\n",
       "      <td>13.686422</td>\n",
       "      <td>454.840802</td>\n",
       "      <td>11628.036442</td>\n",
       "      <td>193.606331</td>\n",
       "      <td>5030.606922</td>\n",
       "      <td>47.775600</td>\n",
       "      <td>13.148596</td>\n",
       "    </tr>\n",
       "    <tr>\n",
       "      <th>std</th>\n",
       "      <td>NaN</td>\n",
       "      <td>NaN</td>\n",
       "      <td>9.190245e+03</td>\n",
       "      <td>9.188413e+03</td>\n",
       "      <td>9.192332e+03</td>\n",
       "      <td>4.832114e+00</td>\n",
       "      <td>2.671737e+02</td>\n",
       "      <td>1.126962e+05</td>\n",
       "      <td>NaN</td>\n",
       "      <td>1.418333e+01</td>\n",
       "      <td>...</td>\n",
       "      <td>0.0</td>\n",
       "      <td>129.113137</td>\n",
       "      <td>0.0</td>\n",
       "      <td>9.728138</td>\n",
       "      <td>375.830737</td>\n",
       "      <td>7615.161123</td>\n",
       "      <td>198.694368</td>\n",
       "      <td>3692.027842</td>\n",
       "      <td>7.336379</td>\n",
       "      <td>8.192319</td>\n",
       "    </tr>\n",
       "    <tr>\n",
       "      <th>min</th>\n",
       "      <td>NaN</td>\n",
       "      <td>NaN</td>\n",
       "      <td>5.000000e+02</td>\n",
       "      <td>5.000000e+02</td>\n",
       "      <td>0.000000e+00</td>\n",
       "      <td>5.310000e+00</td>\n",
       "      <td>4.930000e+00</td>\n",
       "      <td>0.000000e+00</td>\n",
       "      <td>NaN</td>\n",
       "      <td>-1.000000e+00</td>\n",
       "      <td>...</td>\n",
       "      <td>3.0</td>\n",
       "      <td>0.640000</td>\n",
       "      <td>3.0</td>\n",
       "      <td>0.000000</td>\n",
       "      <td>1.920000</td>\n",
       "      <td>55.730000</td>\n",
       "      <td>0.010000</td>\n",
       "      <td>44.210000</td>\n",
       "      <td>0.200000</td>\n",
       "      <td>0.000000</td>\n",
       "    </tr>\n",
       "    <tr>\n",
       "      <th>25%</th>\n",
       "      <td>NaN</td>\n",
       "      <td>NaN</td>\n",
       "      <td>8.000000e+03</td>\n",
       "      <td>8.000000e+03</td>\n",
       "      <td>8.000000e+03</td>\n",
       "      <td>9.490000e+00</td>\n",
       "      <td>2.516500e+02</td>\n",
       "      <td>4.600000e+04</td>\n",
       "      <td>NaN</td>\n",
       "      <td>1.189000e+01</td>\n",
       "      <td>...</td>\n",
       "      <td>3.0</td>\n",
       "      <td>59.370000</td>\n",
       "      <td>3.0</td>\n",
       "      <td>5.000000</td>\n",
       "      <td>174.967500</td>\n",
       "      <td>5628.730000</td>\n",
       "      <td>43.780000</td>\n",
       "      <td>2227.000000</td>\n",
       "      <td>45.000000</td>\n",
       "      <td>6.000000</td>\n",
       "    </tr>\n",
       "    <tr>\n",
       "      <th>50%</th>\n",
       "      <td>NaN</td>\n",
       "      <td>NaN</td>\n",
       "      <td>1.290000e+04</td>\n",
       "      <td>1.287500e+04</td>\n",
       "      <td>1.280000e+04</td>\n",
       "      <td>1.262000e+01</td>\n",
       "      <td>3.779900e+02</td>\n",
       "      <td>6.500000e+04</td>\n",
       "      <td>NaN</td>\n",
       "      <td>1.784000e+01</td>\n",
       "      <td>...</td>\n",
       "      <td>3.0</td>\n",
       "      <td>119.040000</td>\n",
       "      <td>3.0</td>\n",
       "      <td>15.000000</td>\n",
       "      <td>352.605000</td>\n",
       "      <td>10044.220000</td>\n",
       "      <td>132.890000</td>\n",
       "      <td>4172.855000</td>\n",
       "      <td>45.000000</td>\n",
       "      <td>14.000000</td>\n",
       "    </tr>\n",
       "    <tr>\n",
       "      <th>75%</th>\n",
       "      <td>NaN</td>\n",
       "      <td>NaN</td>\n",
       "      <td>2.000000e+04</td>\n",
       "      <td>2.000000e+04</td>\n",
       "      <td>2.000000e+04</td>\n",
       "      <td>1.599000e+01</td>\n",
       "      <td>5.933200e+02</td>\n",
       "      <td>9.300000e+04</td>\n",
       "      <td>NaN</td>\n",
       "      <td>2.449000e+01</td>\n",
       "      <td>...</td>\n",
       "      <td>3.0</td>\n",
       "      <td>213.260000</td>\n",
       "      <td>3.0</td>\n",
       "      <td>22.000000</td>\n",
       "      <td>622.792500</td>\n",
       "      <td>16114.940000</td>\n",
       "      <td>284.180000</td>\n",
       "      <td>6870.782500</td>\n",
       "      <td>50.000000</td>\n",
       "      <td>18.000000</td>\n",
       "    </tr>\n",
       "    <tr>\n",
       "      <th>max</th>\n",
       "      <td>NaN</td>\n",
       "      <td>NaN</td>\n",
       "      <td>4.000000e+04</td>\n",
       "      <td>4.000000e+04</td>\n",
       "      <td>4.000000e+04</td>\n",
       "      <td>3.099000e+01</td>\n",
       "      <td>1.719830e+03</td>\n",
       "      <td>1.100000e+08</td>\n",
       "      <td>NaN</td>\n",
       "      <td>9.990000e+02</td>\n",
       "      <td>...</td>\n",
       "      <td>3.0</td>\n",
       "      <td>943.940000</td>\n",
       "      <td>3.0</td>\n",
       "      <td>37.000000</td>\n",
       "      <td>2680.890000</td>\n",
       "      <td>40306.410000</td>\n",
       "      <td>1407.860000</td>\n",
       "      <td>33601.000000</td>\n",
       "      <td>521.350000</td>\n",
       "      <td>181.000000</td>\n",
       "    </tr>\n",
       "  </tbody>\n",
       "</table>\n",
       "<p>8 rows × 109 columns</p>\n",
       "</div>"
      ],
      "text/plain": [
       "        id  member_id     loan_amnt   funded_amnt  funded_amnt_inv  \\\n",
       "count  0.0        0.0  2.260668e+06  2.260668e+06     2.260668e+06   \n",
       "mean   NaN        NaN  1.504693e+04  1.504166e+04     1.502344e+04   \n",
       "std    NaN        NaN  9.190245e+03  9.188413e+03     9.192332e+03   \n",
       "min    NaN        NaN  5.000000e+02  5.000000e+02     0.000000e+00   \n",
       "25%    NaN        NaN  8.000000e+03  8.000000e+03     8.000000e+03   \n",
       "50%    NaN        NaN  1.290000e+04  1.287500e+04     1.280000e+04   \n",
       "75%    NaN        NaN  2.000000e+04  2.000000e+04     2.000000e+04   \n",
       "max    NaN        NaN  4.000000e+04  4.000000e+04     4.000000e+04   \n",
       "\n",
       "           int_rate   installment    annual_inc  url           dti  ...  \\\n",
       "count  2.260668e+06  2.260668e+06  2.260664e+06  0.0  2.258957e+06  ...   \n",
       "mean   1.309291e+01  4.458076e+02  7.799243e+04  NaN  1.882420e+01  ...   \n",
       "std    4.832114e+00  2.671737e+02  1.126962e+05  NaN  1.418333e+01  ...   \n",
       "min    5.310000e+00  4.930000e+00  0.000000e+00  NaN -1.000000e+00  ...   \n",
       "25%    9.490000e+00  2.516500e+02  4.600000e+04  NaN  1.189000e+01  ...   \n",
       "50%    1.262000e+01  3.779900e+02  6.500000e+04  NaN  1.784000e+01  ...   \n",
       "75%    1.599000e+01  5.933200e+02  9.300000e+04  NaN  2.449000e+01  ...   \n",
       "max    3.099000e+01  1.719830e+03  1.100000e+08  NaN  9.990000e+02  ...   \n",
       "\n",
       "       deferral_term  hardship_amount  hardship_length  hardship_dpd  \\\n",
       "count        10613.0     10613.000000          10613.0  10613.000000   \n",
       "mean             3.0       155.006696              3.0     13.686422   \n",
       "std              0.0       129.113137              0.0      9.728138   \n",
       "min              3.0         0.640000              3.0      0.000000   \n",
       "25%              3.0        59.370000              3.0      5.000000   \n",
       "50%              3.0       119.040000              3.0     15.000000   \n",
       "75%              3.0       213.260000              3.0     22.000000   \n",
       "max              3.0       943.940000              3.0     37.000000   \n",
       "\n",
       "       orig_projected_additional_accrued_interest  \\\n",
       "count                                 8426.000000   \n",
       "mean                                   454.840802   \n",
       "std                                    375.830737   \n",
       "min                                      1.920000   \n",
       "25%                                    174.967500   \n",
       "50%                                    352.605000   \n",
       "75%                                    622.792500   \n",
       "max                                   2680.890000   \n",
       "\n",
       "       hardship_payoff_balance_amount  hardship_last_payment_amount  \\\n",
       "count                    10613.000000                  10613.000000   \n",
       "mean                     11628.036442                    193.606331   \n",
       "std                       7615.161123                    198.694368   \n",
       "min                         55.730000                      0.010000   \n",
       "25%                       5628.730000                     43.780000   \n",
       "50%                      10044.220000                    132.890000   \n",
       "75%                      16114.940000                    284.180000   \n",
       "max                      40306.410000                   1407.860000   \n",
       "\n",
       "       settlement_amount  settlement_percentage  settlement_term  \n",
       "count       33056.000000           33056.000000     33056.000000  \n",
       "mean         5030.606922              47.775600        13.148596  \n",
       "std          3692.027842               7.336379         8.192319  \n",
       "min            44.210000               0.200000         0.000000  \n",
       "25%          2227.000000              45.000000         6.000000  \n",
       "50%          4172.855000              45.000000        14.000000  \n",
       "75%          6870.782500              50.000000        18.000000  \n",
       "max         33601.000000             521.350000       181.000000  \n",
       "\n",
       "[8 rows x 109 columns]"
      ]
     },
     "execution_count": 5,
     "metadata": {},
     "output_type": "execute_result"
    }
   ],
   "source": [
    "appl_df.describe()"
   ]
  },
  {
   "cell_type": "code",
   "execution_count": 6,
   "metadata": {},
   "outputs": [
    {
     "data": {
      "text/html": [
       "<div>\n",
       "<style scoped>\n",
       "    .dataframe tbody tr th:only-of-type {\n",
       "        vertical-align: middle;\n",
       "    }\n",
       "\n",
       "    .dataframe tbody tr th {\n",
       "        vertical-align: top;\n",
       "    }\n",
       "\n",
       "    .dataframe thead th {\n",
       "        text-align: right;\n",
       "    }\n",
       "</style>\n",
       "<table border=\"1\" class=\"dataframe\">\n",
       "  <thead>\n",
       "    <tr style=\"text-align: right;\">\n",
       "      <th></th>\n",
       "      <th>count</th>\n",
       "      <th>mean</th>\n",
       "      <th>std</th>\n",
       "      <th>min</th>\n",
       "      <th>25%</th>\n",
       "      <th>50%</th>\n",
       "      <th>75%</th>\n",
       "      <th>max</th>\n",
       "    </tr>\n",
       "  </thead>\n",
       "  <tbody>\n",
       "    <tr>\n",
       "      <th>id</th>\n",
       "      <td>0.0</td>\n",
       "      <td>NaN</td>\n",
       "      <td>NaN</td>\n",
       "      <td>NaN</td>\n",
       "      <td>NaN</td>\n",
       "      <td>NaN</td>\n",
       "      <td>NaN</td>\n",
       "      <td>NaN</td>\n",
       "    </tr>\n",
       "    <tr>\n",
       "      <th>member_id</th>\n",
       "      <td>0.0</td>\n",
       "      <td>NaN</td>\n",
       "      <td>NaN</td>\n",
       "      <td>NaN</td>\n",
       "      <td>NaN</td>\n",
       "      <td>NaN</td>\n",
       "      <td>NaN</td>\n",
       "      <td>NaN</td>\n",
       "    </tr>\n",
       "    <tr>\n",
       "      <th>loan_amnt</th>\n",
       "      <td>2260668.0</td>\n",
       "      <td>15046.931228</td>\n",
       "      <td>9190.245488</td>\n",
       "      <td>5.000000e+02</td>\n",
       "      <td>8000.0000</td>\n",
       "      <td>12900.000000</td>\n",
       "      <td>20000.000000</td>\n",
       "      <td>4.000000e+04</td>\n",
       "    </tr>\n",
       "    <tr>\n",
       "      <th>funded_amnt</th>\n",
       "      <td>2260668.0</td>\n",
       "      <td>15041.664057</td>\n",
       "      <td>9188.413022</td>\n",
       "      <td>5.000000e+02</td>\n",
       "      <td>8000.0000</td>\n",
       "      <td>12875.000000</td>\n",
       "      <td>20000.000000</td>\n",
       "      <td>4.000000e+04</td>\n",
       "    </tr>\n",
       "    <tr>\n",
       "      <th>funded_amnt_inv</th>\n",
       "      <td>2260668.0</td>\n",
       "      <td>15023.437624</td>\n",
       "      <td>9192.331807</td>\n",
       "      <td>0.000000e+00</td>\n",
       "      <td>8000.0000</td>\n",
       "      <td>12800.000000</td>\n",
       "      <td>20000.000000</td>\n",
       "      <td>4.000000e+04</td>\n",
       "    </tr>\n",
       "    <tr>\n",
       "      <th>int_rate</th>\n",
       "      <td>2260668.0</td>\n",
       "      <td>13.092913</td>\n",
       "      <td>4.832114</td>\n",
       "      <td>5.310000e+00</td>\n",
       "      <td>9.4900</td>\n",
       "      <td>12.620000</td>\n",
       "      <td>15.990000</td>\n",
       "      <td>3.099000e+01</td>\n",
       "    </tr>\n",
       "    <tr>\n",
       "      <th>installment</th>\n",
       "      <td>2260668.0</td>\n",
       "      <td>445.807646</td>\n",
       "      <td>267.173725</td>\n",
       "      <td>4.930000e+00</td>\n",
       "      <td>251.6500</td>\n",
       "      <td>377.990000</td>\n",
       "      <td>593.320000</td>\n",
       "      <td>1.719830e+03</td>\n",
       "    </tr>\n",
       "    <tr>\n",
       "      <th>annual_inc</th>\n",
       "      <td>2260664.0</td>\n",
       "      <td>77992.428687</td>\n",
       "      <td>112696.199574</td>\n",
       "      <td>0.000000e+00</td>\n",
       "      <td>46000.0000</td>\n",
       "      <td>65000.000000</td>\n",
       "      <td>93000.000000</td>\n",
       "      <td>1.100000e+08</td>\n",
       "    </tr>\n",
       "    <tr>\n",
       "      <th>url</th>\n",
       "      <td>0.0</td>\n",
       "      <td>NaN</td>\n",
       "      <td>NaN</td>\n",
       "      <td>NaN</td>\n",
       "      <td>NaN</td>\n",
       "      <td>NaN</td>\n",
       "      <td>NaN</td>\n",
       "      <td>NaN</td>\n",
       "    </tr>\n",
       "    <tr>\n",
       "      <th>dti</th>\n",
       "      <td>2258957.0</td>\n",
       "      <td>18.824196</td>\n",
       "      <td>14.183329</td>\n",
       "      <td>-1.000000e+00</td>\n",
       "      <td>11.8900</td>\n",
       "      <td>17.840000</td>\n",
       "      <td>24.490000</td>\n",
       "      <td>9.990000e+02</td>\n",
       "    </tr>\n",
       "    <tr>\n",
       "      <th>delinq_2yrs</th>\n",
       "      <td>2260639.0</td>\n",
       "      <td>0.306879</td>\n",
       "      <td>0.867230</td>\n",
       "      <td>0.000000e+00</td>\n",
       "      <td>0.0000</td>\n",
       "      <td>0.000000</td>\n",
       "      <td>0.000000</td>\n",
       "      <td>5.800000e+01</td>\n",
       "    </tr>\n",
       "    <tr>\n",
       "      <th>inq_last_6mths</th>\n",
       "      <td>2260638.0</td>\n",
       "      <td>0.576835</td>\n",
       "      <td>0.885963</td>\n",
       "      <td>0.000000e+00</td>\n",
       "      <td>0.0000</td>\n",
       "      <td>0.000000</td>\n",
       "      <td>1.000000</td>\n",
       "      <td>3.300000e+01</td>\n",
       "    </tr>\n",
       "    <tr>\n",
       "      <th>mths_since_last_delinq</th>\n",
       "      <td>1102166.0</td>\n",
       "      <td>34.540916</td>\n",
       "      <td>21.900471</td>\n",
       "      <td>0.000000e+00</td>\n",
       "      <td>16.0000</td>\n",
       "      <td>31.000000</td>\n",
       "      <td>50.000000</td>\n",
       "      <td>2.260000e+02</td>\n",
       "    </tr>\n",
       "    <tr>\n",
       "      <th>mths_since_last_record</th>\n",
       "      <td>359156.0</td>\n",
       "      <td>72.312842</td>\n",
       "      <td>26.464094</td>\n",
       "      <td>0.000000e+00</td>\n",
       "      <td>55.0000</td>\n",
       "      <td>74.000000</td>\n",
       "      <td>92.000000</td>\n",
       "      <td>1.290000e+02</td>\n",
       "    </tr>\n",
       "    <tr>\n",
       "      <th>open_acc</th>\n",
       "      <td>2260639.0</td>\n",
       "      <td>11.612402</td>\n",
       "      <td>5.640861</td>\n",
       "      <td>0.000000e+00</td>\n",
       "      <td>8.0000</td>\n",
       "      <td>11.000000</td>\n",
       "      <td>14.000000</td>\n",
       "      <td>1.010000e+02</td>\n",
       "    </tr>\n",
       "    <tr>\n",
       "      <th>pub_rec</th>\n",
       "      <td>2260639.0</td>\n",
       "      <td>0.197528</td>\n",
       "      <td>0.570515</td>\n",
       "      <td>0.000000e+00</td>\n",
       "      <td>0.0000</td>\n",
       "      <td>0.000000</td>\n",
       "      <td>0.000000</td>\n",
       "      <td>8.600000e+01</td>\n",
       "    </tr>\n",
       "    <tr>\n",
       "      <th>revol_bal</th>\n",
       "      <td>2260668.0</td>\n",
       "      <td>16658.458078</td>\n",
       "      <td>22948.305028</td>\n",
       "      <td>0.000000e+00</td>\n",
       "      <td>5950.0000</td>\n",
       "      <td>11324.000000</td>\n",
       "      <td>20246.000000</td>\n",
       "      <td>2.904836e+06</td>\n",
       "    </tr>\n",
       "    <tr>\n",
       "      <th>revol_util</th>\n",
       "      <td>2258866.0</td>\n",
       "      <td>50.337696</td>\n",
       "      <td>24.713073</td>\n",
       "      <td>0.000000e+00</td>\n",
       "      <td>31.5000</td>\n",
       "      <td>50.300000</td>\n",
       "      <td>69.400000</td>\n",
       "      <td>8.923000e+02</td>\n",
       "    </tr>\n",
       "    <tr>\n",
       "      <th>total_acc</th>\n",
       "      <td>2260639.0</td>\n",
       "      <td>24.162552</td>\n",
       "      <td>11.987528</td>\n",
       "      <td>1.000000e+00</td>\n",
       "      <td>15.0000</td>\n",
       "      <td>22.000000</td>\n",
       "      <td>31.000000</td>\n",
       "      <td>1.760000e+02</td>\n",
       "    </tr>\n",
       "    <tr>\n",
       "      <th>out_prncp</th>\n",
       "      <td>2260668.0</td>\n",
       "      <td>4446.292883</td>\n",
       "      <td>7547.611729</td>\n",
       "      <td>0.000000e+00</td>\n",
       "      <td>0.0000</td>\n",
       "      <td>0.000000</td>\n",
       "      <td>6712.632500</td>\n",
       "      <td>4.000000e+04</td>\n",
       "    </tr>\n",
       "    <tr>\n",
       "      <th>out_prncp_inv</th>\n",
       "      <td>2260668.0</td>\n",
       "      <td>4445.294869</td>\n",
       "      <td>7546.656886</td>\n",
       "      <td>0.000000e+00</td>\n",
       "      <td>0.0000</td>\n",
       "      <td>0.000000</td>\n",
       "      <td>6710.320000</td>\n",
       "      <td>4.000000e+04</td>\n",
       "    </tr>\n",
       "    <tr>\n",
       "      <th>total_pymnt</th>\n",
       "      <td>2260668.0</td>\n",
       "      <td>11824.030498</td>\n",
       "      <td>9889.599027</td>\n",
       "      <td>0.000000e+00</td>\n",
       "      <td>4272.5800</td>\n",
       "      <td>9060.869904</td>\n",
       "      <td>16707.972704</td>\n",
       "      <td>6.329688e+04</td>\n",
       "    </tr>\n",
       "    <tr>\n",
       "      <th>total_pymnt_inv</th>\n",
       "      <td>2260668.0</td>\n",
       "      <td>11805.943515</td>\n",
       "      <td>9884.834668</td>\n",
       "      <td>0.000000e+00</td>\n",
       "      <td>4257.7300</td>\n",
       "      <td>9043.080000</td>\n",
       "      <td>16682.572500</td>\n",
       "      <td>6.329688e+04</td>\n",
       "    </tr>\n",
       "    <tr>\n",
       "      <th>total_rec_prncp</th>\n",
       "      <td>2260668.0</td>\n",
       "      <td>9300.142079</td>\n",
       "      <td>8304.885568</td>\n",
       "      <td>0.000000e+00</td>\n",
       "      <td>2846.1800</td>\n",
       "      <td>6823.385000</td>\n",
       "      <td>13397.500000</td>\n",
       "      <td>4.000000e+04</td>\n",
       "    </tr>\n",
       "    <tr>\n",
       "      <th>total_rec_int</th>\n",
       "      <td>2260668.0</td>\n",
       "      <td>2386.351954</td>\n",
       "      <td>2663.086087</td>\n",
       "      <td>0.000000e+00</td>\n",
       "      <td>693.6100</td>\n",
       "      <td>1485.280000</td>\n",
       "      <td>3052.220000</td>\n",
       "      <td>2.819250e+04</td>\n",
       "    </tr>\n",
       "    <tr>\n",
       "      <th>total_rec_late_fee</th>\n",
       "      <td>2260668.0</td>\n",
       "      <td>1.462469</td>\n",
       "      <td>11.502095</td>\n",
       "      <td>-9.500000e-09</td>\n",
       "      <td>0.0000</td>\n",
       "      <td>0.000000</td>\n",
       "      <td>0.000000</td>\n",
       "      <td>1.427250e+03</td>\n",
       "    </tr>\n",
       "    <tr>\n",
       "      <th>recoveries</th>\n",
       "      <td>2260668.0</td>\n",
       "      <td>136.073998</td>\n",
       "      <td>725.831678</td>\n",
       "      <td>0.000000e+00</td>\n",
       "      <td>0.0000</td>\n",
       "      <td>0.000000</td>\n",
       "      <td>0.000000</td>\n",
       "      <td>3.985955e+04</td>\n",
       "    </tr>\n",
       "    <tr>\n",
       "      <th>collection_recovery_fee</th>\n",
       "      <td>2260668.0</td>\n",
       "      <td>22.593284</td>\n",
       "      <td>127.111362</td>\n",
       "      <td>0.000000e+00</td>\n",
       "      <td>0.0000</td>\n",
       "      <td>0.000000</td>\n",
       "      <td>0.000000</td>\n",
       "      <td>7.174719e+03</td>\n",
       "    </tr>\n",
       "    <tr>\n",
       "      <th>last_pymnt_amnt</th>\n",
       "      <td>2260668.0</td>\n",
       "      <td>3364.015261</td>\n",
       "      <td>5971.757409</td>\n",
       "      <td>0.000000e+00</td>\n",
       "      <td>308.6400</td>\n",
       "      <td>588.470000</td>\n",
       "      <td>3534.965000</td>\n",
       "      <td>4.219205e+04</td>\n",
       "    </tr>\n",
       "    <tr>\n",
       "      <th>collections_12_mths_ex_med</th>\n",
       "      <td>2260523.0</td>\n",
       "      <td>0.018146</td>\n",
       "      <td>0.150813</td>\n",
       "      <td>0.000000e+00</td>\n",
       "      <td>0.0000</td>\n",
       "      <td>0.000000</td>\n",
       "      <td>0.000000</td>\n",
       "      <td>2.000000e+01</td>\n",
       "    </tr>\n",
       "    <tr>\n",
       "      <th>...</th>\n",
       "      <td>...</td>\n",
       "      <td>...</td>\n",
       "      <td>...</td>\n",
       "      <td>...</td>\n",
       "      <td>...</td>\n",
       "      <td>...</td>\n",
       "      <td>...</td>\n",
       "      <td>...</td>\n",
       "    </tr>\n",
       "    <tr>\n",
       "      <th>num_tl_90g_dpd_24m</th>\n",
       "      <td>2190392.0</td>\n",
       "      <td>0.082938</td>\n",
       "      <td>0.493573</td>\n",
       "      <td>0.000000e+00</td>\n",
       "      <td>0.0000</td>\n",
       "      <td>0.000000</td>\n",
       "      <td>0.000000</td>\n",
       "      <td>5.800000e+01</td>\n",
       "    </tr>\n",
       "    <tr>\n",
       "      <th>num_tl_op_past_12m</th>\n",
       "      <td>2190392.0</td>\n",
       "      <td>2.076755</td>\n",
       "      <td>1.830711</td>\n",
       "      <td>0.000000e+00</td>\n",
       "      <td>1.0000</td>\n",
       "      <td>2.000000</td>\n",
       "      <td>3.000000</td>\n",
       "      <td>3.200000e+01</td>\n",
       "    </tr>\n",
       "    <tr>\n",
       "      <th>pct_tl_nvr_dlq</th>\n",
       "      <td>2190237.0</td>\n",
       "      <td>94.114576</td>\n",
       "      <td>9.036140</td>\n",
       "      <td>0.000000e+00</td>\n",
       "      <td>91.3000</td>\n",
       "      <td>100.000000</td>\n",
       "      <td>100.000000</td>\n",
       "      <td>1.000000e+02</td>\n",
       "    </tr>\n",
       "    <tr>\n",
       "      <th>percent_bc_gt_75</th>\n",
       "      <td>2185289.0</td>\n",
       "      <td>42.435127</td>\n",
       "      <td>36.216157</td>\n",
       "      <td>0.000000e+00</td>\n",
       "      <td>0.0000</td>\n",
       "      <td>37.500000</td>\n",
       "      <td>71.400000</td>\n",
       "      <td>1.000000e+02</td>\n",
       "    </tr>\n",
       "    <tr>\n",
       "      <th>pub_rec_bankruptcies</th>\n",
       "      <td>2259303.0</td>\n",
       "      <td>0.128194</td>\n",
       "      <td>0.364613</td>\n",
       "      <td>0.000000e+00</td>\n",
       "      <td>0.0000</td>\n",
       "      <td>0.000000</td>\n",
       "      <td>0.000000</td>\n",
       "      <td>1.200000e+01</td>\n",
       "    </tr>\n",
       "    <tr>\n",
       "      <th>tax_liens</th>\n",
       "      <td>2260563.0</td>\n",
       "      <td>0.046771</td>\n",
       "      <td>0.377534</td>\n",
       "      <td>0.000000e+00</td>\n",
       "      <td>0.0000</td>\n",
       "      <td>0.000000</td>\n",
       "      <td>0.000000</td>\n",
       "      <td>8.500000e+01</td>\n",
       "    </tr>\n",
       "    <tr>\n",
       "      <th>tot_hi_cred_lim</th>\n",
       "      <td>2190392.0</td>\n",
       "      <td>178242.753744</td>\n",
       "      <td>181574.814655</td>\n",
       "      <td>0.000000e+00</td>\n",
       "      <td>50731.0000</td>\n",
       "      <td>114298.500000</td>\n",
       "      <td>257755.000000</td>\n",
       "      <td>9.999999e+06</td>\n",
       "    </tr>\n",
       "    <tr>\n",
       "      <th>total_bal_ex_mort</th>\n",
       "      <td>2210638.0</td>\n",
       "      <td>51022.938462</td>\n",
       "      <td>49911.235666</td>\n",
       "      <td>0.000000e+00</td>\n",
       "      <td>20892.0000</td>\n",
       "      <td>37864.000000</td>\n",
       "      <td>64350.000000</td>\n",
       "      <td>3.408095e+06</td>\n",
       "    </tr>\n",
       "    <tr>\n",
       "      <th>total_bc_limit</th>\n",
       "      <td>2210638.0</td>\n",
       "      <td>23193.768173</td>\n",
       "      <td>23006.558239</td>\n",
       "      <td>0.000000e+00</td>\n",
       "      <td>8300.0000</td>\n",
       "      <td>16300.000000</td>\n",
       "      <td>30300.000000</td>\n",
       "      <td>1.569000e+06</td>\n",
       "    </tr>\n",
       "    <tr>\n",
       "      <th>total_il_high_credit_limit</th>\n",
       "      <td>2190392.0</td>\n",
       "      <td>43732.013476</td>\n",
       "      <td>45072.982191</td>\n",
       "      <td>0.000000e+00</td>\n",
       "      <td>15000.0000</td>\n",
       "      <td>32696.000000</td>\n",
       "      <td>58804.250000</td>\n",
       "      <td>2.118996e+06</td>\n",
       "    </tr>\n",
       "    <tr>\n",
       "      <th>revol_bal_joint</th>\n",
       "      <td>108020.0</td>\n",
       "      <td>33617.278847</td>\n",
       "      <td>28153.874309</td>\n",
       "      <td>0.000000e+00</td>\n",
       "      <td>15106.7500</td>\n",
       "      <td>26516.500000</td>\n",
       "      <td>43769.000000</td>\n",
       "      <td>1.110019e+06</td>\n",
       "    </tr>\n",
       "    <tr>\n",
       "      <th>sec_app_inq_last_6mths</th>\n",
       "      <td>108021.0</td>\n",
       "      <td>0.633256</td>\n",
       "      <td>0.993401</td>\n",
       "      <td>0.000000e+00</td>\n",
       "      <td>0.0000</td>\n",
       "      <td>0.000000</td>\n",
       "      <td>1.000000</td>\n",
       "      <td>6.000000e+00</td>\n",
       "    </tr>\n",
       "    <tr>\n",
       "      <th>sec_app_mort_acc</th>\n",
       "      <td>108021.0</td>\n",
       "      <td>1.538997</td>\n",
       "      <td>1.760569</td>\n",
       "      <td>0.000000e+00</td>\n",
       "      <td>0.0000</td>\n",
       "      <td>1.000000</td>\n",
       "      <td>2.000000</td>\n",
       "      <td>2.700000e+01</td>\n",
       "    </tr>\n",
       "    <tr>\n",
       "      <th>sec_app_open_acc</th>\n",
       "      <td>108021.0</td>\n",
       "      <td>11.469455</td>\n",
       "      <td>6.627271</td>\n",
       "      <td>0.000000e+00</td>\n",
       "      <td>7.0000</td>\n",
       "      <td>10.000000</td>\n",
       "      <td>15.000000</td>\n",
       "      <td>8.200000e+01</td>\n",
       "    </tr>\n",
       "    <tr>\n",
       "      <th>sec_app_revol_util</th>\n",
       "      <td>106184.0</td>\n",
       "      <td>58.169101</td>\n",
       "      <td>25.548212</td>\n",
       "      <td>0.000000e+00</td>\n",
       "      <td>39.8000</td>\n",
       "      <td>60.200000</td>\n",
       "      <td>78.600000</td>\n",
       "      <td>4.343000e+02</td>\n",
       "    </tr>\n",
       "    <tr>\n",
       "      <th>sec_app_open_act_il</th>\n",
       "      <td>108021.0</td>\n",
       "      <td>3.010554</td>\n",
       "      <td>3.275893</td>\n",
       "      <td>0.000000e+00</td>\n",
       "      <td>1.0000</td>\n",
       "      <td>2.000000</td>\n",
       "      <td>4.000000</td>\n",
       "      <td>4.300000e+01</td>\n",
       "    </tr>\n",
       "    <tr>\n",
       "      <th>sec_app_num_rev_accts</th>\n",
       "      <td>108021.0</td>\n",
       "      <td>12.533072</td>\n",
       "      <td>8.150964</td>\n",
       "      <td>0.000000e+00</td>\n",
       "      <td>7.0000</td>\n",
       "      <td>11.000000</td>\n",
       "      <td>17.000000</td>\n",
       "      <td>1.060000e+02</td>\n",
       "    </tr>\n",
       "    <tr>\n",
       "      <th>sec_app_chargeoff_within_12_mths</th>\n",
       "      <td>108021.0</td>\n",
       "      <td>0.046352</td>\n",
       "      <td>0.411496</td>\n",
       "      <td>0.000000e+00</td>\n",
       "      <td>0.0000</td>\n",
       "      <td>0.000000</td>\n",
       "      <td>0.000000</td>\n",
       "      <td>2.100000e+01</td>\n",
       "    </tr>\n",
       "    <tr>\n",
       "      <th>sec_app_collections_12_mths_ex_med</th>\n",
       "      <td>108021.0</td>\n",
       "      <td>0.077568</td>\n",
       "      <td>0.407996</td>\n",
       "      <td>0.000000e+00</td>\n",
       "      <td>0.0000</td>\n",
       "      <td>0.000000</td>\n",
       "      <td>0.000000</td>\n",
       "      <td>2.300000e+01</td>\n",
       "    </tr>\n",
       "    <tr>\n",
       "      <th>sec_app_mths_since_last_major_derog</th>\n",
       "      <td>35942.0</td>\n",
       "      <td>36.937928</td>\n",
       "      <td>23.924584</td>\n",
       "      <td>0.000000e+00</td>\n",
       "      <td>16.0000</td>\n",
       "      <td>36.000000</td>\n",
       "      <td>56.000000</td>\n",
       "      <td>1.850000e+02</td>\n",
       "    </tr>\n",
       "    <tr>\n",
       "      <th>deferral_term</th>\n",
       "      <td>10613.0</td>\n",
       "      <td>3.000000</td>\n",
       "      <td>0.000000</td>\n",
       "      <td>3.000000e+00</td>\n",
       "      <td>3.0000</td>\n",
       "      <td>3.000000</td>\n",
       "      <td>3.000000</td>\n",
       "      <td>3.000000e+00</td>\n",
       "    </tr>\n",
       "    <tr>\n",
       "      <th>hardship_amount</th>\n",
       "      <td>10613.0</td>\n",
       "      <td>155.006696</td>\n",
       "      <td>129.113137</td>\n",
       "      <td>6.400000e-01</td>\n",
       "      <td>59.3700</td>\n",
       "      <td>119.040000</td>\n",
       "      <td>213.260000</td>\n",
       "      <td>9.439400e+02</td>\n",
       "    </tr>\n",
       "    <tr>\n",
       "      <th>hardship_length</th>\n",
       "      <td>10613.0</td>\n",
       "      <td>3.000000</td>\n",
       "      <td>0.000000</td>\n",
       "      <td>3.000000e+00</td>\n",
       "      <td>3.0000</td>\n",
       "      <td>3.000000</td>\n",
       "      <td>3.000000</td>\n",
       "      <td>3.000000e+00</td>\n",
       "    </tr>\n",
       "    <tr>\n",
       "      <th>hardship_dpd</th>\n",
       "      <td>10613.0</td>\n",
       "      <td>13.686422</td>\n",
       "      <td>9.728138</td>\n",
       "      <td>0.000000e+00</td>\n",
       "      <td>5.0000</td>\n",
       "      <td>15.000000</td>\n",
       "      <td>22.000000</td>\n",
       "      <td>3.700000e+01</td>\n",
       "    </tr>\n",
       "    <tr>\n",
       "      <th>orig_projected_additional_accrued_interest</th>\n",
       "      <td>8426.0</td>\n",
       "      <td>454.840802</td>\n",
       "      <td>375.830737</td>\n",
       "      <td>1.920000e+00</td>\n",
       "      <td>174.9675</td>\n",
       "      <td>352.605000</td>\n",
       "      <td>622.792500</td>\n",
       "      <td>2.680890e+03</td>\n",
       "    </tr>\n",
       "    <tr>\n",
       "      <th>hardship_payoff_balance_amount</th>\n",
       "      <td>10613.0</td>\n",
       "      <td>11628.036442</td>\n",
       "      <td>7615.161123</td>\n",
       "      <td>5.573000e+01</td>\n",
       "      <td>5628.7300</td>\n",
       "      <td>10044.220000</td>\n",
       "      <td>16114.940000</td>\n",
       "      <td>4.030641e+04</td>\n",
       "    </tr>\n",
       "    <tr>\n",
       "      <th>hardship_last_payment_amount</th>\n",
       "      <td>10613.0</td>\n",
       "      <td>193.606331</td>\n",
       "      <td>198.694368</td>\n",
       "      <td>1.000000e-02</td>\n",
       "      <td>43.7800</td>\n",
       "      <td>132.890000</td>\n",
       "      <td>284.180000</td>\n",
       "      <td>1.407860e+03</td>\n",
       "    </tr>\n",
       "    <tr>\n",
       "      <th>settlement_amount</th>\n",
       "      <td>33056.0</td>\n",
       "      <td>5030.606922</td>\n",
       "      <td>3692.027842</td>\n",
       "      <td>4.421000e+01</td>\n",
       "      <td>2227.0000</td>\n",
       "      <td>4172.855000</td>\n",
       "      <td>6870.782500</td>\n",
       "      <td>3.360100e+04</td>\n",
       "    </tr>\n",
       "    <tr>\n",
       "      <th>settlement_percentage</th>\n",
       "      <td>33056.0</td>\n",
       "      <td>47.775600</td>\n",
       "      <td>7.336379</td>\n",
       "      <td>2.000000e-01</td>\n",
       "      <td>45.0000</td>\n",
       "      <td>45.000000</td>\n",
       "      <td>50.000000</td>\n",
       "      <td>5.213500e+02</td>\n",
       "    </tr>\n",
       "    <tr>\n",
       "      <th>settlement_term</th>\n",
       "      <td>33056.0</td>\n",
       "      <td>13.148596</td>\n",
       "      <td>8.192319</td>\n",
       "      <td>0.000000e+00</td>\n",
       "      <td>6.0000</td>\n",
       "      <td>14.000000</td>\n",
       "      <td>18.000000</td>\n",
       "      <td>1.810000e+02</td>\n",
       "    </tr>\n",
       "  </tbody>\n",
       "</table>\n",
       "<p>109 rows × 8 columns</p>\n",
       "</div>"
      ],
      "text/plain": [
       "                                                count           mean  \\\n",
       "id                                                0.0            NaN   \n",
       "member_id                                         0.0            NaN   \n",
       "loan_amnt                                   2260668.0   15046.931228   \n",
       "funded_amnt                                 2260668.0   15041.664057   \n",
       "funded_amnt_inv                             2260668.0   15023.437624   \n",
       "int_rate                                    2260668.0      13.092913   \n",
       "installment                                 2260668.0     445.807646   \n",
       "annual_inc                                  2260664.0   77992.428687   \n",
       "url                                               0.0            NaN   \n",
       "dti                                         2258957.0      18.824196   \n",
       "delinq_2yrs                                 2260639.0       0.306879   \n",
       "inq_last_6mths                              2260638.0       0.576835   \n",
       "mths_since_last_delinq                      1102166.0      34.540916   \n",
       "mths_since_last_record                       359156.0      72.312842   \n",
       "open_acc                                    2260639.0      11.612402   \n",
       "pub_rec                                     2260639.0       0.197528   \n",
       "revol_bal                                   2260668.0   16658.458078   \n",
       "revol_util                                  2258866.0      50.337696   \n",
       "total_acc                                   2260639.0      24.162552   \n",
       "out_prncp                                   2260668.0    4446.292883   \n",
       "out_prncp_inv                               2260668.0    4445.294869   \n",
       "total_pymnt                                 2260668.0   11824.030498   \n",
       "total_pymnt_inv                             2260668.0   11805.943515   \n",
       "total_rec_prncp                             2260668.0    9300.142079   \n",
       "total_rec_int                               2260668.0    2386.351954   \n",
       "total_rec_late_fee                          2260668.0       1.462469   \n",
       "recoveries                                  2260668.0     136.073998   \n",
       "collection_recovery_fee                     2260668.0      22.593284   \n",
       "last_pymnt_amnt                             2260668.0    3364.015261   \n",
       "collections_12_mths_ex_med                  2260523.0       0.018146   \n",
       "...                                               ...            ...   \n",
       "num_tl_90g_dpd_24m                          2190392.0       0.082938   \n",
       "num_tl_op_past_12m                          2190392.0       2.076755   \n",
       "pct_tl_nvr_dlq                              2190237.0      94.114576   \n",
       "percent_bc_gt_75                            2185289.0      42.435127   \n",
       "pub_rec_bankruptcies                        2259303.0       0.128194   \n",
       "tax_liens                                   2260563.0       0.046771   \n",
       "tot_hi_cred_lim                             2190392.0  178242.753744   \n",
       "total_bal_ex_mort                           2210638.0   51022.938462   \n",
       "total_bc_limit                              2210638.0   23193.768173   \n",
       "total_il_high_credit_limit                  2190392.0   43732.013476   \n",
       "revol_bal_joint                              108020.0   33617.278847   \n",
       "sec_app_inq_last_6mths                       108021.0       0.633256   \n",
       "sec_app_mort_acc                             108021.0       1.538997   \n",
       "sec_app_open_acc                             108021.0      11.469455   \n",
       "sec_app_revol_util                           106184.0      58.169101   \n",
       "sec_app_open_act_il                          108021.0       3.010554   \n",
       "sec_app_num_rev_accts                        108021.0      12.533072   \n",
       "sec_app_chargeoff_within_12_mths             108021.0       0.046352   \n",
       "sec_app_collections_12_mths_ex_med           108021.0       0.077568   \n",
       "sec_app_mths_since_last_major_derog           35942.0      36.937928   \n",
       "deferral_term                                 10613.0       3.000000   \n",
       "hardship_amount                               10613.0     155.006696   \n",
       "hardship_length                               10613.0       3.000000   \n",
       "hardship_dpd                                  10613.0      13.686422   \n",
       "orig_projected_additional_accrued_interest     8426.0     454.840802   \n",
       "hardship_payoff_balance_amount                10613.0   11628.036442   \n",
       "hardship_last_payment_amount                  10613.0     193.606331   \n",
       "settlement_amount                             33056.0    5030.606922   \n",
       "settlement_percentage                         33056.0      47.775600   \n",
       "settlement_term                               33056.0      13.148596   \n",
       "\n",
       "                                                      std           min  \\\n",
       "id                                                    NaN           NaN   \n",
       "member_id                                             NaN           NaN   \n",
       "loan_amnt                                     9190.245488  5.000000e+02   \n",
       "funded_amnt                                   9188.413022  5.000000e+02   \n",
       "funded_amnt_inv                               9192.331807  0.000000e+00   \n",
       "int_rate                                         4.832114  5.310000e+00   \n",
       "installment                                    267.173725  4.930000e+00   \n",
       "annual_inc                                  112696.199574  0.000000e+00   \n",
       "url                                                   NaN           NaN   \n",
       "dti                                             14.183329 -1.000000e+00   \n",
       "delinq_2yrs                                      0.867230  0.000000e+00   \n",
       "inq_last_6mths                                   0.885963  0.000000e+00   \n",
       "mths_since_last_delinq                          21.900471  0.000000e+00   \n",
       "mths_since_last_record                          26.464094  0.000000e+00   \n",
       "open_acc                                         5.640861  0.000000e+00   \n",
       "pub_rec                                          0.570515  0.000000e+00   \n",
       "revol_bal                                    22948.305028  0.000000e+00   \n",
       "revol_util                                      24.713073  0.000000e+00   \n",
       "total_acc                                       11.987528  1.000000e+00   \n",
       "out_prncp                                     7547.611729  0.000000e+00   \n",
       "out_prncp_inv                                 7546.656886  0.000000e+00   \n",
       "total_pymnt                                   9889.599027  0.000000e+00   \n",
       "total_pymnt_inv                               9884.834668  0.000000e+00   \n",
       "total_rec_prncp                               8304.885568  0.000000e+00   \n",
       "total_rec_int                                 2663.086087  0.000000e+00   \n",
       "total_rec_late_fee                              11.502095 -9.500000e-09   \n",
       "recoveries                                     725.831678  0.000000e+00   \n",
       "collection_recovery_fee                        127.111362  0.000000e+00   \n",
       "last_pymnt_amnt                               5971.757409  0.000000e+00   \n",
       "collections_12_mths_ex_med                       0.150813  0.000000e+00   \n",
       "...                                                   ...           ...   \n",
       "num_tl_90g_dpd_24m                               0.493573  0.000000e+00   \n",
       "num_tl_op_past_12m                               1.830711  0.000000e+00   \n",
       "pct_tl_nvr_dlq                                   9.036140  0.000000e+00   \n",
       "percent_bc_gt_75                                36.216157  0.000000e+00   \n",
       "pub_rec_bankruptcies                             0.364613  0.000000e+00   \n",
       "tax_liens                                        0.377534  0.000000e+00   \n",
       "tot_hi_cred_lim                             181574.814655  0.000000e+00   \n",
       "total_bal_ex_mort                            49911.235666  0.000000e+00   \n",
       "total_bc_limit                               23006.558239  0.000000e+00   \n",
       "total_il_high_credit_limit                   45072.982191  0.000000e+00   \n",
       "revol_bal_joint                              28153.874309  0.000000e+00   \n",
       "sec_app_inq_last_6mths                           0.993401  0.000000e+00   \n",
       "sec_app_mort_acc                                 1.760569  0.000000e+00   \n",
       "sec_app_open_acc                                 6.627271  0.000000e+00   \n",
       "sec_app_revol_util                              25.548212  0.000000e+00   \n",
       "sec_app_open_act_il                              3.275893  0.000000e+00   \n",
       "sec_app_num_rev_accts                            8.150964  0.000000e+00   \n",
       "sec_app_chargeoff_within_12_mths                 0.411496  0.000000e+00   \n",
       "sec_app_collections_12_mths_ex_med               0.407996  0.000000e+00   \n",
       "sec_app_mths_since_last_major_derog             23.924584  0.000000e+00   \n",
       "deferral_term                                    0.000000  3.000000e+00   \n",
       "hardship_amount                                129.113137  6.400000e-01   \n",
       "hardship_length                                  0.000000  3.000000e+00   \n",
       "hardship_dpd                                     9.728138  0.000000e+00   \n",
       "orig_projected_additional_accrued_interest     375.830737  1.920000e+00   \n",
       "hardship_payoff_balance_amount                7615.161123  5.573000e+01   \n",
       "hardship_last_payment_amount                   198.694368  1.000000e-02   \n",
       "settlement_amount                             3692.027842  4.421000e+01   \n",
       "settlement_percentage                            7.336379  2.000000e-01   \n",
       "settlement_term                                  8.192319  0.000000e+00   \n",
       "\n",
       "                                                   25%            50%  \\\n",
       "id                                                 NaN            NaN   \n",
       "member_id                                          NaN            NaN   \n",
       "loan_amnt                                    8000.0000   12900.000000   \n",
       "funded_amnt                                  8000.0000   12875.000000   \n",
       "funded_amnt_inv                              8000.0000   12800.000000   \n",
       "int_rate                                        9.4900      12.620000   \n",
       "installment                                   251.6500     377.990000   \n",
       "annual_inc                                  46000.0000   65000.000000   \n",
       "url                                                NaN            NaN   \n",
       "dti                                            11.8900      17.840000   \n",
       "delinq_2yrs                                     0.0000       0.000000   \n",
       "inq_last_6mths                                  0.0000       0.000000   \n",
       "mths_since_last_delinq                         16.0000      31.000000   \n",
       "mths_since_last_record                         55.0000      74.000000   \n",
       "open_acc                                        8.0000      11.000000   \n",
       "pub_rec                                         0.0000       0.000000   \n",
       "revol_bal                                    5950.0000   11324.000000   \n",
       "revol_util                                     31.5000      50.300000   \n",
       "total_acc                                      15.0000      22.000000   \n",
       "out_prncp                                       0.0000       0.000000   \n",
       "out_prncp_inv                                   0.0000       0.000000   \n",
       "total_pymnt                                  4272.5800    9060.869904   \n",
       "total_pymnt_inv                              4257.7300    9043.080000   \n",
       "total_rec_prncp                              2846.1800    6823.385000   \n",
       "total_rec_int                                 693.6100    1485.280000   \n",
       "total_rec_late_fee                              0.0000       0.000000   \n",
       "recoveries                                      0.0000       0.000000   \n",
       "collection_recovery_fee                         0.0000       0.000000   \n",
       "last_pymnt_amnt                               308.6400     588.470000   \n",
       "collections_12_mths_ex_med                      0.0000       0.000000   \n",
       "...                                                ...            ...   \n",
       "num_tl_90g_dpd_24m                              0.0000       0.000000   \n",
       "num_tl_op_past_12m                              1.0000       2.000000   \n",
       "pct_tl_nvr_dlq                                 91.3000     100.000000   \n",
       "percent_bc_gt_75                                0.0000      37.500000   \n",
       "pub_rec_bankruptcies                            0.0000       0.000000   \n",
       "tax_liens                                       0.0000       0.000000   \n",
       "tot_hi_cred_lim                             50731.0000  114298.500000   \n",
       "total_bal_ex_mort                           20892.0000   37864.000000   \n",
       "total_bc_limit                               8300.0000   16300.000000   \n",
       "total_il_high_credit_limit                  15000.0000   32696.000000   \n",
       "revol_bal_joint                             15106.7500   26516.500000   \n",
       "sec_app_inq_last_6mths                          0.0000       0.000000   \n",
       "sec_app_mort_acc                                0.0000       1.000000   \n",
       "sec_app_open_acc                                7.0000      10.000000   \n",
       "sec_app_revol_util                             39.8000      60.200000   \n",
       "sec_app_open_act_il                             1.0000       2.000000   \n",
       "sec_app_num_rev_accts                           7.0000      11.000000   \n",
       "sec_app_chargeoff_within_12_mths                0.0000       0.000000   \n",
       "sec_app_collections_12_mths_ex_med              0.0000       0.000000   \n",
       "sec_app_mths_since_last_major_derog            16.0000      36.000000   \n",
       "deferral_term                                   3.0000       3.000000   \n",
       "hardship_amount                                59.3700     119.040000   \n",
       "hardship_length                                 3.0000       3.000000   \n",
       "hardship_dpd                                    5.0000      15.000000   \n",
       "orig_projected_additional_accrued_interest    174.9675     352.605000   \n",
       "hardship_payoff_balance_amount               5628.7300   10044.220000   \n",
       "hardship_last_payment_amount                   43.7800     132.890000   \n",
       "settlement_amount                            2227.0000    4172.855000   \n",
       "settlement_percentage                          45.0000      45.000000   \n",
       "settlement_term                                 6.0000      14.000000   \n",
       "\n",
       "                                                      75%           max  \n",
       "id                                                    NaN           NaN  \n",
       "member_id                                             NaN           NaN  \n",
       "loan_amnt                                    20000.000000  4.000000e+04  \n",
       "funded_amnt                                  20000.000000  4.000000e+04  \n",
       "funded_amnt_inv                              20000.000000  4.000000e+04  \n",
       "int_rate                                        15.990000  3.099000e+01  \n",
       "installment                                    593.320000  1.719830e+03  \n",
       "annual_inc                                   93000.000000  1.100000e+08  \n",
       "url                                                   NaN           NaN  \n",
       "dti                                             24.490000  9.990000e+02  \n",
       "delinq_2yrs                                      0.000000  5.800000e+01  \n",
       "inq_last_6mths                                   1.000000  3.300000e+01  \n",
       "mths_since_last_delinq                          50.000000  2.260000e+02  \n",
       "mths_since_last_record                          92.000000  1.290000e+02  \n",
       "open_acc                                        14.000000  1.010000e+02  \n",
       "pub_rec                                          0.000000  8.600000e+01  \n",
       "revol_bal                                    20246.000000  2.904836e+06  \n",
       "revol_util                                      69.400000  8.923000e+02  \n",
       "total_acc                                       31.000000  1.760000e+02  \n",
       "out_prncp                                     6712.632500  4.000000e+04  \n",
       "out_prncp_inv                                 6710.320000  4.000000e+04  \n",
       "total_pymnt                                  16707.972704  6.329688e+04  \n",
       "total_pymnt_inv                              16682.572500  6.329688e+04  \n",
       "total_rec_prncp                              13397.500000  4.000000e+04  \n",
       "total_rec_int                                 3052.220000  2.819250e+04  \n",
       "total_rec_late_fee                               0.000000  1.427250e+03  \n",
       "recoveries                                       0.000000  3.985955e+04  \n",
       "collection_recovery_fee                          0.000000  7.174719e+03  \n",
       "last_pymnt_amnt                               3534.965000  4.219205e+04  \n",
       "collections_12_mths_ex_med                       0.000000  2.000000e+01  \n",
       "...                                                   ...           ...  \n",
       "num_tl_90g_dpd_24m                               0.000000  5.800000e+01  \n",
       "num_tl_op_past_12m                               3.000000  3.200000e+01  \n",
       "pct_tl_nvr_dlq                                 100.000000  1.000000e+02  \n",
       "percent_bc_gt_75                                71.400000  1.000000e+02  \n",
       "pub_rec_bankruptcies                             0.000000  1.200000e+01  \n",
       "tax_liens                                        0.000000  8.500000e+01  \n",
       "tot_hi_cred_lim                             257755.000000  9.999999e+06  \n",
       "total_bal_ex_mort                            64350.000000  3.408095e+06  \n",
       "total_bc_limit                               30300.000000  1.569000e+06  \n",
       "total_il_high_credit_limit                   58804.250000  2.118996e+06  \n",
       "revol_bal_joint                              43769.000000  1.110019e+06  \n",
       "sec_app_inq_last_6mths                           1.000000  6.000000e+00  \n",
       "sec_app_mort_acc                                 2.000000  2.700000e+01  \n",
       "sec_app_open_acc                                15.000000  8.200000e+01  \n",
       "sec_app_revol_util                              78.600000  4.343000e+02  \n",
       "sec_app_open_act_il                              4.000000  4.300000e+01  \n",
       "sec_app_num_rev_accts                           17.000000  1.060000e+02  \n",
       "sec_app_chargeoff_within_12_mths                 0.000000  2.100000e+01  \n",
       "sec_app_collections_12_mths_ex_med               0.000000  2.300000e+01  \n",
       "sec_app_mths_since_last_major_derog             56.000000  1.850000e+02  \n",
       "deferral_term                                    3.000000  3.000000e+00  \n",
       "hardship_amount                                213.260000  9.439400e+02  \n",
       "hardship_length                                  3.000000  3.000000e+00  \n",
       "hardship_dpd                                    22.000000  3.700000e+01  \n",
       "orig_projected_additional_accrued_interest     622.792500  2.680890e+03  \n",
       "hardship_payoff_balance_amount               16114.940000  4.030641e+04  \n",
       "hardship_last_payment_amount                   284.180000  1.407860e+03  \n",
       "settlement_amount                             6870.782500  3.360100e+04  \n",
       "settlement_percentage                           50.000000  5.213500e+02  \n",
       "settlement_term                                 18.000000  1.810000e+02  \n",
       "\n",
       "[109 rows x 8 columns]"
      ]
     },
     "execution_count": 6,
     "metadata": {},
     "output_type": "execute_result"
    }
   ],
   "source": [
    "appl_df.describe().T"
   ]
  },
  {
   "cell_type": "code",
   "execution_count": 7,
   "metadata": {},
   "outputs": [
    {
     "data": {
      "text/plain": [
       "<function seaborn.rcmod.set(context='notebook', style='darkgrid', palette='deep', font='sans-serif', font_scale=1, color_codes=True, rc=None)>"
      ]
     },
     "execution_count": 7,
     "metadata": {},
     "output_type": "execute_result"
    }
   ],
   "source": [
    "pd.set_option('display.max_rows', 200)\n",
    "pd.set_option('display.max_columns', 200)\n",
    "pd.set_option('display.width', 1000)\n",
    "sns.set"
   ]
  },
  {
   "cell_type": "code",
   "execution_count": 8,
   "metadata": {},
   "outputs": [
    {
     "data": {
      "text/plain": [
       "id                                                  0\n",
       "member_id                                           0\n",
       "loan_amnt                                     2260668\n",
       "funded_amnt                                   2260668\n",
       "funded_amnt_inv                               2260668\n",
       "term                                          2260668\n",
       "int_rate                                      2260668\n",
       "installment                                   2260668\n",
       "grade                                         2260668\n",
       "sub_grade                                     2260668\n",
       "emp_title                                     2093699\n",
       "emp_length                                    2113761\n",
       "home_ownership                                2260668\n",
       "annual_inc                                    2260664\n",
       "verification_status                           2260668\n",
       "issue_d                                       2260668\n",
       "loan_status                                   2260668\n",
       "pymnt_plan                                    2260668\n",
       "url                                                 0\n",
       "desc                                           126067\n",
       "purpose                                       2260668\n",
       "title                                         2237343\n",
       "zip_code                                      2260667\n",
       "addr_state                                    2260668\n",
       "dti                                           2258957\n",
       "delinq_2yrs                                   2260639\n",
       "earliest_cr_line                              2260639\n",
       "inq_last_6mths                                2260638\n",
       "mths_since_last_delinq                        1102166\n",
       "mths_since_last_record                         359156\n",
       "open_acc                                      2260639\n",
       "pub_rec                                       2260639\n",
       "revol_bal                                     2260668\n",
       "revol_util                                    2258866\n",
       "total_acc                                     2260639\n",
       "initial_list_status                           2260668\n",
       "out_prncp                                     2260668\n",
       "out_prncp_inv                                 2260668\n",
       "total_pymnt                                   2260668\n",
       "total_pymnt_inv                               2260668\n",
       "total_rec_prncp                               2260668\n",
       "total_rec_int                                 2260668\n",
       "total_rec_late_fee                            2260668\n",
       "recoveries                                    2260668\n",
       "collection_recovery_fee                       2260668\n",
       "last_pymnt_d                                  2258242\n",
       "last_pymnt_amnt                               2260668\n",
       "next_pymnt_d                                   957061\n",
       "last_credit_pull_d                            2260595\n",
       "collections_12_mths_ex_med                    2260523\n",
       "mths_since_last_major_derog                    580775\n",
       "policy_code                                   2260668\n",
       "application_type                              2260668\n",
       "annual_inc_joint                               120710\n",
       "dti_joint                                      120706\n",
       "verification_status_joint                      115730\n",
       "acc_now_delinq                                2260639\n",
       "tot_coll_amt                                  2190392\n",
       "tot_cur_bal                                   2190392\n",
       "open_acc_6m                                   1394538\n",
       "open_act_il                                   1394539\n",
       "open_il_12m                                   1394539\n",
       "open_il_24m                                   1394539\n",
       "mths_since_rcnt_il                            1350744\n",
       "total_bal_il                                  1394539\n",
       "il_util                                       1191818\n",
       "open_rv_12m                                   1394539\n",
       "open_rv_24m                                   1394539\n",
       "max_bal_bc                                    1394539\n",
       "all_util                                      1394320\n",
       "total_rev_hi_lim                              2190392\n",
       "inq_fi                                        1394539\n",
       "total_cu_tl                                   1394538\n",
       "inq_last_12m                                  1394538\n",
       "acc_open_past_24mths                          2210638\n",
       "avg_cur_bal                                   2190322\n",
       "bc_open_to_buy                                2185733\n",
       "bc_util                                       2184597\n",
       "chargeoff_within_12_mths                      2260523\n",
       "delinq_amnt                                   2260639\n",
       "mo_sin_old_il_acct                            2121597\n",
       "mo_sin_old_rev_tl_op                          2190391\n",
       "mo_sin_rcnt_rev_tl_op                         2190391\n",
       "mo_sin_rcnt_tl                                2190392\n",
       "mort_acc                                      2210638\n",
       "mths_since_recent_bc                          2187256\n",
       "mths_since_recent_bc_dlq                       519701\n",
       "mths_since_recent_inq                         1965233\n",
       "mths_since_recent_revol_delinq                 740359\n",
       "num_accts_ever_120_pd                         2190392\n",
       "num_actv_bc_tl                                2190392\n",
       "num_actv_rev_tl                               2190392\n",
       "num_bc_sats                                   2202078\n",
       "num_bc_tl                                     2190392\n",
       "num_il_tl                                     2190392\n",
       "num_op_rev_tl                                 2190392\n",
       "num_rev_accts                                 2190391\n",
       "num_rev_tl_bal_gt_0                           2190392\n",
       "num_sats                                      2202078\n",
       "num_tl_120dpd_2m                              2107011\n",
       "num_tl_30dpd                                  2190392\n",
       "num_tl_90g_dpd_24m                            2190392\n",
       "num_tl_op_past_12m                            2190392\n",
       "pct_tl_nvr_dlq                                2190237\n",
       "percent_bc_gt_75                              2185289\n",
       "pub_rec_bankruptcies                          2259303\n",
       "tax_liens                                     2260563\n",
       "tot_hi_cred_lim                               2190392\n",
       "total_bal_ex_mort                             2210638\n",
       "total_bc_limit                                2210638\n",
       "total_il_high_credit_limit                    2190392\n",
       "revol_bal_joint                                108020\n",
       "sec_app_earliest_cr_line                       108021\n",
       "sec_app_inq_last_6mths                         108021\n",
       "sec_app_mort_acc                               108021\n",
       "sec_app_open_acc                               108021\n",
       "sec_app_revol_util                             106184\n",
       "sec_app_open_act_il                            108021\n",
       "sec_app_num_rev_accts                          108021\n",
       "sec_app_chargeoff_within_12_mths               108021\n",
       "sec_app_collections_12_mths_ex_med             108021\n",
       "sec_app_mths_since_last_major_derog             35942\n",
       "hardship_flag                                 2260668\n",
       "hardship_type                                   10613\n",
       "hardship_reason                                 10613\n",
       "hardship_status                                 10613\n",
       "deferral_term                                   10613\n",
       "hardship_amount                                 10613\n",
       "hardship_start_date                             10613\n",
       "hardship_end_date                               10613\n",
       "payment_plan_start_date                         10613\n",
       "hardship_length                                 10613\n",
       "hardship_dpd                                    10613\n",
       "hardship_loan_status                            10613\n",
       "orig_projected_additional_accrued_interest       8426\n",
       "hardship_payoff_balance_amount                  10613\n",
       "hardship_last_payment_amount                    10613\n",
       "disbursement_method                           2260668\n",
       "debt_settlement_flag                          2260668\n",
       "debt_settlement_flag_date                       33056\n",
       "settlement_status                               33056\n",
       "settlement_date                                 33056\n",
       "settlement_amount                               33056\n",
       "settlement_percentage                           33056\n",
       "settlement_term                                 33056\n",
       "dtype: int64"
      ]
     },
     "execution_count": 8,
     "metadata": {},
     "output_type": "execute_result"
    }
   ],
   "source": [
    "appl_df.count(axis=0, numeric_only=False)"
   ]
  },
  {
   "cell_type": "code",
   "execution_count": 9,
   "metadata": {},
   "outputs": [],
   "source": [
    "appl_df.drop('member_id', axis=1, inplace=True)\n",
    "appl_df.drop('id', axis=1, inplace=True)"
   ]
  },
  {
   "cell_type": "code",
   "execution_count": 10,
   "metadata": {},
   "outputs": [
    {
     "data": {
      "text/plain": [
       "Fully Paid                                             1041952\n",
       "Current                                                 919695\n",
       "Charged Off                                             261655\n",
       "Late (31-120 days)                                       21897\n",
       "In Grace Period                                           8952\n",
       "Late (16-30 days)                                         3737\n",
       "Does not meet the credit policy. Status:Fully Paid        1988\n",
       "Does not meet the credit policy. Status:Charged Off        761\n",
       "Default                                                     31\n",
       "Name: loan_status, dtype: int64"
      ]
     },
     "execution_count": 10,
     "metadata": {},
     "output_type": "execute_result"
    }
   ],
   "source": [
    "appl_df.loan_status.value_counts()"
   ]
  },
  {
   "cell_type": "code",
   "execution_count": 11,
   "metadata": {},
   "outputs": [
    {
     "data": {
      "text/plain": [
       "(2260668, 143)"
      ]
     },
     "execution_count": 11,
     "metadata": {},
     "output_type": "execute_result"
    }
   ],
   "source": [
    "appl_df.shape"
   ]
  },
  {
   "cell_type": "code",
   "execution_count": 12,
   "metadata": {},
   "outputs": [],
   "source": [
    "df_cleanAppl = appl_df[(appl_df.loan_status == 'Fully Paid') | (appl_df.loan_status == 'Charged Off')]"
   ]
  },
  {
   "cell_type": "code",
   "execution_count": 13,
   "metadata": {},
   "outputs": [
    {
     "data": {
      "text/plain": [
       "Fully Paid     1041952\n",
       "Charged Off     261655\n",
       "Name: loan_status, dtype: int64"
      ]
     },
     "execution_count": 13,
     "metadata": {},
     "output_type": "execute_result"
    }
   ],
   "source": [
    "df_cleanAppl.loan_status.value_counts()"
   ]
  },
  {
   "cell_type": "code",
   "execution_count": 14,
   "metadata": {},
   "outputs": [
    {
     "data": {
      "text/plain": [
       "(1303607, 143)"
      ]
     },
     "execution_count": 14,
     "metadata": {},
     "output_type": "execute_result"
    }
   ],
   "source": [
    "df_cleanAppl.shape"
   ]
  },
  {
   "cell_type": "code",
   "execution_count": 15,
   "metadata": {},
   "outputs": [
    {
     "data": {
      "text/plain": [
       "Fully Paid     0.799284\n",
       "Charged Off    0.200716\n",
       "Name: loan_status, dtype: float64"
      ]
     },
     "execution_count": 15,
     "metadata": {},
     "output_type": "execute_result"
    }
   ],
   "source": [
    "df_cleanAppl.loan_status.value_counts(normalize=True) #About 80% are ‘Fully Paid’ and 20% are ‘Charged Off’So our sample is biased in this case"
   ]
  },
  {
   "cell_type": "code",
   "execution_count": 16,
   "metadata": {},
   "outputs": [
    {
     "data": {
      "text/plain": [
       "True     103\n",
       "False     40\n",
       "dtype: int64"
      ]
     },
     "execution_count": 16,
     "metadata": {},
     "output_type": "execute_result"
    }
   ],
   "source": [
    "df_cleanAppl.isnull().any().value_counts() #103 COLUMNS HAVE MISSING VALUES"
   ]
  },
  {
   "cell_type": "code",
   "execution_count": 17,
   "metadata": {},
   "outputs": [],
   "source": [
    "total_num = df_cleanAppl.isnull().sum().sort_values(ascending=False)\n",
    "perc = df_cleanAppl.isnull().sum()/df_cleanAppl.isnull().count() *100\n",
    "perc1 = (round(perc,2).sort_values(ascending=False))\n",
    "\n",
    "# Creating a data frame:\n",
    "df_miss = pd.concat([total_num, perc1], axis=1, keys =[\"Total Missing Values\", \"Percentage %\"], sort=True).sort_values(by =[\"Percentage %\"], ascending = False)\n",
    "df_miss.reset_index(inplace=True)"
   ]
  },
  {
   "cell_type": "code",
   "execution_count": 18,
   "metadata": {},
   "outputs": [
    {
     "data": {
      "text/html": [
       "<div>\n",
       "<style scoped>\n",
       "    .dataframe tbody tr th:only-of-type {\n",
       "        vertical-align: middle;\n",
       "    }\n",
       "\n",
       "    .dataframe tbody tr th {\n",
       "        vertical-align: top;\n",
       "    }\n",
       "\n",
       "    .dataframe thead th {\n",
       "        text-align: right;\n",
       "    }\n",
       "</style>\n",
       "<table border=\"1\" class=\"dataframe\">\n",
       "  <thead>\n",
       "    <tr style=\"text-align: right;\">\n",
       "      <th></th>\n",
       "      <th>index</th>\n",
       "      <th>Total Missing Values</th>\n",
       "      <th>Percentage %</th>\n",
       "    </tr>\n",
       "  </thead>\n",
       "  <tbody>\n",
       "    <tr>\n",
       "      <th>0</th>\n",
       "      <td>url</td>\n",
       "      <td>1303607</td>\n",
       "      <td>100.00</td>\n",
       "    </tr>\n",
       "    <tr>\n",
       "      <th>1</th>\n",
       "      <td>next_pymnt_d</td>\n",
       "      <td>1303607</td>\n",
       "      <td>100.00</td>\n",
       "    </tr>\n",
       "    <tr>\n",
       "      <th>2</th>\n",
       "      <td>orig_projected_additional_accrued_interest</td>\n",
       "      <td>1300174</td>\n",
       "      <td>99.74</td>\n",
       "    </tr>\n",
       "    <tr>\n",
       "      <th>3</th>\n",
       "      <td>deferral_term</td>\n",
       "      <td>1298272</td>\n",
       "      <td>99.59</td>\n",
       "    </tr>\n",
       "    <tr>\n",
       "      <th>4</th>\n",
       "      <td>hardship_last_payment_amount</td>\n",
       "      <td>1298272</td>\n",
       "      <td>99.59</td>\n",
       "    </tr>\n",
       "    <tr>\n",
       "      <th>5</th>\n",
       "      <td>hardship_payoff_balance_amount</td>\n",
       "      <td>1298272</td>\n",
       "      <td>99.59</td>\n",
       "    </tr>\n",
       "    <tr>\n",
       "      <th>6</th>\n",
       "      <td>hardship_end_date</td>\n",
       "      <td>1298272</td>\n",
       "      <td>99.59</td>\n",
       "    </tr>\n",
       "    <tr>\n",
       "      <th>7</th>\n",
       "      <td>hardship_dpd</td>\n",
       "      <td>1298272</td>\n",
       "      <td>99.59</td>\n",
       "    </tr>\n",
       "    <tr>\n",
       "      <th>8</th>\n",
       "      <td>hardship_amount</td>\n",
       "      <td>1298272</td>\n",
       "      <td>99.59</td>\n",
       "    </tr>\n",
       "    <tr>\n",
       "      <th>9</th>\n",
       "      <td>hardship_reason</td>\n",
       "      <td>1298272</td>\n",
       "      <td>99.59</td>\n",
       "    </tr>\n",
       "    <tr>\n",
       "      <th>10</th>\n",
       "      <td>hardship_start_date</td>\n",
       "      <td>1298272</td>\n",
       "      <td>99.59</td>\n",
       "    </tr>\n",
       "    <tr>\n",
       "      <th>11</th>\n",
       "      <td>hardship_status</td>\n",
       "      <td>1298272</td>\n",
       "      <td>99.59</td>\n",
       "    </tr>\n",
       "    <tr>\n",
       "      <th>12</th>\n",
       "      <td>hardship_type</td>\n",
       "      <td>1298272</td>\n",
       "      <td>99.59</td>\n",
       "    </tr>\n",
       "    <tr>\n",
       "      <th>13</th>\n",
       "      <td>hardship_loan_status</td>\n",
       "      <td>1298272</td>\n",
       "      <td>99.59</td>\n",
       "    </tr>\n",
       "    <tr>\n",
       "      <th>14</th>\n",
       "      <td>hardship_length</td>\n",
       "      <td>1298272</td>\n",
       "      <td>99.59</td>\n",
       "    </tr>\n",
       "    <tr>\n",
       "      <th>15</th>\n",
       "      <td>payment_plan_start_date</td>\n",
       "      <td>1298272</td>\n",
       "      <td>99.59</td>\n",
       "    </tr>\n",
       "    <tr>\n",
       "      <th>16</th>\n",
       "      <td>sec_app_mths_since_last_major_derog</td>\n",
       "      <td>1297675</td>\n",
       "      <td>99.54</td>\n",
       "    </tr>\n",
       "    <tr>\n",
       "      <th>17</th>\n",
       "      <td>sec_app_revol_util</td>\n",
       "      <td>1287389</td>\n",
       "      <td>98.76</td>\n",
       "    </tr>\n",
       "    <tr>\n",
       "      <th>18</th>\n",
       "      <td>sec_app_num_rev_accts</td>\n",
       "      <td>1287096</td>\n",
       "      <td>98.73</td>\n",
       "    </tr>\n",
       "    <tr>\n",
       "      <th>19</th>\n",
       "      <td>sec_app_chargeoff_within_12_mths</td>\n",
       "      <td>1287096</td>\n",
       "      <td>98.73</td>\n",
       "    </tr>\n",
       "    <tr>\n",
       "      <th>20</th>\n",
       "      <td>revol_bal_joint</td>\n",
       "      <td>1287097</td>\n",
       "      <td>98.73</td>\n",
       "    </tr>\n",
       "    <tr>\n",
       "      <th>21</th>\n",
       "      <td>sec_app_inq_last_6mths</td>\n",
       "      <td>1287096</td>\n",
       "      <td>98.73</td>\n",
       "    </tr>\n",
       "    <tr>\n",
       "      <th>22</th>\n",
       "      <td>sec_app_mort_acc</td>\n",
       "      <td>1287096</td>\n",
       "      <td>98.73</td>\n",
       "    </tr>\n",
       "    <tr>\n",
       "      <th>23</th>\n",
       "      <td>sec_app_open_acc</td>\n",
       "      <td>1287096</td>\n",
       "      <td>98.73</td>\n",
       "    </tr>\n",
       "    <tr>\n",
       "      <th>24</th>\n",
       "      <td>sec_app_earliest_cr_line</td>\n",
       "      <td>1287096</td>\n",
       "      <td>98.73</td>\n",
       "    </tr>\n",
       "    <tr>\n",
       "      <th>25</th>\n",
       "      <td>sec_app_open_act_il</td>\n",
       "      <td>1287096</td>\n",
       "      <td>98.73</td>\n",
       "    </tr>\n",
       "    <tr>\n",
       "      <th>26</th>\n",
       "      <td>sec_app_collections_12_mths_ex_med</td>\n",
       "      <td>1287096</td>\n",
       "      <td>98.73</td>\n",
       "    </tr>\n",
       "    <tr>\n",
       "      <th>27</th>\n",
       "      <td>verification_status_joint</td>\n",
       "      <td>1280516</td>\n",
       "      <td>98.23</td>\n",
       "    </tr>\n",
       "    <tr>\n",
       "      <th>28</th>\n",
       "      <td>dti_joint</td>\n",
       "      <td>1280372</td>\n",
       "      <td>98.22</td>\n",
       "    </tr>\n",
       "    <tr>\n",
       "      <th>29</th>\n",
       "      <td>annual_inc_joint</td>\n",
       "      <td>1280370</td>\n",
       "      <td>98.22</td>\n",
       "    </tr>\n",
       "    <tr>\n",
       "      <th>30</th>\n",
       "      <td>settlement_amount</td>\n",
       "      <td>1271618</td>\n",
       "      <td>97.55</td>\n",
       "    </tr>\n",
       "    <tr>\n",
       "      <th>31</th>\n",
       "      <td>settlement_term</td>\n",
       "      <td>1271618</td>\n",
       "      <td>97.55</td>\n",
       "    </tr>\n",
       "    <tr>\n",
       "      <th>32</th>\n",
       "      <td>settlement_status</td>\n",
       "      <td>1271618</td>\n",
       "      <td>97.55</td>\n",
       "    </tr>\n",
       "    <tr>\n",
       "      <th>33</th>\n",
       "      <td>settlement_date</td>\n",
       "      <td>1271618</td>\n",
       "      <td>97.55</td>\n",
       "    </tr>\n",
       "    <tr>\n",
       "      <th>34</th>\n",
       "      <td>settlement_percentage</td>\n",
       "      <td>1271618</td>\n",
       "      <td>97.55</td>\n",
       "    </tr>\n",
       "    <tr>\n",
       "      <th>35</th>\n",
       "      <td>debt_settlement_flag_date</td>\n",
       "      <td>1271618</td>\n",
       "      <td>97.55</td>\n",
       "    </tr>\n",
       "    <tr>\n",
       "      <th>36</th>\n",
       "      <td>desc</td>\n",
       "      <td>1180280</td>\n",
       "      <td>90.54</td>\n",
       "    </tr>\n",
       "    <tr>\n",
       "      <th>37</th>\n",
       "      <td>mths_since_last_record</td>\n",
       "      <td>1081841</td>\n",
       "      <td>82.99</td>\n",
       "    </tr>\n",
       "    <tr>\n",
       "      <th>38</th>\n",
       "      <td>mths_since_recent_bc_dlq</td>\n",
       "      <td>994461</td>\n",
       "      <td>76.29</td>\n",
       "    </tr>\n",
       "    <tr>\n",
       "      <th>39</th>\n",
       "      <td>mths_since_last_major_derog</td>\n",
       "      <td>961240</td>\n",
       "      <td>73.74</td>\n",
       "    </tr>\n",
       "    <tr>\n",
       "      <th>40</th>\n",
       "      <td>il_util</td>\n",
       "      <td>870939</td>\n",
       "      <td>66.81</td>\n",
       "    </tr>\n",
       "    <tr>\n",
       "      <th>41</th>\n",
       "      <td>mths_since_recent_revol_delinq</td>\n",
       "      <td>867772</td>\n",
       "      <td>66.57</td>\n",
       "    </tr>\n",
       "    <tr>\n",
       "      <th>42</th>\n",
       "      <td>mths_since_rcnt_il</td>\n",
       "      <td>817059</td>\n",
       "      <td>62.68</td>\n",
       "    </tr>\n",
       "    <tr>\n",
       "      <th>43</th>\n",
       "      <td>total_cu_tl</td>\n",
       "      <td>804063</td>\n",
       "      <td>61.68</td>\n",
       "    </tr>\n",
       "    <tr>\n",
       "      <th>44</th>\n",
       "      <td>open_il_12m</td>\n",
       "      <td>804062</td>\n",
       "      <td>61.68</td>\n",
       "    </tr>\n",
       "    <tr>\n",
       "      <th>45</th>\n",
       "      <td>open_act_il</td>\n",
       "      <td>804062</td>\n",
       "      <td>61.68</td>\n",
       "    </tr>\n",
       "    <tr>\n",
       "      <th>46</th>\n",
       "      <td>open_acc_6m</td>\n",
       "      <td>804063</td>\n",
       "      <td>61.68</td>\n",
       "    </tr>\n",
       "    <tr>\n",
       "      <th>47</th>\n",
       "      <td>open_rv_24m</td>\n",
       "      <td>804062</td>\n",
       "      <td>61.68</td>\n",
       "    </tr>\n",
       "    <tr>\n",
       "      <th>48</th>\n",
       "      <td>open_rv_12m</td>\n",
       "      <td>804062</td>\n",
       "      <td>61.68</td>\n",
       "    </tr>\n",
       "    <tr>\n",
       "      <th>49</th>\n",
       "      <td>max_bal_bc</td>\n",
       "      <td>804062</td>\n",
       "      <td>61.68</td>\n",
       "    </tr>\n",
       "    <tr>\n",
       "      <th>50</th>\n",
       "      <td>open_il_24m</td>\n",
       "      <td>804062</td>\n",
       "      <td>61.68</td>\n",
       "    </tr>\n",
       "    <tr>\n",
       "      <th>51</th>\n",
       "      <td>inq_last_12m</td>\n",
       "      <td>804063</td>\n",
       "      <td>61.68</td>\n",
       "    </tr>\n",
       "    <tr>\n",
       "      <th>52</th>\n",
       "      <td>total_bal_il</td>\n",
       "      <td>804062</td>\n",
       "      <td>61.68</td>\n",
       "    </tr>\n",
       "    <tr>\n",
       "      <th>53</th>\n",
       "      <td>all_util</td>\n",
       "      <td>804113</td>\n",
       "      <td>61.68</td>\n",
       "    </tr>\n",
       "    <tr>\n",
       "      <th>54</th>\n",
       "      <td>inq_fi</td>\n",
       "      <td>804062</td>\n",
       "      <td>61.68</td>\n",
       "    </tr>\n",
       "    <tr>\n",
       "      <th>55</th>\n",
       "      <td>mths_since_last_delinq</td>\n",
       "      <td>657824</td>\n",
       "      <td>50.46</td>\n",
       "    </tr>\n",
       "    <tr>\n",
       "      <th>56</th>\n",
       "      <td>mths_since_recent_inq</td>\n",
       "      <td>169549</td>\n",
       "      <td>13.01</td>\n",
       "    </tr>\n",
       "    <tr>\n",
       "      <th>57</th>\n",
       "      <td>num_tl_120dpd_2m</td>\n",
       "      <td>115570</td>\n",
       "      <td>8.87</td>\n",
       "    </tr>\n",
       "    <tr>\n",
       "      <th>58</th>\n",
       "      <td>mo_sin_old_il_acct</td>\n",
       "      <td>104295</td>\n",
       "      <td>8.00</td>\n",
       "    </tr>\n",
       "    <tr>\n",
       "      <th>59</th>\n",
       "      <td>emp_title</td>\n",
       "      <td>82579</td>\n",
       "      <td>6.33</td>\n",
       "    </tr>\n",
       "    <tr>\n",
       "      <th>60</th>\n",
       "      <td>emp_length</td>\n",
       "      <td>75454</td>\n",
       "      <td>5.79</td>\n",
       "    </tr>\n",
       "    <tr>\n",
       "      <th>61</th>\n",
       "      <td>pct_tl_nvr_dlq</td>\n",
       "      <td>67681</td>\n",
       "      <td>5.19</td>\n",
       "    </tr>\n",
       "    <tr>\n",
       "      <th>62</th>\n",
       "      <td>num_accts_ever_120_pd</td>\n",
       "      <td>67527</td>\n",
       "      <td>5.18</td>\n",
       "    </tr>\n",
       "    <tr>\n",
       "      <th>63</th>\n",
       "      <td>num_op_rev_tl</td>\n",
       "      <td>67527</td>\n",
       "      <td>5.18</td>\n",
       "    </tr>\n",
       "    <tr>\n",
       "      <th>64</th>\n",
       "      <td>num_rev_accts</td>\n",
       "      <td>67528</td>\n",
       "      <td>5.18</td>\n",
       "    </tr>\n",
       "    <tr>\n",
       "      <th>65</th>\n",
       "      <td>num_tl_90g_dpd_24m</td>\n",
       "      <td>67527</td>\n",
       "      <td>5.18</td>\n",
       "    </tr>\n",
       "    <tr>\n",
       "      <th>66</th>\n",
       "      <td>num_rev_tl_bal_gt_0</td>\n",
       "      <td>67527</td>\n",
       "      <td>5.18</td>\n",
       "    </tr>\n",
       "    <tr>\n",
       "      <th>67</th>\n",
       "      <td>num_tl_30dpd</td>\n",
       "      <td>67527</td>\n",
       "      <td>5.18</td>\n",
       "    </tr>\n",
       "    <tr>\n",
       "      <th>68</th>\n",
       "      <td>num_bc_tl</td>\n",
       "      <td>67527</td>\n",
       "      <td>5.18</td>\n",
       "    </tr>\n",
       "    <tr>\n",
       "      <th>69</th>\n",
       "      <td>num_tl_op_past_12m</td>\n",
       "      <td>67527</td>\n",
       "      <td>5.18</td>\n",
       "    </tr>\n",
       "    <tr>\n",
       "      <th>70</th>\n",
       "      <td>tot_hi_cred_lim</td>\n",
       "      <td>67527</td>\n",
       "      <td>5.18</td>\n",
       "    </tr>\n",
       "    <tr>\n",
       "      <th>71</th>\n",
       "      <td>num_il_tl</td>\n",
       "      <td>67527</td>\n",
       "      <td>5.18</td>\n",
       "    </tr>\n",
       "    <tr>\n",
       "      <th>72</th>\n",
       "      <td>num_actv_rev_tl</td>\n",
       "      <td>67527</td>\n",
       "      <td>5.18</td>\n",
       "    </tr>\n",
       "    <tr>\n",
       "      <th>73</th>\n",
       "      <td>tot_cur_bal</td>\n",
       "      <td>67527</td>\n",
       "      <td>5.18</td>\n",
       "    </tr>\n",
       "    <tr>\n",
       "      <th>74</th>\n",
       "      <td>num_actv_bc_tl</td>\n",
       "      <td>67527</td>\n",
       "      <td>5.18</td>\n",
       "    </tr>\n",
       "    <tr>\n",
       "      <th>75</th>\n",
       "      <td>total_il_high_credit_limit</td>\n",
       "      <td>67527</td>\n",
       "      <td>5.18</td>\n",
       "    </tr>\n",
       "    <tr>\n",
       "      <th>76</th>\n",
       "      <td>tot_coll_amt</td>\n",
       "      <td>67527</td>\n",
       "      <td>5.18</td>\n",
       "    </tr>\n",
       "    <tr>\n",
       "      <th>77</th>\n",
       "      <td>avg_cur_bal</td>\n",
       "      <td>67548</td>\n",
       "      <td>5.18</td>\n",
       "    </tr>\n",
       "    <tr>\n",
       "      <th>78</th>\n",
       "      <td>mo_sin_rcnt_tl</td>\n",
       "      <td>67527</td>\n",
       "      <td>5.18</td>\n",
       "    </tr>\n",
       "    <tr>\n",
       "      <th>79</th>\n",
       "      <td>mo_sin_rcnt_rev_tl_op</td>\n",
       "      <td>67528</td>\n",
       "      <td>5.18</td>\n",
       "    </tr>\n",
       "    <tr>\n",
       "      <th>80</th>\n",
       "      <td>mo_sin_old_rev_tl_op</td>\n",
       "      <td>67528</td>\n",
       "      <td>5.18</td>\n",
       "    </tr>\n",
       "    <tr>\n",
       "      <th>81</th>\n",
       "      <td>total_rev_hi_lim</td>\n",
       "      <td>67527</td>\n",
       "      <td>5.18</td>\n",
       "    </tr>\n",
       "    <tr>\n",
       "      <th>82</th>\n",
       "      <td>bc_util</td>\n",
       "      <td>61386</td>\n",
       "      <td>4.71</td>\n",
       "    </tr>\n",
       "    <tr>\n",
       "      <th>83</th>\n",
       "      <td>percent_bc_gt_75</td>\n",
       "      <td>61047</td>\n",
       "      <td>4.68</td>\n",
       "    </tr>\n",
       "    <tr>\n",
       "      <th>84</th>\n",
       "      <td>bc_open_to_buy</td>\n",
       "      <td>60639</td>\n",
       "      <td>4.65</td>\n",
       "    </tr>\n",
       "    <tr>\n",
       "      <th>85</th>\n",
       "      <td>mths_since_recent_bc</td>\n",
       "      <td>59741</td>\n",
       "      <td>4.58</td>\n",
       "    </tr>\n",
       "    <tr>\n",
       "      <th>86</th>\n",
       "      <td>num_bc_sats</td>\n",
       "      <td>55841</td>\n",
       "      <td>4.28</td>\n",
       "    </tr>\n",
       "    <tr>\n",
       "      <th>87</th>\n",
       "      <td>num_sats</td>\n",
       "      <td>55841</td>\n",
       "      <td>4.28</td>\n",
       "    </tr>\n",
       "    <tr>\n",
       "      <th>88</th>\n",
       "      <td>acc_open_past_24mths</td>\n",
       "      <td>47281</td>\n",
       "      <td>3.63</td>\n",
       "    </tr>\n",
       "    <tr>\n",
       "      <th>89</th>\n",
       "      <td>total_bal_ex_mort</td>\n",
       "      <td>47281</td>\n",
       "      <td>3.63</td>\n",
       "    </tr>\n",
       "    <tr>\n",
       "      <th>90</th>\n",
       "      <td>total_bc_limit</td>\n",
       "      <td>47281</td>\n",
       "      <td>3.63</td>\n",
       "    </tr>\n",
       "    <tr>\n",
       "      <th>91</th>\n",
       "      <td>mort_acc</td>\n",
       "      <td>47281</td>\n",
       "      <td>3.63</td>\n",
       "    </tr>\n",
       "    <tr>\n",
       "      <th>92</th>\n",
       "      <td>title</td>\n",
       "      <td>15426</td>\n",
       "      <td>1.18</td>\n",
       "    </tr>\n",
       "    <tr>\n",
       "      <th>93</th>\n",
       "      <td>last_pymnt_d</td>\n",
       "      <td>2260</td>\n",
       "      <td>0.17</td>\n",
       "    </tr>\n",
       "    <tr>\n",
       "      <th>94</th>\n",
       "      <td>revol_util</td>\n",
       "      <td>810</td>\n",
       "      <td>0.06</td>\n",
       "    </tr>\n",
       "    <tr>\n",
       "      <th>95</th>\n",
       "      <td>pub_rec_bankruptcies</td>\n",
       "      <td>697</td>\n",
       "      <td>0.05</td>\n",
       "    </tr>\n",
       "    <tr>\n",
       "      <th>96</th>\n",
       "      <td>dti</td>\n",
       "      <td>312</td>\n",
       "      <td>0.02</td>\n",
       "    </tr>\n",
       "    <tr>\n",
       "      <th>97</th>\n",
       "      <td>total_rec_late_fee</td>\n",
       "      <td>0</td>\n",
       "      <td>0.00</td>\n",
       "    </tr>\n",
       "    <tr>\n",
       "      <th>98</th>\n",
       "      <td>total_rec_prncp</td>\n",
       "      <td>0</td>\n",
       "      <td>0.00</td>\n",
       "    </tr>\n",
       "    <tr>\n",
       "      <th>99</th>\n",
       "      <td>total_pymnt</td>\n",
       "      <td>0</td>\n",
       "      <td>0.00</td>\n",
       "    </tr>\n",
       "    <tr>\n",
       "      <th>100</th>\n",
       "      <td>sub_grade</td>\n",
       "      <td>0</td>\n",
       "      <td>0.00</td>\n",
       "    </tr>\n",
       "    <tr>\n",
       "      <th>101</th>\n",
       "      <td>tax_liens</td>\n",
       "      <td>39</td>\n",
       "      <td>0.00</td>\n",
       "    </tr>\n",
       "    <tr>\n",
       "      <th>102</th>\n",
       "      <td>term</td>\n",
       "      <td>0</td>\n",
       "      <td>0.00</td>\n",
       "    </tr>\n",
       "    <tr>\n",
       "      <th>103</th>\n",
       "      <td>verification_status</td>\n",
       "      <td>0</td>\n",
       "      <td>0.00</td>\n",
       "    </tr>\n",
       "    <tr>\n",
       "      <th>104</th>\n",
       "      <td>total_rec_int</td>\n",
       "      <td>0</td>\n",
       "      <td>0.00</td>\n",
       "    </tr>\n",
       "    <tr>\n",
       "      <th>105</th>\n",
       "      <td>total_pymnt_inv</td>\n",
       "      <td>0</td>\n",
       "      <td>0.00</td>\n",
       "    </tr>\n",
       "    <tr>\n",
       "      <th>106</th>\n",
       "      <td>total_acc</td>\n",
       "      <td>0</td>\n",
       "      <td>0.00</td>\n",
       "    </tr>\n",
       "    <tr>\n",
       "      <th>107</th>\n",
       "      <td>acc_now_delinq</td>\n",
       "      <td>0</td>\n",
       "      <td>0.00</td>\n",
       "    </tr>\n",
       "    <tr>\n",
       "      <th>108</th>\n",
       "      <td>revol_bal</td>\n",
       "      <td>0</td>\n",
       "      <td>0.00</td>\n",
       "    </tr>\n",
       "    <tr>\n",
       "      <th>109</th>\n",
       "      <td>delinq_2yrs</td>\n",
       "      <td>0</td>\n",
       "      <td>0.00</td>\n",
       "    </tr>\n",
       "    <tr>\n",
       "      <th>110</th>\n",
       "      <td>grade</td>\n",
       "      <td>0</td>\n",
       "      <td>0.00</td>\n",
       "    </tr>\n",
       "    <tr>\n",
       "      <th>111</th>\n",
       "      <td>funded_amnt_inv</td>\n",
       "      <td>0</td>\n",
       "      <td>0.00</td>\n",
       "    </tr>\n",
       "    <tr>\n",
       "      <th>112</th>\n",
       "      <td>funded_amnt</td>\n",
       "      <td>0</td>\n",
       "      <td>0.00</td>\n",
       "    </tr>\n",
       "    <tr>\n",
       "      <th>113</th>\n",
       "      <td>earliest_cr_line</td>\n",
       "      <td>0</td>\n",
       "      <td>0.00</td>\n",
       "    </tr>\n",
       "    <tr>\n",
       "      <th>114</th>\n",
       "      <td>disbursement_method</td>\n",
       "      <td>0</td>\n",
       "      <td>0.00</td>\n",
       "    </tr>\n",
       "    <tr>\n",
       "      <th>115</th>\n",
       "      <td>delinq_amnt</td>\n",
       "      <td>0</td>\n",
       "      <td>0.00</td>\n",
       "    </tr>\n",
       "    <tr>\n",
       "      <th>116</th>\n",
       "      <td>debt_settlement_flag</td>\n",
       "      <td>0</td>\n",
       "      <td>0.00</td>\n",
       "    </tr>\n",
       "    <tr>\n",
       "      <th>117</th>\n",
       "      <td>home_ownership</td>\n",
       "      <td>0</td>\n",
       "      <td>0.00</td>\n",
       "    </tr>\n",
       "    <tr>\n",
       "      <th>118</th>\n",
       "      <td>collections_12_mths_ex_med</td>\n",
       "      <td>56</td>\n",
       "      <td>0.00</td>\n",
       "    </tr>\n",
       "    <tr>\n",
       "      <th>119</th>\n",
       "      <td>collection_recovery_fee</td>\n",
       "      <td>0</td>\n",
       "      <td>0.00</td>\n",
       "    </tr>\n",
       "    <tr>\n",
       "      <th>120</th>\n",
       "      <td>chargeoff_within_12_mths</td>\n",
       "      <td>56</td>\n",
       "      <td>0.00</td>\n",
       "    </tr>\n",
       "    <tr>\n",
       "      <th>121</th>\n",
       "      <td>application_type</td>\n",
       "      <td>0</td>\n",
       "      <td>0.00</td>\n",
       "    </tr>\n",
       "    <tr>\n",
       "      <th>122</th>\n",
       "      <td>annual_inc</td>\n",
       "      <td>0</td>\n",
       "      <td>0.00</td>\n",
       "    </tr>\n",
       "    <tr>\n",
       "      <th>123</th>\n",
       "      <td>addr_state</td>\n",
       "      <td>0</td>\n",
       "      <td>0.00</td>\n",
       "    </tr>\n",
       "    <tr>\n",
       "      <th>124</th>\n",
       "      <td>hardship_flag</td>\n",
       "      <td>0</td>\n",
       "      <td>0.00</td>\n",
       "    </tr>\n",
       "    <tr>\n",
       "      <th>125</th>\n",
       "      <td>initial_list_status</td>\n",
       "      <td>0</td>\n",
       "      <td>0.00</td>\n",
       "    </tr>\n",
       "    <tr>\n",
       "      <th>126</th>\n",
       "      <td>recoveries</td>\n",
       "      <td>0</td>\n",
       "      <td>0.00</td>\n",
       "    </tr>\n",
       "    <tr>\n",
       "      <th>127</th>\n",
       "      <td>open_acc</td>\n",
       "      <td>0</td>\n",
       "      <td>0.00</td>\n",
       "    </tr>\n",
       "    <tr>\n",
       "      <th>128</th>\n",
       "      <td>pymnt_plan</td>\n",
       "      <td>0</td>\n",
       "      <td>0.00</td>\n",
       "    </tr>\n",
       "    <tr>\n",
       "      <th>129</th>\n",
       "      <td>purpose</td>\n",
       "      <td>0</td>\n",
       "      <td>0.00</td>\n",
       "    </tr>\n",
       "    <tr>\n",
       "      <th>130</th>\n",
       "      <td>pub_rec</td>\n",
       "      <td>0</td>\n",
       "      <td>0.00</td>\n",
       "    </tr>\n",
       "    <tr>\n",
       "      <th>131</th>\n",
       "      <td>policy_code</td>\n",
       "      <td>0</td>\n",
       "      <td>0.00</td>\n",
       "    </tr>\n",
       "    <tr>\n",
       "      <th>132</th>\n",
       "      <td>out_prncp_inv</td>\n",
       "      <td>0</td>\n",
       "      <td>0.00</td>\n",
       "    </tr>\n",
       "    <tr>\n",
       "      <th>133</th>\n",
       "      <td>out_prncp</td>\n",
       "      <td>0</td>\n",
       "      <td>0.00</td>\n",
       "    </tr>\n",
       "    <tr>\n",
       "      <th>134</th>\n",
       "      <td>loan_status</td>\n",
       "      <td>0</td>\n",
       "      <td>0.00</td>\n",
       "    </tr>\n",
       "    <tr>\n",
       "      <th>135</th>\n",
       "      <td>inq_last_6mths</td>\n",
       "      <td>1</td>\n",
       "      <td>0.00</td>\n",
       "    </tr>\n",
       "    <tr>\n",
       "      <th>136</th>\n",
       "      <td>loan_amnt</td>\n",
       "      <td>0</td>\n",
       "      <td>0.00</td>\n",
       "    </tr>\n",
       "    <tr>\n",
       "      <th>137</th>\n",
       "      <td>last_pymnt_amnt</td>\n",
       "      <td>0</td>\n",
       "      <td>0.00</td>\n",
       "    </tr>\n",
       "    <tr>\n",
       "      <th>138</th>\n",
       "      <td>last_credit_pull_d</td>\n",
       "      <td>54</td>\n",
       "      <td>0.00</td>\n",
       "    </tr>\n",
       "    <tr>\n",
       "      <th>139</th>\n",
       "      <td>issue_d</td>\n",
       "      <td>0</td>\n",
       "      <td>0.00</td>\n",
       "    </tr>\n",
       "    <tr>\n",
       "      <th>140</th>\n",
       "      <td>int_rate</td>\n",
       "      <td>0</td>\n",
       "      <td>0.00</td>\n",
       "    </tr>\n",
       "    <tr>\n",
       "      <th>141</th>\n",
       "      <td>installment</td>\n",
       "      <td>0</td>\n",
       "      <td>0.00</td>\n",
       "    </tr>\n",
       "    <tr>\n",
       "      <th>142</th>\n",
       "      <td>zip_code</td>\n",
       "      <td>1</td>\n",
       "      <td>0.00</td>\n",
       "    </tr>\n",
       "  </tbody>\n",
       "</table>\n",
       "</div>"
      ],
      "text/plain": [
       "                                          index  Total Missing Values  Percentage %\n",
       "0                                           url               1303607        100.00\n",
       "1                                  next_pymnt_d               1303607        100.00\n",
       "2    orig_projected_additional_accrued_interest               1300174         99.74\n",
       "3                                 deferral_term               1298272         99.59\n",
       "4                  hardship_last_payment_amount               1298272         99.59\n",
       "5                hardship_payoff_balance_amount               1298272         99.59\n",
       "6                             hardship_end_date               1298272         99.59\n",
       "7                                  hardship_dpd               1298272         99.59\n",
       "8                               hardship_amount               1298272         99.59\n",
       "9                               hardship_reason               1298272         99.59\n",
       "10                          hardship_start_date               1298272         99.59\n",
       "11                              hardship_status               1298272         99.59\n",
       "12                                hardship_type               1298272         99.59\n",
       "13                         hardship_loan_status               1298272         99.59\n",
       "14                              hardship_length               1298272         99.59\n",
       "15                      payment_plan_start_date               1298272         99.59\n",
       "16          sec_app_mths_since_last_major_derog               1297675         99.54\n",
       "17                           sec_app_revol_util               1287389         98.76\n",
       "18                        sec_app_num_rev_accts               1287096         98.73\n",
       "19             sec_app_chargeoff_within_12_mths               1287096         98.73\n",
       "20                              revol_bal_joint               1287097         98.73\n",
       "21                       sec_app_inq_last_6mths               1287096         98.73\n",
       "22                             sec_app_mort_acc               1287096         98.73\n",
       "23                             sec_app_open_acc               1287096         98.73\n",
       "24                     sec_app_earliest_cr_line               1287096         98.73\n",
       "25                          sec_app_open_act_il               1287096         98.73\n",
       "26           sec_app_collections_12_mths_ex_med               1287096         98.73\n",
       "27                    verification_status_joint               1280516         98.23\n",
       "28                                    dti_joint               1280372         98.22\n",
       "29                             annual_inc_joint               1280370         98.22\n",
       "30                            settlement_amount               1271618         97.55\n",
       "31                              settlement_term               1271618         97.55\n",
       "32                            settlement_status               1271618         97.55\n",
       "33                              settlement_date               1271618         97.55\n",
       "34                        settlement_percentage               1271618         97.55\n",
       "35                    debt_settlement_flag_date               1271618         97.55\n",
       "36                                         desc               1180280         90.54\n",
       "37                       mths_since_last_record               1081841         82.99\n",
       "38                     mths_since_recent_bc_dlq                994461         76.29\n",
       "39                  mths_since_last_major_derog                961240         73.74\n",
       "40                                      il_util                870939         66.81\n",
       "41               mths_since_recent_revol_delinq                867772         66.57\n",
       "42                           mths_since_rcnt_il                817059         62.68\n",
       "43                                  total_cu_tl                804063         61.68\n",
       "44                                  open_il_12m                804062         61.68\n",
       "45                                  open_act_il                804062         61.68\n",
       "46                                  open_acc_6m                804063         61.68\n",
       "47                                  open_rv_24m                804062         61.68\n",
       "48                                  open_rv_12m                804062         61.68\n",
       "49                                   max_bal_bc                804062         61.68\n",
       "50                                  open_il_24m                804062         61.68\n",
       "51                                 inq_last_12m                804063         61.68\n",
       "52                                 total_bal_il                804062         61.68\n",
       "53                                     all_util                804113         61.68\n",
       "54                                       inq_fi                804062         61.68\n",
       "55                       mths_since_last_delinq                657824         50.46\n",
       "56                        mths_since_recent_inq                169549         13.01\n",
       "57                             num_tl_120dpd_2m                115570          8.87\n",
       "58                           mo_sin_old_il_acct                104295          8.00\n",
       "59                                    emp_title                 82579          6.33\n",
       "60                                   emp_length                 75454          5.79\n",
       "61                               pct_tl_nvr_dlq                 67681          5.19\n",
       "62                        num_accts_ever_120_pd                 67527          5.18\n",
       "63                                num_op_rev_tl                 67527          5.18\n",
       "64                                num_rev_accts                 67528          5.18\n",
       "65                           num_tl_90g_dpd_24m                 67527          5.18\n",
       "66                          num_rev_tl_bal_gt_0                 67527          5.18\n",
       "67                                 num_tl_30dpd                 67527          5.18\n",
       "68                                    num_bc_tl                 67527          5.18\n",
       "69                           num_tl_op_past_12m                 67527          5.18\n",
       "70                              tot_hi_cred_lim                 67527          5.18\n",
       "71                                    num_il_tl                 67527          5.18\n",
       "72                              num_actv_rev_tl                 67527          5.18\n",
       "73                                  tot_cur_bal                 67527          5.18\n",
       "74                               num_actv_bc_tl                 67527          5.18\n",
       "75                   total_il_high_credit_limit                 67527          5.18\n",
       "76                                 tot_coll_amt                 67527          5.18\n",
       "77                                  avg_cur_bal                 67548          5.18\n",
       "78                               mo_sin_rcnt_tl                 67527          5.18\n",
       "79                        mo_sin_rcnt_rev_tl_op                 67528          5.18\n",
       "80                         mo_sin_old_rev_tl_op                 67528          5.18\n",
       "81                             total_rev_hi_lim                 67527          5.18\n",
       "82                                      bc_util                 61386          4.71\n",
       "83                             percent_bc_gt_75                 61047          4.68\n",
       "84                               bc_open_to_buy                 60639          4.65\n",
       "85                         mths_since_recent_bc                 59741          4.58\n",
       "86                                  num_bc_sats                 55841          4.28\n",
       "87                                     num_sats                 55841          4.28\n",
       "88                         acc_open_past_24mths                 47281          3.63\n",
       "89                            total_bal_ex_mort                 47281          3.63\n",
       "90                               total_bc_limit                 47281          3.63\n",
       "91                                     mort_acc                 47281          3.63\n",
       "92                                        title                 15426          1.18\n",
       "93                                 last_pymnt_d                  2260          0.17\n",
       "94                                   revol_util                   810          0.06\n",
       "95                         pub_rec_bankruptcies                   697          0.05\n",
       "96                                          dti                   312          0.02\n",
       "97                           total_rec_late_fee                     0          0.00\n",
       "98                              total_rec_prncp                     0          0.00\n",
       "99                                  total_pymnt                     0          0.00\n",
       "100                                   sub_grade                     0          0.00\n",
       "101                                   tax_liens                    39          0.00\n",
       "102                                        term                     0          0.00\n",
       "103                         verification_status                     0          0.00\n",
       "104                               total_rec_int                     0          0.00\n",
       "105                             total_pymnt_inv                     0          0.00\n",
       "106                                   total_acc                     0          0.00\n",
       "107                              acc_now_delinq                     0          0.00\n",
       "108                                   revol_bal                     0          0.00\n",
       "109                                 delinq_2yrs                     0          0.00\n",
       "110                                       grade                     0          0.00\n",
       "111                             funded_amnt_inv                     0          0.00\n",
       "112                                 funded_amnt                     0          0.00\n",
       "113                            earliest_cr_line                     0          0.00\n",
       "114                         disbursement_method                     0          0.00\n",
       "115                                 delinq_amnt                     0          0.00\n",
       "116                        debt_settlement_flag                     0          0.00\n",
       "117                              home_ownership                     0          0.00\n",
       "118                  collections_12_mths_ex_med                    56          0.00\n",
       "119                     collection_recovery_fee                     0          0.00\n",
       "120                    chargeoff_within_12_mths                    56          0.00\n",
       "121                            application_type                     0          0.00\n",
       "122                                  annual_inc                     0          0.00\n",
       "123                                  addr_state                     0          0.00\n",
       "124                               hardship_flag                     0          0.00\n",
       "125                         initial_list_status                     0          0.00\n",
       "126                                  recoveries                     0          0.00\n",
       "127                                    open_acc                     0          0.00\n",
       "128                                  pymnt_plan                     0          0.00\n",
       "129                                     purpose                     0          0.00\n",
       "130                                     pub_rec                     0          0.00\n",
       "131                                 policy_code                     0          0.00\n",
       "132                               out_prncp_inv                     0          0.00\n",
       "133                                   out_prncp                     0          0.00\n",
       "134                                 loan_status                     0          0.00\n",
       "135                              inq_last_6mths                     1          0.00\n",
       "136                                   loan_amnt                     0          0.00\n",
       "137                             last_pymnt_amnt                     0          0.00\n",
       "138                          last_credit_pull_d                    54          0.00\n",
       "139                                     issue_d                     0          0.00\n",
       "140                                    int_rate                     0          0.00\n",
       "141                                 installment                     0          0.00\n",
       "142                                    zip_code                     1          0.00"
      ]
     },
     "execution_count": 18,
     "metadata": {},
     "output_type": "execute_result"
    }
   ],
   "source": [
    "df_miss"
   ]
  },
  {
   "cell_type": "code",
   "execution_count": 19,
   "metadata": {},
   "outputs": [
    {
     "data": {
      "text/plain": [
       "index                   56\n",
       "Total Missing Values    56\n",
       "Percentage %            56\n",
       "dtype: int64"
      ]
     },
     "execution_count": 19,
     "metadata": {},
     "output_type": "execute_result"
    }
   ],
   "source": [
    "df_miss[df_miss['Percentage %']>50].count()"
   ]
  },
  {
   "cell_type": "code",
   "execution_count": 20,
   "metadata": {},
   "outputs": [
    {
     "data": {
      "text/plain": [
       "index                   143\n",
       "Total Missing Values    143\n",
       "Percentage %            143\n",
       "dtype: int64"
      ]
     },
     "execution_count": 20,
     "metadata": {},
     "output_type": "execute_result"
    }
   ],
   "source": [
    "df_miss.count()"
   ]
  },
  {
   "cell_type": "code",
   "execution_count": 21,
   "metadata": {},
   "outputs": [],
   "source": [
    "# drop all those features that has more than 50% missing values\n",
    "df_NewAppl = df_cleanAppl.drop(df_miss[df_miss[\"Percentage %\"]>50][\"index\"], axis = 1)"
   ]
  },
  {
   "cell_type": "code",
   "execution_count": 22,
   "metadata": {},
   "outputs": [
    {
     "data": {
      "text/plain": [
       "(1303607, 87)"
      ]
     },
     "execution_count": 22,
     "metadata": {},
     "output_type": "execute_result"
    }
   ],
   "source": [
    "df_NewAppl.shape"
   ]
  },
  {
   "cell_type": "code",
   "execution_count": 23,
   "metadata": {},
   "outputs": [
    {
     "data": {
      "text/plain": [
       "0                                            url\n",
       "1                                   next_pymnt_d\n",
       "2     orig_projected_additional_accrued_interest\n",
       "3                                  deferral_term\n",
       "4                   hardship_last_payment_amount\n",
       "5                 hardship_payoff_balance_amount\n",
       "6                              hardship_end_date\n",
       "7                                   hardship_dpd\n",
       "8                                hardship_amount\n",
       "9                                hardship_reason\n",
       "10                           hardship_start_date\n",
       "11                               hardship_status\n",
       "12                                 hardship_type\n",
       "13                          hardship_loan_status\n",
       "14                               hardship_length\n",
       "15                       payment_plan_start_date\n",
       "16           sec_app_mths_since_last_major_derog\n",
       "17                            sec_app_revol_util\n",
       "18                         sec_app_num_rev_accts\n",
       "19              sec_app_chargeoff_within_12_mths\n",
       "20                               revol_bal_joint\n",
       "21                        sec_app_inq_last_6mths\n",
       "22                              sec_app_mort_acc\n",
       "23                              sec_app_open_acc\n",
       "24                      sec_app_earliest_cr_line\n",
       "25                           sec_app_open_act_il\n",
       "26            sec_app_collections_12_mths_ex_med\n",
       "27                     verification_status_joint\n",
       "28                                     dti_joint\n",
       "29                              annual_inc_joint\n",
       "30                             settlement_amount\n",
       "31                               settlement_term\n",
       "32                             settlement_status\n",
       "33                               settlement_date\n",
       "34                         settlement_percentage\n",
       "35                     debt_settlement_flag_date\n",
       "36                                          desc\n",
       "37                        mths_since_last_record\n",
       "38                      mths_since_recent_bc_dlq\n",
       "39                   mths_since_last_major_derog\n",
       "40                                       il_util\n",
       "41                mths_since_recent_revol_delinq\n",
       "42                            mths_since_rcnt_il\n",
       "43                                   total_cu_tl\n",
       "44                                   open_il_12m\n",
       "45                                   open_act_il\n",
       "46                                   open_acc_6m\n",
       "47                                   open_rv_24m\n",
       "48                                   open_rv_12m\n",
       "49                                    max_bal_bc\n",
       "50                                   open_il_24m\n",
       "51                                  inq_last_12m\n",
       "52                                  total_bal_il\n",
       "53                                      all_util\n",
       "54                                        inq_fi\n",
       "55                        mths_since_last_delinq\n",
       "Name: index, dtype: object"
      ]
     },
     "execution_count": 23,
     "metadata": {},
     "output_type": "execute_result"
    }
   ],
   "source": [
    "df_miss[df_miss[\"Percentage %\"]>50][\"index\"] # features that were dropped"
   ]
  },
  {
   "cell_type": "code",
   "execution_count": 24,
   "metadata": {},
   "outputs": [
    {
     "name": "stdout",
     "output_type": "stream",
     "text": [
      "['funded_amnt', 'funded_amnt_inv', 'pymnt_plan', 'delinq_2yrs', 'inq_last_6mths', 'out_prncp', 'out_prncp_inv', 'total_pymnt', 'total_pymnt_inv', 'total_rec_prncp', 'total_rec_int', 'total_rec_late_fee', 'recoveries', 'collection_recovery_fee', 'last_pymnt_d', 'last_pymnt_amnt', 'last_credit_pull_d', 'collections_12_mths_ex_med', 'policy_code', 'acc_now_delinq', 'tot_coll_amt', 'tot_cur_bal', 'total_rev_hi_lim', 'acc_open_past_24mths', 'avg_cur_bal', 'bc_open_to_buy', 'bc_util', 'chargeoff_within_12_mths', 'delinq_amnt', 'mo_sin_old_il_acct', 'mo_sin_old_rev_tl_op', 'mo_sin_rcnt_rev_tl_op', 'mo_sin_rcnt_tl', 'mths_since_recent_bc', 'mths_since_recent_inq', 'num_accts_ever_120_pd', 'num_actv_bc_tl', 'num_actv_rev_tl', 'num_bc_sats', 'num_bc_tl', 'num_il_tl', 'num_op_rev_tl', 'num_rev_accts', 'num_rev_tl_bal_gt_0', 'num_sats', 'num_tl_120dpd_2m', 'num_tl_30dpd', 'num_tl_90g_dpd_24m', 'num_tl_op_past_12m', 'pct_tl_nvr_dlq', 'percent_bc_gt_75', 'tax_liens', 'tot_hi_cred_lim', 'total_bal_ex_mort', 'total_bc_limit', 'total_il_high_credit_limit', 'hardship_flag', 'disbursement_method', 'debt_settlement_flag']\n"
     ]
    }
   ],
   "source": [
    "keep_list = ['addr_state', 'annual_inc', 'application_type', 'dti', 'earliest_cr_line', 'emp_length', 'emp_title', 'fico_range_high', 'fico_range_low', 'grade', 'home_ownership', 'id', 'initial_list_status', 'installment', 'int_rate', 'issue_d', 'loan_amnt', 'loan_status', 'mort_acc', 'open_acc', 'pub_rec', 'pub_rec_bankruptcies', 'purpose', 'revol_bal', 'revol_util', 'sub_grade', 'term', 'title', 'total_acc', 'verification_status', 'zip_code']\n",
    "drop_list = [col for col in df_NewAppl.columns if col not in keep_list]\n",
    "print(drop_list) "
   ]
  },
  {
   "cell_type": "code",
   "execution_count": 25,
   "metadata": {},
   "outputs": [],
   "source": [
    "df_NewAppl.drop(labels=drop_list, axis=1, inplace=True)"
   ]
  },
  {
   "cell_type": "code",
   "execution_count": 26,
   "metadata": {},
   "outputs": [
    {
     "data": {
      "text/plain": [
       "(1303607, 28)"
      ]
     },
     "execution_count": 26,
     "metadata": {},
     "output_type": "execute_result"
    }
   ],
   "source": [
    "df_NewAppl.shape"
   ]
  },
  {
   "cell_type": "code",
   "execution_count": 27,
   "metadata": {},
   "outputs": [
    {
     "data": {
      "text/plain": [
       "['addr_state',\n",
       " 'annual_inc',\n",
       " 'application_type',\n",
       " 'dti',\n",
       " 'earliest_cr_line',\n",
       " 'emp_length',\n",
       " 'emp_title',\n",
       " 'grade',\n",
       " 'home_ownership',\n",
       " 'initial_list_status',\n",
       " 'installment',\n",
       " 'int_rate',\n",
       " 'issue_d',\n",
       " 'loan_amnt',\n",
       " 'loan_status',\n",
       " 'mort_acc',\n",
       " 'open_acc',\n",
       " 'pub_rec',\n",
       " 'pub_rec_bankruptcies',\n",
       " 'purpose',\n",
       " 'revol_bal',\n",
       " 'revol_util',\n",
       " 'sub_grade',\n",
       " 'term',\n",
       " 'title',\n",
       " 'total_acc',\n",
       " 'verification_status',\n",
       " 'zip_code']"
      ]
     },
     "execution_count": 27,
     "metadata": {},
     "output_type": "execute_result"
    }
   ],
   "source": [
    "sorted(df_NewAppl.columns)"
   ]
  },
  {
   "cell_type": "code",
   "execution_count": 28,
   "metadata": {},
   "outputs": [],
   "source": [
    "#Zip code is in the format-891xx    900xx    etc. We have clean that.\n",
    "df_NewAppl.zip_code = df_NewAppl.zip_code.str.replace(\"xx\",\"\") "
   ]
  },
  {
   "cell_type": "code",
   "execution_count": 29,
   "metadata": {},
   "outputs": [],
   "source": [
    "#Next is formatting the dates- for e.g. Oct-2013 to 2015-10-01  format\n",
    "df_NewAppl.issue_d = pd.to_datetime(df_NewAppl.issue_d,infer_datetime_format=True)\n",
    "df_NewAppl['earliest_cr_line'] = pd.to_datetime(df_NewAppl['earliest_cr_line'],infer_datetime_format=True)"
   ]
  },
  {
   "cell_type": "markdown",
   "metadata": {},
   "source": [
    "Next is cleaning up the employment length feature as follows-\n",
    "The values are -\n",
    "10+ years\n",
    " < 1 year\n",
    " 2 years\n",
    " 3 years etc\n",
    "We will make it as 0/1/2/3/...10 etc"
   ]
  },
  {
   "cell_type": "code",
   "execution_count": 30,
   "metadata": {},
   "outputs": [],
   "source": [
    "df_NewAppl['emp_length'].replace(to_replace='10+ years', value='10 years', inplace=True)\n",
    "df_NewAppl['emp_length'].replace('< 1 year', '0 years', inplace=True)\n",
    "\n",
    "def emp_length_to_int(str_val):\n",
    "    if pd.isnull(str_val):\n",
    "        return str_val\n",
    "    else:\n",
    "        return np.int8(str_val.split()[0])\n",
    "df_NewAppl['emp_length'] = df_NewAppl['emp_length'].apply(emp_length_to_int)"
   ]
  },
  {
   "cell_type": "code",
   "execution_count": 31,
   "metadata": {},
   "outputs": [
    {
     "name": "stdout",
     "output_type": "stream",
     "text": [
      "loan_amnt               12000.00\n",
      "int_rate                    6.24\n",
      "installment               331.63\n",
      "emp_length                  8.00\n",
      "annual_inc              44160.00\n",
      "dti                        12.25\n",
      "open_acc                    6.00\n",
      "pub_rec                     0.00\n",
      "revol_bal               13796.00\n",
      "revol_util                 37.20\n",
      "total_acc                  16.00\n",
      "mort_acc                    3.00\n",
      "pub_rec_bankruptcies        0.00\n",
      "dtype: float64\n"
     ]
    }
   ],
   "source": [
    "#Next we will figure out the outliers with z-score. The intuition behind Z-score is to describe any data point by finding their relationship with the Standard Deviation and Mean of the group of data points.\n",
    "#These data points which are way too far from zero will be treated as the outliers. In most of the cases a threshold of 3 or -3 is used i.e if the Z-score value is greater than or less than 3 or -3 respectively, that data point will be identified as outliers.\n",
    "#z = np.abs(stats.zscore(df_NewAppl))\n",
    "#threshold = 3\n",
    "#print(np.where(z > 3))\n",
    "#df_NewApplReduced = df_NewAppl[(z < 3).all(axis=1)]\n",
    "\n",
    "#The interquartile range (IQR), also called the midspread or middle 50%\n",
    "#It is a measure of the dispersion similar to standard deviation or variance, but is much more robust against outliers.\n",
    "#IQR is somewhat similar to Z-score in terms of finding the distribution of data and then keeping some threshold to identify the outlier.\n",
    "\n",
    "Q1 = df_NewAppl.quantile(0.25)\n",
    "Q3 = df_NewAppl.quantile(0.75)\n",
    "IQR = Q3 - Q1\n",
    "print(IQR)"
   ]
  },
  {
   "cell_type": "code",
   "execution_count": 39,
   "metadata": {},
   "outputs": [],
   "source": [
    "Num_list = ['loan_amnt', 'int_rate', 'installment', 'emp_length','annual_inc', 'dti','open_acc','pub_rec','revol_bal', 'revol_util', 'total_acc','mort_acc','pub_rec_bankruptcies', ]\n",
    "df_NewApplNum = df_NewAppl[Num_list]\n"
   ]
  },
  {
   "cell_type": "code",
   "execution_count": 44,
   "metadata": {},
   "outputs": [],
   "source": [
    "df_NewApplReduced = df_NewAppl[~((df_NewApplNum < (Q1 - 1.5 * IQR)) |(df_NewApplNum > (Q3 + 1.5 * IQR))).any(axis=1)]\n"
   ]
  },
  {
   "cell_type": "code",
   "execution_count": 47,
   "metadata": {},
   "outputs": [
    {
     "name": "stdout",
     "output_type": "stream",
     "text": [
      "(1303607, 28)\n",
      "(888553, 28)\n"
     ]
    }
   ],
   "source": [
    "print(df_NewAppl.shape)\n",
    "print(df_NewApplReduced.shape)\n"
   ]
  },
  {
   "cell_type": "code",
   "execution_count": 48,
   "metadata": {},
   "outputs": [],
   "source": [
    "df_NewAppl = df_NewApplReduced"
   ]
  },
  {
   "cell_type": "code",
   "execution_count": 49,
   "metadata": {},
   "outputs": [],
   "source": [
    "#Next we will move on to EDA with individual features"
   ]
  },
  {
   "cell_type": "markdown",
   "metadata": {},
   "source": [
    "Next, We will inspect each feature individually.\n",
    "We will perform the univariate and bivariate analysis using the folloiwng steps-\n",
    "    Summary statistics\n",
    "    Plot individually\n",
    "    Plot against our target variable- loan_status\n",
    "    Modify the feature to make it ready for modelling, if necessary\n",
    "\n",
    "\tFor individual summary statistics we will use \n",
    "        .describe()\n",
    "        .sample(5)\n",
    "        .nunique()\n",
    "     \n",
    "    Finally we will plot the feature against our target feature loan_status to see if and how both are related\n"
   ]
  },
  {
   "cell_type": "code",
   "execution_count": 50,
   "metadata": {},
   "outputs": [],
   "source": [
    "def plot_var(col_name, full_name, continuous):\n",
    "    \"\"\"\n",
    "    plot a variable with and without loan status.\n",
    "    - col_name is the variable name in the dataframe\n",
    "    - full_name is the full variable name- for display purposes\n",
    "    - continuous is True if the variable is continuous, False otherwise\n",
    "    \"\"\"\n",
    "    f, (ax1, ax2) = plt.subplots(nrows=1, ncols=2, figsize=(12,3), dpi=90)\n",
    "    \n",
    "    # Plot without loan status\n",
    "    if continuous:\n",
    "        sns.distplot(df_NewAppl.loc[df_NewAppl[col_name].notnull(), col_name], kde=False, ax=ax1)\n",
    "    else:\n",
    "        sns.countplot(df_NewAppl[col_name], order=sorted(df_NewAppl[col_name].unique()), color='#5975A4', saturation=1, ax=ax1)\n",
    "    ax1.set_xlabel(full_name)\n",
    "    ax1.set_ylabel('Count')\n",
    "    ax1.set_title(full_name)\n",
    "\n",
    "    # Plot with loan status\n",
    "    if continuous:\n",
    "        sns.boxplot(x=col_name, y='loan_status', data=df_NewAppl, ax=ax2)\n",
    "        ax2.set_ylabel('')\n",
    "        ax2.set_title(full_name + ' by Loan Status')\n",
    "    else:\n",
    "        charge_off_rates = df_NewAppl.groupby(col_name)['loan_status'].value_counts(normalize=True).loc[:,'Charged Off']\n",
    "        sns.barplot(x=charge_off_rates.index, y=charge_off_rates.values, color='#5975A4', saturation=1, ax=ax2)\n",
    "        ax2.set_ylabel('Fraction of Loans Charged-off')\n",
    "        ax2.set_title('Charge-off Rate by ' + full_name)\n",
    "    ax2.set_xlabel(full_name)\n",
    "    \n",
    "    plt.tight_layout()\n",
    "\n",
    "    \n",
    "def print_stats(col_name, group_by=False):\n",
    "    \"\"\"\n",
    "    print the general statistics of the passed column\n",
    "    \"\"\"\n",
    "    print('-'*60, '\\n Individual Summary Statistics for', col_name, '\\n', '-'*60)\n",
    "    print('Describe \\n',df_NewAppl[col_name].describe(), '\\n', '-'*20)\n",
    "    print('Sample Observations \\n',df_NewAppl[col_name].sample(5), '\\n', '-'*20)\n",
    "    print('Number of Uniques \\n',df_NewAppl[col_name].nunique(), '\\n', '-'*20)\n",
    "    num_uniques = df_NewAppl[col_name].nunique()\n",
    "    if num_uniques <10: \n",
    "        print('Unique value counts \\n', df_NewAppl[col_name].value_counts(), '\\n', '-'*20)\n",
    "        \n",
    "    if group_by:\n",
    "        print('Group_by \\n', df_NewAppl.groupby('loan_status')[col_name].describe(), '\\n','-'*20)"
   ]
  },
  {
   "cell_type": "markdown",
   "metadata": {},
   "source": [
    "1.addr_state\n",
    "2.zip_code"
   ]
  },
  {
   "cell_type": "code",
   "execution_count": 51,
   "metadata": {},
   "outputs": [
    {
     "name": "stdout",
     "output_type": "stream",
     "text": [
      "------------------------------------------------------------ \n",
      " Individual Summary Statistics for addr_state \n",
      " ------------------------------------------------------------\n",
      "Describe \n",
      " count     888553\n",
      "unique        51\n",
      "top           CA\n",
      "freq      129241\n",
      "Name: addr_state, dtype: object \n",
      " --------------------\n",
      "Sample Observations \n",
      " 1643565    WI\n",
      "614336     DC\n",
      "1399014    FL\n",
      "941196     VA\n",
      "1694657    TX\n",
      "Name: addr_state, dtype: object \n",
      " --------------------\n",
      "Number of Uniques \n",
      " 51 \n",
      " --------------------\n"
     ]
    }
   ],
   "source": [
    "print_stats('addr_state')"
   ]
  },
  {
   "cell_type": "code",
   "execution_count": 52,
   "metadata": {},
   "outputs": [
    {
     "name": "stdout",
     "output_type": "stream",
     "text": [
      "------------------------------------------------------------ \n",
      " Individual Summary Statistics for zip_code \n",
      " ------------------------------------------------------------\n",
      "Describe \n",
      " count     888553\n",
      "unique       931\n",
      "top          112\n",
      "freq        9981\n",
      "Name: zip_code, dtype: object \n",
      " --------------------\n",
      "Sample Observations \n",
      " 1716392    805\n",
      "2246296    891\n",
      "1959738    060\n",
      "1370132    064\n",
      "1256738    851\n",
      "Name: zip_code, dtype: object \n",
      " --------------------\n",
      "Number of Uniques \n",
      " 931 \n",
      " --------------------\n"
     ]
    }
   ],
   "source": [
    "print_stats('zip_code')\n"
   ]
  },
  {
   "cell_type": "markdown",
   "metadata": {},
   "source": [
    "This shows there are 51 unique states and 943 values for zip_code. \n",
    "These are too many values i.e. lot of different zip codes. So we will drop the zip_code column. \n",
    "Instead we will keep the state"
   ]
  },
  {
   "cell_type": "code",
   "execution_count": 53,
   "metadata": {},
   "outputs": [],
   "source": [
    "df_NewAppl.drop(labels='zip_code', axis=1, inplace=True)"
   ]
  },
  {
   "cell_type": "code",
   "execution_count": 54,
   "metadata": {},
   "outputs": [
    {
     "data": {
      "image/png": "[encoded data removed]",
      "text/plain": [
       "<Figure size 1080x270 with 2 Axes>"
      ]
     },
     "metadata": {
      "needs_background": "light"
     },
     "output_type": "display_data"
    }
   ],
   "source": [
    "plot_var('addr_state', 'Address State', continuous=False)"
   ]
  },
  {
   "cell_type": "markdown",
   "metadata": {},
   "source": [
    "3. annual_inc\n",
    "\n",
    "The summary stats show annual income values range from 0 to 10,999,200 with a median of 65,000. Since the values vary so much we will take a log transform of the feature. We will create a new feature called 'annual_inc_log' and store these values there and then drop the feature annual_inc. \n",
    "\n",
    "From the plot it appears that individuals who paid off the loans have slightly higher annual income.\n",
    "13.lOan _title"
   ]
  },
  {
   "cell_type": "code",
   "execution_count": 55,
   "metadata": {},
   "outputs": [
    {
     "data": {
      "text/plain": [
       "count    888553.000000\n",
       "mean      65335.405348\n",
       "std       28820.618072\n",
       "min           0.000000\n",
       "25%       44000.000000\n",
       "50%       60000.000000\n",
       "75%       82000.000000\n",
       "max      156186.000000\n",
       "Name: annual_inc, dtype: float64"
      ]
     },
     "execution_count": 55,
     "metadata": {},
     "output_type": "execute_result"
    }
   ],
   "source": [
    "df_NewAppl['annual_inc'].describe()"
   ]
  },
  {
   "cell_type": "code",
   "execution_count": 56,
   "metadata": {},
   "outputs": [
    {
     "data": {
      "image/png": "[encoded data removed]",
      "text/plain": [
       "<Figure size 1080x270 with 2 Axes>"
      ]
     },
     "metadata": {
      "needs_background": "light"
     },
     "output_type": "display_data"
    }
   ],
   "source": [
    "df_NewAppl['annual_inc_log'] = df_NewAppl['annual_inc'].apply(lambda x : np.log10(x+1))\n",
    "df_NewAppl.drop('annual_inc', axis=1, inplace=True)\n",
    "plot_var('annual_inc_log', 'Log Annual Income', continuous=True)\n"
   ]
  },
  {
   "cell_type": "code",
   "execution_count": 57,
   "metadata": {},
   "outputs": [
    {
     "name": "stdout",
     "output_type": "stream",
     "text": [
      "------------------------------------------------------------ \n",
      " Individual Summary Statistics for annual_inc_log \n",
      " ------------------------------------------------------------\n",
      "Describe \n",
      " count    888553.000000\n",
      "mean          4.770651\n",
      "std           0.213097\n",
      "min           0.000000\n",
      "25%           4.643463\n",
      "50%           4.778158\n",
      "75%           4.913819\n",
      "max           5.193645\n",
      "Name: annual_inc_log, dtype: float64 \n",
      " --------------------\n",
      "Sample Observations \n",
      " 1856212    4.653222\n",
      "2138319    4.602071\n",
      "1087632    4.505164\n",
      "573710     4.301052\n",
      "730345     5.000004\n",
      "Name: annual_inc_log, dtype: float64 \n",
      " --------------------\n",
      "Number of Uniques \n",
      " 46363 \n",
      " --------------------\n",
      "Group_by \n",
      "                 count      mean       std  min       25%       50%       75%       max\n",
      "loan_status                                                                           \n",
      "Charged Off  170996.0  4.743519  0.212507  0.0  4.612794  4.748196  4.879024  5.193645\n",
      "Fully Paid   717557.0  4.777117  0.212727  0.0  4.653222  4.778158  4.924284  5.193489 \n",
      " --------------------\n"
     ]
    }
   ],
   "source": [
    "print_stats('annual_inc_log', True)"
   ]
  },
  {
   "cell_type": "code",
   "execution_count": null,
   "metadata": {},
   "outputs": [],
   "source": []
  },
  {
   "cell_type": "markdown",
   "metadata": {},
   "source": [
    "4. loan_amnt\n",
    "\n",
    "\n"
   ]
  },
  {
   "cell_type": "code",
   "execution_count": 58,
   "metadata": {},
   "outputs": [
    {
     "name": "stdout",
     "output_type": "stream",
     "text": [
      "------------------------------------------------------------ \n",
      " Individual Summary Statistics for loan_amnt \n",
      " ------------------------------------------------------------\n",
      "Describe \n",
      " count    888553.000000\n",
      "mean      13211.045824\n",
      "std        7589.800367\n",
      "min         500.000000\n",
      "25%        7200.000000\n",
      "50%       12000.000000\n",
      "75%       18000.000000\n",
      "max       38000.000000\n",
      "Name: loan_amnt, dtype: float64 \n",
      " --------------------\n",
      "Sample Observations \n",
      " 2195197     3000\n",
      "2059192    10000\n",
      "1796126    18550\n",
      "514561     15000\n",
      "1728728    28000\n",
      "Name: loan_amnt, dtype: int64 \n",
      " --------------------\n",
      "Number of Uniques \n",
      " 1431 \n",
      " --------------------\n",
      "Group_by \n",
      "                 count          mean          std    min     25%      50%      75%      max\n",
      "loan_status                                                                               \n",
      "Charged Off  170996.0  14281.453806  7807.601512  900.0  8000.0  12950.0  20000.0  38000.0\n",
      "Fully Paid   717557.0  12955.964369  7514.511223  500.0  7000.0  11900.0  18000.0  38000.0 \n",
      " --------------------\n"
     ]
    },
    {
     "data": {
      "image/png": "[encoded data removed]",
      "text/plain": [
       "<Figure size 1080x270 with 2 Axes>"
      ]
     },
     "metadata": {
      "needs_background": "light"
     },
     "output_type": "display_data"
    }
   ],
   "source": [
    "print_stats('loan_amnt', True)\n",
    "plot_var('loan_amnt', 'Loan Amount', continuous=True)"
   ]
  },
  {
   "cell_type": "code",
   "execution_count": 59,
   "metadata": {},
   "outputs": [],
   "source": [
    "#After plotting we see charged off loans have higher loan amount"
   ]
  },
  {
   "cell_type": "markdown",
   "metadata": {},
   "source": [
    "5. term"
   ]
  },
  {
   "cell_type": "code",
   "execution_count": 60,
   "metadata": {},
   "outputs": [
    {
     "name": "stdout",
     "output_type": "stream",
     "text": [
      "------------------------------------------------------------ \n",
      " Individual Summary Statistics for term \n",
      " ------------------------------------------------------------\n",
      "Describe \n",
      " count         888553\n",
      "unique             2\n",
      "top        36 months\n",
      "freq          683990\n",
      "Name: term, dtype: object \n",
      " --------------------\n",
      "Sample Observations \n",
      " 1752498     36 months\n",
      "933367      36 months\n",
      "1089611     60 months\n",
      "1000144     36 months\n",
      "1783351     36 months\n",
      "Name: term, dtype: object \n",
      " --------------------\n",
      "Number of Uniques \n",
      " 2 \n",
      " --------------------\n",
      "Unique value counts \n",
      "  36 months    683990\n",
      " 60 months    204563\n",
      "Name: term, dtype: int64 \n",
      " --------------------\n"
     ]
    }
   ],
   "source": [
    "print_stats('term')\n",
    "\n"
   ]
  },
  {
   "cell_type": "code",
   "execution_count": 61,
   "metadata": {},
   "outputs": [],
   "source": [
    "#Term has values ‘36 months’ or ‘60 months’. We will convert it into integer as follows\n",
    "df_NewAppl['term'] = df_NewAppl['term'].apply(lambda s: np.int8(s.split()[0]))"
   ]
  },
  {
   "cell_type": "code",
   "execution_count": 62,
   "metadata": {},
   "outputs": [
    {
     "data": {
      "text/plain": [
       "36    0.76978\n",
       "60    0.23022\n",
       "Name: term, dtype: float64"
      ]
     },
     "execution_count": 62,
     "metadata": {},
     "output_type": "execute_result"
    }
   ],
   "source": [
    "df_NewAppl['term'].value_counts(normalize=True) #SHows about 76% of loans have 3 year period and rest are 5 year loans"
   ]
  },
  {
   "cell_type": "code",
   "execution_count": 63,
   "metadata": {},
   "outputs": [
    {
     "data": {
      "text/plain": [
       "term\n",
       "36    0.155806\n",
       "60    0.314945\n",
       "Name: loan_status, dtype: float64"
      ]
     },
     "execution_count": 63,
     "metadata": {},
     "output_type": "execute_result"
    }
   ],
   "source": [
    "df_NewAppl.groupby('term')['loan_status'].value_counts(normalize=True).loc[:,'Charged Off']\n",
    "#If we focus only on charged off loans, 5 year loans are almost TWICE as likely to go BAD as 3 year loans!!!"
   ]
  },
  {
   "cell_type": "code",
   "execution_count": 64,
   "metadata": {},
   "outputs": [
    {
     "data": {
      "image/png": "[encoded data removed]",
      "text/plain": [
       "<Figure size 432x288 with 1 Axes>"
      ]
     },
     "metadata": {
      "needs_background": "light"
     },
     "output_type": "display_data"
    }
   ],
   "source": [
    "plt.bar(['36 months', '60 months'], height= df_NewAppl.groupby('term')['loan_status'].value_counts(normalize=True).loc[:,'Charged Off']) \n",
    "plt.xlabel('Term')\n",
    "plt.ylabel('% charged off')\n",
    "plt.show()\n"
   ]
  },
  {
   "cell_type": "markdown",
   "metadata": {},
   "source": [
    "6. Int_rate"
   ]
  },
  {
   "cell_type": "code",
   "execution_count": 65,
   "metadata": {},
   "outputs": [
    {
     "name": "stdout",
     "output_type": "stream",
     "text": [
      "------------------------------------------------------------ \n",
      " Individual Summary Statistics for int_rate \n",
      " ------------------------------------------------------------\n",
      "Describe \n",
      " count    888553.000000\n",
      "mean         12.900300\n",
      "std           4.378491\n",
      "min           5.310000\n",
      "25%           9.490000\n",
      "50%          12.690000\n",
      "75%          15.610000\n",
      "max          25.340000\n",
      "Name: int_rate, dtype: float64 \n",
      " --------------------\n",
      "Sample Observations \n",
      " 1739639    22.70\n",
      "785519     18.99\n",
      "2117493    13.80\n",
      "1315678    15.99\n",
      "1816897    14.33\n",
      "Name: int_rate, dtype: float64 \n",
      " --------------------\n",
      "Number of Uniques \n",
      " 594 \n",
      " --------------------\n",
      "Group_by \n",
      "                 count       mean       std   min    25%    50%    75%    max\n",
      "loan_status                                                                 \n",
      "Charged Off  170996.0  15.139194  4.254223  5.31  12.12  14.65  18.06  25.34\n",
      "Fully Paid   717557.0  12.366764  4.236468  5.31   9.16  11.99  14.99  25.34 \n",
      " --------------------\n"
     ]
    }
   ],
   "source": [
    "print_stats('int_rate', True)\n"
   ]
  },
  {
   "cell_type": "markdown",
   "metadata": {},
   "source": [
    "Shows int_rate ranges from 5 to 30%!!!"
   ]
  },
  {
   "cell_type": "code",
   "execution_count": 66,
   "metadata": {},
   "outputs": [
    {
     "data": {
      "image/png": "[encoded data removed]",
      "text/plain": [
       "<Figure size 1080x270 with 2 Axes>"
      ]
     },
     "metadata": {
      "needs_background": "light"
     },
     "output_type": "display_data"
    }
   ],
   "source": [
    "plot_var('int_rate', 'Interest Rate', continuous=True)"
   ]
  },
  {
   "cell_type": "markdown",
   "metadata": {},
   "source": [
    "Shows charged off loans have much HIGHER interest rate!!\n",
    "\n",
    "Next let's compare the summary statistics by loan status:"
   ]
  },
  {
   "cell_type": "code",
   "execution_count": 67,
   "metadata": {},
   "outputs": [
    {
     "data": {
      "text/html": [
       "<div>\n",
       "<style scoped>\n",
       "    .dataframe tbody tr th:only-of-type {\n",
       "        vertical-align: middle;\n",
       "    }\n",
       "\n",
       "    .dataframe tbody tr th {\n",
       "        vertical-align: top;\n",
       "    }\n",
       "\n",
       "    .dataframe thead th {\n",
       "        text-align: right;\n",
       "    }\n",
       "</style>\n",
       "<table border=\"1\" class=\"dataframe\">\n",
       "  <thead>\n",
       "    <tr style=\"text-align: right;\">\n",
       "      <th></th>\n",
       "      <th>count</th>\n",
       "      <th>mean</th>\n",
       "      <th>std</th>\n",
       "      <th>min</th>\n",
       "      <th>25%</th>\n",
       "      <th>50%</th>\n",
       "      <th>75%</th>\n",
       "      <th>max</th>\n",
       "    </tr>\n",
       "    <tr>\n",
       "      <th>loan_status</th>\n",
       "      <th></th>\n",
       "      <th></th>\n",
       "      <th></th>\n",
       "      <th></th>\n",
       "      <th></th>\n",
       "      <th></th>\n",
       "      <th></th>\n",
       "      <th></th>\n",
       "    </tr>\n",
       "  </thead>\n",
       "  <tbody>\n",
       "    <tr>\n",
       "      <th>Charged Off</th>\n",
       "      <td>170996.0</td>\n",
       "      <td>15.139194</td>\n",
       "      <td>4.254223</td>\n",
       "      <td>5.31</td>\n",
       "      <td>12.12</td>\n",
       "      <td>14.65</td>\n",
       "      <td>18.06</td>\n",
       "      <td>25.34</td>\n",
       "    </tr>\n",
       "    <tr>\n",
       "      <th>Fully Paid</th>\n",
       "      <td>717557.0</td>\n",
       "      <td>12.366764</td>\n",
       "      <td>4.236468</td>\n",
       "      <td>5.31</td>\n",
       "      <td>9.16</td>\n",
       "      <td>11.99</td>\n",
       "      <td>14.99</td>\n",
       "      <td>25.34</td>\n",
       "    </tr>\n",
       "  </tbody>\n",
       "</table>\n",
       "</div>"
      ],
      "text/plain": [
       "                count       mean       std   min    25%    50%    75%    max\n",
       "loan_status                                                                 \n",
       "Charged Off  170996.0  15.139194  4.254223  5.31  12.12  14.65  18.06  25.34\n",
       "Fully Paid   717557.0  12.366764  4.236468  5.31   9.16  11.99  14.99  25.34"
      ]
     },
     "execution_count": 67,
     "metadata": {},
     "output_type": "execute_result"
    }
   ],
   "source": [
    "df_NewAppl.groupby('loan_status')['int_rate'].describe()"
   ]
  },
  {
   "cell_type": "markdown",
   "metadata": {},
   "source": [
    "7. Installment"
   ]
  },
  {
   "cell_type": "code",
   "execution_count": 68,
   "metadata": {},
   "outputs": [
    {
     "name": "stdout",
     "output_type": "stream",
     "text": [
      "------------------------------------------------------------ \n",
      " Individual Summary Statistics for installment \n",
      " ------------------------------------------------------------\n",
      "Describe \n",
      " count    888553.000000\n",
      "mean        398.371542\n",
      "std         216.407369\n",
      "min          14.010000\n",
      "25%         237.520000\n",
      "50%         355.300000\n",
      "75%         527.710000\n",
      "max        1077.890000\n",
      "Name: installment, dtype: float64 \n",
      " --------------------\n",
      "Sample Observations \n",
      " 762748     752.87\n",
      "1044584     34.18\n",
      "994599     215.63\n",
      "714736     996.12\n",
      "452139     156.74\n",
      "Name: installment, dtype: float64 \n",
      " --------------------\n",
      "Number of Uniques \n",
      " 69342 \n",
      " --------------------\n"
     ]
    }
   ],
   "source": [
    "print_stats('installment')"
   ]
  },
  {
   "cell_type": "code",
   "execution_count": 69,
   "metadata": {},
   "outputs": [],
   "source": [
    "#Installments range from $4.93 to $1,719, with a median of $375"
   ]
  },
  {
   "cell_type": "code",
   "execution_count": 70,
   "metadata": {},
   "outputs": [
    {
     "data": {
      "image/png": "[encoded data removed]",
      "text/plain": [
       "<Figure size 1080x270 with 2 Axes>"
      ]
     },
     "metadata": {
      "needs_background": "light"
     },
     "output_type": "display_data"
    }
   ],
   "source": [
    "plot_var('installment', 'Installment', continuous=True)"
   ]
  },
  {
   "cell_type": "markdown",
   "metadata": {},
   "source": [
    "Charged-off loans tend to have higher installments. Let's compare the summary statistics by loan status:"
   ]
  },
  {
   "cell_type": "code",
   "execution_count": 71,
   "metadata": {},
   "outputs": [
    {
     "data": {
      "text/html": [
       "<div>\n",
       "<style scoped>\n",
       "    .dataframe tbody tr th:only-of-type {\n",
       "        vertical-align: middle;\n",
       "    }\n",
       "\n",
       "    .dataframe tbody tr th {\n",
       "        vertical-align: top;\n",
       "    }\n",
       "\n",
       "    .dataframe thead th {\n",
       "        text-align: right;\n",
       "    }\n",
       "</style>\n",
       "<table border=\"1\" class=\"dataframe\">\n",
       "  <thead>\n",
       "    <tr style=\"text-align: right;\">\n",
       "      <th></th>\n",
       "      <th>count</th>\n",
       "      <th>mean</th>\n",
       "      <th>std</th>\n",
       "      <th>min</th>\n",
       "      <th>25%</th>\n",
       "      <th>50%</th>\n",
       "      <th>75%</th>\n",
       "      <th>max</th>\n",
       "    </tr>\n",
       "    <tr>\n",
       "      <th>loan_status</th>\n",
       "      <th></th>\n",
       "      <th></th>\n",
       "      <th></th>\n",
       "      <th></th>\n",
       "      <th></th>\n",
       "      <th></th>\n",
       "      <th></th>\n",
       "      <th></th>\n",
       "    </tr>\n",
       "  </thead>\n",
       "  <tbody>\n",
       "    <tr>\n",
       "      <th>Charged Off</th>\n",
       "      <td>170996.0</td>\n",
       "      <td>420.750440</td>\n",
       "      <td>215.421860</td>\n",
       "      <td>21.62</td>\n",
       "      <td>263.99</td>\n",
       "      <td>379.28</td>\n",
       "      <td>550.68</td>\n",
       "      <td>1077.67</td>\n",
       "    </tr>\n",
       "    <tr>\n",
       "      <th>Fully Paid</th>\n",
       "      <td>717557.0</td>\n",
       "      <td>393.038584</td>\n",
       "      <td>216.300353</td>\n",
       "      <td>14.01</td>\n",
       "      <td>230.74</td>\n",
       "      <td>348.18</td>\n",
       "      <td>521.03</td>\n",
       "      <td>1077.89</td>\n",
       "    </tr>\n",
       "  </tbody>\n",
       "</table>\n",
       "</div>"
      ],
      "text/plain": [
       "                count        mean         std    min     25%     50%     75%      max\n",
       "loan_status                                                                          \n",
       "Charged Off  170996.0  420.750440  215.421860  21.62  263.99  379.28  550.68  1077.67\n",
       "Fully Paid   717557.0  393.038584  216.300353  14.01  230.74  348.18  521.03  1077.89"
      ]
     },
     "execution_count": 71,
     "metadata": {},
     "output_type": "execute_result"
    }
   ],
   "source": [
    "df_NewAppl.groupby('loan_status')['installment'].describe()"
   ]
  },
  {
   "cell_type": "markdown",
   "metadata": {},
   "source": [
    "8. grade\n",
    "9. sub_grade"
   ]
  },
  {
   "cell_type": "code",
   "execution_count": 72,
   "metadata": {},
   "outputs": [
    {
     "name": "stdout",
     "output_type": "stream",
     "text": [
      "['A', 'B', 'C', 'D', 'E', 'F', 'G']\n"
     ]
    }
   ],
   "source": [
    "print(sorted(df_NewAppl['grade'].unique()))"
   ]
  },
  {
   "cell_type": "code",
   "execution_count": 73,
   "metadata": {},
   "outputs": [
    {
     "name": "stdout",
     "output_type": "stream",
     "text": [
      "['A1', 'A2', 'A3', 'A4', 'A5', 'B1', 'B2', 'B3', 'B4', 'B5', 'C1', 'C2', 'C3', 'C4', 'C5', 'D1', 'D2', 'D3', 'D4', 'D5', 'E1', 'E2', 'E3', 'E4', 'E5', 'F1', 'F2', 'F3', 'F4', 'F5', 'G1', 'G2', 'G3', 'G4', 'G5']\n"
     ]
    }
   ],
   "source": [
    "print(sorted(df_NewAppl['sub_grade'].unique()))"
   ]
  },
  {
   "cell_type": "code",
   "execution_count": 74,
   "metadata": {},
   "outputs": [],
   "source": [
    "#the grade is implied by the subgrade, so let's drop the grade column.\n",
    "df_NewAppl.drop('grade', axis=1, inplace=True)"
   ]
  },
  {
   "cell_type": "code",
   "execution_count": 75,
   "metadata": {},
   "outputs": [
    {
     "data": {
      "image/png": "[encoded data removed]",
      "text/plain": [
       "<Figure size 1080x270 with 2 Axes>"
      ]
     },
     "metadata": {
      "needs_background": "light"
     },
     "output_type": "display_data"
    }
   ],
   "source": [
    "plot_var('sub_grade', 'Subgrade', continuous=False)"
   ]
  },
  {
   "cell_type": "markdown",
   "metadata": {},
   "source": [
    "There's a clear trend of higher probability of charge-off as the subgrade gets worse!"
   ]
  },
  {
   "cell_type": "markdown",
   "metadata": {},
   "source": [
    "10. emp_title"
   ]
  },
  {
   "cell_type": "code",
   "execution_count": 76,
   "metadata": {},
   "outputs": [
    {
     "name": "stdout",
     "output_type": "stream",
     "text": [
      "------------------------------------------------------------ \n",
      " Individual Summary Statistics for emp_title \n",
      " ------------------------------------------------------------\n",
      "Describe \n",
      " count      835115\n",
      "unique     281839\n",
      "top       Teacher\n",
      "freq        14898\n",
      "Name: emp_title, dtype: object \n",
      " --------------------\n",
      "Sample Observations \n",
      " 2183044                                   Lab tech\n",
      "1696944    office manager/administrative assistant\n",
      "2254658                                        NaN\n",
      "829356                          Operations Manager\n",
      "1681090                             Sales Exective\n",
      "Name: emp_title, dtype: object \n",
      " --------------------\n",
      "Number of Uniques \n",
      " 281839 \n",
      " --------------------\n"
     ]
    }
   ],
   "source": [
    "print_stats('emp_title')"
   ]
  },
  {
   "cell_type": "code",
   "execution_count": 77,
   "metadata": {},
   "outputs": [],
   "source": [
    "#There are too many unique values of emp_title to be useful. So we will drop this feature\n",
    "df_NewAppl.drop(labels='emp_title', axis=1, inplace=True)"
   ]
  },
  {
   "cell_type": "markdown",
   "metadata": {},
   "source": [
    "11. emp_length"
   ]
  },
  {
   "cell_type": "code",
   "execution_count": 78,
   "metadata": {},
   "outputs": [
    {
     "name": "stdout",
     "output_type": "stream",
     "text": [
      "------------------------------------------------------------ \n",
      " Individual Summary Statistics for emp_length \n",
      " ------------------------------------------------------------\n",
      "Describe \n",
      " count    839903.000000\n",
      "mean          5.794185\n",
      "std           3.687045\n",
      "min           0.000000\n",
      "25%           2.000000\n",
      "50%           6.000000\n",
      "75%          10.000000\n",
      "max          10.000000\n",
      "Name: emp_length, dtype: float64 \n",
      " --------------------\n",
      "Sample Observations \n",
      " 1139713    10.0\n",
      "346288      1.0\n",
      "2078721     9.0\n",
      "1344306     6.0\n",
      "2094305     5.0\n",
      "Name: emp_length, dtype: float64 \n",
      " --------------------\n",
      "Number of Uniques \n",
      " 11 \n",
      " --------------------\n"
     ]
    },
    {
     "data": {
      "text/plain": [
       "0.0      75306\n",
       "1.0      62282\n",
       "2.0      84558\n",
       "3.0      74010\n",
       "4.0      55154\n",
       "5.0      57332\n",
       "6.0      42697\n",
       "7.0      40413\n",
       "8.0      40368\n",
       "9.0      33998\n",
       "10.0    273785\n",
       "NaN      48650\n",
       "Name: emp_length, dtype: int64"
      ]
     },
     "execution_count": 78,
     "metadata": {},
     "output_type": "execute_result"
    }
   ],
   "source": [
    "print_stats('emp_length')\n",
    "df_NewAppl['emp_length'].value_counts(dropna=False).sort_index()"
   ]
  },
  {
   "cell_type": "markdown",
   "metadata": {},
   "source": [
    "Note there are 75454 loans with missing value for the length of employment.\n"
   ]
  },
  {
   "cell_type": "code",
   "execution_count": 79,
   "metadata": {},
   "outputs": [
    {
     "data": {
      "image/png": "[encoded data removed]",
      "text/plain": [
       "<Figure size 1080x270 with 2 Axes>"
      ]
     },
     "metadata": {
      "needs_background": "light"
     },
     "output_type": "display_data"
    }
   ],
   "source": [
    "plot_var('emp_length', 'Employment Length', continuous=False)"
   ]
  },
  {
   "cell_type": "markdown",
   "metadata": {},
   "source": [
    "THere doesn't seem to be significant effect of employment length on loan status\n",
    "As the plot shows loan status does not appear to vary much with employment length on average, except for a small drop in charge-offs for borrowers with over 10 years of employment."
   ]
  },
  {
   "cell_type": "markdown",
   "metadata": {},
   "source": [
    "12. home_ownership"
   ]
  },
  {
   "cell_type": "code",
   "execution_count": 80,
   "metadata": {},
   "outputs": [
    {
     "data": {
      "text/plain": [
       "MORTGAGE    411309\n",
       "RENT        381745\n",
       "OWN          95156\n",
       "ANY            173\n",
       "OTHER          129\n",
       "NONE            41\n",
       "Name: home_ownership, dtype: int64"
      ]
     },
     "execution_count": 80,
     "metadata": {},
     "output_type": "execute_result"
    }
   ],
   "source": [
    "df_NewAppl['home_ownership'].value_counts(dropna=False)"
   ]
  },
  {
   "cell_type": "markdown",
   "metadata": {},
   "source": [
    "Let's combine the category ANY and NONO into OTHER"
   ]
  },
  {
   "cell_type": "code",
   "execution_count": 81,
   "metadata": {},
   "outputs": [],
   "source": [
    "df_NewAppl['home_ownership'].replace(['NONE', 'ANY'], 'OTHER', inplace=True)"
   ]
  },
  {
   "cell_type": "code",
   "execution_count": 82,
   "metadata": {},
   "outputs": [
    {
     "data": {
      "text/plain": [
       "MORTGAGE    411309\n",
       "RENT        381745\n",
       "OWN          95156\n",
       "OTHER          343\n",
       "Name: home_ownership, dtype: int64"
      ]
     },
     "execution_count": 82,
     "metadata": {},
     "output_type": "execute_result"
    }
   ],
   "source": [
    "df_NewAppl['home_ownership'].value_counts(dropna=False)"
   ]
  },
  {
   "cell_type": "code",
   "execution_count": 83,
   "metadata": {},
   "outputs": [
    {
     "data": {
      "image/png": "[encoded data removed]",
      "text/plain": [
       "<Figure size 1080x270 with 2 Axes>"
      ]
     },
     "metadata": {
      "needs_background": "light"
     },
     "output_type": "display_data"
    }
   ],
   "source": [
    "plot_var('home_ownership', 'Home Ownership', continuous=False)"
   ]
  },
  {
   "cell_type": "markdown",
   "metadata": {},
   "source": [
    "There appears to be significant differences in charge-off rates by home ownership status. Renters and homeowners have a higher probability of charge-off. Let's compare the charge-off rates:"
   ]
  },
  {
   "cell_type": "code",
   "execution_count": 84,
   "metadata": {},
   "outputs": [
    {
     "data": {
      "text/plain": [
       "home_ownership\n",
       "MORTGAGE    0.166556\n",
       "OTHER       0.189504\n",
       "OWN         0.198495\n",
       "RENT        0.218829\n",
       "Name: loan_status, dtype: float64"
      ]
     },
     "execution_count": 84,
     "metadata": {},
     "output_type": "execute_result"
    }
   ],
   "source": [
    "\n",
    "df_NewAppl.groupby('home_ownership')['loan_status'].value_counts(normalize=True).loc[:,'Charged Off']\n",
    "#.plot(kind='bar', color='red')\n"
   ]
  },
  {
   "cell_type": "code",
   "execution_count": 85,
   "metadata": {},
   "outputs": [
    {
     "data": {
      "text/plain": [
       "<matplotlib.axes._subplots.AxesSubplot at 0x1a2296a860>"
      ]
     },
     "execution_count": 85,
     "metadata": {},
     "output_type": "execute_result"
    },
    {
     "data": {
      "image/png": "[encoded data removed]",
      "text/plain": [
       "<Figure size 432x288 with 1 Axes>"
      ]
     },
     "metadata": {
      "needs_background": "light"
     },
     "output_type": "display_data"
    }
   ],
   "source": [
    "df_NewAppl['home_ownership'].value_counts(dropna=False, normalize = True).plot(kind='bar')"
   ]
  },
  {
   "cell_type": "markdown",
   "metadata": {},
   "source": [
    "13. application_type\n",
    "Tells whether the loan application is individual or joint application\n",
    "\n",
    "From our plot and summary stats we see that - Joint loans are more likely to be charged off than individual loans"
   ]
  },
  {
   "cell_type": "code",
   "execution_count": 86,
   "metadata": {},
   "outputs": [
    {
     "name": "stdout",
     "output_type": "stream",
     "text": [
      "------------------------------------------------------------ \n",
      " Individual Summary Statistics for application_type \n",
      " ------------------------------------------------------------\n",
      "Describe \n",
      " count         888553\n",
      "unique             2\n",
      "top       Individual\n",
      "freq          876475\n",
      "Name: application_type, dtype: object \n",
      " --------------------\n",
      "Sample Observations \n",
      " 641560     Individual\n",
      "2178749    Individual\n",
      "1023637    Individual\n",
      "1187559    Individual\n",
      "2111568    Individual\n",
      "Name: application_type, dtype: object \n",
      " --------------------\n",
      "Number of Uniques \n",
      " 2 \n",
      " --------------------\n",
      "Unique value counts \n",
      " Individual    876475\n",
      "Joint App      12078\n",
      "Name: application_type, dtype: int64 \n",
      " --------------------\n",
      "Group_by \n",
      "               count unique         top    freq\n",
      "loan_status                                   \n",
      "Charged Off  170996      2  Individual  168210\n",
      "Fully Paid   717557      2  Individual  708265 \n",
      " --------------------\n",
      "application_type\n",
      "Individual    0.191916\n",
      "Joint App     0.230667\n",
      "Name: loan_status, dtype: float64\n"
     ]
    }
   ],
   "source": [
    "print_stats('application_type', True)\n",
    "\n",
    "\n",
    "print(df_NewAppl.groupby('application_type')['loan_status'].value_counts(normalize=True).loc[:,'Charged Off'])\n",
    "#print(df_NewAppl['loan_status'== 'Charged Off'].groupby('application_type')['loan_status'].value_counts(normalize=True))\n"
   ]
  },
  {
   "cell_type": "code",
   "execution_count": 87,
   "metadata": {},
   "outputs": [
    {
     "data": {
      "image/png": "[encoded data removed]",
      "text/plain": [
       "<Figure size 1080x270 with 2 Axes>"
      ]
     },
     "metadata": {
      "needs_background": "light"
     },
     "output_type": "display_data"
    }
   ],
   "source": [
    "plot_var('application_type', 'Installment', continuous=False)"
   ]
  },
  {
   "cell_type": "markdown",
   "metadata": {},
   "source": [
    "14. dti : debt to income ratio (debt excluding mortgage and current application debt)"
   ]
  },
  {
   "cell_type": "code",
   "execution_count": 88,
   "metadata": {},
   "outputs": [
    {
     "name": "stdout",
     "output_type": "stream",
     "text": [
      "------------------------------------------------------------ \n",
      " Individual Summary Statistics for dti \n",
      " ------------------------------------------------------------\n",
      "Describe \n",
      " count    888341.000000\n",
      "mean         18.017513\n",
      "std           8.280638\n",
      "min           0.000000\n",
      "25%          11.840000\n",
      "50%          17.560000\n",
      "75%          23.830000\n",
      "max          42.390000\n",
      "Name: dti, dtype: float64 \n",
      " --------------------\n",
      "Sample Observations \n",
      " 1791862    15.98\n",
      "1341945    23.24\n",
      "1986996    15.48\n",
      "1054547    13.59\n",
      "1953423    19.70\n",
      "Name: dti, dtype: float64 \n",
      " --------------------\n",
      "Number of Uniques \n",
      " 4222 \n",
      " --------------------\n"
     ]
    }
   ],
   "source": [
    "print_stats('dti')"
   ]
  },
  {
   "cell_type": "markdown",
   "metadata": {},
   "source": [
    "There seems to be some outliers. Since the values range from -1 to 999 with 75% values below 24. \n"
   ]
  },
  {
   "cell_type": "code",
   "execution_count": 89,
   "metadata": {},
   "outputs": [
    {
     "data": {
      "text/plain": [
       "4222"
      ]
     },
     "execution_count": 89,
     "metadata": {},
     "output_type": "execute_result"
    }
   ],
   "source": [
    "#df_NewAppl.groupby('target')['dti'].value_counts(normalize=True)\n",
    "df_NewAppl.dti.nunique()"
   ]
  },
  {
   "cell_type": "code",
   "execution_count": 90,
   "metadata": {},
   "outputs": [
    {
     "data": {
      "text/plain": [
       "(888553, 25)"
      ]
     },
     "execution_count": 90,
     "metadata": {},
     "output_type": "execute_result"
    }
   ],
   "source": [
    "df_NewAppl.shape"
   ]
  },
  {
   "cell_type": "code",
   "execution_count": 91,
   "metadata": {},
   "outputs": [
    {
     "data": {
      "text/plain": [
       "216807"
      ]
     },
     "execution_count": 91,
     "metadata": {},
     "output_type": "execute_result"
    }
   ],
   "source": [
    "df_NewAppl[df_NewAppl.dti > 24].dti.count()"
   ]
  },
  {
   "cell_type": "markdown",
   "metadata": {},
   "source": [
    "15. initial_list_status: Initial listing status of the listing"
   ]
  },
  {
   "cell_type": "code",
   "execution_count": 92,
   "metadata": {},
   "outputs": [
    {
     "name": "stdout",
     "output_type": "stream",
     "text": [
      "------------------------------------------------------------ \n",
      " Individual Summary Statistics for initial_list_status \n",
      " ------------------------------------------------------------\n",
      "Describe \n",
      " count     888553\n",
      "unique         2\n",
      "top            w\n",
      "freq      498682\n",
      "Name: initial_list_status, dtype: object \n",
      " --------------------\n",
      "Sample Observations \n",
      " 2054340    f\n",
      "1827669    w\n",
      "944927     f\n",
      "163706     w\n",
      "1055616    w\n",
      "Name: initial_list_status, dtype: object \n",
      " --------------------\n",
      "Number of Uniques \n",
      " 2 \n",
      " --------------------\n",
      "Unique value counts \n",
      " w    498682\n",
      "f    389871\n",
      "Name: initial_list_status, dtype: int64 \n",
      " --------------------\n"
     ]
    }
   ],
   "source": [
    "print_stats('initial_list_status')"
   ]
  },
  {
   "cell_type": "markdown",
   "metadata": {},
   "source": [
    "16. mort_acc: number of mortgage accounts"
   ]
  },
  {
   "cell_type": "code",
   "execution_count": 93,
   "metadata": {},
   "outputs": [
    {
     "name": "stdout",
     "output_type": "stream",
     "text": [
      "------------------------------------------------------------ \n",
      " Individual Summary Statistics for mort_acc \n",
      " ------------------------------------------------------------\n",
      "Describe \n",
      " count    847816.000000\n",
      "mean          1.415173\n",
      "std           1.727178\n",
      "min           0.000000\n",
      "25%           0.000000\n",
      "50%           1.000000\n",
      "75%           2.000000\n",
      "max           7.000000\n",
      "Name: mort_acc, dtype: float64 \n",
      " --------------------\n",
      "Sample Observations \n",
      " 502134     0.0\n",
      "857642     0.0\n",
      "1922717    0.0\n",
      "2207160    0.0\n",
      "1646541    0.0\n",
      "Name: mort_acc, dtype: float64 \n",
      " --------------------\n",
      "Number of Uniques \n",
      " 8 \n",
      " --------------------\n",
      "Unique value counts \n",
      " 0.0    383262\n",
      "1.0    146693\n",
      "2.0    116594\n",
      "3.0     83621\n",
      "4.0     56281\n",
      "5.0     33534\n",
      "6.0     18549\n",
      "7.0      9282\n",
      "Name: mort_acc, dtype: int64 \n",
      " --------------------\n"
     ]
    }
   ],
   "source": [
    "print_stats('mort_acc')"
   ]
  },
  {
   "cell_type": "markdown",
   "metadata": {},
   "source": [
    "17. open_acc: the number of open credit lines in borrower's credit line"
   ]
  },
  {
   "cell_type": "code",
   "execution_count": 94,
   "metadata": {},
   "outputs": [
    {
     "name": "stdout",
     "output_type": "stream",
     "text": [
      "------------------------------------------------------------ \n",
      " Individual Summary Statistics for open_acc \n",
      " ------------------------------------------------------------\n",
      "Describe \n",
      " count    888553.000000\n",
      "mean         10.724468\n",
      "std           4.432910\n",
      "min           0.000000\n",
      "25%           7.000000\n",
      "50%          10.000000\n",
      "75%          13.000000\n",
      "max          23.000000\n",
      "Name: open_acc, dtype: float64 \n",
      " --------------------\n",
      "Sample Observations \n",
      " 821932      5.0\n",
      "931902      6.0\n",
      "1114055     9.0\n",
      "2002849    12.0\n",
      "981120      8.0\n",
      "Name: open_acc, dtype: float64 \n",
      " --------------------\n",
      "Number of Uniques \n",
      " 24 \n",
      " --------------------\n"
     ]
    }
   ],
   "source": [
    "print_stats('open_acc')"
   ]
  },
  {
   "cell_type": "markdown",
   "metadata": {},
   "source": [
    "18. pub_rec : number of derogatory public accounts"
   ]
  },
  {
   "cell_type": "code",
   "execution_count": 95,
   "metadata": {},
   "outputs": [
    {
     "name": "stdout",
     "output_type": "stream",
     "text": [
      "------------------------------------------------------------ \n",
      " Individual Summary Statistics for pub_rec \n",
      " ------------------------------------------------------------\n",
      "Describe \n",
      " count    888553.0\n",
      "mean          0.0\n",
      "std           0.0\n",
      "min           0.0\n",
      "25%           0.0\n",
      "50%           0.0\n",
      "75%           0.0\n",
      "max           0.0\n",
      "Name: pub_rec, dtype: float64 \n",
      " --------------------\n",
      "Sample Observations \n",
      " 619018     0.0\n",
      "2112299    0.0\n",
      "832042     0.0\n",
      "1746682    0.0\n",
      "1863874    0.0\n",
      "Name: pub_rec, dtype: float64 \n",
      " --------------------\n",
      "Number of Uniques \n",
      " 1 \n",
      " --------------------\n",
      "Unique value counts \n",
      " 0.0    888553\n",
      "Name: pub_rec, dtype: int64 \n",
      " --------------------\n"
     ]
    }
   ],
   "source": [
    "print_stats('pub_rec')"
   ]
  },
  {
   "cell_type": "code",
   "execution_count": 96,
   "metadata": {},
   "outputs": [
    {
     "ename": "SyntaxError",
     "evalue": "invalid syntax (<ipython-input-96-2a5524992451>, line 1)",
     "output_type": "error",
     "traceback": [
      "\u001b[0;36m  File \u001b[0;32m\"<ipython-input-96-2a5524992451>\"\u001b[0;36m, line \u001b[0;32m1\u001b[0m\n\u001b[0;31m    19. pub_rec_bankruptcies: number of public record bankruptcies\u001b[0m\n\u001b[0m                           ^\u001b[0m\n\u001b[0;31mSyntaxError\u001b[0m\u001b[0;31m:\u001b[0m invalid syntax\n"
     ]
    }
   ],
   "source": [
    "19. pub_rec_bankruptcies: number of public record bankruptcies"
   ]
  },
  {
   "cell_type": "code",
   "execution_count": 97,
   "metadata": {},
   "outputs": [
    {
     "name": "stdout",
     "output_type": "stream",
     "text": [
      "------------------------------------------------------------ \n",
      " Individual Summary Statistics for pub_rec_bankruptcies \n",
      " ------------------------------------------------------------\n",
      "Describe \n",
      " count    887947.0\n",
      "mean          0.0\n",
      "std           0.0\n",
      "min           0.0\n",
      "25%           0.0\n",
      "50%           0.0\n",
      "75%           0.0\n",
      "max           0.0\n",
      "Name: pub_rec_bankruptcies, dtype: float64 \n",
      " --------------------\n",
      "Sample Observations \n",
      " 1090265    0.0\n",
      "1450051    0.0\n",
      "895208     0.0\n",
      "976077     0.0\n",
      "956430     0.0\n",
      "Name: pub_rec_bankruptcies, dtype: float64 \n",
      " --------------------\n",
      "Number of Uniques \n",
      " 1 \n",
      " --------------------\n",
      "Unique value counts \n",
      " 0.0    887947\n",
      "Name: pub_rec_bankruptcies, dtype: int64 \n",
      " --------------------\n",
      "0.0    887947\n",
      "Name: pub_rec_bankruptcies, dtype: int64\n",
      "0.0    1.0\n",
      "Name: pub_rec_bankruptcies, dtype: float64\n"
     ]
    }
   ],
   "source": [
    "print_stats('pub_rec_bankruptcies')\n",
    "print(df_NewAppl.pub_rec_bankruptcies.value_counts())\n",
    "print(df_NewAppl.pub_rec_bankruptcies.value_counts(normalize=True))"
   ]
  },
  {
   "cell_type": "code",
   "execution_count": 98,
   "metadata": {},
   "outputs": [
    {
     "data": {
      "image/png": "[encoded data removed]",
      "text/plain": [
       "<Figure size 1080x270 with 2 Axes>"
      ]
     },
     "metadata": {
      "needs_background": "light"
     },
     "output_type": "display_data"
    }
   ],
   "source": [
    "plot_var('pub_rec_bankruptcies', 'Public Record Bankrptcies', continuous=False)"
   ]
  },
  {
   "cell_type": "markdown",
   "metadata": {},
   "source": [
    "20. purpose: a category provided by the borrower for the loan request"
   ]
  },
  {
   "cell_type": "code",
   "execution_count": 99,
   "metadata": {},
   "outputs": [
    {
     "name": "stdout",
     "output_type": "stream",
     "text": [
      "------------------------------------------------------------ \n",
      " Individual Summary Statistics for purpose \n",
      " ------------------------------------------------------------\n",
      "Describe \n",
      " count                 888553\n",
      "unique                    14\n",
      "top       debt_consolidation\n",
      "freq                  515529\n",
      "Name: purpose, dtype: object \n",
      " --------------------\n",
      "Sample Observations \n",
      " 1215184    debt_consolidation\n",
      "1803197    debt_consolidation\n",
      "2113126    debt_consolidation\n",
      "623246     debt_consolidation\n",
      "613836            credit_card\n",
      "Name: purpose, dtype: object \n",
      " --------------------\n",
      "Number of Uniques \n",
      " 14 \n",
      " --------------------\n"
     ]
    }
   ],
   "source": [
    "print_stats('purpose')"
   ]
  },
  {
   "cell_type": "code",
   "execution_count": 100,
   "metadata": {},
   "outputs": [
    {
     "ename": "SyntaxError",
     "evalue": "invalid syntax (<ipython-input-100-fa86d75c58b8>, line 1)",
     "output_type": "error",
     "traceback": [
      "\u001b[0;36m  File \u001b[0;32m\"<ipython-input-100-fa86d75c58b8>\"\u001b[0;36m, line \u001b[0;32m1\u001b[0m\n\u001b[0;31m    21. revol_bal: total credit revolving balance\u001b[0m\n\u001b[0m                ^\u001b[0m\n\u001b[0;31mSyntaxError\u001b[0m\u001b[0;31m:\u001b[0m invalid syntax\n"
     ]
    }
   ],
   "source": [
    "21. revol_bal: total credit revolving balance"
   ]
  },
  {
   "cell_type": "code",
   "execution_count": null,
   "metadata": {},
   "outputs": [],
   "source": [
    "print_stats('revol_bal')"
   ]
  },
  {
   "cell_type": "code",
   "execution_count": 101,
   "metadata": {},
   "outputs": [
    {
     "ename": "SyntaxError",
     "evalue": "invalid syntax (<ipython-input-101-9ba2d55633d9>, line 1)",
     "output_type": "error",
     "traceback": [
      "\u001b[0;36m  File \u001b[0;32m\"<ipython-input-101-9ba2d55633d9>\"\u001b[0;36m, line \u001b[0;32m1\u001b[0m\n\u001b[0;31m    22. revol_util: revolving line utilization rate or\u001b[0m\n\u001b[0m                 ^\u001b[0m\n\u001b[0;31mSyntaxError\u001b[0m\u001b[0;31m:\u001b[0m invalid syntax\n"
     ]
    }
   ],
   "source": [
    "22. revol_util: revolving line utilization rate or "
   ]
  },
  {
   "cell_type": "code",
   "execution_count": 102,
   "metadata": {},
   "outputs": [
    {
     "name": "stdout",
     "output_type": "stream",
     "text": [
      "------------------------------------------------------------ \n",
      " Individual Summary Statistics for revol_util \n",
      " ------------------------------------------------------------\n",
      "Describe \n",
      " count    887959.000000\n",
      "mean         52.285071\n",
      "std          24.641468\n",
      "min           0.000000\n",
      "25%          33.900000\n",
      "50%          52.700000\n",
      "75%          71.400000\n",
      "max         126.400000\n",
      "Name: revol_util, dtype: float64 \n",
      " --------------------\n",
      "Sample Observations \n",
      " 1759635    51.6\n",
      "905173     22.4\n",
      "1291794    65.0\n",
      "1287201    81.6\n",
      "1764466    51.3\n",
      "Name: revol_util, dtype: float64 \n",
      " --------------------\n",
      "Number of Uniques \n",
      " 1272 \n",
      " --------------------\n"
     ]
    }
   ],
   "source": [
    "print_stats('revol_util')"
   ]
  },
  {
   "cell_type": "code",
   "execution_count": 103,
   "metadata": {},
   "outputs": [
    {
     "ename": "SyntaxError",
     "evalue": "invalid syntax (<ipython-input-103-b5727e83a7d4>, line 1)",
     "output_type": "error",
     "traceback": [
      "\u001b[0;36m  File \u001b[0;32m\"<ipython-input-103-b5727e83a7d4>\"\u001b[0;36m, line \u001b[0;32m1\u001b[0m\n\u001b[0;31m    23. title\u001b[0m\n\u001b[0m            ^\u001b[0m\n\u001b[0;31mSyntaxError\u001b[0m\u001b[0;31m:\u001b[0m invalid syntax\n"
     ]
    }
   ],
   "source": [
    "23. title"
   ]
  },
  {
   "cell_type": "code",
   "execution_count": 104,
   "metadata": {},
   "outputs": [
    {
     "name": "stdout",
     "output_type": "stream",
     "text": [
      "------------------------------------------------------------ \n",
      " Individual Summary Statistics for title \n",
      " ------------------------------------------------------------\n",
      "Describe \n",
      " count                 878511\n",
      "unique                 51948\n",
      "top       Debt consolidation\n",
      "freq                  420893\n",
      "Name: title, dtype: object \n",
      " --------------------\n",
      "Sample Observations \n",
      " 1750340     DEBT CONSOLE LOAN\n",
      "2173920    Debt consolidation\n",
      "1574607    Debt consolidation\n",
      "1144661                 Other\n",
      "516337                  Other\n",
      "Name: title, dtype: object \n",
      " --------------------\n",
      "Number of Uniques \n",
      " 51948 \n",
      " --------------------\n"
     ]
    }
   ],
   "source": [
    "print_stats('title')"
   ]
  },
  {
   "cell_type": "code",
   "execution_count": 105,
   "metadata": {},
   "outputs": [
    {
     "ename": "SyntaxError",
     "evalue": "invalid syntax (<ipython-input-105-260681ae1884>, line 1)",
     "output_type": "error",
     "traceback": [
      "\u001b[0;36m  File \u001b[0;32m\"<ipython-input-105-260681ae1884>\"\u001b[0;36m, line \u001b[0;32m1\u001b[0m\n\u001b[0;31m    24. total_acc: the total number of credit lines currently in the borrower's credit line\u001b[0m\n\u001b[0m                ^\u001b[0m\n\u001b[0;31mSyntaxError\u001b[0m\u001b[0;31m:\u001b[0m invalid syntax\n"
     ]
    }
   ],
   "source": [
    "24. total_acc: the total number of credit lines currently in the borrower's credit line"
   ]
  },
  {
   "cell_type": "code",
   "execution_count": null,
   "metadata": {},
   "outputs": [],
   "source": [
    "print_stats('total_acc')"
   ]
  },
  {
   "cell_type": "code",
   "execution_count": 106,
   "metadata": {},
   "outputs": [
    {
     "ename": "SyntaxError",
     "evalue": "invalid syntax (<ipython-input-106-2826de172603>, line 1)",
     "output_type": "error",
     "traceback": [
      "\u001b[0;36m  File \u001b[0;32m\"<ipython-input-106-2826de172603>\"\u001b[0;36m, line \u001b[0;32m1\u001b[0m\n\u001b[0;31m    25. verification_status\u001b[0m\n\u001b[0m                          ^\u001b[0m\n\u001b[0;31mSyntaxError\u001b[0m\u001b[0;31m:\u001b[0m invalid syntax\n"
     ]
    }
   ],
   "source": [
    "25. verification_status"
   ]
  },
  {
   "cell_type": "code",
   "execution_count": 107,
   "metadata": {},
   "outputs": [
    {
     "name": "stdout",
     "output_type": "stream",
     "text": [
      "------------------------------------------------------------ \n",
      " Individual Summary Statistics for verification_status \n",
      " ------------------------------------------------------------\n",
      "Describe \n",
      " count              888553\n",
      "unique                  3\n",
      "top       Source Verified\n",
      "freq               333405\n",
      "Name: verification_status, dtype: object \n",
      " --------------------\n",
      "Sample Observations \n",
      " 1708376    Source Verified\n",
      "828918     Source Verified\n",
      "1422231    Source Verified\n",
      "536306     Source Verified\n",
      "2088681    Source Verified\n",
      "Name: verification_status, dtype: object \n",
      " --------------------\n",
      "Number of Uniques \n",
      " 3 \n",
      " --------------------\n",
      "Unique value counts \n",
      " Source Verified    333405\n",
      "Not Verified       298469\n",
      "Verified           256679\n",
      "Name: verification_status, dtype: int64 \n",
      " --------------------\n"
     ]
    }
   ],
   "source": [
    "print_stats('verification_status')"
   ]
  },
  {
   "cell_type": "code",
   "execution_count": null,
   "metadata": {},
   "outputs": [],
   "source": []
  },
  {
   "cell_type": "markdown",
   "metadata": {},
   "source": [
    "Next we will perform a statistical analysis to establish whether term has a significant impact on the charge backs aka our target variable loan_status\n",
    "\n",
    "1. Test\n",
    "We will use Z statistic test for this problem\n",
    "Explaination- We will take random sample from the data set with sample size =100 (50+50). Our target variable has 2 values. So this is a binomial distribution. However with n=100, CLT applies. The sampling distribution will follow normal distribution.\n",
    "\n",
    "2. Hypothesis\n",
    "\n",
    "Null Hypothesis H0: There are no differences in both sample proportions i.e. term has no impact on the charge back\n",
    "\n",
    "Alternate hypothesis H1: Both sample proportions are different i.e. term has impact on the charge backs\n",
    "\n",
    "3. Significance\n",
    "Confidence Level : 95%\n",
    "\n",
    "4. Interpretation\n",
    "Reject the null hypothesis if p value< a \n",
    "\n",
    "Note: the test is appropriate because the sampling method was simple random sampling, the samples were independent, each population was at least 10 times larger than its sample, and each sample included at least 10 successes and 10 failures."
   ]
  },
  {
   "cell_type": "code",
   "execution_count": 108,
   "metadata": {},
   "outputs": [
    {
     "name": "stdout",
     "output_type": "stream",
     "text": [
      "------------------------------------------------------------ \n",
      " Individual Summary Statistics for term \n",
      " ------------------------------------------------------------\n",
      "Describe \n",
      " count    888553.000000\n",
      "mean         41.525289\n",
      "std          10.103377\n",
      "min          36.000000\n",
      "25%          36.000000\n",
      "50%          36.000000\n",
      "75%          36.000000\n",
      "max          60.000000\n",
      "Name: term, dtype: float64 \n",
      " --------------------\n",
      "Sample Observations \n",
      " 579914     36\n",
      "1571030    36\n",
      "809364     36\n",
      "1218808    36\n",
      "1732266    36\n",
      "Name: term, dtype: int64 \n",
      " --------------------\n",
      "Number of Uniques \n",
      " 2 \n",
      " --------------------\n",
      "Unique value counts \n",
      " 36    683990\n",
      "60    204563\n",
      "Name: term, dtype: int64 \n",
      " --------------------\n"
     ]
    }
   ],
   "source": [
    "print_stats('term')"
   ]
  },
  {
   "cell_type": "code",
   "execution_count": 136,
   "metadata": {},
   "outputs": [],
   "source": []
  },
  {
   "cell_type": "code",
   "execution_count": 109,
   "metadata": {},
   "outputs": [
    {
     "data": {
      "text/plain": [
       "(200, 2)"
      ]
     },
     "execution_count": 109,
     "metadata": {},
     "output_type": "execute_result"
    }
   ],
   "source": [
    "df1 = df_NewAppl[df_NewAppl.term == 36][['loan_status', 'term']].sample(100)\n",
    "df2 = df_NewAppl[df_NewAppl.term==60][['loan_status', 'term']].sample(100)\n",
    "frames = [df1, df2]\n",
    "df_sample = pd.concat(frames)\n",
    "df_sample.shape"
   ]
  },
  {
   "cell_type": "code",
   "execution_count": 110,
   "metadata": {},
   "outputs": [
    {
     "data": {
      "text/html": [
       "<div>\n",
       "<style scoped>\n",
       "    .dataframe tbody tr th:only-of-type {\n",
       "        vertical-align: middle;\n",
       "    }\n",
       "\n",
       "    .dataframe tbody tr th {\n",
       "        vertical-align: top;\n",
       "    }\n",
       "\n",
       "    .dataframe thead th {\n",
       "        text-align: right;\n",
       "    }\n",
       "</style>\n",
       "<table border=\"1\" class=\"dataframe\">\n",
       "  <thead>\n",
       "    <tr style=\"text-align: right;\">\n",
       "      <th></th>\n",
       "      <th>term</th>\n",
       "    </tr>\n",
       "  </thead>\n",
       "  <tbody>\n",
       "    <tr>\n",
       "      <th>count</th>\n",
       "      <td>200.000000</td>\n",
       "    </tr>\n",
       "    <tr>\n",
       "      <th>mean</th>\n",
       "      <td>48.000000</td>\n",
       "    </tr>\n",
       "    <tr>\n",
       "      <th>std</th>\n",
       "      <td>12.030113</td>\n",
       "    </tr>\n",
       "    <tr>\n",
       "      <th>min</th>\n",
       "      <td>36.000000</td>\n",
       "    </tr>\n",
       "    <tr>\n",
       "      <th>25%</th>\n",
       "      <td>36.000000</td>\n",
       "    </tr>\n",
       "    <tr>\n",
       "      <th>50%</th>\n",
       "      <td>48.000000</td>\n",
       "    </tr>\n",
       "    <tr>\n",
       "      <th>75%</th>\n",
       "      <td>60.000000</td>\n",
       "    </tr>\n",
       "    <tr>\n",
       "      <th>max</th>\n",
       "      <td>60.000000</td>\n",
       "    </tr>\n",
       "  </tbody>\n",
       "</table>\n",
       "</div>"
      ],
      "text/plain": [
       "             term\n",
       "count  200.000000\n",
       "mean    48.000000\n",
       "std     12.030113\n",
       "min     36.000000\n",
       "25%     36.000000\n",
       "50%     48.000000\n",
       "75%     60.000000\n",
       "max     60.000000"
      ]
     },
     "execution_count": 110,
     "metadata": {},
     "output_type": "execute_result"
    }
   ],
   "source": [
    "df_sample.describe()"
   ]
  },
  {
   "cell_type": "code",
   "execution_count": 111,
   "metadata": {},
   "outputs": [
    {
     "data": {
      "text/plain": [
       "60    100\n",
       "36    100\n",
       "Name: term, dtype: int64"
      ]
     },
     "execution_count": 111,
     "metadata": {},
     "output_type": "execute_result"
    }
   ],
   "source": [
    "df_sample.term.value_counts()"
   ]
  },
  {
   "cell_type": "code",
   "execution_count": 112,
   "metadata": {},
   "outputs": [
    {
     "data": {
      "text/html": [
       "<div>\n",
       "<style scoped>\n",
       "    .dataframe tbody tr th:only-of-type {\n",
       "        vertical-align: middle;\n",
       "    }\n",
       "\n",
       "    .dataframe tbody tr th {\n",
       "        vertical-align: top;\n",
       "    }\n",
       "\n",
       "    .dataframe thead th {\n",
       "        text-align: right;\n",
       "    }\n",
       "</style>\n",
       "<table border=\"1\" class=\"dataframe\">\n",
       "  <thead>\n",
       "    <tr style=\"text-align: right;\">\n",
       "      <th></th>\n",
       "      <th>loan_status</th>\n",
       "      <th>term</th>\n",
       "    </tr>\n",
       "  </thead>\n",
       "  <tbody>\n",
       "    <tr>\n",
       "      <th>1207209</th>\n",
       "      <td>Fully Paid</td>\n",
       "      <td>60</td>\n",
       "    </tr>\n",
       "    <tr>\n",
       "      <th>817280</th>\n",
       "      <td>Charged Off</td>\n",
       "      <td>60</td>\n",
       "    </tr>\n",
       "    <tr>\n",
       "      <th>1256700</th>\n",
       "      <td>Fully Paid</td>\n",
       "      <td>60</td>\n",
       "    </tr>\n",
       "    <tr>\n",
       "      <th>1018373</th>\n",
       "      <td>Charged Off</td>\n",
       "      <td>60</td>\n",
       "    </tr>\n",
       "    <tr>\n",
       "      <th>590382</th>\n",
       "      <td>Charged Off</td>\n",
       "      <td>36</td>\n",
       "    </tr>\n",
       "  </tbody>\n",
       "</table>\n",
       "</div>"
      ],
      "text/plain": [
       "         loan_status  term\n",
       "1207209   Fully Paid    60\n",
       "817280   Charged Off    60\n",
       "1256700   Fully Paid    60\n",
       "1018373  Charged Off    60\n",
       "590382   Charged Off    36"
      ]
     },
     "execution_count": 112,
     "metadata": {},
     "output_type": "execute_result"
    }
   ],
   "source": [
    "df_sample.sample(5)"
   ]
  },
  {
   "cell_type": "code",
   "execution_count": 113,
   "metadata": {},
   "outputs": [],
   "source": [
    "df_sample['charge_off'] = df_sample['loan_status'].apply(lambda x : 1 if x=='Charged Off' else 0)\n"
   ]
  },
  {
   "cell_type": "code",
   "execution_count": 114,
   "metadata": {},
   "outputs": [],
   "source": [
    "#next we will find the sample proportions\n",
    "# number of charge backs for 36 and 60 months term\n",
    "total_36CB = sum(df_sample[df_sample.term==36].charge_off)\n",
    "total_60CB = sum(df_sample[df_sample.term==60].charge_off)\n",
    "\n",
    "total_60 = df_sample[df_sample.term==60].term.count()\n",
    "total_36 = df_sample[df_sample.term==36].term.count()\n"
   ]
  },
  {
   "cell_type": "code",
   "execution_count": 115,
   "metadata": {},
   "outputs": [
    {
     "name": "stdout",
     "output_type": "stream",
     "text": [
      "11\n",
      "29\n",
      "100\n",
      "100\n"
     ]
    }
   ],
   "source": [
    "print(total_36CB)\n",
    "print(total_60CB)\n",
    "print(total_60)\n",
    "print(total_36)\n"
   ]
  },
  {
   "cell_type": "code",
   "execution_count": 116,
   "metadata": {},
   "outputs": [
    {
     "name": "stdout",
     "output_type": "stream",
     "text": [
      "P value is 0.0014627165866811787\n",
      "Significance level alpha is 0.050000000000000044\n",
      "Confidence Interval at 95% is -0.29087230594797425  to  -0.06912769405202575\n",
      "Margin of Error is  -0.18\n"
     ]
    }
   ],
   "source": [
    "p1 = total_36CB/total_36\n",
    "p2 = total_60CB/total_60\n",
    "n1 = total_36\n",
    "n2 = total_60\n",
    "confidence_level = 95\n",
    "p = (p1 * n1 + p2 * n2) / (n1 + n2)\n",
    "SE = np.sqrt(p * ( 1 - p ) * ( (1/n1) + (1/n2) ))\n",
    "z = (p1 - p2) / SE\n",
    "a = 1 - (confidence_level / 100)\n",
    "p_crit = 1 - a/2\n",
    "\n",
    "p_val=1-stats.norm.cdf(abs(z))\n",
    "\n",
    "\n",
    "p_val*=2  # two sided test\n",
    "\n",
    "z_critical=stats.norm.ppf((1+0.95)/2)\n",
    "\n",
    "ci_low = p1-p2-z_critical*SE\n",
    "ci_high = p1-p2+z_critical*SE\n",
    "\n",
    "moe = SE*z\n",
    "print('P value is', p_val)\n",
    "print('Significance level alpha is', a)\n",
    "print('Confidence Interval at 95% is', ci_low, ' to ', ci_high )\n",
    "print('Margin of Error is ', moe)"
   ]
  },
  {
   "cell_type": "markdown",
   "metadata": {},
   "source": [
    "Interpretation:\n",
    "     comparing the P-value to the significance level, we see that the P-value is less than the significance level.\n",
    "     So we have reject the null hypothesis. \n",
    "    That means Both sample proportions are different i.e. \n",
    "    with 95% confidence we can say that term has significant impact on the charge backs "
   ]
  },
  {
   "cell_type": "markdown",
   "metadata": {},
   "source": [
    "Next we will perform a statistical analysis to establish whether interest_rate has a significant impact on the charge backs ie our target variable loan_status\n",
    "\n",
    "1. Test\n",
    "We will use two sample Z statistic test two sided for this problem\n",
    "Explaination- We will take random sample from the data set with sample size =100 (50+50). Our target variable has 2 values. So this is a binomial distribution. However with n=100, CLT applies. The sampling distribution will follow normal distribution.\n",
    "\n",
    "2. Hypothesis\n",
    "\n",
    "Null Hypothesis H0: There are no differences in both sample proportions i.e. interest_rate has no impact on the charge back\n",
    "\n",
    "Alternate hypothesis H1: Both sample proportions are different i.e. interest_rate has impact on the charge backs\n",
    "\n",
    "3. Significance\n",
    "Confidence Level : 95%\n",
    "\n",
    "4. Interpretation\n",
    "Reject the null hypothesis if p value< a \n",
    "\n",
    "Note: the test is appropriate because the sampling method was simple random sampling, the samples were independent, each population was at least 10 times larger than its sample, and each sample included at least 10 successes and 10 failures."
   ]
  },
  {
   "cell_type": "code",
   "execution_count": 117,
   "metadata": {},
   "outputs": [
    {
     "data": {
      "text/plain": [
       "(200, 2)"
      ]
     },
     "execution_count": 117,
     "metadata": {},
     "output_type": "execute_result"
    }
   ],
   "source": [
    "df1 = df_NewAppl[df_NewAppl.loan_status == 'Fully Paid'][['loan_status', 'int_rate']].sample(100)\n",
    "df2 = df_NewAppl[df_NewAppl.loan_status == 'Charged Off'][['loan_status', 'int_rate']].sample(100)\n",
    "frames = [df1, df2]\n",
    "df_sample = pd.concat(frames)\n",
    "df_sample.shape"
   ]
  },
  {
   "cell_type": "code",
   "execution_count": 118,
   "metadata": {},
   "outputs": [
    {
     "data": {
      "text/html": [
       "<div>\n",
       "<style scoped>\n",
       "    .dataframe tbody tr th:only-of-type {\n",
       "        vertical-align: middle;\n",
       "    }\n",
       "\n",
       "    .dataframe tbody tr th {\n",
       "        vertical-align: top;\n",
       "    }\n",
       "\n",
       "    .dataframe thead th {\n",
       "        text-align: right;\n",
       "    }\n",
       "</style>\n",
       "<table border=\"1\" class=\"dataframe\">\n",
       "  <thead>\n",
       "    <tr style=\"text-align: right;\">\n",
       "      <th></th>\n",
       "      <th>int_rate</th>\n",
       "    </tr>\n",
       "  </thead>\n",
       "  <tbody>\n",
       "    <tr>\n",
       "      <th>count</th>\n",
       "      <td>200.00000</td>\n",
       "    </tr>\n",
       "    <tr>\n",
       "      <th>mean</th>\n",
       "      <td>13.28270</td>\n",
       "    </tr>\n",
       "    <tr>\n",
       "      <th>std</th>\n",
       "      <td>4.66036</td>\n",
       "    </tr>\n",
       "    <tr>\n",
       "      <th>min</th>\n",
       "      <td>5.32000</td>\n",
       "    </tr>\n",
       "    <tr>\n",
       "      <th>25%</th>\n",
       "      <td>9.43000</td>\n",
       "    </tr>\n",
       "    <tr>\n",
       "      <th>50%</th>\n",
       "      <td>13.05000</td>\n",
       "    </tr>\n",
       "    <tr>\n",
       "      <th>75%</th>\n",
       "      <td>16.66000</td>\n",
       "    </tr>\n",
       "    <tr>\n",
       "      <th>max</th>\n",
       "      <td>25.28000</td>\n",
       "    </tr>\n",
       "  </tbody>\n",
       "</table>\n",
       "</div>"
      ],
      "text/plain": [
       "        int_rate\n",
       "count  200.00000\n",
       "mean    13.28270\n",
       "std      4.66036\n",
       "min      5.32000\n",
       "25%      9.43000\n",
       "50%     13.05000\n",
       "75%     16.66000\n",
       "max     25.28000"
      ]
     },
     "execution_count": 118,
     "metadata": {},
     "output_type": "execute_result"
    }
   ],
   "source": [
    "df_sample.describe()"
   ]
  },
  {
   "cell_type": "code",
   "execution_count": 119,
   "metadata": {},
   "outputs": [
    {
     "data": {
      "text/plain": [
       "Charged Off    100\n",
       "Fully Paid     100\n",
       "Name: loan_status, dtype: int64"
      ]
     },
     "execution_count": 119,
     "metadata": {},
     "output_type": "execute_result"
    }
   ],
   "source": [
    "df_sample.loan_status.value_counts()"
   ]
  },
  {
   "cell_type": "code",
   "execution_count": 120,
   "metadata": {},
   "outputs": [
    {
     "data": {
      "text/html": [
       "<div>\n",
       "<style scoped>\n",
       "    .dataframe tbody tr th:only-of-type {\n",
       "        vertical-align: middle;\n",
       "    }\n",
       "\n",
       "    .dataframe tbody tr th {\n",
       "        vertical-align: top;\n",
       "    }\n",
       "\n",
       "    .dataframe thead th {\n",
       "        text-align: right;\n",
       "    }\n",
       "</style>\n",
       "<table border=\"1\" class=\"dataframe\">\n",
       "  <thead>\n",
       "    <tr style=\"text-align: right;\">\n",
       "      <th></th>\n",
       "      <th>loan_status</th>\n",
       "      <th>int_rate</th>\n",
       "    </tr>\n",
       "  </thead>\n",
       "  <tbody>\n",
       "    <tr>\n",
       "      <th>1879280</th>\n",
       "      <td>Fully Paid</td>\n",
       "      <td>20.99</td>\n",
       "    </tr>\n",
       "    <tr>\n",
       "      <th>1582289</th>\n",
       "      <td>Fully Paid</td>\n",
       "      <td>10.42</td>\n",
       "    </tr>\n",
       "    <tr>\n",
       "      <th>1109002</th>\n",
       "      <td>Fully Paid</td>\n",
       "      <td>11.53</td>\n",
       "    </tr>\n",
       "    <tr>\n",
       "      <th>1707941</th>\n",
       "      <td>Fully Paid</td>\n",
       "      <td>9.25</td>\n",
       "    </tr>\n",
       "    <tr>\n",
       "      <th>1271982</th>\n",
       "      <td>Fully Paid</td>\n",
       "      <td>6.39</td>\n",
       "    </tr>\n",
       "  </tbody>\n",
       "</table>\n",
       "</div>"
      ],
      "text/plain": [
       "        loan_status  int_rate\n",
       "1879280  Fully Paid     20.99\n",
       "1582289  Fully Paid     10.42\n",
       "1109002  Fully Paid     11.53\n",
       "1707941  Fully Paid      9.25\n",
       "1271982  Fully Paid      6.39"
      ]
     },
     "execution_count": 120,
     "metadata": {},
     "output_type": "execute_result"
    }
   ],
   "source": [
    "df_sample.sample(5)"
   ]
  },
  {
   "cell_type": "code",
   "execution_count": 121,
   "metadata": {},
   "outputs": [
    {
     "name": "stdout",
     "output_type": "stream",
     "text": [
      "P value is 7.324288286980618e-09\n",
      "Significance level alpha is 0.050000000000000044\n",
      "Confidence Interval at 95% is -4.711856059114555  to  -2.326543940885448\n",
      "Margin of Error is  -3.5192000000000014\n"
     ]
    }
   ],
   "source": [
    "m1 = np.mean(df_sample[df_sample.loan_status == 'Fully Paid']['int_rate'])\n",
    "std1 = np.std(df_sample[df_sample.loan_status == 'Fully Paid']['int_rate'])\n",
    "\n",
    "m2 = np.mean(df_sample[df_sample.loan_status == 'Charged Off']['int_rate'])\n",
    "std2 = np.std(df_sample[df_sample.loan_status == 'Charged Off']['int_rate'])\n",
    "\n",
    "n1 = df_sample[df_sample.loan_status == 'Fully Paid']['int_rate'].count()\n",
    "n2 = df_sample[df_sample.loan_status == 'Charged Off']['int_rate'].count()\n",
    "confidence_level = 95\n",
    "\n",
    "SE = np.sqrt( ((std1*std1)/n1) + ((std2*std2)/n2) )\n",
    "\n",
    "\n",
    "z = (m1 - m2) / SE\n",
    "a = 1 - (confidence_level / 100)\n",
    "p_crit = 1 - a/2\n",
    "\n",
    "p_val=1-stats.norm.cdf(abs(z))\n",
    "\n",
    "\n",
    "p_val*=2  # two sided test\n",
    "\n",
    "z_critical=stats.norm.ppf((1+0.95)/2)\n",
    "\n",
    "ci_low = m1-m2-z_critical*SE\n",
    "ci_high = m1-m2+z_critical*SE\n",
    "\n",
    "moe = SE*z\n",
    "print('P value is', p_val)\n",
    "print('Significance level alpha is', a)\n",
    "print('Confidence Interval at 95% is', ci_low, ' to ', ci_high )\n",
    "print('Margin of Error is ', moe)"
   ]
  },
  {
   "cell_type": "markdown",
   "metadata": {},
   "source": [
    "Interpretation:\n",
    "     comparing the P-value to the significance level, we see that the P-value is less than the significance level.\n",
    "     So we have reject the null hypothesis. \n",
    "    That means Both sample means are different i.e. \n",
    "    with 95% confidence we can say that int_rate has significant impact on the charge offs "
   ]
  },
  {
   "cell_type": "code",
   "execution_count": 125,
   "metadata": {},
   "outputs": [],
   "source": [
    "df_NewAppl['target'] = df_NewAppl['loan_status'].apply(lambda x : 1 if x=='Charged Off' else 0)"
   ]
  },
  {
   "cell_type": "code",
   "execution_count": 126,
   "metadata": {},
   "outputs": [
    {
     "data": {
      "text/plain": [
       "<matplotlib.axes._subplots.AxesSubplot at 0x1a3d16c128>"
      ]
     },
     "execution_count": 126,
     "metadata": {},
     "output_type": "execute_result"
    },
    {
     "data": {
      "image/png": "[encoded data removed]",
      "text/plain": [
       "<Figure size 1440x1440 with 2 Axes>"
      ]
     },
     "metadata": {
      "needs_background": "light"
     },
     "output_type": "display_data"
    }
   ],
   "source": [
    "plt.figure(figsize=(20,20))\n",
    "sns.heatmap(df_NewAppl.corr(), annot=True)"
   ]
  },
  {
   "cell_type": "code",
   "execution_count": 123,
   "metadata": {},
   "outputs": [],
   "source": [
    "plot_list = ['annual_inc_log', 'application_type', 'dti', 'int_rate', 'loan_amnt', 'loan_status']\n",
    "df_plot = pd.DataFrame()\n",
    "df_plot['charge_off'] = df_NewAppl['loan_status'].apply(lambda x : 1 if x=='Charged Off' else 0)\n",
    "df_plot[plot_list] = df_NewAppl[plot_list]"
   ]
  },
  {
   "cell_type": "code",
   "execution_count": 124,
   "metadata": {},
   "outputs": [
    {
     "data": {
      "text/plain": [
       "<matplotlib.axes._subplots.AxesSubplot at 0x1a22f2ab00>"
      ]
     },
     "execution_count": 124,
     "metadata": {},
     "output_type": "execute_result"
    },
    {
     "data": {
      "image/png": "[encoded data removed]",
      "text/plain": [
       "<Figure size 864x864 with 2 Axes>"
      ]
     },
     "metadata": {
      "needs_background": "light"
     },
     "output_type": "display_data"
    }
   ],
   "source": [
    "plt.figure(figsize=(12,12))\n",
    "sns.heatmap(df_plot.corr(), annot=True)"
   ]
  },
  {
   "cell_type": "markdown",
   "metadata": {},
   "source": [
    "Classification\n",
    "The aim is to find y , a target variable based on knowing a list of features X. We are trying to predict 'Loan Status' converted to target feature  with values 0 = 'Fully paid' and 1 = 'Charged Off'. SInce target variable takes only 2 values 0 and 1, this will be a binary classification problem.\n",
    "First we will use 'Logistic Regression'\n",
    "\n",
    "Training and Test Datasets\n",
    "When fitting models, we would like to ensure two things:\n",
    "\n",
    "- We have found the best model (in terms of model parameters).\n",
    "- The model is highly likely to generalize i.e. perform well on unseen data.\n",
    "\n",
    "First, we try a basic Logistic Regression:\n",
    "\n",
    "- Split the data into a training and test (hold-out) set\n",
    "- Train on the training set, and test for accuracy on the testing set"
   ]
  },
  {
   "cell_type": "code",
   "execution_count": 128,
   "metadata": {},
   "outputs": [
    {
     "name": "stderr",
     "output_type": "stream",
     "text": [
      "/anaconda3/lib/python3.7/site-packages/sklearn/linear_model/logistic.py:433: FutureWarning: Default solver will be changed to 'lbfgs' in 0.22. Specify a solver to silence this warning.\n",
      "  FutureWarning)\n"
     ]
    },
    {
     "name": "stdout",
     "output_type": "stream",
     "text": [
      "0.8062204295508668\n"
     ]
    }
   ],
   "source": [
    "from sklearn.model_selection import train_test_split\n",
    "from sklearn.linear_model import LogisticRegression\n",
    "from sklearn.metrics import accuracy_score\n",
    "\n",
    "# Split the data into a training and test set.\n",
    "Xlr, Xtestlr, ylr, ytestlr = train_test_split(df_NewAppl[['term','int_rate']].values, \n",
    "                                              df_NewAppl.target,random_state=5)\n",
    "\n",
    "clf = LogisticRegression()\n",
    "# Fit the model on the trainng data.\n",
    "clf.fit(Xlr, ylr)\n",
    "# Print the accuracy from the testing data.\n",
    "print(accuracy_score(clf.predict(Xtestlr), ytestlr))"
   ]
  },
  {
   "cell_type": "code",
   "execution_count": 140,
   "metadata": {},
   "outputs": [
    {
     "name": "stderr",
     "output_type": "stream",
     "text": [
      "/anaconda3/lib/python3.7/site-packages/sklearn/linear_model/logistic.py:433: FutureWarning: Default solver will be changed to 'lbfgs' in 0.22. Specify a solver to silence this warning.\n",
      "  FutureWarning)\n"
     ]
    },
    {
     "name": "stdout",
     "output_type": "stream",
     "text": [
      "0.8080301072751745\n"
     ]
    }
   ],
   "source": [
    "\n",
    "#1.Use the C and train a Logistic Regression on the training data\n",
    "clf = LogisticRegression(C=0.001)\n",
    "# Fit the model on the trainng data.\n",
    "clf.fit(Xlr, ylr)\n",
    "#2.Calculate the accuracy on the test data\n",
    "# Print the accuracy from the testing data.\n",
    "print(accuracy_score(clf.predict(Xtestlr), ytestlr))"
   ]
  },
  {
   "cell_type": "code",
   "execution_count": 141,
   "metadata": {},
   "outputs": [
    {
     "name": "stderr",
     "output_type": "stream",
     "text": [
      "/anaconda3/lib/python3.7/site-packages/sklearn/linear_model/logistic.py:433: FutureWarning: Default solver will be changed to 'lbfgs' in 0.22. Specify a solver to silence this warning.\n",
      "  FutureWarning)\n",
      "/anaconda3/lib/python3.7/site-packages/sklearn/linear_model/logistic.py:433: FutureWarning: Default solver will be changed to 'lbfgs' in 0.22. Specify a solver to silence this warning.\n",
      "  FutureWarning)\n",
      "/anaconda3/lib/python3.7/site-packages/sklearn/linear_model/logistic.py:433: FutureWarning: Default solver will be changed to 'lbfgs' in 0.22. Specify a solver to silence this warning.\n",
      "  FutureWarning)\n",
      "/anaconda3/lib/python3.7/site-packages/sklearn/linear_model/logistic.py:433: FutureWarning: Default solver will be changed to 'lbfgs' in 0.22. Specify a solver to silence this warning.\n",
      "  FutureWarning)\n",
      "/anaconda3/lib/python3.7/site-packages/sklearn/linear_model/logistic.py:433: FutureWarning: Default solver will be changed to 'lbfgs' in 0.22. Specify a solver to silence this warning.\n",
      "  FutureWarning)\n",
      "/anaconda3/lib/python3.7/site-packages/sklearn/linear_model/logistic.py:433: FutureWarning: Default solver will be changed to 'lbfgs' in 0.22. Specify a solver to silence this warning.\n",
      "  FutureWarning)\n",
      "/anaconda3/lib/python3.7/site-packages/sklearn/linear_model/logistic.py:433: FutureWarning: Default solver will be changed to 'lbfgs' in 0.22. Specify a solver to silence this warning.\n",
      "  FutureWarning)\n",
      "/anaconda3/lib/python3.7/site-packages/sklearn/linear_model/logistic.py:433: FutureWarning: Default solver will be changed to 'lbfgs' in 0.22. Specify a solver to silence this warning.\n",
      "  FutureWarning)\n",
      "/anaconda3/lib/python3.7/site-packages/sklearn/linear_model/logistic.py:433: FutureWarning: Default solver will be changed to 'lbfgs' in 0.22. Specify a solver to silence this warning.\n",
      "  FutureWarning)\n",
      "/anaconda3/lib/python3.7/site-packages/sklearn/linear_model/logistic.py:433: FutureWarning: Default solver will be changed to 'lbfgs' in 0.22. Specify a solver to silence this warning.\n",
      "  FutureWarning)\n",
      "/anaconda3/lib/python3.7/site-packages/sklearn/linear_model/logistic.py:433: FutureWarning: Default solver will be changed to 'lbfgs' in 0.22. Specify a solver to silence this warning.\n",
      "  FutureWarning)\n",
      "/anaconda3/lib/python3.7/site-packages/sklearn/linear_model/logistic.py:433: FutureWarning: Default solver will be changed to 'lbfgs' in 0.22. Specify a solver to silence this warning.\n",
      "  FutureWarning)\n",
      "/anaconda3/lib/python3.7/site-packages/sklearn/linear_model/logistic.py:433: FutureWarning: Default solver will be changed to 'lbfgs' in 0.22. Specify a solver to silence this warning.\n",
      "  FutureWarning)\n",
      "/anaconda3/lib/python3.7/site-packages/sklearn/linear_model/logistic.py:433: FutureWarning: Default solver will be changed to 'lbfgs' in 0.22. Specify a solver to silence this warning.\n",
      "  FutureWarning)\n",
      "/anaconda3/lib/python3.7/site-packages/sklearn/linear_model/logistic.py:433: FutureWarning: Default solver will be changed to 'lbfgs' in 0.22. Specify a solver to silence this warning.\n",
      "  FutureWarning)\n",
      "/anaconda3/lib/python3.7/site-packages/sklearn/linear_model/logistic.py:433: FutureWarning: Default solver will be changed to 'lbfgs' in 0.22. Specify a solver to silence this warning.\n",
      "  FutureWarning)\n",
      "/anaconda3/lib/python3.7/site-packages/sklearn/linear_model/logistic.py:433: FutureWarning: Default solver will be changed to 'lbfgs' in 0.22. Specify a solver to silence this warning.\n",
      "  FutureWarning)\n",
      "/anaconda3/lib/python3.7/site-packages/sklearn/linear_model/logistic.py:433: FutureWarning: Default solver will be changed to 'lbfgs' in 0.22. Specify a solver to silence this warning.\n",
      "  FutureWarning)\n",
      "/anaconda3/lib/python3.7/site-packages/sklearn/linear_model/logistic.py:433: FutureWarning: Default solver will be changed to 'lbfgs' in 0.22. Specify a solver to silence this warning.\n",
      "  FutureWarning)\n",
      "/anaconda3/lib/python3.7/site-packages/sklearn/linear_model/logistic.py:433: FutureWarning: Default solver will be changed to 'lbfgs' in 0.22. Specify a solver to silence this warning.\n",
      "  FutureWarning)\n",
      "/anaconda3/lib/python3.7/site-packages/sklearn/linear_model/logistic.py:433: FutureWarning: Default solver will be changed to 'lbfgs' in 0.22. Specify a solver to silence this warning.\n",
      "  FutureWarning)\n",
      "/anaconda3/lib/python3.7/site-packages/sklearn/linear_model/logistic.py:433: FutureWarning: Default solver will be changed to 'lbfgs' in 0.22. Specify a solver to silence this warning.\n",
      "  FutureWarning)\n",
      "/anaconda3/lib/python3.7/site-packages/sklearn/linear_model/logistic.py:433: FutureWarning: Default solver will be changed to 'lbfgs' in 0.22. Specify a solver to silence this warning.\n",
      "  FutureWarning)\n",
      "/anaconda3/lib/python3.7/site-packages/sklearn/linear_model/logistic.py:433: FutureWarning: Default solver will be changed to 'lbfgs' in 0.22. Specify a solver to silence this warning.\n",
      "  FutureWarning)\n",
      "/anaconda3/lib/python3.7/site-packages/sklearn/linear_model/logistic.py:433: FutureWarning: Default solver will be changed to 'lbfgs' in 0.22. Specify a solver to silence this warning.\n",
      "  FutureWarning)\n",
      "/anaconda3/lib/python3.7/site-packages/sklearn/linear_model/logistic.py:433: FutureWarning: Default solver will be changed to 'lbfgs' in 0.22. Specify a solver to silence this warning.\n",
      "  FutureWarning)\n"
     ]
    },
    {
     "name": "stdout",
     "output_type": "stream",
     "text": [
      "0.8080301072751745\n"
     ]
    }
   ],
   "source": [
    "from sklearn.model_selection import GridSearchCV\n",
    "grid = GridSearchCV(estimator = LogisticRegression(), cv = 5, param_grid = {'C': [0.001, 0.1, 1, 10, 100]})\n",
    "grid.fit(Xlr, ylr)\n",
    "print(accuracy_score(grid.predict(Xtestlr), ytestlr))"
   ]
  },
  {
   "cell_type": "code",
   "execution_count": null,
   "metadata": {},
   "outputs": [],
   "source": []
  }
 ],
 "metadata": {
  "kernelspec": {
   "display_name": "Python 3",
   "language": "python",
   "name": "python3"
  },
  "language_info": {
   "codemirror_mode": {
    "name": "ipython",
    "version": 3
   },
   "file_extension": ".py",
   "mimetype": "text/x-python",
   "name": "python",
   "nbconvert_exporter": "python",
   "pygments_lexer": "ipython3",
   "version": "3.7.3"
  }
 },
 "nbformat": 4,
 "nbformat_minor": 2
}
